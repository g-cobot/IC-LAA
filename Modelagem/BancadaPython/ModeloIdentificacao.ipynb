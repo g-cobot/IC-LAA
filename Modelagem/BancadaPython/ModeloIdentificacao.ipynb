{
 "cells": [
  {
   "cell_type": "markdown",
   "metadata": {},
   "source": [
    "<div style=\"background-color:black;color:white;padding:20px\">\n",
    "\n",
    "<center><h3> LAA </h3></center>\n",
    "<center><h1> Projeto Bicóptero </h1></center>\n",
    "\n",
    "<center> <h1> Procedimento de identificação dos parâmetros de inercia, atrito e caracterização de atuadores</h1></center>\n",
    "\n",
    "<h3> Por Gabriel Henrique Costa e Silva </h3> \n",
    "</div>"
   ]
  },
  {
   "cell_type": "markdown",
   "metadata": {},
   "source": [
    "<h2> Inicializando as bibliotecas </h2>"
   ]
  },
  {
   "cell_type": "code",
   "execution_count": 136,
   "metadata": {},
   "outputs": [
    {
     "name": "stdout",
     "output_type": "stream",
     "text": [
      "The itikz extension is already loaded. To reload it, use:\n",
      "  %reload_ext itikz\n"
     ]
    }
   ],
   "source": [
    "# para instalar o itikz\n",
    "#pip install itikz\n",
    "%load_ext itikz"
   ]
  },
  {
   "cell_type": "code",
   "execution_count": 137,
   "metadata": {},
   "outputs": [],
   "source": [
    "import numpy as np\n",
    "import matplotlib\n",
    "matplotlib.rcParams['text.usetex'] = True\n",
    "import matplotlib.pyplot as plt\n",
    "from sympy import * \n",
    "from sympy import trigsimp, pi, cos, sin\n",
    "from sympy.physics.mechanics import *\n",
    "from scipy import signal\n",
    "from scipy.integrate import odeint\n",
    "from sympy import Pow"
   ]
  },
  {
   "cell_type": "code",
   "execution_count": 138,
   "metadata": {},
   "outputs": [],
   "source": [
    "from sympy.physics.vector import init_vprinting\n",
    "init_vprinting(use_latex='mathjax', pretty_print=False)"
   ]
  },
  {
   "cell_type": "code",
   "execution_count": 139,
   "metadata": {},
   "outputs": [],
   "source": [
    "t = Symbol(\"t\")\n",
    "\n",
    "# Angulos Theta\n",
    "theta1 = Function(\"theta1\")(t)\n",
    "theta2 = Function(\"theta2\")(t)\n",
    "theta3 = Function(\"theta3\")(t)\n",
    "theta4 = Function(\"theta4\")(t)\n",
    "\n",
    "# Constante da gravidade\n",
    "g = symbols('g', real = True, constant = True)\n",
    "\n",
    "# Forcas e Momentos\n",
    "fx, fy, fz = dynamicsymbols('f_x, f_y, f_z')\n",
    "taux, tauy, tauz = dynamicsymbols('tau_x, tau_y, tau_z')\n",
    "\n",
    "# Forcas dos motores\n",
    "f1,f2= dynamicsymbols('F_1, F_2')\n",
    "f= dynamicsymbols('F')\n",
    "\n",
    "# Angulos Alfa (Angulos do mecanismo tilt)\n",
    "alpha1 = Function(\"alpha1\")(t)\n",
    "alpha2 = Function(\"alpha2\")(t)\n",
    "\n",
    "# Extensão dos bracos do bicopter\n",
    "b = symbols('b',real = True, constant = True)\n",
    "\n",
    "# Extensão dos segmentos do braço robótico\n",
    "l1, l2, l3, l4 = symbols('l_1, l_2, l_3, l_4', real = True, constant = True)\n",
    "\n",
    "#Características inerciais\n",
    "m1, m2, m3, m4, mp = symbols('m_1, m_2, m_3, m_4, m_p',real = True, constant = True)\n",
    "Ix1, Ix2, Ix3, Ix4, Ixp = symbols('Ix_1, Ix_2, Ix_3, Ix_4, Ix_p',real = True, constant = True)\n",
    "Iy1, Iy2, Iy3, Iy4, Iyp = symbols('Iy_1, Iy_2, Iy_3, Iy_4, Iy_p',real = True, constant = True)\n",
    "Iz1, Iz2, Iz3, Iz4, Izp = symbols('Iz_1, Iz_2, Iz_3, Iz_4, Iz_p',real = True, constant = True)\n",
    "lg1, lg2, lg3, lg4 =symbols('l_{G_1}, l_{G_2}, l_{G_3}, l_{G_4}',real = True, constant = True)\n",
    "\n",
    "# Ganho de atrito\n",
    "fs1, fs2, fs3, fs4, fs5 = symbols('fs_1, fs_2, fs_3, fs_4, fs_5',real = True, constant = True)\n",
    "\n",
    "K, xi, wn =symbols('K, xi, omega_n',real = True, constant = True)\n",
    "\n",
    "\n",
    "# Ganho\n",
    "Kp = symbols('K_p',real = True, constant = True)\n",
    "\n",
    "# Variaveis no estado de equilibrio\n",
    "\n",
    "# simplificacoes\n",
    "num1, num2, num3, num4 = symbols('num1, num2, num3, num4',real = True, constant = True)\n",
    "den1, den2, den3, den4 = symbols('den1, den2, den3, den4',real = True, constant = True)"
   ]
  },
  {
   "cell_type": "markdown",
   "metadata": {},
   "source": [
    "<h2> Definindo as variaveis de Laplace </h2>"
   ]
  },
  {
   "cell_type": "code",
   "execution_count": 140,
   "metadata": {},
   "outputs": [],
   "source": [
    "s = Symbol(\"s\")\n",
    "\n",
    "# Angulos Theta\n",
    "Theta1 = Function(\"\\Theta_1\")(s)\n",
    "Theta2 = Function(\"\\Theta_2\")(s)\n",
    "Theta3 = Function(\"\\Theta_3\")(s)\n",
    "Theta4 = Function(\"\\Theta_4\")(s)\n",
    "\n",
    "F = Function(\"F\")(s)\n",
    "\n",
    "# Funcao transformada de Laplace\n",
    "def L(f):\n",
    "    return laplace_transform(f, t, s, noconds=True);"
   ]
  },
  {
   "cell_type": "markdown",
   "metadata": {},
   "source": [
    "<h2> Recuperando equações do movimento do modelo final </h2>"
   ]
  },
  {
   "cell_type": "code",
   "execution_count": 141,
   "metadata": {},
   "outputs": [],
   "source": [
    "Eq=zeros(3,1)"
   ]
  },
  {
   "cell_type": "markdown",
   "metadata": {},
   "source": [
    "%store -r Eq\n",
    "Aprender como fazer isso seria muito mais facil"
   ]
  },
  {
   "cell_type": "markdown",
   "metadata": {},
   "source": [
    "<h2> Massas, dimensões e propriedades de inércia do sistema </h2>"
   ]
  },
  {
   "cell_type": "markdown",
   "metadata": {},
   "source": [
    "|  Elemento | $l_{i}$ [m]  |  $l_{G_i}$ [m]  |\n",
    "| --- | --- | --- | \n",
    "| 1 | 0.3250 | 0.1414 |\n",
    "| 2 | 0.5950 | 0.0000 | \n",
    "| 3 | 0.1730 | 0.0516 | \n",
    "| 4 | 0.0147 | 0.0000 | \n",
    "| P | 0.0000 | 0.0000 |"
   ]
  },
  {
   "cell_type": "markdown",
   "metadata": {},
   "source": [
    "|  Elemento |  Massa [$kg$]  |  <td colspan=3> M. de Inércia [$kg.m^2$] |  |  |\n",
    "| --- | --- | --- | --- | --- |\n",
    "|  |  | Ixx | Iyy | Izz |\n",
    "1  | 2,325   | 0,102  | 0,001 | 0,102 |\n",
    "2  | 2,761 | 0,004  | 0,288  | 0,290 |\n",
    "3  | 0,154 | 0,001 | 1,835e-5 | 0,001 |\n",
    "4 | 0,115  | 1,723e-5 | 7,608e-5 | 8,260e-5 |\n",
    "5 | 0,565 | 0,014 | 5,000e-4 | 0,013 |\n",
    "Total | 5,915  | 0,141 | 0,585  | 0,699 |"
   ]
  },
  {
   "cell_type": "markdown",
   "metadata": {},
   "source": [
    "\\begin{align}\n",
    "    den_1 & = Ix_{4}+Ix_{p}+l^{2}_{4} m_{p}{}&\\text{,}\\label{eq:den1}\\\\\n",
    "    den_2 & = Iz_{1} + Iz_{2} + Iz_{3} + Iz_{4}+ Iz_{p} + l^{2}_{2} (m_{3} + m_{4}+ m_{p}) {}&\\text{e}\\label{eq:den2} \\\\\n",
    "    den_3 & = Iy_{2} + Iy_{3} + Iy_{4} + Iy_{p} + l^{2}_{2} (m_{3} + m_{4}+m_{p}) + l^{2}_{G_3}m_{3} +  l^{2}_{3}m_{4} + (l_{3}+l_{4})^2 m_{p}{}&\\text{.}\n",
    "\\end{align}"
   ]
  },
  {
   "cell_type": "code",
   "execution_count": 142,
   "metadata": {},
   "outputs": [],
   "source": [
    "valores_den={den1: Ix4+Ixp+l4*l4*mp, den2: Iz1 + Iz2 + Iz3 + Iz4 + Izp + l2*l2*(m3+m4+mp), den3: Iy2 + Iy3 + Iy4 + Iyp + l2*l2*(m3+m4+mp) + lg3*lg3*m3 + l3*l3*m4 + Pow((l3+l4),2)*mp}"
   ]
  },
  {
   "cell_type": "code",
   "execution_count": 143,
   "metadata": {},
   "outputs": [
    {
     "data": {
      "text/latex": [
       "$\\displaystyle \\left\\{ den_{1} : Ix_{4} + Ix_{p} + l_{4}^{2} m_{p}, \\  den_{2} : Iz_{1} + Iz_{2} + Iz_{3} + Iz_{4} + Iz_{p} + l_{2}^{2} \\left(m_{3} + m_{4} + m_{p}\\right), \\  den_{3} : Iy_{2} + Iy_{3} + Iy_{4} + Iy_{p} + l_{2}^{2} \\left(m_{3} + m_{4} + m_{p}\\right) + l_{3}^{2} m_{4} + l_{G_3}^{2} m_{3} + m_{p} \\left(l_{3} + l_{4}\\right)^{2}\\right\\}$"
      ],
      "text/plain": [
       "{den1: Ix_4 + Ix_p + l_4**2*m_p, den2: Iz_1 + Iz_2 + Iz_3 + Iz_4 + Iz_p + l_2**2*(m_3 + m_4 + m_p), den3: Iy_2 + Iy_3 + Iy_4 + Iy_p + l_2**2*(m_3 + m_4 + m_p) + l_3**2*m_4 + l_{G_3}**2*m_3 + m_p*(l_3 + l_4)**2}"
      ]
     },
     "execution_count": 143,
     "metadata": {},
     "output_type": "execute_result"
    }
   ],
   "source": [
    "valores_den"
   ]
  },
  {
   "cell_type": "code",
   "execution_count": 144,
   "metadata": {},
   "outputs": [],
   "source": [
    "valores_m={m1:2.325,m2:2.761,m3:0.154,m4:0.115,mp:0.565}\n",
    "valores_Ix={Ix1:0.102,Ix2:0.004,Ix3:0.001,Ix4:1.723e-5,Ixp:0.014}\n",
    "valores_Iy={Iy1:0.001,Iy2:0.288,Iy3:1.835e-5,Iy4:7.608e-5,Iyp:5.0e-4}\n",
    "valores_Iz={Iz1:0.102,Iz2:0.290,Iz3:0.001,Iz4:8.260e-5,Izp:0.013}\n",
    "valores_l={l1:0.325,l2:0.595,l3:0.173,l4:0.0147}\n",
    "valores_lg={lg1:0.1414,lg2:0.0,lg3:0.0516,lg4:0}\n",
    "valor_g={g:9.81}\n",
    "valor_b={b:0.2132}"
   ]
  },
  {
   "cell_type": "markdown",
   "metadata": {},
   "source": [
    "<h2> Identificação dos parâmetros de inércia e de atrito </h2>\n",
    "<h2> Experimento A </h2>"
   ]
  },
  {
   "cell_type": "markdown",
   "metadata": {},
   "source": [
    "No experimento A, parte-se do ponto de equilíbrio definido no capítulo anterior, e os graus de liberdade relativos ao movimento de $\\theta_1$ e $\\theta_2$ são bloqueados. Também não são utilizados os mecanismos de vetorização, isto é, $\\alpha_1=\\alpha_2=0$. O experimento consiste em realizar ensaios em malha fechada como representado pela Figura \\ref{fig:ensaio1}.\n",
    "\n",
    "\n",
    "\\begin{equation}\n",
    "    \\ddot{\\theta}_4 = \\frac{b (F_1-F_2) - f_{s_4}\\dot{\\theta}_4-gl_4m_p\\theta_4}{den_1}\\label{eq:mov_exp1}\n",
    "\\end{equation}\n",
    "\n",
    "Ao aplicar a transformada de Laplace em \\eqref{eq:mov_exp1}, admitindo que as entradas de desvios de força serão $F_1=F$ e $F_2=-F$, é possível encontrar a seguinte função transferência.\n",
    "\n",
    "\\begin{equation}\n",
    "    G_4(s)=\\frac{\\Theta_4(s)}{F(s)} = \\frac{2b}{s(den_1 s+f_{s_4})+gl_4m_p}=\n",
    "    \\frac{\\frac{2b}{den_1}}{s^2+\\frac{f_{s_4}}{den_1}s+\\frac{gl_4m_p}{den_1}}\n",
    "    \\label{eq:g4s}\n",
    "\\end{equation}\n",
    "\n",
    "\\begin{equation}\n",
    "H_4(s)=\\frac{\\Theta_4(s)}{R(s)}=\\frac{K_p G_4(s)}{1+K_p G_4(s)}=\\frac{\\frac{2K_pb}{den_1}}{s^2 +s\\frac{f_{s_4}}{den_1} +\\frac{2 K_p b +gl_4m_p}{den_1}}\\label{eq:h4s}\n",
    "\\end{equation}"
   ]
  },
  {
   "cell_type": "code",
   "execution_count": 145,
   "metadata": {},
   "outputs": [],
   "source": [
    "Eq[2] = (b*(f1-f2)-fs4*diff(theta4,t)-g*l4*mp*theta4) -diff(diff(theta4,t),t)*den1;"
   ]
  },
  {
   "cell_type": "code",
   "execution_count": 146,
   "metadata": {
    "scrolled": true
   },
   "outputs": [
    {
     "data": {
      "text/latex": [
       "$\\displaystyle 2 b F - den_{1} \\ddot{\\theta}_{4} - fs_{4} \\dot{\\theta}_{4} - g l_{4} m_{p} \\theta_{4}$"
      ],
      "text/plain": [
       "2*b*F - den1*theta4'' - fs_4*theta4' - g*l_4*m_p*theta4"
      ]
     },
     "execution_count": 146,
     "metadata": {},
     "output_type": "execute_result"
    }
   ],
   "source": [
    "simpl={f1:f,f2:-f}\n",
    "Eq[2]=Eq[2].subs(simpl)\n",
    "Eq[2]"
   ]
  },
  {
   "cell_type": "code",
   "execution_count": 147,
   "metadata": {},
   "outputs": [],
   "source": [
    "transformada=L(Eq[2])\n",
    "Laplace={L(f):F,L((diff(diff(theta4,t),t))):(s*s*Theta4),L(diff(theta4,t)):(s*Theta4),L(theta4):Theta4}"
   ]
  },
  {
   "cell_type": "code",
   "execution_count": 148,
   "metadata": {},
   "outputs": [
    {
     "data": {
      "text/latex": [
       "$\\displaystyle 2 b \\operatorname{F}\\left(s\\right) + \\left(- den_{1} s^{2} - fs_{4} s - g l_{4} m_{p}\\right) \\operatorname{\\Theta_4}\\left(s\\right)$"
      ],
      "text/plain": [
       "2*b*F(s) + (-den1*s**2 - fs_4*s - g*l_4*m_p)*\\Theta_4(s)"
      ]
     },
     "execution_count": 148,
     "metadata": {},
     "output_type": "execute_result"
    }
   ],
   "source": [
    "transformada=transformada.subs(Laplace).collect(Theta4)\n",
    "transformada"
   ]
  },
  {
   "cell_type": "code",
   "execution_count": 149,
   "metadata": {},
   "outputs": [
    {
     "data": {
      "text/latex": [
       "$\\displaystyle \\frac{2 b}{den_{1} s^{2} + fs_{4} s + g l_{4} m_{p}}$"
      ],
      "text/plain": [
       "2*b/(den1*s**2 + fs_4*s + g*l_4*m_p)"
      ]
     },
     "execution_count": 149,
     "metadata": {},
     "output_type": "execute_result"
    }
   ],
   "source": [
    "G4=transformada.coeff(F)/(-1*transformada.coeff(Theta4))\n",
    "G4"
   ]
  },
  {
   "cell_type": "code",
   "execution_count": 150,
   "metadata": {
    "scrolled": false
   },
   "outputs": [
    {
     "data": {
      "text/latex": [
       "$\\displaystyle \\frac{2 K_{p} b}{2 K_{p} b + den_{1} s^{2} + fs_{4} s + g l_{4} m_{p}}$"
      ],
      "text/plain": [
       "2*K_p*b/(2*K_p*b + den1*s**2 + fs_4*s + g*l_4*m_p)"
      ]
     },
     "execution_count": 150,
     "metadata": {},
     "output_type": "execute_result"
    }
   ],
   "source": [
    "H4=(Kp*G4)/(1+Kp*G4)\n",
    "H4=H4.simplify()\n",
    "H4"
   ]
  },
  {
   "cell_type": "code",
   "execution_count": 151,
   "metadata": {
    "scrolled": true
   },
   "outputs": [
    {
     "data": {
      "text/latex": [
       "$\\displaystyle \\frac{2 K_{p} b}{2 K_{p} b + fs_{4} s + g l_{4} m_{p} + s^{2} \\left(Ix_{4} + Ix_{p} + l_{4}^{2} m_{p}\\right)}$"
      ],
      "text/plain": [
       "2*K_p*b/(2*K_p*b + fs_4*s + g*l_4*m_p + s**2*(Ix_4 + Ix_p + l_4**2*m_p))"
      ]
     },
     "execution_count": 151,
     "metadata": {},
     "output_type": "execute_result"
    }
   ],
   "source": [
    "H4.subs(valores_den)"
   ]
  },
  {
   "cell_type": "code",
   "execution_count": 152,
   "metadata": {},
   "outputs": [
    {
     "data": {
      "text/latex": [
       "$\\displaystyle \\frac{0.4264 K_{p}}{0.4264 K_{p} + fs_{4} s + 0.01413932085 s^{2} + 0.081476955}$"
      ],
      "text/plain": [
       "0.4264*K_p/(0.4264*K_p + fs_4*s + 0.01413932085*s**2 + 0.081476955)"
      ]
     },
     "execution_count": 152,
     "metadata": {},
     "output_type": "execute_result"
    }
   ],
   "source": [
    "H4teorico=H4.subs(valores_den).subs(valores_m).subs(valores_Ix).subs(valores_Iy).subs(valores_Iz).subs(valores_l).subs(valores_lg).subs(valor_g).subs(valor_b)\n",
    "H4teorico"
   ]
  },
  {
   "cell_type": "markdown",
   "metadata": {},
   "source": [
    "Função $H(s)$ nominal vale:\n",
    "\n",
    "\\begin{equation}\n",
    "    H(s)= \\frac{K \\omega^2_n}{s^2 + 2 \\xi \\omega_n s+ \\omega^2_n}\\label{eq:padrao}\n",
    "\\end{equation}\n",
    "\n",
    "Comparando a função nominal com a função transferência do ensaio tem-se:\n",
    "\n",
    "\\begin{equation}\n",
    "\\begin{cases}\n",
    "    \\omega^2_n=\\frac{2K_pb+gl_4m_p}{den_1}\\\\\n",
    "    2 \\xi \\omega_n=\\frac{f_{s_4}}{den_1}\\\\\n",
    "    K \\omega^2_n=\\frac{2K_pb}{den_1}\n",
    "\\end{cases}\\label{eq:eq_ens1}\n",
    "\\end{equation}\n"
   ]
  },
  {
   "cell_type": "markdown",
   "metadata": {},
   "source": [
    "\\begin{equation}\n",
    "\\begin{cases}\n",
    "    g l_4 m_p = {\\omega}^{2}_n den_1 - 2 K_p b \\\\\n",
    "    f_{s_4} = 2 \\xi \\omega_n den_1\\\\\n",
    "    den_{1}   =  \\frac{2 K_p b}{K \\omega^{2}_n}\n",
    "\\end{cases}\\label{eq:eq_ens1}\n",
    "\\end{equation}"
   ]
  },
  {
   "cell_type": "code",
   "execution_count": 153,
   "metadata": {},
   "outputs": [
    {
     "data": {
      "text/latex": [
       "$\\displaystyle \\frac{K \\omega_{n}^{2}}{\\omega_{n}^{2} + 2 \\omega_{n} s \\xi + s^{2}}$"
      ],
      "text/plain": [
       "K*omega_n**2/(omega_n**2 + 2*omega_n*s*xi + s**2)"
      ]
     },
     "execution_count": 153,
     "metadata": {},
     "output_type": "execute_result"
    }
   ],
   "source": [
    "H=(K*wn*wn)/(s*s+2*xi*wn*s+wn*wn)\n",
    "H"
   ]
  },
  {
   "cell_type": "markdown",
   "metadata": {},
   "source": [
    "<h2> Valores obtidos experimentalmente</h2>\n",
    "\n",
    "Método analítico\n",
    "\n",
    "\\begin{align}\n",
    "K&=1.2725\n",
    "&\\xi&=0.2034\n",
    "&\\omega_n&=2.6099\n",
    "\\end{align}\n",
    "\n",
    "Método algoritmo genético\n",
    "\n",
    "\\begin{align}\n",
    "K&=1.1996 \n",
    "&\\xi&=0.6070 \n",
    "&\\omega_n&=3.6177\n",
    "\\end{align}"
   ]
  },
  {
   "cell_type": "code",
   "execution_count": 170,
   "metadata": {},
   "outputs": [
    {
     "data": {
      "text/latex": [
       "$\\displaystyle \\frac{15.700068846684}{s^{2} + 4.3918878 s + 13.08775329}$"
      ],
      "text/plain": [
       "15.700068846684/(s**2 + 4.3918878*s + 13.08775329)"
      ]
     },
     "execution_count": 170,
     "metadata": {},
     "output_type": "execute_result"
    }
   ],
   "source": [
    "valores_exp={K:1.2725,xi:0.2034,wn:2.6099}\n",
    "valores_exp={K:1.1996 ,xi:0.6070 ,wn:3.6177}\n",
    "\n",
    "Hexp=H.subs(valores_exp)\n",
    "Hexp"
   ]
  },
  {
   "cell_type": "code",
   "execution_count": 171,
   "metadata": {},
   "outputs": [],
   "source": [
    "# Coletando os coeficientes\n",
    "num, den = fraction(Hexp)\n",
    "num=Poly(num,s)\n",
    "den=Poly(den,s)\n",
    "\n",
    "num=num.all_coeffs()\n",
    "den=den.all_coeffs()\n",
    "\n",
    "#list to array\n",
    "num = np.asarray(num, dtype=np.float32)\n",
    "den = np.asarray(den, dtype=np.float32)\n",
    "\n",
    "#truncando valores até a quarta casa decimal\n",
    "num=(num).round(decimals=4)\n",
    "den=(den).round(decimals=4)"
   ]
  },
  {
   "cell_type": "code",
   "execution_count": 172,
   "metadata": {},
   "outputs": [
    {
     "data": {
      "image/png": "[encoded data removed]",
      "text/plain": [
       "<Figure size 1080x504 with 2 Axes>"
      ]
     },
     "metadata": {
      "needs_background": "light"
     },
     "output_type": "display_data"
    }
   ],
   "source": [
    "ref = 10.0    # change in u\n",
    "sys1 = signal.TransferFunction(num,den)\n",
    "t1,y1 = signal.step(sys1)\n",
    "\n",
    "y=ref*y1\n",
    "x=t1\n",
    "\n",
    "fig, ax1 = plt.subplots(figsize=(15, 7),sharey=True,sharex=True)\n",
    "plt.xlabel('Tempo [s]', fontsize=18)\n",
    "plt.ylabel(r\"$\\theta_{4} [{}^{\\circ}]$\", fontsize=18)\n",
    "ax1.plot(x,y,'k',linewidth=3,label='Curva aproximada')\n",
    "ax1.set_ylim(min(y),max(y)+1)\n",
    "ax1.grid(True)\n",
    "\n",
    "y_ss = ref*(num/den[2])\n",
    "ax2=ax1.twinx()\n",
    "ax2.plot([0,max(x)],[y_ss,y_ss],'k:')\n",
    "ax2.plot([0,max(x)],[ref,ref],'r:')\n",
    "ax2.set_ylim(min(y),max(y)+1)\n",
    "ax2.set_yticks([ref,y_ss])\n",
    "ax2.set_yticklabels([r\"$\\theta_{ref}$\",r\"$\\theta_{ss}$\"], fontsize=18)\n",
    "\n",
    "plt.xlim([0,max(x)])\n",
    "ax1.legend(loc='best', fontsize=16)\n",
    "plt.title(\"Resposta da Função transferência aproximada\", fontsize=20,color='black')\n",
    "plt.show()\n"
   ]
  },
  {
   "cell_type": "markdown",
   "metadata": {},
   "source": [
    "<h2> Experimento B </h2>"
   ]
  },
  {
   "cell_type": "markdown",
   "metadata": {},
   "source": [
    "\n",
    "\\begin{equation}\n",
    "\\ddot{\\theta}_2 = \\frac{l_2 (F_1+F_2) - f_{s_2}\\dot{\\theta}_2}{den_3}\n",
    "\\label{eq:movimentotheta2}\n",
    "\\end{equation}\n",
    "\n",
    "\\begin{equation}\n",
    "    G_2(s)=\\frac{\\Theta_2(s)}{F(s)} = \\frac{2l_2}{s(den_3+f_{s_2})}\n",
    "\\end{equation}"
   ]
  },
  {
   "cell_type": "code",
   "execution_count": 73,
   "metadata": {},
   "outputs": [
    {
     "data": {
      "text/latex": [
       "$\\displaystyle - den_{3} \\ddot{\\theta}_{2} - fs_{2} \\dot{\\theta}_{2} + l_{2} \\left(F_{1} + F_{2}\\right)$"
      ],
      "text/plain": [
       "-den3*theta2'' - fs_2*theta2' + l_2*(F_1 + F_2)"
      ]
     },
     "execution_count": 73,
     "metadata": {},
     "output_type": "execute_result"
    }
   ],
   "source": [
    "Eq[1] = l2*(f1+f2)-fs2*diff(theta2,t)-diff(diff(theta2,t),t)*den3;\n",
    "Eq[1]"
   ]
  },
  {
   "cell_type": "code",
   "execution_count": 74,
   "metadata": {},
   "outputs": [
    {
     "data": {
      "text/latex": [
       "$\\displaystyle - den_{3} \\ddot{\\theta}_{2} - fs_{2} \\dot{\\theta}_{2} + 2 l_{2} F$"
      ],
      "text/plain": [
       "-den3*theta2'' - fs_2*theta2' + 2*l_2*F"
      ]
     },
     "execution_count": 74,
     "metadata": {},
     "output_type": "execute_result"
    }
   ],
   "source": [
    "simpl={f1:f,f2:f}\n",
    "Eq[1]=Eq[1].subs(simpl)\n",
    "Eq[1]"
   ]
  },
  {
   "cell_type": "code",
   "execution_count": 75,
   "metadata": {},
   "outputs": [],
   "source": [
    "transformada=L(Eq[1])\n",
    "Laplace={L(f):F,L((diff(diff(theta2,t),t))):(s*s*Theta2),L(diff(theta2,t)):(s*Theta2),L(theta2):Theta2}"
   ]
  },
  {
   "cell_type": "code",
   "execution_count": 76,
   "metadata": {},
   "outputs": [
    {
     "data": {
      "text/latex": [
       "$\\displaystyle - den_{3} s^{2} \\operatorname{\\Theta_2}\\left(s\\right) - fs_{2} s \\operatorname{\\Theta_2}\\left(s\\right) + 2 l_{2} \\operatorname{F}\\left(s\\right)$"
      ],
      "text/plain": [
       "-den3*s**2*\\Theta_2(s) - fs_2*s*\\Theta_2(s) + 2*l_2*F(s)"
      ]
     },
     "execution_count": 76,
     "metadata": {},
     "output_type": "execute_result"
    }
   ],
   "source": [
    "transformada=transformada.subs(Laplace)\n",
    "transformada"
   ]
  },
  {
   "cell_type": "code",
   "execution_count": 77,
   "metadata": {},
   "outputs": [
    {
     "data": {
      "text/latex": [
       "$\\displaystyle \\frac{2 l_{2}}{den_{3} s^{2} + fs_{2} s}$"
      ],
      "text/plain": [
       "2*l_2/(den3*s**2 + fs_2*s)"
      ]
     },
     "execution_count": 77,
     "metadata": {},
     "output_type": "execute_result"
    }
   ],
   "source": [
    "G2=transformada.coeff(F)/(-1*transformada.coeff(Theta2))\n",
    "G2"
   ]
  },
  {
   "cell_type": "markdown",
   "metadata": {},
   "source": [
    "\\begin{equation}\n",
    "    H_2(s)=\\frac{\\Theta_2(s)}{R(s)}=\\frac{K_p G_2(s)}{1+K_p G_2(s)} =\n",
    "    \\frac{2K_pl_2}{s^2 den_3+s f_{s_2}+2 K_p l_2}\n",
    "    \\label{eq:h2s}\n",
    "\\end{equation}\n",
    "\n",
    "\n",
    "\\begin{equation}\n",
    "\\begin{cases}\n",
    "    \\omega^2_n=\\frac{2K_p l_2}{{den}_3}\\\\\n",
    "    2 \\xi \\omega_n=\\frac{f_{s_2}}{{den}_3}\\\\\n",
    "    K \\omega^2_n=\\frac{2K_p l_2}{{den}_3}\n",
    "\\end{cases}\n",
    "\\end{equation}"
   ]
  },
  {
   "cell_type": "code",
   "execution_count": 78,
   "metadata": {},
   "outputs": [
    {
     "data": {
      "text/latex": [
       "$\\displaystyle \\frac{2 K_{p} l_{2}}{2 K_{p} l_{2} + den_{3} s^{2} + fs_{2} s}$"
      ],
      "text/plain": [
       "2*K_p*l_2/(2*K_p*l_2 + den3*s**2 + fs_2*s)"
      ]
     },
     "execution_count": 78,
     "metadata": {},
     "output_type": "execute_result"
    }
   ],
   "source": [
    "H2=(Kp*G2)/(1+Kp*G2)\n",
    "H2=H2.simplify()\n",
    "H2"
   ]
  },
  {
   "cell_type": "code",
   "execution_count": 81,
   "metadata": {},
   "outputs": [
    {
     "data": {
      "text/latex": [
       "$\\displaystyle \\frac{1.19 K_{p}}{1.19 K_{p} + fs_{2} s + 0.68571497049 s^{2}}$"
      ],
      "text/plain": [
       "1.19*K_p/(1.19*K_p + fs_2*s + 0.68571497049*s**2)"
      ]
     },
     "execution_count": 81,
     "metadata": {},
     "output_type": "execute_result"
    }
   ],
   "source": [
    "H2teorico=H2.subs(valores_den).subs(valores_den).subs(valores_m).subs(valores_Ix).subs(valores_Iy).subs(valores_Iz).subs(valores_l).subs(valores_lg).subs(valor_g).subs(valor_b)\n",
    "H2teorico"
   ]
  },
  {
   "cell_type": "markdown",
   "metadata": {},
   "source": [
    "<h2> Valores obtidos experimentalmente</h2>\n",
    "\n",
    "Método analítico\n",
    "\n",
    "\\begin{align}\n",
    "K&=1.1645\n",
    "&\\xi&=0.3557\n",
    "&\\omega_n&=3.6111\n",
    "\\end{align}\n",
    "\n",
    "Método usando algoritmo genético\n",
    "\n",
    "\\begin{align}\n",
    "K&=1.3041\n",
    "&\\xi&=0.1832\n",
    "&\\omega_n&=2.9256\n",
    "\\end{align}"
   ]
  },
  {
   "cell_type": "code",
   "execution_count": 165,
   "metadata": {},
   "outputs": [
    {
     "data": {
      "text/latex": [
       "$\\displaystyle \\frac{11.161968422976}{s^{2} + 1.07193984 s + 8.55913536}$"
      ],
      "text/plain": [
       "11.161968422976/(s**2 + 1.07193984*s + 8.55913536)"
      ]
     },
     "execution_count": 165,
     "metadata": {},
     "output_type": "execute_result"
    }
   ],
   "source": [
    "#valores_exp={K:1.1645,xi:0.3557,wn:3.6111}\n",
    "valores_exp={K:1.3041,xi:0.1832,wn:2.9256}\n",
    "Hexp=H.subs(valores_exp)\n",
    "Hexp"
   ]
  },
  {
   "cell_type": "code",
   "execution_count": 166,
   "metadata": {},
   "outputs": [],
   "source": [
    "# Coletando os coeficientes\n",
    "num, den = fraction(Hexp)\n",
    "num=Poly(num,s)\n",
    "den=Poly(den,s)\n",
    "\n",
    "num=num.all_coeffs()\n",
    "den=den.all_coeffs()\n",
    "\n",
    "#list to array\n",
    "num = np.asarray(num, dtype=np.float32)\n",
    "den = np.asarray(den, dtype=np.float32)\n",
    "\n",
    "#truncando valores até a quarta casa decimal\n",
    "num=(num).round(decimals=4)\n",
    "den=(den).round(decimals=4)"
   ]
  },
  {
   "cell_type": "code",
   "execution_count": 173,
   "metadata": {},
   "outputs": [
    {
     "data": {
      "image/png": "[encoded data removed]",
      "text/plain": [
       "<Figure size 1080x504 with 2 Axes>"
      ]
     },
     "metadata": {
      "needs_background": "light"
     },
     "output_type": "display_data"
    }
   ],
   "source": [
    "ref = 5.0    \n",
    "sys2 = signal.TransferFunction(num,den)\n",
    "t2,y2 = signal.step(sys2)\n",
    "\n",
    "y=ref*y2\n",
    "x=t2\n",
    "\n",
    "fig, ax1 = plt.subplots(figsize=(15, 7),sharey=True,sharex=True)\n",
    "plt.xlabel('Tempo [s]', fontsize=18)\n",
    "plt.ylabel(r\"$\\theta_{2} [{}^{\\circ}]$\", fontsize=18)\n",
    "ax1.plot(x,y,'k',linewidth=3,label='Curva aproximada')\n",
    "ax1.set_ylim(min(y),max(y)+1)\n",
    "ax1.grid(True)\n",
    "\n",
    "y_ss = ref*(num/den[2])\n",
    "ax2=ax1.twinx()\n",
    "ax2.plot([0,max(x)],[y_ss,y_ss],'k:')\n",
    "ax2.plot([0,max(x)],[ref,ref],'r:')\n",
    "ax2.set_ylim(min(y),max(y)+1)\n",
    "ax2.set_yticks([ref,y_ss])\n",
    "ax2.set_yticklabels([r\"$\\theta_{ref}$\",r\"$\\theta_{ss}$\"], fontsize=18)\n",
    "\n",
    "plt.xlim([0,max(x)])\n",
    "ax1.legend(loc='best', fontsize=16)\n",
    "plt.title(\"Resposta da Função transferência aproximada\", fontsize=20,color='black')\n",
    "plt.show()"
   ]
  },
  {
   "cell_type": "code",
   "execution_count": null,
   "metadata": {},
   "outputs": [],
   "source": []
  },
  {
   "cell_type": "code",
   "execution_count": null,
   "metadata": {},
   "outputs": [],
   "source": []
  },
  {
   "cell_type": "code",
   "execution_count": null,
   "metadata": {},
   "outputs": [],
   "source": []
  },
  {
   "cell_type": "code",
   "execution_count": 98,
   "metadata": {},
   "outputs": [],
   "source": [
    "# tau * dy2/dt2 + 2*zeta*tau*dy/dt + y = Kp*u\n",
    "Kp = 2.0    # gain\n",
    "tau = 1.0   # time constant\n",
    "zeta = 0.25 # damping factor\n",
    "theta = 0.0 # no time delay\n",
    "du = 1.0    # change in u\n",
    "\n",
    "# (1) Transfer Function\n",
    "num = [Kp]\n",
    "den = [tau**2,2*zeta*tau,1]\n",
    "sys1 = signal.TransferFunction(num,den)\n",
    "t1,y1 = signal.step(sys1)\n",
    "\n",
    "# (2) State Space\n",
    "A = [[0.0,1.0],[-1.0/tau**2,-2.0*zeta/tau]]\n",
    "B = [[0.0],[Kp/tau**2]]\n",
    "C = [1.0,0.0]\n",
    "D = 0.0\n",
    "sys2 = signal.StateSpace(A,B,C,D)\n",
    "t2,y2 = signal.step(sys2)\n",
    "\n",
    "# (3) ODE Integrator\n",
    "def model3(x,t):\n",
    "    y = x[0]\n",
    "    dydt = x[1]\n",
    "    dy2dt2 = (-2.0*zeta*tau*dydt - y + Kp*du)/tau**2\n",
    "    return [dydt,dy2dt2]\n",
    "t3 = np.linspace(0,25,100)\n",
    "x3 = odeint(model3,[0,0],t3)\n",
    "y3 = x3[:,0]"
   ]
  },
  {
   "cell_type": "code",
   "execution_count": 100,
   "metadata": {},
   "outputs": [
    {
     "data": {
      "image/png": "[encoded data removed]",
      "text/plain": [
       "<Figure size 432x288 with 1 Axes>"
      ]
     },
     "metadata": {
      "needs_background": "light"
     },
     "output_type": "display_data"
    }
   ],
   "source": [
    "plt.figure(1)\n",
    "#plt.plot(t1,y1*du,'k',linewidth=3)#label='Transfer Fcn')\n",
    "#plt.plot(t2,y2*du,'g:',linewidth=2,label='State Space')\n",
    "#plt.plot(t3,y3,'r-',linewidth=1,label='ODE Integrator')\n",
    "y_ss = Kp * du\n",
    "plt.plot([0,max(t1)],[y_ss,y_ss],'k:')\n",
    "plt.xlim([0,max(t1)])\n",
    "plt.xlabel('Time')\n",
    "plt.ylabel('Response (y)')\n",
    "#plt.legend(loc='best')\n",
    "plt.savefig('2nd_order.png')\n",
    "plt.show()"
   ]
  },
  {
   "cell_type": "code",
   "execution_count": 8,
   "metadata": {},
   "outputs": [
    {
     "name": "stdout",
     "output_type": "stream",
     "text": [
      "Kp: 2.0\n",
      "taus: 0.5\n",
      "zeta: 0.15\n",
      "Summary of response\n",
      "rise time: 0.8705314960358076\n",
      "peak time: 1.58877169505245\n",
      "overshoot: 0.6208712729227059\n",
      "decay ratio: 0.3854811375406612\n",
      "period: 3.1775433901049\n"
     ]
    },
    {
     "data": {
      "image/png": "[encoded data removed]",
      "text/plain": [
       "<Figure size 432x288 with 2 Axes>"
      ]
     },
     "metadata": {
      "needs_background": "light"
     },
     "output_type": "display_data"
    }
   ],
   "source": [
    "import numpy as np\n",
    "import matplotlib.pyplot as plt\n",
    "import matplotlib.gridspec as gs\n",
    "from scipy.integrate import odeint\n",
    "\n",
    "# specify number of steps\n",
    "ns = 120\n",
    "# define time points\n",
    "t = np.linspace(0,ns/10.0,ns+1)\n",
    "\n",
    "class model(object):\n",
    "    # default process model\n",
    "    Kp = 2.0\n",
    "    taus = 0.5\n",
    "    thetap = 2.0\n",
    "    zeta = 0.15\n",
    "\n",
    "def process(x,t,u,Kp,taus,zeta):\n",
    "    # Kp = process gain\n",
    "    # taus = second order time constant\n",
    "    # zeta = damping factor\n",
    "    # ts^2 dy2/dt2 + 2 zeta taus dydt + y = Kp u(t-thetap)\n",
    "    y = x[0]\n",
    "    dydt = x[1]\n",
    "    dy2dt2 = (-2.0*zeta*taus*dydt - y + Kp*u)/taus**2\n",
    "    return [dydt,dy2dt2]\n",
    "\n",
    "def calc_response(t,m):\n",
    "    # t = time points\n",
    "    # m = process model\n",
    "    Kp = m.Kp\n",
    "    taus = m.taus\n",
    "    thetap = m.thetap\n",
    "    zeta = m.zeta\n",
    "\n",
    "    print('Kp: ' + str(Kp))\n",
    "    print('taus: ' + str(taus))\n",
    "    print('zeta: ' + str(zeta))\n",
    "\n",
    "    # specify number of steps\n",
    "    ns = len(t)-1\n",
    "    delta_t = t[1]-t[0]\n",
    "\n",
    "    # storage for recording values\n",
    "    op = np.zeros(ns+1)  # controller output\n",
    "    pv = np.zeros((ns+1,2))  # process variable\n",
    "\n",
    "    # step input\n",
    "    op[10:]=1.0\n",
    "\n",
    "    # Simulate time delay\n",
    "    ndelay = int(np.ceil(thetap / delta_t)) \n",
    "\n",
    "    # loop through time steps    \n",
    "    for i in range(0,ns):\n",
    "        # implement time delay\n",
    "        iop = max(0,i-ndelay)\n",
    "        inputs = (op[iop],Kp,taus,zeta)\n",
    "        y = odeint(process,pv[i],[0,delta_t],args=inputs)\n",
    "        pv[i+1] = y[-1]\n",
    "    return (pv,op) \n",
    "\n",
    "# underdamped step response\n",
    "(pv,op) = calc_response(t,model)\n",
    "\n",
    "# rename parameters\n",
    "tau = model.taus\n",
    "zeta = model.zeta\n",
    "du = 2.0\n",
    "s = 3.0\n",
    "\n",
    "# peak time\n",
    "tp = np.pi * tau / np.sqrt(1.0-zeta**2)\n",
    "# rise time\n",
    "tr = tau / (np.sqrt(1.0-zeta**2)) * (np.pi-np.arccos(zeta))\n",
    "# overshoot ratio\n",
    "os = np.exp(-np.pi * zeta / (np.sqrt(1.0-zeta**2)))\n",
    "# decay ratio\n",
    "dr = os**2\n",
    "# period\n",
    "p = 2.0 * np.pi * tau / (np.sqrt(1.0-zeta**2))\n",
    "\n",
    "print('Summary of response')\n",
    "print('rise time: ' + str(tr))\n",
    "print('peak time: ' + str(tp))\n",
    "print('overshoot: ' + str(os))\n",
    "print('decay ratio: ' + str(dr))\n",
    "print('period: ' + str(p))\n",
    "\n",
    "plt.figure(1)\n",
    "g = gs.GridSpec(2, 1, height_ratios=[3, 1]) \n",
    "ap = {'arrowstyle': '->'}\n",
    "\n",
    "plt.subplot(g[0])\n",
    "plt.plot(t,pv[:,0],'b-',linewidth=3,label='Underdamped')\n",
    "plt.plot([0,max(t)],[2.0,2.0],'r--',label='Steady State')\n",
    "plt.plot([1,1],[0,0.5],'k-')\n",
    "plt.plot([3,3],[0,0.5],'k-')\n",
    "plt.plot([3+tr,3+tr],[0,2],'k-')\n",
    "plt.plot([3+tp,3+tp],[0,2],'k-')\n",
    "plt.plot([3,3+tr],[2,2],'g-',linewidth=2)\n",
    "plt.plot([3,3+tp],[2*(1+os),2*(1+os)],'g-',linewidth=2)\n",
    "plt.plot([3+tp,3+tp+p],[3,3],'k--',linewidth=2)\n",
    "plt.plot([3+tp,3+tp],[2,2*(1.0+os)],'r-',linewidth=3)\n",
    "plt.plot([3+tp+p,3+tp+p],[2,2*(1+os*dr)],'r-',linewidth=3)\n",
    "plt.legend(loc=4)\n",
    "plt.ylabel('Process Output')\n",
    "\n",
    "tloc = (1.05,0.2)\n",
    "txt = r'$Delay\\,(\\theta_p=2)$'\n",
    "plt.annotate(s=txt,xy=tloc)\n",
    "\n",
    "tloc = (2,2.1)\n",
    "txt = r'$Rise\\,Time\\,(t_r)$'\n",
    "plt.annotate(s=txt,xy=tloc)\n",
    "\n",
    "tloc = (2,3)\n",
    "txt = r'$Peak\\,Time\\,(t_p)$'\n",
    "plt.annotate(s=txt,xy=tloc)\n",
    "\n",
    "tloc = (5,3.1)\n",
    "txt = r'$Period\\,(P)$'\n",
    "plt.annotate(s=txt,xy=tloc)\n",
    "\n",
    "tloc = (3+tp+0.05,1.0)\n",
    "txt = r'$A$'\n",
    "plt.annotate(s=txt,xy=tloc)\n",
    "\n",
    "tloc = (3+tp+0.05,2.1)\n",
    "txt = r'$B$'\n",
    "plt.annotate(s=txt,xy=tloc)\n",
    "\n",
    "tloc = (3+tp+p+0.05,2.1)\n",
    "txt = r'$C$'\n",
    "plt.annotate(s=txt,xy=tloc)\n",
    "\n",
    "tloc = (6,2.7)\n",
    "txt = r'$Decay\\,Ratio\\,(\\frac{C}{B})$'\n",
    "plt.annotate(s=txt,xy=tloc)\n",
    "\n",
    "tloc = (5.5,1.0)\n",
    "txt = r'$Overshoot\\,Ratio\\,(\\frac{B}{A})$'\n",
    "plt.annotate(s=txt,xy=tloc)\n",
    "\n",
    "plt.subplot(g[1])\n",
    "plt.plot(t,op,'k:',linewidth=3,label='Step Input')\n",
    "plt.ylim([-0.1,1.1])\n",
    "plt.legend(loc='best')\n",
    "plt.ylabel('Process Input')\n",
    "plt.xlabel('Time')\n",
    "\n",
    "pt = (1.0,0.5)\n",
    "tloc = (2.0,0.5)\n",
    "txt = r'$Step\\,Input\\,Starts$'\n",
    "plt.annotate(s=txt,xy=pt,xytext=tloc,arrowprops=ap)\n",
    "\n",
    "plt.savefig('output.png')\n",
    "plt.show()"
   ]
  },
  {
   "cell_type": "code",
   "execution_count": null,
   "metadata": {},
   "outputs": [],
   "source": []
  }
 ],
 "metadata": {
  "kernelspec": {
   "display_name": "Python 3",
   "language": "python",
   "name": "python3"
  },
  "language_info": {
   "codemirror_mode": {
    "name": "ipython",
    "version": 3
   },
   "file_extension": ".py",
   "mimetype": "text/x-python",
   "name": "python",
   "nbconvert_exporter": "python",
   "pygments_lexer": "ipython3",
   "version": "3.7.4"
  }
 },
 "nbformat": 4,
 "nbformat_minor": 2
}
