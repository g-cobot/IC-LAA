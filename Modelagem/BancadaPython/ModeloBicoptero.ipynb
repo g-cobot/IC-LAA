{
 "cells": [
  {
   "cell_type": "code",
   "execution_count": 9,
   "metadata": {},
   "outputs": [],
   "source": [
    "import numpy as np\n",
    "import matplotlib.pyplot as plt\n",
    "from sympy import * \n",
    "from sympy import trigsimp, pi, cos, sin\n",
    "from sympy.physics.mechanics import *"
   ]
  },
  {
   "cell_type": "code",
   "execution_count": 10,
   "metadata": {},
   "outputs": [],
   "source": [
    "from __future__ import print_function, division\n",
    "from sympy import symbols, simplify\n",
    "from sympy.physics.mechanics import dynamicsymbols, ReferenceFrame, Point\n",
    "from sympy.physics.vector import init_vprinting\n",
    "init_vprinting(use_latex='mathjax', pretty_print=False)\n",
    "from IPython.display import Image"
   ]
  },
  {
   "cell_type": "code",
   "execution_count": 69,
   "metadata": {},
   "outputs": [],
   "source": [
    "t = Symbol(\"t\")\n",
    "\n",
    "\n",
    "\n",
    "\n",
    "# Angulos\n",
    "theta = Function(\"theta\")(t)\n",
    "psi = Function(\"psi\")(t)\n",
    "phi = Function(\"phi\")(t)\n",
    "\n",
    "gamma = Function(\"gamma\")(t)\n",
    "alpha = Function(\"alpha\")(t)\n",
    "beta = Function(\"beta\")(t)\n",
    "\n",
    "# Constante da gravidade\n",
    "g = dynamicsymbols('g')\n",
    "m = dynamicsymbols('m')\n",
    "# Forcas\n",
    "F1, F2= dynamicsymbols('F_{e1}, F_{e2}')\n",
    "########################################## ATENCAO \n",
    "#https://mathworld.wolfram.com/RotationMatrix.html\n",
    "# a convencao do sympy rot_axis1(angulo) são diferentes do que utilizo entao eu tenho que definir aqui\n",
    "############################################\n",
    "def rotx_M(theta):\n",
    "    # theta\n",
    "    Rx = Matrix([[1, 0, 0],\n",
    "                 [0, cos(theta), -sin(theta)],\n",
    "                 [0, sin(theta), cos(theta)]])\n",
    "    return Rx;\n",
    "def roty_M(theta):\n",
    "    # theta\n",
    "    Ry = Matrix([[cos(theta), 0, sin(theta)],\n",
    "                 [0, 1, 0],\n",
    "                 [-sin(theta),0, cos(theta)]])\n",
    "    return Ry;\n",
    "def rotz_M(theta):\n",
    "    # theta\n",
    "    Rz = Matrix([[cos(theta), -sin(theta), 0],\n",
    "                 [sin(theta), cos(theta), 0],\n",
    "                 [0, 0, 1]])\n",
    "    return Rz;"
   ]
  },
  {
   "cell_type": "code",
   "execution_count": 53,
   "metadata": {},
   "outputs": [
    {
     "data": {
      "text/latex": [
       "$\\displaystyle \\left[\\begin{matrix}\\operatorname{cos}\\left(\\gamma\\right) & - \\operatorname{sin}\\left(\\gamma\\right) & 0\\\\\\operatorname{sin}\\left(\\gamma\\right) & \\operatorname{cos}\\left(\\gamma\\right) & 0\\\\0 & 0 & 1\\end{matrix}\\right]$"
      ],
      "text/plain": [
       "Matrix([\n",
       "[cos(gamma), -sin(gamma), 0],\n",
       "[sin(gamma),  cos(gamma), 0],\n",
       "[         0,           0, 1]])"
      ]
     },
     "execution_count": 53,
     "metadata": {},
     "output_type": "execute_result"
    }
   ],
   "source": [
    "rotz_M(gamma)"
   ]
  },
  {
   "cell_type": "code",
   "execution_count": 54,
   "metadata": {},
   "outputs": [
    {
     "data": {
      "text/latex": [
       "$\\displaystyle \\left[\\begin{matrix}\\operatorname{cos}\\left(\\alpha\\right) & 0 & \\operatorname{sin}\\left(\\alpha\\right)\\\\0 & 1 & 0\\\\- \\operatorname{sin}\\left(\\alpha\\right) & 0 & \\operatorname{cos}\\left(\\alpha\\right)\\end{matrix}\\right]$"
      ],
      "text/plain": [
       "Matrix([\n",
       "[ cos(alpha), 0, sin(alpha)],\n",
       "[          0, 1,          0],\n",
       "[-sin(alpha), 0, cos(alpha)]])"
      ]
     },
     "execution_count": 54,
     "metadata": {},
     "output_type": "execute_result"
    }
   ],
   "source": [
    "roty_M(alpha)"
   ]
  },
  {
   "cell_type": "code",
   "execution_count": 55,
   "metadata": {
    "scrolled": false
   },
   "outputs": [
    {
     "data": {
      "text/latex": [
       "$\\displaystyle \\left[\\begin{matrix}1 & 0 & 0\\\\0 & \\operatorname{cos}\\left(\\beta\\right) & - \\operatorname{sin}\\left(\\beta\\right)\\\\0 & \\operatorname{sin}\\left(\\beta\\right) & \\operatorname{cos}\\left(\\beta\\right)\\end{matrix}\\right]$"
      ],
      "text/plain": [
       "Matrix([\n",
       "[1,         0,          0],\n",
       "[0, cos(beta), -sin(beta)],\n",
       "[0, sin(beta),  cos(beta)]])"
      ]
     },
     "execution_count": 55,
     "metadata": {},
     "output_type": "execute_result"
    }
   ],
   "source": [
    "rotx_M(beta)"
   ]
  },
  {
   "cell_type": "code",
   "execution_count": 56,
   "metadata": {
    "scrolled": true
   },
   "outputs": [
    {
     "data": {
      "text/latex": [
       "$\\displaystyle \\left[\\begin{matrix}\\operatorname{cos}\\left(\\alpha\\right) \\operatorname{cos}\\left(\\gamma\\right) & \\operatorname{sin}\\left(\\alpha\\right) \\operatorname{sin}\\left(\\beta\\right) \\operatorname{cos}\\left(\\gamma\\right) + \\operatorname{sin}\\left(\\gamma\\right) \\operatorname{cos}\\left(\\beta\\right) & - \\operatorname{sin}\\left(\\alpha\\right) \\operatorname{cos}\\left(\\beta\\right) \\operatorname{cos}\\left(\\gamma\\right) + \\operatorname{sin}\\left(\\beta\\right) \\operatorname{sin}\\left(\\gamma\\right)\\\\- \\operatorname{sin}\\left(\\gamma\\right) \\operatorname{cos}\\left(\\alpha\\right) & - \\operatorname{sin}\\left(\\alpha\\right) \\operatorname{sin}\\left(\\beta\\right) \\operatorname{sin}\\left(\\gamma\\right) + \\operatorname{cos}\\left(\\beta\\right) \\operatorname{cos}\\left(\\gamma\\right) & \\operatorname{sin}\\left(\\alpha\\right) \\operatorname{sin}\\left(\\gamma\\right) \\operatorname{cos}\\left(\\beta\\right) + \\operatorname{sin}\\left(\\beta\\right) \\operatorname{cos}\\left(\\gamma\\right)\\\\\\operatorname{sin}\\left(\\alpha\\right) & - \\operatorname{sin}\\left(\\beta\\right) \\operatorname{cos}\\left(\\alpha\\right) & \\operatorname{cos}\\left(\\alpha\\right) \\operatorname{cos}\\left(\\beta\\right)\\end{matrix}\\right]$"
      ],
      "text/plain": [
       "Matrix([\n",
       "[ cos(alpha)*cos(gamma),  sin(alpha)*sin(beta)*cos(gamma) + sin(gamma)*cos(beta), -sin(alpha)*cos(beta)*cos(gamma) + sin(beta)*sin(gamma)],\n",
       "[-sin(gamma)*cos(alpha), -sin(alpha)*sin(beta)*sin(gamma) + cos(beta)*cos(gamma),  sin(alpha)*sin(gamma)*cos(beta) + sin(beta)*cos(gamma)],\n",
       "[            sin(alpha),                                   -sin(beta)*cos(alpha),                                    cos(alpha)*cos(beta)]])"
      ]
     },
     "execution_count": 56,
     "metadata": {},
     "output_type": "execute_result"
    }
   ],
   "source": [
    "rtb=(rot_axis3(gamma)*rot_axis2(alpha))*rot_axis1(beta)\n",
    "rtb"
   ]
  },
  {
   "cell_type": "code",
   "execution_count": 57,
   "metadata": {},
   "outputs": [
    {
     "data": {
      "text/latex": [
       "$\\displaystyle \\left[\\begin{matrix}\\operatorname{cos}\\left(\\alpha\\right) \\operatorname{cos}\\left(\\gamma\\right) & \\operatorname{sin}\\left(\\alpha\\right) \\operatorname{sin}\\left(\\beta\\right) \\operatorname{cos}\\left(\\gamma\\right) - \\operatorname{sin}\\left(\\gamma\\right) \\operatorname{cos}\\left(\\beta\\right) & \\operatorname{sin}\\left(\\alpha\\right) \\operatorname{cos}\\left(\\beta\\right) \\operatorname{cos}\\left(\\gamma\\right) + \\operatorname{sin}\\left(\\beta\\right) \\operatorname{sin}\\left(\\gamma\\right)\\\\\\operatorname{sin}\\left(\\gamma\\right) \\operatorname{cos}\\left(\\alpha\\right) & \\operatorname{sin}\\left(\\alpha\\right) \\operatorname{sin}\\left(\\beta\\right) \\operatorname{sin}\\left(\\gamma\\right) + \\operatorname{cos}\\left(\\beta\\right) \\operatorname{cos}\\left(\\gamma\\right) & \\operatorname{sin}\\left(\\alpha\\right) \\operatorname{sin}\\left(\\gamma\\right) \\operatorname{cos}\\left(\\beta\\right) - \\operatorname{sin}\\left(\\beta\\right) \\operatorname{cos}\\left(\\gamma\\right)\\\\- \\operatorname{sin}\\left(\\alpha\\right) & \\operatorname{sin}\\left(\\beta\\right) \\operatorname{cos}\\left(\\alpha\\right) & \\operatorname{cos}\\left(\\alpha\\right) \\operatorname{cos}\\left(\\beta\\right)\\end{matrix}\\right]$"
      ],
      "text/plain": [
       "Matrix([\n",
       "[cos(alpha)*cos(gamma), sin(alpha)*sin(beta)*cos(gamma) - sin(gamma)*cos(beta), sin(alpha)*cos(beta)*cos(gamma) + sin(beta)*sin(gamma)],\n",
       "[sin(gamma)*cos(alpha), sin(alpha)*sin(beta)*sin(gamma) + cos(beta)*cos(gamma), sin(alpha)*sin(gamma)*cos(beta) - sin(beta)*cos(gamma)],\n",
       "[          -sin(alpha),                                   sin(beta)*cos(alpha),                                   cos(alpha)*cos(beta)]])"
      ]
     },
     "execution_count": 57,
     "metadata": {},
     "output_type": "execute_result"
    }
   ],
   "source": [
    "rtb=(rotz_M(gamma)*roty_M(alpha))*rotx_M(beta)\n",
    "rtb"
   ]
  },
  {
   "cell_type": "code",
   "execution_count": 58,
   "metadata": {},
   "outputs": [
    {
     "data": {
      "text/latex": [
       "$\\displaystyle \\left[\\begin{matrix}0\\\\0\\\\F_{{e2}}\\end{matrix}\\right]$"
      ],
      "text/plain": [
       "Matrix([\n",
       "[     0],\n",
       "[     0],\n",
       "[F_{e2}]])"
      ]
     },
     "execution_count": 58,
     "metadata": {},
     "output_type": "execute_result"
    }
   ],
   "source": [
    "vF1=Matrix([[0],[0],[F1]])\n",
    "vF2=Matrix([[0],[0],[F2]])\n",
    "vF2"
   ]
  },
  {
   "cell_type": "code",
   "execution_count": 62,
   "metadata": {},
   "outputs": [
    {
     "data": {
      "text/latex": [
       "$\\displaystyle \\left[\\begin{matrix}\\left(\\operatorname{sin}\\left(\\alpha\\right) \\operatorname{cos}\\left(\\beta\\right) \\operatorname{cos}\\left(\\gamma\\right) + \\operatorname{sin}\\left(\\beta\\right) \\operatorname{sin}\\left(\\gamma\\right)\\right) F_{{e1}}\\\\\\left(\\operatorname{sin}\\left(\\alpha\\right) \\operatorname{sin}\\left(\\gamma\\right) \\operatorname{cos}\\left(\\beta\\right) - \\operatorname{sin}\\left(\\beta\\right) \\operatorname{cos}\\left(\\gamma\\right)\\right) F_{{e1}}\\\\F_{{e1}} \\operatorname{cos}\\left(\\alpha\\right) \\operatorname{cos}\\left(\\beta\\right)\\end{matrix}\\right]$"
      ],
      "text/plain": [
       "Matrix([\n",
       "[(sin(alpha)*cos(beta)*cos(gamma) + sin(beta)*sin(gamma))*F_{e1}],\n",
       "[(sin(alpha)*sin(gamma)*cos(beta) - sin(beta)*cos(gamma))*F_{e1}],\n",
       "[                                    F_{e1}*cos(alpha)*cos(beta)]])"
      ]
     },
     "execution_count": 62,
     "metadata": {},
     "output_type": "execute_result"
    }
   ],
   "source": [
    "vf2=rtb*vF2\n",
    "vf1=rtb*vF1\n",
    "vf1"
   ]
  },
  {
   "cell_type": "code",
   "execution_count": 63,
   "metadata": {},
   "outputs": [
    {
     "data": {
      "text/latex": [
       "$\\displaystyle \\left[\\begin{matrix}0\\\\F_{{e1}} \\operatorname{sin}\\left(\\alpha\\right)\\\\F_{{e1}} \\operatorname{cos}\\left(\\alpha\\right)\\end{matrix}\\right]$"
      ],
      "text/plain": [
       "Matrix([\n",
       "[                0],\n",
       "[F_{e1}*sin(alpha)],\n",
       "[F_{e1}*cos(alpha)]])"
      ]
     },
     "execution_count": 63,
     "metadata": {},
     "output_type": "execute_result"
    }
   ],
   "source": [
    "vf1.subs({gamma: pi/2,beta: 0})"
   ]
  },
  {
   "cell_type": "code",
   "execution_count": 68,
   "metadata": {},
   "outputs": [
    {
     "data": {
      "text/latex": [
       "$\\displaystyle \\left[\\begin{matrix}0\\\\- F_{{e2}} \\operatorname{sin}\\left(\\alpha\\right)\\\\F_{{e2}} \\operatorname{cos}\\left(\\alpha\\right)\\end{matrix}\\right]$"
      ],
      "text/plain": [
       "Matrix([\n",
       "[                 0],\n",
       "[-F_{e2}*sin(alpha)],\n",
       "[ F_{e2}*cos(alpha)]])"
      ]
     },
     "execution_count": 68,
     "metadata": {},
     "output_type": "execute_result"
    }
   ],
   "source": [
    "vf2.subs({gamma: (3*pi)/2,beta: 0})"
   ]
  },
  {
   "cell_type": "code",
   "execution_count": 67,
   "metadata": {},
   "outputs": [
    {
     "data": {
      "text/latex": [
       "$\\displaystyle \\left[\\begin{matrix}\\operatorname{cos}\\left(\\psi\\right) \\operatorname{cos}\\left(\\theta\\right) & \\operatorname{sin}\\left(\\phi\\right) \\operatorname{sin}\\left(\\theta\\right) \\operatorname{cos}\\left(\\psi\\right) - \\operatorname{sin}\\left(\\psi\\right) \\operatorname{cos}\\left(\\phi\\right) & \\operatorname{sin}\\left(\\phi\\right) \\operatorname{sin}\\left(\\psi\\right) + \\operatorname{sin}\\left(\\theta\\right) \\operatorname{cos}\\left(\\phi\\right) \\operatorname{cos}\\left(\\psi\\right)\\\\\\operatorname{sin}\\left(\\psi\\right) \\operatorname{cos}\\left(\\theta\\right) & \\operatorname{sin}\\left(\\phi\\right) \\operatorname{sin}\\left(\\psi\\right) \\operatorname{sin}\\left(\\theta\\right) + \\operatorname{cos}\\left(\\phi\\right) \\operatorname{cos}\\left(\\psi\\right) & - \\operatorname{sin}\\left(\\phi\\right) \\operatorname{cos}\\left(\\psi\\right) + \\operatorname{sin}\\left(\\psi\\right) \\operatorname{sin}\\left(\\theta\\right) \\operatorname{cos}\\left(\\phi\\right)\\\\- \\operatorname{sin}\\left(\\theta\\right) & \\operatorname{sin}\\left(\\phi\\right) \\operatorname{cos}\\left(\\theta\\right) & \\operatorname{cos}\\left(\\phi\\right) \\operatorname{cos}\\left(\\theta\\right)\\end{matrix}\\right]$"
      ],
      "text/plain": [
       "Matrix([\n",
       "[cos(psi)*cos(theta), sin(phi)*sin(theta)*cos(psi) - sin(psi)*cos(phi),  sin(phi)*sin(psi) + sin(theta)*cos(phi)*cos(psi)],\n",
       "[sin(psi)*cos(theta), sin(phi)*sin(psi)*sin(theta) + cos(phi)*cos(psi), -sin(phi)*cos(psi) + sin(psi)*sin(theta)*cos(phi)],\n",
       "[        -sin(theta),                              sin(phi)*cos(theta),                               cos(phi)*cos(theta)]])"
      ]
     },
     "execution_count": 67,
     "metadata": {},
     "output_type": "execute_result"
    }
   ],
   "source": [
    "rtg=(rotz_M(psi)*roty_M(theta))*rotx_M(phi)\n",
    "rtg"
   ]
  },
  {
   "cell_type": "code",
   "execution_count": 71,
   "metadata": {},
   "outputs": [
    {
     "data": {
      "text/latex": [
       "$\\displaystyle \\left[\\begin{matrix}0\\\\0\\\\- g m\\end{matrix}\\right]$"
      ],
      "text/plain": [
       "Matrix([\n",
       "[   0],\n",
       "[   0],\n",
       "[-g*m]])"
      ]
     },
     "execution_count": 71,
     "metadata": {},
     "output_type": "execute_result"
    }
   ],
   "source": [
    "G=Matrix([[0],[0],[-m*g]])\n",
    "G\n"
   ]
  },
  {
   "cell_type": "code",
   "execution_count": 73,
   "metadata": {},
   "outputs": [
    {
     "data": {
      "text/latex": [
       "$\\displaystyle \\left[\\begin{matrix}g m \\operatorname{sin}\\left(\\theta\\right)\\\\- g m \\operatorname{sin}\\left(\\phi\\right) \\operatorname{cos}\\left(\\theta\\right)\\\\- g m \\operatorname{cos}\\left(\\phi\\right) \\operatorname{cos}\\left(\\theta\\right)\\end{matrix}\\right]$"
      ],
      "text/plain": [
       "Matrix([\n",
       "[          g*m*sin(theta)],\n",
       "[-g*m*sin(phi)*cos(theta)],\n",
       "[-g*m*cos(phi)*cos(theta)]])"
      ]
     },
     "execution_count": 73,
     "metadata": {},
     "output_type": "execute_result"
    }
   ],
   "source": [
    "gbcs=rtg.transpose()*G\n",
    "gbcs"
   ]
  },
  {
   "cell_type": "code",
   "execution_count": 74,
   "metadata": {},
   "outputs": [
    {
     "data": {
      "text/latex": [
       "$\\displaystyle \\left[\\begin{matrix}0\\\\- g m \\operatorname{sin}\\left(\\phi\\right)\\\\- g m \\operatorname{cos}\\left(\\phi\\right)\\end{matrix}\\right]$"
      ],
      "text/plain": [
       "Matrix([\n",
       "[            0],\n",
       "[-g*m*sin(phi)],\n",
       "[-g*m*cos(phi)]])"
      ]
     },
     "execution_count": 74,
     "metadata": {},
     "output_type": "execute_result"
    }
   ],
   "source": [
    "gbcs.subs({theta: 0,psi: 0})"
   ]
  },
  {
   "cell_type": "code",
   "execution_count": null,
   "metadata": {},
   "outputs": [],
   "source": []
  }
 ],
 "metadata": {
  "kernelspec": {
   "display_name": "Python 3",
   "language": "python",
   "name": "python3"
  },
  "language_info": {
   "codemirror_mode": {
    "name": "ipython",
    "version": 3
   },
   "file_extension": ".py",
   "mimetype": "text/x-python",
   "name": "python",
   "nbconvert_exporter": "python",
   "pygments_lexer": "ipython3",
   "version": "3.7.4"
  }
 },
 "nbformat": 4,
 "nbformat_minor": 2
}
