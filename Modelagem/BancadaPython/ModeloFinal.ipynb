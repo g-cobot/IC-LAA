{
 "cells": [
  {
   "cell_type": "markdown",
   "metadata": {},
   "source": [
    "<div style=\"background-color:black;color:white;padding:20px\">\n",
    "\n",
    "<center><h3> LAA </h3></center>\n",
    "<center><h1> Projeto Bicóptero </h1></center>\n",
    "\n",
    "<center> <h1> Modelo dinâmico do conjunto braço robótico-bicóptero usando a formulação de Lagrange</h1></center>\n",
    "\n",
    "<h3> Por Gabriel Henrique Costa e Silva </h3> \n",
    "</div>"
   ]
  },
  {
   "cell_type": "markdown",
   "metadata": {},
   "source": [
    "<h2> Inicializando as bibliotecas </h2>"
   ]
  },
  {
   "cell_type": "code",
   "execution_count": 1,
   "metadata": {
    "collapsed": true
   },
   "outputs": [],
   "source": [
    "import numpy as np\n",
    "import matplotlib.pyplot as plt\n",
    "from sympy import * \n",
    "from sympy import trigsimp, pi, cos, sin\n",
    "from sympy.physics.mechanics import *"
   ]
  },
  {
   "cell_type": "code",
   "execution_count": 2,
   "metadata": {
    "collapsed": true,
    "jupyter": {
     "outputs_hidden": false
    }
   },
   "outputs": [],
   "source": [
    "from __future__ import print_function, division\n",
    "from sympy import symbols, simplify\n",
    "from sympy.physics.mechanics import dynamicsymbols, ReferenceFrame, Point"
   ]
  },
  {
   "cell_type": "code",
   "execution_count": 3,
   "metadata": {
    "collapsed": true,
    "jupyter": {
     "outputs_hidden": false
    }
   },
   "outputs": [],
   "source": [
    "from sympy.physics.vector import init_vprinting\n",
    "init_vprinting(use_latex='mathjax', pretty_print=False)"
   ]
  },
  {
   "cell_type": "code",
   "execution_count": 4,
   "metadata": {
    "collapsed": true,
    "jupyter": {
     "outputs_hidden": false
    }
   },
   "outputs": [],
   "source": [
    "from IPython.display import Image"
   ]
  },
  {
   "cell_type": "code",
   "execution_count": 5,
   "metadata": {
    "collapsed": true,
    "jupyter": {
     "outputs_hidden": false
    }
   },
   "outputs": [],
   "source": [
    "t = Symbol(\"t\")\n",
    "\n",
    "# Angulos Theta\n",
    "theta1 = Function(\"theta1\")(t)\n",
    "theta2 = Function(\"theta2\")(t)\n",
    "theta3 = Function(\"theta3\")(t)\n",
    "theta4 = Function(\"theta4\")(t)\n",
    "\n",
    "# Constante da gravidade\n",
    "g = dynamicsymbols('g')\n",
    "\n",
    "# Forcas e Momentos\n",
    "fx, fy, fz = dynamicsymbols('f_x, f_y, f_z')\n",
    "taux, tauy, tauz = dynamicsymbols('tau_x, tau_y, tau_z')\n",
    "\n",
    "# Forcas dos motores\n",
    "f1,f2= dynamicsymbols('F_1, F_2')\n",
    "\n",
    "# Angulos Alfa (Angulos do mecanismo tilt)\n",
    "alpha1 = Function(\"alpha1\")(t)\n",
    "alpha2 = Function(\"alpha2\")(t)\n",
    "\n",
    "# Extensão dos bracos do bicopter\n",
    "b1,b2 = dynamicsymbols('b_1, b_2')\n",
    "\n",
    "# Extensão dos segmentos do braço robótico\n",
    "l0, l1, l2, l3 = dynamicsymbols('l0, l1, l2, l3')\n",
    "\n",
    "#Características inerciais\n",
    "m1, m2, m3, m4, mp = dynamicsymbols('m1, m2, m3, m4, mp')\n",
    "Ix1, Ix2, Ix3, Ix4, Ixp = dynamicsymbols('Ix1, Ix2, Ix3, Ix4, Ixp')\n",
    "Iy1, Iy2, Iy3, Iy4, Iyp = dynamicsymbols('Iy1, Iy2, Iy3, Iy4, Iyp')\n",
    "Iz1, Iz2, Iz3, Iz4, Izp = dynamicsymbols('Iz1, Iz2, Iz3, Iz4, Izp')\n",
    "\n",
    "# Ganho de atrito ?\n",
    "fs1, fs2, fs3, fs4, fs5 = dynamicsymbols('fs1, fs2, fs3, fs4, fs5')\n",
    "\n",
    "ang = Function(\"beta\")(t)\n",
    "# Variaveis no estado de equilibrio\n",
    "\n",
    "#estados\n",
    "theta10, theta20, theta30, theta40 = dynamicsymbols('theta_1_0, theta2_0, theta3_0, theta4_0')\n",
    "omega10, omega20, omega30, omega40 = dynamicsymbols('omega1_0, omega2_0, omega3_0, omega4_0')\n",
    "psi10, psi20, psi30, psi40 = dynamicsymbols('psi1_0, psi2_0, psi3_0, psi4_0')\n",
    "\n",
    "# comandos\n",
    "alpha10, alpha20= dynamicsymbols('alpha_1_0, alpha2_0')\n",
    "f10, f20= dynamicsymbols('F_10, F_20')\n",
    "\n",
    "# simplificacoes\n",
    "num1, num2, num3, num4 = dynamicsymbols('num1, num2, num3, num4')\n",
    "den1, den2, den3, den4 = dynamicsymbols('den1, den2, den3, den4')"
   ]
  },
  {
   "cell_type": "code",
   "execution_count": 6,
   "metadata": {
    "collapsed": true
   },
   "outputs": [],
   "source": [
    "# Criando a função de criação da matriz de transformação homogênea\n",
    "\n",
    "# Matriz Rotação da Transformação\n",
    "def rt_M(T):\n",
    "    M = T[0:3,0:3]\n",
    "    return M"
   ]
  },
  {
   "cell_type": "code",
   "execution_count": 7,
   "metadata": {
    "collapsed": true
   },
   "outputs": [],
   "source": [
    "# Matriz Rotação da Transformação\n",
    "def ch_M(T):\n",
    "    M=zeros(6)\n",
    "    M[0:3,0:3] = T[0:3,0:3]\n",
    "    M[3:6,3:6] = T[0:3,0:3]\n",
    "    return M"
   ]
  },
  {
   "cell_type": "code",
   "execution_count": 8,
   "metadata": {
    "collapsed": true
   },
   "outputs": [],
   "source": [
    "# Matriz da massa e inércia\n",
    "def mI_M(m,Ix,Iy,Iz):\n",
    "    M = diag(m, m, m, Ix, Iy, Iz)\n",
    "    return M"
   ]
  },
  {
   "cell_type": "code",
   "execution_count": 9,
   "metadata": {
    "collapsed": true
   },
   "outputs": [],
   "source": [
    "# Ponto de representação homogenea para dimensão 3\n",
    "def ph_2N(ph):\n",
    "    p = Matrix(ph[0:3])\n",
    "    return (p)"
   ]
  },
  {
   "cell_type": "code",
   "execution_count": 10,
   "metadata": {
    "collapsed": true
   },
   "outputs": [],
   "source": [
    "# Definindo a matriz jacobiana\n",
    "def Jc(j1,j2,j3,j4):\n",
    "    J = zeros(6,1)\n",
    "    J = J.col_insert(0,j1)\n",
    "    J = J.col_insert(1,j2)\n",
    "    J = J.col_insert(2,j3)\n",
    "    J = J.col_insert(3,j4)\n",
    "    J.col_del(4)\n",
    "    return J"
   ]
  },
  {
   "cell_type": "code",
   "execution_count": 11,
   "metadata": {
    "collapsed": true
   },
   "outputs": [],
   "source": [
    "# Definindo a nesima coluna da matriz jacobiana\n",
    "def Ji(m0,op,oi):\n",
    "    aux1 = m0*Matrix([0,0,1])\n",
    "    aux2 = aux1.cross(op-oi)\n",
    "    J = Matrix([aux2, aux1])\n",
    "    return J"
   ]
  },
  {
   "cell_type": "code",
   "execution_count": 12,
   "metadata": {
    "collapsed": true
   },
   "outputs": [],
   "source": [
    "# Definindo a nesima coluna da matriz jacobiana\n",
    "def JpTi(m0,op,Ti):\n",
    "    # Calculate the zi= i-1Mi.k\n",
    "    aux1 = m0*Matrix([0,0,1])\n",
    "    oi = Matrix([Ti[0:3,3]])\n",
    "    # Calculate the zi= i-1Mi.k\n",
    "    aux2 = aux1.cross(op-oi)\n",
    "    \n",
    "    J = Matrix([aux2, aux1])\n",
    "    return J"
   ]
  },
  {
   "cell_type": "code",
   "execution_count": 13,
   "metadata": {
    "collapsed": true
   },
   "outputs": [],
   "source": [
    "#  Matriz que vezes o q_i é igual o torsor cinemático que é na verdade uma linha do jacobiano cinemático\n",
    "def v_i(M0,Tp,Ti): \n",
    "    # Calculate the zi= i-1Mi.k\n",
    "    aux1 = M0*Matrix([0,0,1])\n",
    "\n",
    "    Op = Tp[0:3,3]\n",
    "    Oi = Ti[0:3,3]\n",
    "\n",
    "    # Cross Product  zi x (Op-Oi)\n",
    "    aux2 = (aux1.cross(Op-Oi))\n",
    "    \n",
    "    # for pivot joints\n",
    "    \n",
    "    v = Matrix([aux2, aux1])\n",
    "    return v "
   ]
  },
  {
   "cell_type": "code",
   "execution_count": 14,
   "metadata": {
    "collapsed": true
   },
   "outputs": [],
   "source": [
    "# Criando a função de criação da matriz de transformação homogênea\n",
    "# a partir dos parâmetros de Denavit-Hatemberg\n",
    "\n",
    "#cos = cos\n",
    "#sin = sin\n",
    "\n",
    "# Matriz Transformação Homogênea (Homogeous Transformation Matrix)\n",
    "# Using the Standard Denavit-Hatemberg Convention (not Modified)\n",
    "def ht_M(theta, d, alpha, a):\n",
    "    # theta e alpha em radianos\n",
    "    # d e a em metros\n",
    "    Rz = Matrix([[cos(theta), -sin(theta), 0, 0],\n",
    "                   [sin(theta), cos(theta), 0, 0],\n",
    "                   [0, 0, 1, 0],\n",
    "                   [0, 0, 0, 1]])\n",
    "    tz = Matrix([[1, 0, 0, 0],\n",
    "                   [0, 1, 0, 0],\n",
    "                   [0, 0, 1, a],\n",
    "                   [0, 0, 0, 1]])\n",
    "    ta = Matrix([[1, 0, 0, d],\n",
    "                   [0, 1, 0, 0],\n",
    "                   [0, 0, 1, 0],\n",
    "                   [0, 0, 0, 1]])\n",
    "    Rx = Matrix([[1, 0, 0, 0],\n",
    "                   [0, cos(alpha), -sin(alpha), 0],\n",
    "                   [0, sin(alpha), cos(alpha), 0],\n",
    "                   [0, 0, 0, 1]])\n",
    "    T = Rz*tz*ta*Rx\n",
    "    return T"
   ]
  },
  {
   "cell_type": "markdown",
   "metadata": {},
   "source": [
    "<h2> Declaração dos parâmetros de Denavit-Hatenberg </h2>\n",
    "<h2> Instanciação das matrizes de transformação homogêneas </h2>"
   ]
  },
  {
   "cell_type": "markdown",
   "metadata": {},
   "source": [
    "<div>\n",
    "<img src=\"img/modelo.png\" width=\"500\">\n",
    "</div>"
   ]
  },
  {
   "cell_type": "markdown",
   "metadata": {},
   "source": [
    "\n",
    "|  Elemento | $\\alpha_i$ |  $d_i$   | $\\theta_i$ |  $r_i$ |\n",
    "| -------- | -------- | --------| -------- | -------- | \n",
    "| $1$ | $\\frac{\\pi}{2}$   | 0     | $\\theta_1$ | $l_0$ |\n",
    "| $2$ | 0                 | $l_1$ | $\\theta_2$ | 0     |\n",
    "| $3$ | $- \\frac{\\pi}{2}$ | $l_2$ | $\\theta_3$ | 0     |\n",
    "| $4$ | 0                 | $l_3$ | $\\theta_4$ | 0     |"
   ]
  },
  {
   "cell_type": "markdown",
   "metadata": {},
   "source": [
    "<h2> Relação entre $R_4$ e $R_P$ </h2>"
   ]
  },
  {
   "cell_type": "markdown",
   "metadata": {},
   "source": [
    "<div>\n",
    "<img src=\"img/referencialterminal.png\" width=\"400\">\n",
    "</div>"
   ]
  },
  {
   "cell_type": "markdown",
   "metadata": {},
   "source": [
    "Em particular, a matriz de transformação de $R_p$ para $R_4$ representa somente uma rotação de $\\frac{\\pi}{2}$~rad em torno de $Y_{j4}$, isto é,\n",
    "\n",
    "\\begin{equation}\n",
    "    {}^{4}T_{P} = \\begin{bmatrix}\n",
    "    \\cos{\\frac{\\pi}{2}} & 0 & \\sin{\\frac{\\pi}{2}} & 0 \\\\\n",
    "    0 & 1 & 0 & 0\\\\\n",
    "    -\\sin{\\frac{\\pi}{2}} & 0 & \\cos{\\frac{\\pi}{2}} & 0 \\\\\n",
    "    0 & 0 & 0 & 1 \n",
    "    \\end{bmatrix}=\n",
    "    \\begin{bmatrix}\n",
    "    0 & 0 & 1 & 0 \\\\\n",
    "    0 & 1 & 0 & 0\\\\\n",
    "    -1 & 0 & 0 & 0 \\\\\n",
    "    0 & 0 & 0 & 1 \n",
    "    \\end{bmatrix}\n",
    "    \\label{eq:T_P_4}\n",
    "\\end{equation}\n",
    "\n",
    "\\begin{equation}\n",
    "{}^{0}T_{P} = {}^{0}T_{4}{}^{4}T_{P}\\label{eq:T_P_0} \n",
    "\\end{equation}\n",
    "\n",
    "A matriz ${}^{0}T_{P}$ define a rotação e a posição CG do bicóptero em relação ao referencial $R_0$."
   ]
  },
  {
   "cell_type": "code",
   "execution_count": 15,
   "metadata": {
    "collapsed": true
   },
   "outputs": [],
   "source": [
    "T1 = ht_M(theta1, 0, (pi)/2, l0)\n",
    "T2 = ht_M(theta2, l1, 0, 0)\n",
    "T3 = ht_M(theta3, l2, (-pi)/2, 0)\n",
    "T4 = ht_M(theta4, l3, 0, 0)\n",
    "ang=pi/2\n",
    "TP = Matrix([[cos(ang), 0, sin(ang), 0],[0, 1, 0, 0],[-sin(ang), 0, cos(ang), 0],[0, 0, 0, 1]])"
   ]
  },
  {
   "cell_type": "code",
   "execution_count": 16,
   "metadata": {
    "collapsed": true
   },
   "outputs": [],
   "source": [
    "#T1 \n",
    "#T2\n",
    "#T3\n",
    "#T4"
   ]
  },
  {
   "cell_type": "markdown",
   "metadata": {},
   "source": [
    "<h3> Simplificação da matriz T3 a partir da relação entre $\\theta_3$ e $\\theta_2$</h3>\n",
    "\n",
    "É importante ressaltar que há a seguinte relação algébrica entre $\\theta_3$ e $\\theta_2$:\n",
    "\n",
    "\\begin{equation}\n",
    "\\theta_3 = -\\dfrac{\\pi}{2} - \\theta_2\n",
    "\\label{eq:relacaotheta2theta3}\n",
    "\\end{equation}\n",
    "\n",
    "pois o elemento 2 está sempre alinhado com $Z_g$ devido à força peso.\n",
    "\n",
    "<div>\n",
    "<img src=\"img/relation_thetas.png\" width=\"400\">\n",
    "</div>"
   ]
  },
  {
   "cell_type": "code",
   "execution_count": 17,
   "metadata": {
    "collapsed": true
   },
   "outputs": [
    {
     "data": {
      "text/latex": [
       "$\\displaystyle \\left[\\begin{matrix}\\operatorname{cos}\\left(\\theta_{3}\\right) & 0 & - \\operatorname{sin}\\left(\\theta_{3}\\right) & l_{2} \\operatorname{cos}\\left(\\theta_{3}\\right)\\\\\\operatorname{sin}\\left(\\theta_{3}\\right) & 0 & \\operatorname{cos}\\left(\\theta_{3}\\right) & l_{2} \\operatorname{sin}\\left(\\theta_{3}\\right)\\\\0 & -1 & 0 & 0\\\\0 & 0 & 0 & 1\\end{matrix}\\right]$"
      ],
      "text/plain": [
       "Matrix([\n",
       "[cos(theta3),  0, -sin(theta3), l2*cos(theta3)],\n",
       "[sin(theta3),  0,  cos(theta3), l2*sin(theta3)],\n",
       "[          0, -1,            0,              0],\n",
       "[          0,  0,            0,              1]])"
      ]
     },
     "execution_count": 17,
     "metadata": {},
     "output_type": "execute_result"
    }
   ],
   "source": [
    "T3"
   ]
  },
  {
   "cell_type": "code",
   "execution_count": 18,
   "metadata": {
    "collapsed": true
   },
   "outputs": [],
   "source": [
    "T3=T3.subs(theta3,(-pi/2-theta2))"
   ]
  },
  {
   "cell_type": "code",
   "execution_count": 19,
   "metadata": {
    "collapsed": true
   },
   "outputs": [
    {
     "data": {
      "text/latex": [
       "$\\displaystyle \\left[\\begin{matrix}- \\operatorname{sin}\\left(\\theta_{2}\\right) & 0 & \\operatorname{cos}\\left(\\theta_{2}\\right) & - l_{2} \\operatorname{sin}\\left(\\theta_{2}\\right)\\\\- \\operatorname{cos}\\left(\\theta_{2}\\right) & 0 & - \\operatorname{sin}\\left(\\theta_{2}\\right) & - l_{2} \\operatorname{cos}\\left(\\theta_{2}\\right)\\\\0 & -1 & 0 & 0\\\\0 & 0 & 0 & 1\\end{matrix}\\right]$"
      ],
      "text/plain": [
       "Matrix([\n",
       "[-sin(theta2),  0,  cos(theta2), -l2*sin(theta2)],\n",
       "[-cos(theta2),  0, -sin(theta2), -l2*cos(theta2)],\n",
       "[           0, -1,            0,               0],\n",
       "[           0,  0,            0,               1]])"
      ]
     },
     "execution_count": 19,
     "metadata": {},
     "output_type": "execute_result"
    }
   ],
   "source": [
    "T3"
   ]
  },
  {
   "cell_type": "markdown",
   "metadata": {},
   "source": [
    "<h2> Instanciação das matrizes de transformação homogêneas em relação ao referencial 0 </h2>"
   ]
  },
  {
   "cell_type": "code",
   "execution_count": 20,
   "metadata": {
    "collapsed": true
   },
   "outputs": [],
   "source": [
    "T01=T1\n",
    "T02=T01*T2\n",
    "T02=trigsimp(T02)\n",
    "T03=T02*T3\n",
    "T03=trigsimp(T03)\n",
    "T04=T03*T4\n",
    "T0P=T04*TP"
   ]
  },
  {
   "cell_type": "code",
   "execution_count": 21,
   "metadata": {
    "collapsed": true
   },
   "outputs": [],
   "source": [
    "#(T01)\n",
    "#(T03)\n",
    "#(T04)"
   ]
  },
  {
   "cell_type": "markdown",
   "metadata": {},
   "source": [
    "<h1> Definição das variáveis articulares </h1>\n",
    "\\begin{align}\n",
    "    q &= \\begin{bmatrix}\n",
    "    \\theta_1 \\\\\n",
    "    \\theta_2 \\\\\n",
    "    \\theta_3 \\\\\n",
    "    \\theta_4\n",
    "    \\end{bmatrix}\\label{eq:q} &\n",
    "    \\dot{q} &= \\begin{bmatrix}\n",
    "    \\dot{\\theta_1} \\\\\n",
    "    \\dot{\\theta_2} \\\\\n",
    "    \\dot{\\theta_3} \\\\\n",
    "    \\dot{\\theta_4}\\end{bmatrix}\\label{eq:qdot} &\n",
    "    \\ddot{q} &= \\begin{bmatrix}\n",
    "    \\ddot{\\theta_1} \\\\\n",
    "    \\ddot{\\theta_2} \\\\\n",
    "    \\ddot{\\theta_3} \\\\\n",
    "    \\ddot{\\theta_4}\\end{bmatrix}\\label{eq:qddot}\n",
    "\\end{align}"
   ]
  },
  {
   "cell_type": "code",
   "execution_count": 22,
   "metadata": {
    "collapsed": true
   },
   "outputs": [],
   "source": [
    "q=Matrix([theta1,theta2,theta3,theta4])\n",
    "q_dot= diff(q,t)\n",
    "q_ddot= diff(q_dot,t)"
   ]
  },
  {
   "cell_type": "markdown",
   "metadata": {},
   "source": [
    "<h2> Criação das matrizes Jacobianas cinemáticas</h2>\n",
    "\n",
    "Ao contrário do modelo geométrico que corresponde à uma relação não linear entre \\textbf{x} e \\textbf{q}, o modelo cinemático corresponde a uma relação linear entre $\\dot{x}$ e $\\dot{q}$. O modelo cinemático pode ser escrito da seguinte maneira:\n",
    "\n",
    "\\begin{equation}\n",
    "    \\dot{x}=J(q) \\cdot \\dot{q}\n",
    "\\end{equation}\n",
    "\n",
    "A matriz J(q) é nomeada matriz jacobiana ou simplesmente a jacobiana do robô. Esta matriz é de dimensão ($d\\times n$), onde $d$ é o número de graus de liberdade do robô (no máximo $d=6$) e $n$ o número de eixos.\n",
    "\n",
    "Por convenção, as matrizes jacobianas apresentadas neste documento serão sempre expressas no referencial $R_0$.\n",
    "\n",
    "No caso do braço robótico da bancada por ser constituído apenas por juntas de revolução, a  coluna  i  da  Matriz Jacobiano do manipulador  é  dada  pela  seguinte  expressão, considerando ainda n índice referente ao referencial do efetuador:\n",
    "\n",
    "\\begin{equation}\n",
    "    \\textbf{J}_i=\n",
    "    \\begin{bmatrix}\n",
    "    z_{i-1}\\times \\overrightarrow{O_{i-1}O_n} \\\\\n",
    "    z_{i-1}\n",
    "    \\end{bmatrix}\n",
    "    \\label{eq:jc}\n",
    "\\end{equation}\n",
    "\n",
    "De maneira mais objetiva $z_{j}$ corresponde ao vetor formado pelas três primeiros elementos da terceira coluna da matriz transformação homogênea ${}^{0}T_{j}$. E $O_j$ corresponde aos três primeiros elementos da quarta coluna de ${}^{0}T_{j}$. Assim, em nosso caso faz-se necessário apenas o cálculo das matrizes ${}^{0}T_{j}$, j=1,2,3,4 para se calcular a matriz jacobiana cinemática do efetuador (órgão final)."
   ]
  },
  {
   "cell_type": "code",
   "execution_count": 23,
   "metadata": {
    "collapsed": true
   },
   "outputs": [],
   "source": [
    "# Criação dos pontos origens em relaçao ao referencial R_0 pertencente ao dominio R^1x4\n",
    "og1=ph_2N(T01*Matrix([0,0,0,1]))\n",
    "og2=ph_2N(T02*Matrix([0,0,0,1]))\n",
    "og3=ph_2N(T03*Matrix([0,0,0,1]))\n",
    "og4=ph_2N(T04*Matrix([0,0,0,1]))\n",
    "ogp=ph_2N(T0P*Matrix([0,0,0,1]))\n",
    "# para checar o ponto ogp.subs({theta1:0,theta2:0})"
   ]
  },
  {
   "cell_type": "code",
   "execution_count": 24,
   "metadata": {
    "collapsed": true
   },
   "outputs": [],
   "source": [
    "# Calculo do Jc[1] que é o jacobiano referente ponto centro de gravidade g1\n",
    "null=Matrix([0,0,0,0,0,0])\n",
    "J1 = Ji(eye(3),og1, Matrix([0,0,0])) \n",
    "Jc1 = Jc(J1,null,null,null)\n",
    "# Calculo do Jc[2] que é o jacobiano referente ponto centro de gravidade g2\n",
    "J1 = Ji(eye(3),og2, Matrix([0,0,0])) \n",
    "J2 = Ji(rt_M(T01),og2, Matrix([0,0,0])) \n",
    "Jc2 = trigsimp(Jc(J1,J2,null,null))\n",
    "# Calculo do Jc[3] que é o jacobiano referente ponto centro de gravidade g3\n",
    "J1 = Ji(eye(3),og3, Matrix([0,0,0])) \n",
    "J2 = Ji(rt_M(T01),og3, Matrix([0,0,0]))\n",
    "J3 = JpTi(rt_M(T02),og3,T02) \n",
    "Jc3 = trigsimp(Jc(J1,J2,J3,null))\n",
    "# Calculo do Jc[4] que é o jacobiano referente ponto centro de gravidade g4\n",
    "J1 = Ji(eye(3),og4, Matrix([0,0,0])) \n",
    "J2 = trigsimp(JpTi(rt_M(T01),og4, T01))\n",
    "J3 = JpTi(rt_M(T02),og4,T02) \n",
    "J4 = JpTi(rt_M(T03),og4,T03)\n",
    "Jc4 = trigsimp(Jc(J1,J2,J3,J4))"
   ]
  },
  {
   "cell_type": "code",
   "execution_count": 25,
   "metadata": {
    "collapsed": true
   },
   "outputs": [
    {
     "data": {
      "text/latex": [
       "$\\displaystyle \\left[\\begin{matrix}- l_{1} \\operatorname{sin}\\left(\\theta_{1}\\right) \\operatorname{cos}\\left(\\theta_{2}\\right) - l_{3} \\operatorname{sin}\\left(\\theta_{4}\\right) \\operatorname{cos}\\left(\\theta_{1}\\right) & - \\left(l_{1} \\operatorname{sin}\\left(\\theta_{2}\\right) - l_{2} - l_{3} \\operatorname{cos}\\left(\\theta_{4}\\right)\\right) \\operatorname{cos}\\left(\\theta_{1}\\right) & - \\left(- l_{2} - l_{3} \\operatorname{cos}\\left(\\theta_{4}\\right)\\right) \\operatorname{cos}\\left(\\theta_{1}\\right) & - l_{3} \\operatorname{sin}\\left(\\theta_{1}\\right) \\operatorname{cos}\\left(\\theta_{4}\\right)\\\\l_{1} \\operatorname{cos}\\left(\\theta_{1}\\right) \\operatorname{cos}\\left(\\theta_{2}\\right) - l_{3} \\operatorname{sin}\\left(\\theta_{1}\\right) \\operatorname{sin}\\left(\\theta_{4}\\right) & - \\left(l_{1} \\operatorname{sin}\\left(\\theta_{2}\\right) - l_{2} - l_{3} \\operatorname{cos}\\left(\\theta_{4}\\right)\\right) \\operatorname{sin}\\left(\\theta_{1}\\right) & - \\left(- l_{2} - l_{3} \\operatorname{cos}\\left(\\theta_{4}\\right)\\right) \\operatorname{sin}\\left(\\theta_{1}\\right) & l_{3} \\operatorname{cos}\\left(\\theta_{1}\\right) \\operatorname{cos}\\left(\\theta_{4}\\right)\\\\0 & l_{1} \\operatorname{cos}\\left(\\theta_{2}\\right) & 0 & l_{3} \\operatorname{sin}^{2}\\left(\\theta_{1}\\right) \\operatorname{sin}\\left(\\theta_{4}\\right) + l_{3} \\operatorname{sin}\\left(\\theta_{4}\\right) \\operatorname{cos}^{2}\\left(\\theta_{1}\\right)\\\\0 & \\operatorname{sin}\\left(\\theta_{1}\\right) & \\operatorname{sin}\\left(\\theta_{1}\\right) & \\operatorname{cos}\\left(\\theta_{1}\\right)\\\\0 & - \\operatorname{cos}\\left(\\theta_{1}\\right) & - \\operatorname{cos}\\left(\\theta_{1}\\right) & \\operatorname{sin}\\left(\\theta_{1}\\right)\\\\1 & 0 & 0 & 0\\end{matrix}\\right]$"
      ],
      "text/plain": [
       "Matrix([\n",
       "[-l1*sin(theta1)*cos(theta2) - l3*sin(theta4)*cos(theta1), -(l1*sin(theta2) - l2 - l3*cos(theta4))*cos(theta1), -(-l2 - l3*cos(theta4))*cos(theta1),                                   -l3*sin(theta1)*cos(theta4)],\n",
       "[ l1*cos(theta1)*cos(theta2) - l3*sin(theta1)*sin(theta4), -(l1*sin(theta2) - l2 - l3*cos(theta4))*sin(theta1), -(-l2 - l3*cos(theta4))*sin(theta1),                                    l3*cos(theta1)*cos(theta4)],\n",
       "[                                                       0,                                      l1*cos(theta2),                                   0, l3*sin(theta1)**2*sin(theta4) + l3*sin(theta4)*cos(theta1)**2],\n",
       "[                                                       0,                                         sin(theta1),                         sin(theta1),                                                   cos(theta1)],\n",
       "[                                                       0,                                        -cos(theta1),                        -cos(theta1),                                                   sin(theta1)],\n",
       "[                                                       1,                                                   0,                                   0,                                                             0]])"
      ]
     },
     "execution_count": 25,
     "metadata": {},
     "output_type": "execute_result"
    }
   ],
   "source": [
    "# Calculo do J\n",
    "J = Jc(J1,J2,J3,J4)\n",
    "J"
   ]
  },
  {
   "cell_type": "markdown",
   "metadata": {},
   "source": [
    "<h1> Calculo da matriz jacobiana cinemática a partir do torsor cinematico</h1>\n",
    "\n",
    "Outra maneira de calcular a matriz jacobiana cinemática é por meio do torsor cinemático.\n",
    "\n",
    "O torsor cinemático é o vetor das velocidades lineares e angulares concatenados \n",
    "\n",
    "$\\begin{equation}\n",
    "{}^{i-1}V_{i/i-1}(P)=\\begin{bmatrix}\n",
    "v_x\\\\\n",
    "v_y\\\\\n",
    "v_z\\\\\n",
    "w_x\\\\\n",
    "w_y\\\\\n",
    "w_z\n",
    "\\end{bmatrix}\n",
    "\\end{equation}$\n",
    "\n",
    "Para a junta de revolução tem-se\n",
    "\n",
    "$\\begin{equation}\n",
    "{}^{i-1}V_{i/i-1}(P)\n",
    "=\\begin{bmatrix} \\vec{z_i}\\cdot{}^{i-1}M_i\\overrightarrow{O_iP_{/R_i}}\n",
    "\\\\\\vec{z_i}\\end{bmatrix}\n",
    "\\vec{q}_i\n",
    "\\end{equation}$\n",
    "\n",
    "em que \n",
    "$\\begin{equation}\n",
    "\\begin{bmatrix} \\vec{z_i}\\cdot{}^{i-1}M_i\\overrightarrow{O_iP_{/R_i}}\n",
    "\\\\\\vec{z_i}\\end{bmatrix}\n",
    "\\end{equation}$ chamada abaixo de $v_i$ representa uma coluna da matriz jacobiana"
   ]
  },
  {
   "cell_type": "code",
   "execution_count": 26,
   "metadata": {
    "collapsed": true
   },
   "outputs": [],
   "source": [
    "J1 = v_i(eye(3), T0P, zeros(4,4))\n",
    "\n",
    "J2 = trigsimp(v_i(rt_M(T01), T0P, T01))\n",
    "\n",
    "J3 = v_i(rt_M(T02),T0P,T02)\n",
    "\n",
    "JP = v_i(rt_M(T03),T0P,T03)\n",
    "\n",
    "JcPP = Jc(J1,J2,J3,JP)\n",
    "\n",
    "# Se quiser calcular a velocidade a partir das velocidades das juntas\n",
    "#v = (JcP4*Matrix([0,1,-1,0])).subs({theta1: 0, theta2:0,theta4: 0})"
   ]
  },
  {
   "cell_type": "code",
   "execution_count": 27,
   "metadata": {
    "collapsed": true
   },
   "outputs": [
    {
     "data": {
      "text/latex": [
       "$\\displaystyle \\left[\\begin{matrix}0 & 0 & 0 & 0\\\\0 & 0 & 0 & 0\\\\0 & 0 & 0 & 0\\\\0 & 0 & 0 & 0\\\\0 & 0 & 0 & 0\\\\0 & 0 & 0 & 0\\end{matrix}\\right]$"
      ],
      "text/plain": [
       "Matrix([\n",
       "[0, 0, 0, 0],\n",
       "[0, 0, 0, 0],\n",
       "[0, 0, 0, 0],\n",
       "[0, 0, 0, 0],\n",
       "[0, 0, 0, 0],\n",
       "[0, 0, 0, 0]])"
      ]
     },
     "execution_count": 27,
     "metadata": {},
     "output_type": "execute_result"
    }
   ],
   "source": [
    "J-JcPP #São iguais os dois jeitos graças a Deus"
   ]
  },
  {
   "cell_type": "markdown",
   "metadata": {},
   "source": [
    "<h2> Calculo da Energia Cinética </h2>\n",
    "\n",
    "\\begin{equation}\n",
    "    \\mathcal{K}  = \\frac{1}{2}\\dot{\\textbf{q}}^T\\textbf{D}(\\textbf{q})\\dot{\\textbf{q}}\n",
    "    \\label{eq:kineticEnergy_sum_concise}\n",
    "\\end{equation}\n",
    "\n",
    "Sendo $\\textbf{D}(\\textbf{q})=\\sum_{i=1}^n\\textbf{D}_i(\\textbf{q})$.\n"
   ]
  },
  {
   "cell_type": "markdown",
   "metadata": {},
   "source": [
    "<h3> Criação das matrizes de Inércia</h3>"
   ]
  },
  {
   "cell_type": "code",
   "execution_count": 28,
   "metadata": {
    "collapsed": true
   },
   "outputs": [],
   "source": [
    "# a massa 4 diz respeito ao conjunto junta de theta4 e bicoptero\n",
    "mI_1 = mI_M(m1,Ix1,Iy1,Iz1)\n",
    "mI_2 = mI_M(m2,Ix2,Iy2,Iz2)\n",
    "mI_3 = mI_M(m3,Ix3,Iy3,Iz3)\n",
    "mI_4 = mI_M(m4,Ix4,Iy4,Iz4)\n",
    "#mI_4"
   ]
  },
  {
   "cell_type": "markdown",
   "metadata": {},
   "source": [
    "<h3> Criação de $D(q)$</h3>"
   ]
  },
  {
   "cell_type": "code",
   "execution_count": 29,
   "metadata": {
    "collapsed": true
   },
   "outputs": [],
   "source": [
    "# Build the Di matriz\n",
    "def Di_M(Jc_gi,mI):\n",
    "    M = (Jc_gi.T)*mI*Jc_gi;\n",
    "    return M"
   ]
  },
  {
   "cell_type": "code",
   "execution_count": 30,
   "metadata": {
    "collapsed": true
   },
   "outputs": [],
   "source": [
    "D1 = Di_M(Jc1,mI_1)\n",
    "D2 = trigsimp(Di_M(Jc2,mI_2))\n",
    "D3 = trigsimp(Di_M(Jc3,mI_3))\n",
    "D4 = trigsimp(Di_M(Jc4,mI_4))\n",
    "Dtotal = D1+D2+D3+D4"
   ]
  },
  {
   "cell_type": "code",
   "execution_count": 31,
   "metadata": {
    "collapsed": true
   },
   "outputs": [],
   "source": [
    "#Dtotal"
   ]
  },
  {
   "cell_type": "code",
   "execution_count": 32,
   "metadata": {
    "collapsed": true
   },
   "outputs": [],
   "source": [
    "K = 1/2* q_dot.T * Dtotal * q_dot"
   ]
  },
  {
   "cell_type": "markdown",
   "metadata": {},
   "source": [
    "<h2> Calculo da Energia Potencial</h2>\n",
    "\n",
    "A energia potencial do segmento i é definida por:\n",
    "\n",
    "\\begin{equation}\n",
    "    \\mathcal{P}_i = m_i g \\vec{z}_0 \\cdot \\overrightarrow{O_0G_i}(q)_{/R_0} = m_i g z_{G_i/R_0}\n",
    "    \\label{eq:PotencialEnergy}\n",
    "\\end{equation}\n",
    "\n",
    "em que $m_i$ e $G_i$ são a massa e o centro de gravidade do $i$-ésimo segmento, $g$ a constante universal da gravitação .\n",
    "\n",
    "A energia total do robô pode ser escrita por:\n",
    "\n",
    "\\begin{equation}\n",
    "    \\mathcal{P}(q) = \\sum_{i=1}^n \\mathcal{P}_i(q)\n",
    "    \\label{eq:PotencialEnergy_sum}\n",
    "\\end{equation}\n"
   ]
  },
  {
   "cell_type": "code",
   "execution_count": 33,
   "metadata": {
    "collapsed": true
   },
   "outputs": [],
   "source": [
    "# definindo os vetores até os centro de gravidade como vetores de \\mathbb{R}^4 \n",
    "og1=T01*Matrix([0,0,0,1])\n",
    "og2=T02*Matrix([0,0,0,1])\n",
    "og3=T03*Matrix([0,0,0,1])\n",
    "ogp=T0P*Matrix([0,0,0,1])"
   ]
  },
  {
   "cell_type": "code",
   "execution_count": 34,
   "metadata": {
    "collapsed": true
   },
   "outputs": [],
   "source": [
    "# ogp= og4\n",
    "P1 = m1* g * Matrix([0,0,1,0]).T * og1\n",
    "P2 = m2* g * Matrix([0,0,1,0]).T * og2\n",
    "P3 = m3* g * Matrix([0,0,1,0]).T * og3\n",
    "P4 = m4* g * Matrix([0,0,1,0]).T * ogp"
   ]
  },
  {
   "cell_type": "code",
   "execution_count": 35,
   "metadata": {
    "collapsed": true
   },
   "outputs": [],
   "source": [
    "Ptotal = P1+ P2 + P3 + P4\n",
    "#Ptotal"
   ]
  },
  {
   "cell_type": "markdown",
   "metadata": {},
   "source": [
    "<h2> Calculo do Lagrangiano </h2>\n",
    "\n",
    "Após estabelecer as energias cinéticas e potenciais do robô, pode-se definir o Lagrangiano:\n",
    "\n",
    "\\begin{equation}\n",
    "    \\mathcal{L}  = \\mathcal{K} - \\mathcal{P}(\\textbf{q})\n",
    "    \\label{eq:Lagrangiano_f}\n",
    "\\end{equation}\n"
   ]
  },
  {
   "cell_type": "code",
   "execution_count": 36,
   "metadata": {
    "collapsed": true
   },
   "outputs": [],
   "source": [
    "L= K-Ptotal"
   ]
  },
  {
   "cell_type": "markdown",
   "metadata": {},
   "source": [
    "<h2> Calculo dos termos da equaçoes de Euler Lagrange </h2>\n",
    "\n",
    "A partir da formulação das equações de Euler-Lagrange o modelo dinâmico de braço robóticos é definido por \n",
    "\n",
    "\\begin{equation}\n",
    "     D(q)\\ddot{q}+C(q,\\ddot{q})+G(q)=\\Gamma\n",
    "     \\label{eq:EulerLagrange}\n",
    "\\end{equation} \n",
    "\n",
    "em que o termo $D(q)\\ddot{q}$ designa as contribuições inerciais, $C(q,\\dot{q})$ corresponde as contribuições centrífugas e de Coriolis, $G(q)$ representa as contribuições da gravidade, $\\Gamma$ diz respeito aos esforços articulares e $q$, $\\dot{q}$ e $\\ddot{q}$ são as posições, velocidades  e as acelerações das juntas que compõem o conjunto, respectivamente.\n",
    "\n",
    "Matematicamente o termo $D(q)$ é definido por\n",
    "\n",
    "\\begin{equation}\n",
    "    D(q)= \\sum_{i=1}^4[J_i(G_i,q)]^T\\cdot\\begin{bmatrix}\n",
    "    m_i & 0 & 0 & \\emptyset_{1x3}\\\\\n",
    "    0 & m_i & 0 & \\emptyset_{1x3}\\\\\n",
    "    0 & 0 & m_i & \\emptyset_{1x3}\\\\\n",
    "    \\emptyset_{3x3} & \\emptyset_{3x3} & \\emptyset_{3x3} & \\bar{I}_i\n",
    "    \\end{bmatrix}\\cdot J_i(G_i,q)\n",
    "     \\label{eq:D_euler_lagrange}\n",
    "\\end{equation}\n",
    "\n",
    "sendo que $G_i$ o centro de gravidade do elemento $i$, $\\emptyset_{3x3}$ uma matriz de zeros, $\\emptyset_{1x3}$ um vetor linha de zeros, $\\bar{I}_i$ a matriz de inércia em $G_i$ e $J_i(G_i,q)$ a i-ésima coluna da matriz jacobiana cinemática do centro de gravidade do i-ésimo elemento. \n",
    "\n",
    "Como todas as juntas que compõem o conjunto braço robótico-bicóptero são de revolução, então $J_i(G_i,q)$ \\cite{Park2017} vale \n",
    "\n",
    "\\begin{equation}\n",
    "    J_i(G_i)=\n",
    "    \\begin{bmatrix}\n",
    "    z_{i-1}\\times \\overrightarrow{O_{i-1} O_{G_i}}\\\\\n",
    "    z_{i-1}\n",
    "    \\end{bmatrix}\n",
    "    \\label{eq:jicgi}\n",
    "\\end{equation}\n",
    "\n",
    "O termo $C(q,\\dot{q})$ é definido por\n",
    "\n",
    "\\begin{equation}\n",
    "     C(q, \\dot{q})=\\left( \\sum_{k=1}^4 \\frac{\\partial D(q) }{\\partial q_k}\\dot{q}_k \\right) \\dot{q} - \\begin{bmatrix}\n",
    "    \\frac{1}{2}\\dot{q}^T\\frac{\\partial D(q)}{\\partial q_1\\dot{q}}\\\\\n",
    "    \\vdots\\\\\n",
    "    \\frac{1}{2}\\dot{q}^T\\frac{\\partial D(q)}{\\partial q_4\\dot{q}}\n",
    "    \\end{bmatrix}\n",
    "    \\label{eq:C_euler_lagrange}\n",
    "\\end{equation}\n",
    "\n",
    "E o termo $G(q)$ vale\n",
    "\n",
    "\\begin{equation}\n",
    "    G(q)= \\sum_{i=1}^4 m_i g  \\begin{bmatrix}\n",
    "    \\frac{\\partial zG_{i/R0}}{\\partial q_1}\\\\\n",
    "    \\vdots\\\\\n",
    "     \\frac{\\partial zG_{i/R0}}{\\partial q_4}\n",
    "    \\end{bmatrix}\n",
    "    \\label{eq:Q_euler_lagrange}\n",
    "\\end{equation}\n"
   ]
  },
  {
   "cell_type": "code",
   "execution_count": 37,
   "metadata": {
    "collapsed": true
   },
   "outputs": [],
   "source": [
    "# Termo D(q) contribuicao inercial vale D_total ja calculado precedemente\n",
    "#Dtotal\n",
    "#q[1]\n",
    "#diff(Dtotal,q[1])*q_dot[1]"
   ]
  },
  {
   "cell_type": "markdown",
   "metadata": {},
   "source": [
    "<h3> Criação de $C(q)$</h3>"
   ]
  },
  {
   "cell_type": "code",
   "execution_count": 38,
   "metadata": {
    "collapsed": true
   },
   "outputs": [],
   "source": [
    "def C_t(q,q_dot,D_total):\n",
    "    C_1 = zeros(4,4)\n",
    "    C_2 = zeros(4,1)\n",
    "\n",
    "    for n in range(4):\n",
    "        # Part 1 = dD(q)/dt = sum (partial D(q)/partial qi)q_dot\n",
    "        C_1= C_1 + (diff(D_total,q[n])*q_dot[n])\n",
    "\n",
    "    C_1 = C_1*q_dot\n",
    "\n",
    "    for n in range(4):\n",
    "        # Part 2 = column matrix (1/2)*(q_dot)^T.(partial D(q)/partial qi).q_do\n",
    "        C_2[n] = (1/2)*((q_dot.T)*diff(D_total,q[n])*q_dot)\n",
    "\n",
    "    C = C_1 - C_2;\n",
    "    return C"
   ]
  },
  {
   "cell_type": "code",
   "execution_count": 39,
   "metadata": {
    "collapsed": true
   },
   "outputs": [],
   "source": [
    "# Termo C(q,qdot) contribuicao inercial\n",
    "Ctotal = C_t(q, q_dot, Dtotal)\n",
    "#Ctotal"
   ]
  },
  {
   "cell_type": "markdown",
   "metadata": {},
   "source": [
    "<h3> Criação de $G(q)$</h3>"
   ]
  },
  {
   "cell_type": "code",
   "execution_count": 40,
   "metadata": {
    "collapsed": true
   },
   "outputs": [],
   "source": [
    "def G_t(q,P_total):\n",
    "    G = zeros(4,1)\n",
    "    for n in range(4):\n",
    "        G[n] = diff(P_total,q[n])\n",
    "    return G"
   ]
  },
  {
   "cell_type": "code",
   "execution_count": 41,
   "metadata": {
    "collapsed": true
   },
   "outputs": [
    {
     "data": {
      "text/latex": [
       "$\\displaystyle \\left[\\begin{matrix}0\\\\g l_{1} m_{2} \\operatorname{cos}\\left(\\theta_{2}\\right) + g l_{1} m_{3} \\operatorname{cos}\\left(\\theta_{2}\\right) + g l_{1} m_{4} \\operatorname{cos}\\left(\\theta_{2}\\right)\\\\0\\\\g l_{3} m_{4} \\operatorname{sin}\\left(\\theta_{4}\\right)\\end{matrix}\\right]$"
      ],
      "text/plain": [
       "Matrix([\n",
       "[                                                              0],\n",
       "[g*l1*m2*cos(theta2) + g*l1*m3*cos(theta2) + g*l1*m4*cos(theta2)],\n",
       "[                                                              0],\n",
       "[                                            g*l3*m4*sin(theta4)]])"
      ]
     },
     "execution_count": 41,
     "metadata": {},
     "output_type": "execute_result"
    }
   ],
   "source": [
    "# Termo G(q)  vale as contribuicoes da gravidade \n",
    "Gtotal = G_t(q,Ptotal)\n",
    "Gtotal"
   ]
  },
  {
   "cell_type": "markdown",
   "metadata": {},
   "source": [
    "O termo $\\Gamma$ é vetor resultante da interação entre os momentos dos acionadores do braço robótico $\\Gamma_m$, do contrapeso $\\Gamma_c$, dos atritos rotacionais e da forças aplicadas sobre o ambiente $\\Gamma_e$.  Isto é,\n",
    "\n",
    "\\begin{equation}\n",
    "    \\Gamma = \\Gamma_m + \\Gamma_c - \\Gamma_e -\\Gamma_f\n",
    "    \\label{eq:Robot_Efforts}\n",
    "\\end{equation}\n",
    "\n",
    "o do sistema construído, não há acionadores nas juntas do braço da base. Logo, $\\Gamma_m = \\emptyset_{4\\times6}$."
   ]
  },
  {
   "cell_type": "markdown",
   "metadata": {},
   "source": [
    "<h1> Esforços devido ao atrito viscoso $\\Gamma_f$ </h1>\n",
    "\n",
    "Os coeficientes de atrito viscoso em torno dos ângulos de rotação $\\theta_2$ e $\\theta_4$ foram determinados seguindo o procedimento descrito no Apêndice.  Já o atrito em torno de $\\theta_1$ foi desconsiderado, pois não foi viável determiná-lo experimentalmente de forma segura. Logo $\\Gamma_f$ é descrito por\n",
    "\n",
    "\\begin{equation}\n",
    "    \\Gamma_f= \\begin{bmatrix}\n",
    "    0\\\\\n",
    "    f_{s_2}\\dot{\\theta}_2\\\\\n",
    "    0\\\\\n",
    "    f_{s_4}\\dot{\\theta}_4\n",
    "    \\end{bmatrix}\n",
    "    \\label{eq:gamma_f}\n",
    "\\end{equation}\n",
    "\n"
   ]
  },
  {
   "cell_type": "code",
   "execution_count": 42,
   "metadata": {
    "collapsed": true
   },
   "outputs": [
    {
     "data": {
      "text/latex": [
       "$\\displaystyle \\left[\\begin{matrix}0\\\\fs_{2} \\dot{\\theta}_{2}\\\\0\\\\fs_{4} \\dot{\\theta}_{4}\\end{matrix}\\right]$"
      ],
      "text/plain": [
       "Matrix([\n",
       "[          0],\n",
       "[fs2*theta2'],\n",
       "[          0],\n",
       "[fs4*theta4']])"
      ]
     },
     "execution_count": 42,
     "metadata": {},
     "output_type": "execute_result"
    }
   ],
   "source": [
    "Gamma_f = diag(fs1, fs2, fs3, fs4)*q_dot\n",
    "Gamma_f = Gamma_f.subs({fs1:0,fs3:0})\n",
    "Gamma_f"
   ]
  },
  {
   "cell_type": "markdown",
   "metadata": {},
   "source": [
    "<h1> Esforços realizados pelo contrapeso $\\Gamma_c$ </h1>\n",
    "\n",
    "\n",
    "Os esforços realizados pelo contrapeso $\\Gamma_c$ em um braço robótico constituído por $n$ elementos pode ser calculado da seguinte maneira:\n",
    "\n",
    "\\begin{equation}\n",
    "    \\Gamma_c=\\sum^n_{i=1}\\Gamma_m,i=\\begin{bmatrix} \n",
    "    m_1g\\frac{\\partial zG_{1/R0}}{\\partial q_1} & + & m_2g\\frac{\\partial zG_{2/R0}}{\\partial q_1} & + & ... & + & m_ng\\frac{\\partial zG_{n/R0}}{\\partial q_1}\\\\\n",
    "    & & m_2g\\frac{\\partial zG_{2/R0}}{\\partial q_2} & + & ... & + & m_ng\\frac{\\partial zG_{n/R0}}{\\partial q_2}\\\\\n",
    "    & & & & & \\ddots & \\vdots\\\\\n",
    "    & & & & & & m_ng\\frac{\\partial zG_{n/R0}}{\\partial q_n}\n",
    "     \\end{bmatrix}\n",
    "    \\label{eq:tensorpesanteur_formula}\n",
    "\\end{equation}\n",
    "\n",
    "\n",
    "Para o conjunto do braço robótico-bicóptero o contrapeso é apenas utilizado para contrabalancear os esforços devido as forças peso dos elementos do braço robótico, isto é até o elemento 3, e não ao esforço devido a força peso do bicóptero, sendo assim:\n",
    "\n",
    "\\begin{equation}\n",
    "    \\Gamma_c= \\sum^3_{i=1}\\Gamma_m,i = \\begin{bmatrix} \n",
    "    0\\\\\n",
    "    gl_1m_2c(\\theta_2)+gl_1m_3c(\\theta_2)\\\\\n",
    "    0\\\\\n",
    "    0\n",
    "    \\end{bmatrix}\n",
    "    \\label{eq:tensorpesanteur_final}\n",
    "\\end{equation}"
   ]
  },
  {
   "cell_type": "code",
   "execution_count": 43,
   "metadata": {
    "collapsed": true
   },
   "outputs": [
    {
     "data": {
      "text/latex": [
       "$\\displaystyle \\left[\\begin{matrix}0\\\\g l_{1} m_{2} \\operatorname{cos}\\left(\\theta_{2}\\right) + g l_{1} m_{3} \\operatorname{cos}\\left(\\theta_{2}\\right)\\\\0\\\\0\\end{matrix}\\right]$"
      ],
      "text/plain": [
       "Matrix([\n",
       "[                                        0],\n",
       "[g*l1*m2*cos(theta2) + g*l1*m3*cos(theta2)],\n",
       "[                                        0],\n",
       "[                                        0]])"
      ]
     },
     "execution_count": 43,
     "metadata": {},
     "output_type": "execute_result"
    }
   ],
   "source": [
    "Gamma_c=zeros(4,1)\n",
    "# Nao realizamos para o peso do elemento final que é o drone \n",
    "Gamma_c[0] = diff(P1,q[0])+diff(P2,q[0])+diff(P3,q[0])#+diff(P4,q[0])\n",
    "Gamma_c[1] = diff(P2,q[1])+diff(P3,q[1])#+diff(P4,q[1])\n",
    "Gamma_c[2] = diff(P3,q[2])#+diff(P4,q[2])\n",
    "    \n",
    "Gamma_c"
   ]
  },
  {
   "cell_type": "markdown",
   "metadata": {},
   "source": [
    "<h1> Calculo de $\\Gamma_e$ </h1>\n",
    "\n",
    "\\begin{equation}\n",
    "    \\Gamma_e= \\begin{bmatrix}{}^{P}J_n(O_p,\\textbf{q}) \\end{bmatrix}^T \\cdot {}^P\\mathcal{T}_e(P)\n",
    "    \\label{eq:Gamma_eP}\n",
    "\\end{equation}\n",
    "\n",
    "sendo ${}^{P}J_n(O_p,q)$ a n-ésima coluna da matriz jacobiana cinemática definida no referencial $R_P$ do elemento $S_n$ ao ponto de aplicação $O_p$ da força exterior, que no nosso caso corresponde ao ponto origem do referencial do bicóptero, e ${}^P\\mathcal{T}_e(O_p)$ o vetor dos esforços aplicadas pelo órgão terminal do robô sobre o ambiente expresso no referencial $R_P$.\n",
    "\n",
    "\\begin{equation}\n",
    "    {}^P\\mathcal{T}_e(O_p) =\\begin{bmatrix}\n",
    "    f_x & f_y & f_z & \\tau_x & \\tau_y &\\tau_z\n",
    "    \\end{bmatrix}^T\n",
    "    \\label{eq:t_e}\n",
    "\\end{equation}\n",
    "\n",
    "em que $f_x,\\ f_y,\\ f_z$ correspondem as componentes da força total e $\\tau_x,\\ \\tau_y,\\ \\tau_z$ as componentes do momento total nos eixos $X_{j_P},\\ Y_{j_P}$ e $Z_{j_P}$ respectivamente."
   ]
  },
  {
   "cell_type": "code",
   "execution_count": 44,
   "metadata": {
    "collapsed": true
   },
   "outputs": [],
   "source": [
    "#Forca expressa no referencial P\n",
    "#tau_e:=<<f[x],f[y],f[z],tau[x],tau[y],tau[z]>>:\n",
    "tau_eP = Matrix([fx,fy,fz,taux,tauy,tauz])"
   ]
  },
  {
   "cell_type": "markdown",
   "metadata": {},
   "source": [
    "Ainda que devido as restrições do movimento do braço base o vetor ${}^P\\mathcal{T}_e(P))$ vale\n",
    "\n",
    "$\\begin{equation}\n",
    "    {}^P\\mathcal{T}_e(P) =\\begin{bmatrix}\n",
    "    0 & f_y & f_z & \\tau_x & 0 & 0\n",
    "    \\end{bmatrix}^T\n",
    "    \\label{eq:t_e}\n",
    "\\end{equation}$\n"
   ]
  },
  {
   "cell_type": "code",
   "execution_count": 45,
   "metadata": {
    "collapsed": true
   },
   "outputs": [],
   "source": [
    "# nosso aplicacao taux=tauy=fz=0\n",
    "tau_eP = Matrix([0,fy,fz,tauz,0,0])"
   ]
  },
  {
   "cell_type": "markdown",
   "metadata": {},
   "source": [
    "até então não temos $\\begin{bmatrix}{}^{P}J_n(O_p,\\textbf{q}) \\end{bmatrix}^T$ apenas $\\begin{bmatrix}{}^{0}J_n(O_p,\\textbf{q}) \\end{bmatrix}^T$ devemos buscar realizar a chamada mudança de base da matriz jacobiana cinemática\n",
    "\n",
    "Para representar o vetor esforco em outro referencial é necessario as formulações de vetor em $SO_3$ representação adjunta da matriz homogênea e inversa da matriz homogênea\n",
    "\n",
    "Para entender indica-se o __[exemplo da maçã](https://modernrobotics.northwestern.edu/nu-gm-book-resource/3-4-wrenches/#department)__"
   ]
  },
  {
   "cell_type": "code",
   "execution_count": 46,
   "metadata": {
    "collapsed": true
   },
   "outputs": [],
   "source": [
    "#representacao de um vetor em so3\n",
    "def v_2so3(v):\n",
    "    p = zeros(3)\n",
    "    p[0,1] = -v[2,0]\n",
    "    p[0,2] = v[1,0]\n",
    "    p[1,2] = -v[0,0]\n",
    "    p[1,0] = v[2,0]\n",
    "    p[2,0] = -v[1,0]\n",
    "    p[2,1] = v[0,0]\n",
    "    return p\n",
    "\n",
    "#representacao adjunta da matriz Transformacao homogenea\n",
    "def T_adj(Thom):\n",
    "    p = v_2so3(Thom[0:3,3])\n",
    "\n",
    "    K = p*rt_M(Thom)\n",
    "    M = zeros(6)\n",
    "\n",
    "    M[0:3,0:3] = Thom[0:3,0:3]\n",
    "    M[3:6,0:6] = Matrix([K[0:3,0:3]]).col_insert(3,Thom[0:3,0:3]) \n",
    "\n",
    "    return M\n",
    "\n",
    "#Inversa da matriz homogênea\n",
    "def inv_Thom(Thom):\n",
    "    Ka = (rt_M(Thom)).T\n",
    "    Ke = -Ka*Thom[0:3,3] \n",
    "\n",
    "    M = Ka[0:3,0:3]\n",
    "    M = M.col_insert(3,Ke[0:3,0])\n",
    "\n",
    "    M = M.row_insert(4, Matrix([0,0,0,1]).T)\n",
    "    return M"
   ]
  },
  {
   "cell_type": "code",
   "execution_count": 47,
   "metadata": {
    "collapsed": true
   },
   "outputs": [],
   "source": [
    "#Calcula-se a matrix inversa (T_0_P) da matriz transformacao homogenea T_0P \n",
    "TP0 =inv_Thom(T0P)\n",
    "\n",
    "#Passa-se o vetor 3x1 p da entao matriz inversa para s03\n",
    "p=v_2so3(TP0[0:3,3])\n",
    "\n",
    "#Finalmente calcula-se a matrix adjunta de T_P_0\n",
    "MAdjTP0 = T_adj(TP0)\n",
    "\n",
    "#TP0\n",
    "#p\n",
    "#MAdjTP0\n",
    "\n",
    "#Constroi-se uma matrix capaz de colocar os elementos momentos nas ultimas 3 posicoes do vetor 6x1 e colocar as forcas nas 3 primeiras posicoes do vetor\n",
    "MF_M = zeros(6)\n",
    "MF_M[0,3] =1\n",
    "MF_M[1,4] =1\n",
    "MF_M[2,5] =1\n",
    "MF_M[3,0] =1\n",
    "MF_M[4,1] =1\n",
    "MF_M[5,2] =1"
   ]
  },
  {
   "cell_type": "markdown",
   "metadata": {},
   "source": [
    "<h2>Mudança de base da matriz jacobiana para o referencial $R_P$</h2>\n",
    "    \n",
    "\\begin{equation}\n",
    "     {}^{P}J_n(O_p,q)= \\begin{bmatrix}\n",
    "     {}^{P}M_0 & \\emptyset_{3x3}  \\\\\n",
    "     \\emptyset_{3x3} & {}^{P}M_0\\end{bmatrix} \\cdot {}^{0}J_n(O_p,q)\n",
    "    \\label{eq:mudança de base_Jcp}\n",
    "\\end{equation}\n",
    "\n",
    "em que ${}^{P}M_0$ corresponde à matriz de rotação que compõe a matriz de transformação homogênea ${}^{P}T_0= ({}^{0}T_P)^{-1}$."
   ]
  },
  {
   "cell_type": "code",
   "execution_count": 48,
   "metadata": {
    "collapsed": true
   },
   "outputs": [
    {
     "data": {
      "text/latex": [
       "$\\displaystyle \\left[\\begin{matrix}l_{3} \\operatorname{sin}\\left(\\theta_{4}\\right) & l_{1} \\operatorname{cos}\\left(\\theta_{2}\\right) \\operatorname{cos}\\left(\\theta_{4}\\right) & l_{1} \\operatorname{sin}\\left(\\theta_{4}\\right) \\operatorname{cos}\\left(\\theta_{2}\\right) & 0 & \\operatorname{sin}\\left(\\theta_{4}\\right) & - \\operatorname{cos}\\left(\\theta_{4}\\right)\\\\l_{1} \\operatorname{sin}\\left(\\theta_{2}\\right) - l_{2} - l_{3} \\operatorname{cos}\\left(\\theta_{4}\\right) & l_{1} \\operatorname{sin}\\left(\\theta_{4}\\right) \\operatorname{cos}\\left(\\theta_{2}\\right) & - l_{1} \\operatorname{cos}\\left(\\theta_{2}\\right) \\operatorname{cos}\\left(\\theta_{4}\\right) & 0 & - \\operatorname{cos}\\left(\\theta_{4}\\right) & - \\operatorname{sin}\\left(\\theta_{4}\\right)\\\\- l_{2} - l_{3} \\operatorname{cos}\\left(\\theta_{4}\\right) & 0 & 0 & 0 & - \\operatorname{cos}\\left(\\theta_{4}\\right) & - \\operatorname{sin}\\left(\\theta_{4}\\right)\\\\0 & l_{3} & 0 & -1 & 0 & 0\\end{matrix}\\right]$"
      ],
      "text/plain": [
       "Matrix([\n",
       "[                      l3*sin(theta4), l1*cos(theta2)*cos(theta4),  l1*sin(theta4)*cos(theta2),  0,  sin(theta4), -cos(theta4)],\n",
       "[l1*sin(theta2) - l2 - l3*cos(theta4), l1*sin(theta4)*cos(theta2), -l1*cos(theta2)*cos(theta4),  0, -cos(theta4), -sin(theta4)],\n",
       "[                -l2 - l3*cos(theta4),                          0,                           0,  0, -cos(theta4), -sin(theta4)],\n",
       "[                                   0,                         l3,                           0, -1,            0,            0]])"
      ]
     },
     "execution_count": 48,
     "metadata": {},
     "output_type": "execute_result"
    }
   ],
   "source": [
    "#Aqui mostra-se como os esforcos em P sao traduzidos no referencial 0\n",
    "PJP = trigsimp(ch_M(rt_M(TP0))*JcPP)\n",
    "PJP.T"
   ]
  },
  {
   "cell_type": "markdown",
   "metadata": {},
   "source": [
    "<h3>Calculo de $\\Gamma_e$ (sem mecanismo de tilt)</h3>"
   ]
  },
  {
   "cell_type": "code",
   "execution_count": 49,
   "metadata": {
    "collapsed": true
   },
   "outputs": [],
   "source": [
    "#Calcula-se Gamma_e\n",
    "Gamma_e = PJP.T*(tau_eP)"
   ]
  },
  {
   "cell_type": "markdown",
   "metadata": {},
   "source": [
    "<h3>Calculo de $\\Gamma_b$ (sem mecanismo de tilt)</h3>\n",
    "\n",
    "Diferentemente de aplicações usuais em robótica onde os esforços são realizados pelo robô sobre o ambiente, o modelo do conjunto braço robótico-bicóptero exige o termo que traduz os esforços do ambiente sobre o conjunto. Esse termo é representado por $\\Gamma_b$ e é definido pela relação:\n",
    "\n",
    "\\begin{equation}\n",
    "    \\Gamma_b=-\\Gamma_e\n",
    "    \\label{eq:relacao_gammab_gammae}\n",
    "\\end{equation}"
   ]
  },
  {
   "cell_type": "code",
   "execution_count": 50,
   "metadata": {
    "collapsed": true
   },
   "outputs": [
    {
     "data": {
      "text/latex": [
       "$\\displaystyle \\left[\\begin{matrix}\\left(f_{y} \\operatorname{cos}\\left(\\theta_{4}\\right) + f_{z} \\operatorname{sin}\\left(\\theta_{4}\\right)\\right) l_{1} \\operatorname{cos}\\left(\\theta_{2}\\right)\\\\\\left(f_{y} \\operatorname{sin}\\left(\\theta_{4}\\right) - f_{z} \\operatorname{cos}\\left(\\theta_{4}\\right)\\right) l_{1} \\operatorname{cos}\\left(\\theta_{2}\\right)\\\\0\\\\f_{y} l_{3} - \\tau_{z}\\end{matrix}\\right]$"
      ],
      "text/plain": [
       "Matrix([\n",
       "[(f_y*cos(theta4) + f_z*sin(theta4))*l1*cos(theta2)],\n",
       "[(f_y*sin(theta4) - f_z*cos(theta4))*l1*cos(theta2)],\n",
       "[                                                 0],\n",
       "[                                    f_y*l3 - tau_z]])"
      ]
     },
     "execution_count": 50,
     "metadata": {},
     "output_type": "execute_result"
    }
   ],
   "source": [
    "#Nosso caso queremos Gamma_b nao coloquei o negativo mas mais abaixo ele aparece\n",
    "Gamma_b = trigsimp(Gamma_e)\n",
    "Gamma_b"
   ]
  },
  {
   "cell_type": "markdown",
   "metadata": {},
   "source": [
    "<h2> Traduzindo as variaveis de entrada com o mecanismo de vetorização</h2>"
   ]
  },
  {
   "cell_type": "markdown",
   "metadata": {},
   "source": [
    "<div>\n",
    "<img src=\"img/forcas_bicoptero.png\" width=\"500\">\n",
    "</div>"
   ]
  },
  {
   "cell_type": "markdown",
   "metadata": {},
   "source": [
    "\\begin{equation}\n",
    "   \\begin{bmatrix}\n",
    "    0\\\\\n",
    "    f_y\\\\\n",
    "    f_z\\\\\n",
    "    \\tau_x\\\\\n",
    "    0 \\\\\n",
    "    0 \\end{bmatrix} =\n",
    "    \\begin{bmatrix}\n",
    "    0 & 0 \\\\\n",
    "    s(\\alpha_1) & -s(\\alpha_2)\\\\\n",
    "    -c(\\alpha_1) & -c(\\alpha_2)\\\\\n",
    "    -b c(\\alpha_1) & b c(\\alpha_2)\\\\\n",
    "    0 & 0 \\\\\n",
    "    0 & 0 \n",
    "    \\end{bmatrix}\n",
    "    \\cdot\n",
    "    \\begin{bmatrix}\n",
    "    F_{e_1}\\\\\n",
    "    F_{e_2}\n",
    "    \\end{bmatrix}\n",
    "    \\label{eq:vetorizacao}\n",
    "\\end{equation}"
   ]
  },
  {
   "cell_type": "code",
   "execution_count": 51,
   "metadata": {
    "collapsed": true
   },
   "outputs": [],
   "source": [
    "tilt = Matrix([zeros(1,2),[sin(alpha1), -sin(alpha2)],[-cos(alpha1), -cos(alpha2)],[-b1*cos(alpha1), b2*cos(alpha2)], zeros(2,2)])\n",
    "forces= Matrix([f1,f2])"
   ]
  },
  {
   "cell_type": "code",
   "execution_count": 52,
   "metadata": {
    "collapsed": true
   },
   "outputs": [
    {
     "data": {
      "text/latex": [
       "$\\displaystyle \\left[\\begin{matrix}0 & 0\\\\\\operatorname{sin}\\left(\\alpha_{1}\\right) & - \\operatorname{sin}\\left(\\alpha_{2}\\right)\\\\- \\operatorname{cos}\\left(\\alpha_{1}\\right) & - \\operatorname{cos}\\left(\\alpha_{2}\\right)\\\\- b_{1} \\operatorname{cos}\\left(\\alpha_{1}\\right) & b_{2} \\operatorname{cos}\\left(\\alpha_{2}\\right)\\\\0 & 0\\\\0 & 0\\end{matrix}\\right]$"
      ],
      "text/plain": [
       "Matrix([\n",
       "[               0,               0],\n",
       "[     sin(alpha1),    -sin(alpha2)],\n",
       "[    -cos(alpha1),    -cos(alpha2)],\n",
       "[-b_1*cos(alpha1), b_2*cos(alpha2)],\n",
       "[               0,               0],\n",
       "[               0,               0]])"
      ]
     },
     "execution_count": 52,
     "metadata": {},
     "output_type": "execute_result"
    }
   ],
   "source": [
    "tilt"
   ]
  },
  {
   "cell_type": "markdown",
   "metadata": {},
   "source": [
    "<h3>Calculo de $\\Gamma_e$ com vetorização da força empuxo</h3>"
   ]
  },
  {
   "cell_type": "code",
   "execution_count": 53,
   "metadata": {
    "collapsed": true
   },
   "outputs": [],
   "source": [
    "#Calcula-se Gamma_e\n",
    "Gamma_e = PJP.T*tilt*forces"
   ]
  },
  {
   "cell_type": "markdown",
   "metadata": {},
   "source": [
    "<h3>Calculo de $\\Gamma_b$ </h3>"
   ]
  },
  {
   "cell_type": "code",
   "execution_count": 54,
   "metadata": {
    "collapsed": true
   },
   "outputs": [],
   "source": [
    "#Nosso caso queremos Gamma_b ainda não foi colocado o negativo mas será feito na equacao total do movimento\n",
    "Gamma_b = trigsimp(Gamma_e)"
   ]
  },
  {
   "cell_type": "code",
   "execution_count": 55,
   "metadata": {
    "collapsed": true
   },
   "outputs": [
    {
     "data": {
      "text/latex": [
       "$\\displaystyle \\left[\\begin{matrix}0\\\\\\left(F_{1} + F_{2}\\right) l_{1}\\\\0\\\\F_{1} b_{1} - F_{2} b_{2}\\end{matrix}\\right]$"
      ],
      "text/plain": [
       "Matrix([\n",
       "[                0],\n",
       "[   (F_1 + F_2)*l1],\n",
       "[                0],\n",
       "[F_1*b_1 - F_2*b_2]])"
      ]
     },
     "execution_count": 55,
     "metadata": {},
     "output_type": "execute_result"
    }
   ],
   "source": [
    "#Visualização das forças no estado zero zero zero zero zero zero\n",
    "Gamma_b.subs({theta1:0,theta2:0,theta4:0,alpha1:0,alpha2:0})"
   ]
  },
  {
   "cell_type": "markdown",
   "metadata": {},
   "source": [
    "<h2> Equação Total do Movimento </h2>\n",
    "\n",
    "\\begin{equation}\n",
    "    \\emptyset_{4x6} =D(q)\\ddot{q} + C(q,\\dot{q}) + G(q) + \\Gamma_f - \\Gamma_c - \\Gamma_b \n",
    "    \\label{eq:modele_dyn_fb}\n",
    "\\end{equation}\n"
   ]
  },
  {
   "cell_type": "code",
   "execution_count": 56,
   "metadata": {
    "collapsed": true
   },
   "outputs": [],
   "source": [
    "Mdf=Dtotal*q_ddot+Ctotal+Gtotal+Gamma_f-Gamma_b-Gamma_c"
   ]
  },
  {
   "cell_type": "markdown",
   "metadata": {},
   "source": [
    "<h2>Iniciando Equacao Solução</h2>\n",
    "\n",
    "A equação relativa a $\\ddot{\\theta_3}$ é completamente ignorada, Eq tem dimensão igual a $3\\times1$ devido a relação entre $\\theta_3$ e $\\theta_2$"
   ]
  },
  {
   "cell_type": "code",
   "execution_count": 57,
   "metadata": {
    "collapsed": true
   },
   "outputs": [],
   "source": [
    "Eq=zeros(3,1)"
   ]
  },
  {
   "cell_type": "code",
   "execution_count": 58,
   "metadata": {
    "collapsed": true
   },
   "outputs": [],
   "source": [
    "#Isolando as variaveis q_ddot\n",
    "Eq[0]=solve(Mdf[0], q_ddot[0])  #Relativo a Theta dois pontos 1\n",
    "Eq[1]=solve(Mdf[1], q_ddot[1])  #Relativo a Theta dois pontos 2\n",
    "#Eq[2]=solve(Mdf[2], q_ddot[2])  #Relativo a Theta dois pontos 3\n",
    "Eq[2]=solve(Mdf[3], q_ddot[3])  #Relativo a Theta dois pontos 4\n"
   ]
  },
  {
   "cell_type": "code",
   "execution_count": 61,
   "metadata": {
    "collapsed": true
   },
   "outputs": [],
   "source": [
    "#%store Eq"
   ]
  },
  {
   "cell_type": "markdown",
   "metadata": {},
   "source": [
    "A fim de aplicar uma estratégia de controle linear é necessário obter a partir do modelo completo apresentado anteriormente o modelo linearizado, esse processo de linearização é realizado na seção que segue."
   ]
  },
  {
   "cell_type": "markdown",
   "metadata": {},
   "source": [
    "<h2> Linearização (Método de Newton) </h2>"
   ]
  },
  {
   "cell_type": "markdown",
   "metadata": {},
   "source": [
    "$\\let\\hdots\\ldots$\n",
    "\n",
    "$\\newcommand{\\parcial}[2]{\\frac{\\partial #1}{\\partial #2}\\vert_{\\vec{x}_0,\\vec{u}_0}}$\n",
    "$\\newcommand{\\lineparcial}[2]{\\parcial{#1}{#2_1} & \\parcial{#1}{#2_2} & \\parcial{#1}{#2_3} & \\hdots & \\parcial{#1}{#2_6}}$\n",
    "$\\newcommand{\\lineparcialB}[2]{\\parcial{#1}{#2_1} & \\parcial{#1}{#2_2} & \\parcial{#1}{#2_3} & \\parcial{#1}{#2_4}}$\n",
    "$\\newcommand{\\lineA}{\\vdots & \\vdots & \\vdots & \\ddots & \\vdots}$\n",
    "$\\newcommand{\\lineB}{\\vdots & \\vdots & \\vdots & \\vdots}$\n",
    "\n",
    "\\begin{align}\n",
    "    A &= \\begin{bmatrix}\n",
    "    \\lineparcial{f_1}{x}\\\\\n",
    "    \\lineparcial{f_2}{x}\\\\\n",
    "    \\lineA\\\\\n",
    "    \\lineparcial{f_6}{x}\n",
    "    \\end{bmatrix}&,\\\\\n",
    "    B &= \\begin{bmatrix}\n",
    "    \\lineparcialB{f_1}{u}\\\\\n",
    "    \\lineparcialB{f_2}{u}\\\\\n",
    "    \\lineB\\\\\n",
    "    \\lineparcialB{f_6}{u}\n",
    "    \\end{bmatrix}&,\\\\\n",
    "    C &= \\begin{bmatrix}\n",
    "    \\lineparcial{g_1}{x}\\\\\n",
    "    \\lineparcial{g_2}{x}\\\\\n",
    "    \\lineA\\\\\n",
    "    \\lineparcial{g_6}{x}\n",
    "    \\end{bmatrix} &\\text{e}\\\\\n",
    "    D &= \\begin{bmatrix}\n",
    "    \\lineparcialB{g_1}{u}\\\\\n",
    "    \\lineparcialB{g_2}{u}\\\\\n",
    "    \\lineB\\\\\n",
    "    \\lineparcialB{g_6}{u}\n",
    "    \\end{bmatrix}\n",
    "\\end{align}\n",
    "\n",
    "sendo que $\\vec{x}_0$ e $\\vec{u}_0$ são vetores constantes das variáveis de entradas e saída no ponto de equilíbrio. Já $f$ e $g$ são definidas por\n",
    "\n",
    "\\begin{align}\n",
    "    f(\\vec{x},\\vec{u})=\\begin{cases}\n",
    "    f_1 = \\dot{x}_1 = x_4\\\\\n",
    "    f_2 = \\dot{x}_2 = x_5\\\\\n",
    "    f_3 = \\dot{x}_3 = x_6\\\\\n",
    "    f_4 = \\ddot{x}_1 = \\ddot{q}_1 \\\\\n",
    "    f_5 = \\ddot{x}_2 = \\ddot{q}_2 \\\\\n",
    "    f_6 = \\ddot{x}_3 = \\ddot{q}_4 \\\\\n",
    "    \\end{cases} && \\hfill\\text{e} && \n",
    "    g(\\vec{x})=\\begin{cases}\n",
    "    g_1 = x_1 \\\\\n",
    "    g_2 = x_2 \\\\\n",
    "    g_3 = x_3 \\\\\n",
    "    \\hfill \\vdots \\\\\n",
    "    g_6 = x_6 \\\\\n",
    "    \\end{cases} \n",
    "\\end{align}\n"
   ]
  },
  {
   "cell_type": "markdown",
   "metadata": {},
   "source": [
    "<h2>Iniciando o vetor Estado e Comando</h2>\n",
    "Como o vetor de estados vale\n",
    "\n",
    "$\\begin{equation} \\vec{x}=\\begin{bmatrix} \n",
    "\\theta_{1}\\\\\n",
    "\\theta_{2}\\\\\n",
    "\\theta_{4}\\\\\n",
    "\\dot{\\theta}_{1}\\\\\n",
    "\\dot{\\theta}_{2}\\\\\n",
    "\\dot{\\theta}_{4}\\end{bmatrix}\n",
    "\\end{equation}$\n",
    "\n",
    "O vetor dos comandos vale\n",
    "\n",
    "$\\begin{equation}\\vec{u}= \\begin{bmatrix} \n",
    "\\alpha_1\\\\\n",
    "\\alpha_2\\\\\n",
    "F_1\\\\\n",
    "F_2\\end{bmatrix}\n",
    "\\end{equation}$\n",
    "\n"
   ]
  },
  {
   "cell_type": "code",
   "execution_count": 62,
   "metadata": {
    "collapsed": true
   },
   "outputs": [
    {
     "data": {
      "text/latex": [
       "$\\displaystyle \\left[\\begin{matrix}\\theta_{1}\\\\\\theta_{2}\\\\\\theta_{4}\\\\\\dot{\\theta}_{1}\\\\\\dot{\\theta}_{2}\\\\\\dot{\\theta}_{4}\\end{matrix}\\right]$"
      ],
      "text/plain": [
       "Matrix([\n",
       "[ theta1],\n",
       "[ theta2],\n",
       "[ theta4],\n",
       "[theta1'],\n",
       "[theta2'],\n",
       "[theta4']])"
      ]
     },
     "execution_count": 62,
     "metadata": {},
     "output_type": "execute_result"
    }
   ],
   "source": [
    "#states=Matrix([theta1, theta2, theta4, dot theta1 dottheta2 dottheta4])\n",
    "states=q.row_insert(4, q_dot)\n",
    "states.row_del(6)\n",
    "states.row_del(2)\n",
    "states"
   ]
  },
  {
   "cell_type": "code",
   "execution_count": 63,
   "metadata": {
    "collapsed": true
   },
   "outputs": [
    {
     "data": {
      "text/latex": [
       "$\\displaystyle \\left[\\begin{matrix}F_{1}\\\\F_{2}\\\\\\alpha_{1}\\\\\\alpha_{2}\\end{matrix}\\right]$"
      ],
      "text/plain": [
       "Matrix([\n",
       "[   F_1],\n",
       "[   F_2],\n",
       "[alpha1],\n",
       "[alpha2]])"
      ]
     },
     "execution_count": 63,
     "metadata": {},
     "output_type": "execute_result"
    }
   ],
   "source": [
    "inputs=Matrix([f1,f2,alpha1,alpha2])\n",
    "inputs"
   ]
  },
  {
   "cell_type": "code",
   "execution_count": 64,
   "metadata": {
    "collapsed": true
   },
   "outputs": [
    {
     "data": {
      "text/latex": [
       "$\\displaystyle 3$"
      ],
      "text/plain": [
       "3"
      ]
     },
     "execution_count": 64,
     "metadata": {},
     "output_type": "execute_result"
    }
   ],
   "source": [
    "len(inputs)#4\n",
    "len(states)#6\n",
    "len(Eq)#3"
   ]
  },
  {
   "cell_type": "markdown",
   "metadata": {},
   "source": [
    "<h2>Iniciando o vetor estado inicial</h2>"
   ]
  },
  {
   "cell_type": "code",
   "execution_count": 65,
   "metadata": {
    "collapsed": true
   },
   "outputs": [],
   "source": [
    "trim_inputs={f1:f10,f2:f20,alpha1:alpha10,alpha2:alpha20}\n",
    "\n",
    "trim_position={theta1:theta10,theta2:theta20,theta3:theta30,theta4:theta40}\n",
    "trim_speed={diff(theta10,t):omega10,diff(theta20,t):omega20,diff(theta30,t):omega30,diff(theta40,t):omega40}\n",
    "trim_acel={diff(diff(theta10,t),t):psi10,diff(diff(theta20,t),t):psi20,diff(diff(theta30,t),t):psi30,diff(diff(theta40,t),t):psi40}\n",
    "\n",
    "#Estados iniciais\n",
    "val_pos={theta10: 0.00,theta20: 0.00,theta30: -(pi/2),theta40: 0.00}\n",
    "val_speed={omega10: 0.00,omega20: 0.00,omega30: 0.00,omega40: 0.00}\n",
    "val_acel={psi10: 0.00,psi20: 0.00,psi30: 0.00,psi40: 0.00}\n",
    "val_inputs={alpha10: 0.00,alpha20: 0.00} #f10: g*m4/2,f20: g*m4/2}"
   ]
  },
  {
   "cell_type": "code",
   "execution_count": 66,
   "metadata": {
    "collapsed": true
   },
   "outputs": [],
   "source": [
    "Eq_trim=zeros(len(Eq),1)"
   ]
  },
  {
   "cell_type": "code",
   "execution_count": 67,
   "metadata": {
    "collapsed": true
   },
   "outputs": [],
   "source": [
    "for i in range (len(Eq)):\n",
    "#    Eq_trim[i]=Eq[i].subs(Trim).subs(states_value).subs(inputs_value)\n",
    "    Eq_trim[i]=Eq[i].subs(trim_inputs).subs(val_inputs).subs(trim_position).subs(trim_acel).subs(trim_speed).subs(val_pos).subs(val_acel).subs(val_speed).factor().nsimplify()"
   ]
  },
  {
   "cell_type": "code",
   "execution_count": 68,
   "metadata": {},
   "outputs": [
    {
     "data": {
      "text/latex": [
       "$\\displaystyle \\left[\\begin{matrix}0\\\\\\frac{\\left(F_{10} + F_{20} - g m_{4}\\right) l_{1}}{2 \\left(\\frac{Iy_{2}}{2} + \\frac{Iy_{3}}{2} + \\frac{Iy_{4}}{2} + \\frac{l^{2}_{0} m_{2}}{2} + \\frac{l^{2}_{0} m_{3}}{2} - l_{0} l_{2} m_{3} + \\frac{l^{2}_{1} m_{2}}{2} + \\frac{l^{2}_{1} m_{3}}{2} + \\frac{l^{2}_{1} m_{4}}{2} + \\frac{l^{2}_{2} m_{3}}{2} + \\frac{l^{2}_{2} m_{4}}{2} + l_{2} l_{3} m_{4} + \\frac{l^{2}_{3} m_{4}}{2}\\right)}\\\\\\frac{F_{10} b_{1} - F_{20} b_{2}}{Ix_{4} + l^{2}_{3} m_{4}}\\end{matrix}\\right]$"
      ],
      "text/plain": [
       "Matrix([\n",
       "[                                                                                                                                                                                0],\n",
       "[(F_10 + F_20 - g*m4)*l1/(2*(Iy2/2 + Iy3/2 + Iy4/2 + l0**2*m2/2 + l0**2*m3/2 - l0*l2*m3 + l1**2*m2/2 + l1**2*m3/2 + l1**2*m4/2 + l2**2*m3/2 + l2**2*m4/2 + l2*l3*m4 + l3**2*m4/2))],\n",
       "[                                                                                                                                           (F_10*b_1 - F_20*b_2)/(Ix4 + l3**2*m4)]])"
      ]
     },
     "execution_count": 68,
     "metadata": {},
     "output_type": "execute_result"
    }
   ],
   "source": [
    "Eq_trim\n",
    "#Observe que se b1=b2 e f10=f20=(1/2)g*m4 tudo é todas as acelerações são iguais a zero o que significa que está em equilibrio"
   ]
  },
  {
   "cell_type": "code",
   "execution_count": 69,
   "metadata": {
    "collapsed": true
   },
   "outputs": [],
   "source": [
    "#Eq"
   ]
  },
  {
   "cell_type": "markdown",
   "metadata": {},
   "source": [
    "<h1>Dimensionamento correto das matrizes A e B</h1>\n",
    "\n",
    "a matrix $A$ deve ser de dimensão $6\\times6$ e $B$ de dimensão $4\\times6$\n",
    "\n",
    "sendo que as primeiras 3 linhas da matriz A são\n",
    "\n",
    "$\\begin{equation}\n",
    "\\begin{bmatrix}\n",
    "0 & 0 & 0 & 1 & 0 & 0\\\\\n",
    "0 & 0 & 0 & 0 & 1 & 0\\\\\n",
    "0& 0 & 0 & 0 & 0 & 1\\\\\n",
    "\\end{bmatrix}\\end{equation}$\n",
    "\n",
    "e as primeiras 3 linhas da matriz B são\n",
    "\n",
    "$\\begin{equation}\n",
    "\\begin{bmatrix}\n",
    "0 & 0 & 0 & 0 \\\\\n",
    "0 & 0 & 0 & 0 \\\\\n",
    "0& 0 & 0 & 0 \\\\\n",
    "\\end{bmatrix}\\end{equation}$\n"
   ]
  },
  {
   "cell_type": "code",
   "execution_count": 70,
   "metadata": {},
   "outputs": [
    {
     "data": {
      "text/latex": [
       "$\\displaystyle \\left[\\begin{matrix}0 & 0 & 0 & 1 & 0 & 0\\\\0 & 0 & 0 & 0 & 1 & 0\\\\0 & 0 & 0 & 0 & 0 & 1\\\\0 & 0 & 0 & 0 & 0 & 0\\\\0 & 0 & 0 & 0 & 0 & 0\\\\0 & 0 & 0 & 0 & 0 & 0\\end{matrix}\\right]$"
      ],
      "text/plain": [
       "Matrix([\n",
       "[0, 0, 0, 1, 0, 0],\n",
       "[0, 0, 0, 0, 1, 0],\n",
       "[0, 0, 0, 0, 0, 1],\n",
       "[0, 0, 0, 0, 0, 0],\n",
       "[0, 0, 0, 0, 0, 0],\n",
       "[0, 0, 0, 0, 0, 0]])"
      ]
     },
     "execution_count": 70,
     "metadata": {},
     "output_type": "execute_result"
    }
   ],
   "source": [
    "A=zeros(3,3).col_insert(3, eye(3))\n",
    "A=A.row_insert(4, zeros(3,6))\n",
    "A"
   ]
  },
  {
   "cell_type": "code",
   "execution_count": 71,
   "metadata": {},
   "outputs": [
    {
     "data": {
      "text/latex": [
       "$\\displaystyle \\left[\\begin{matrix}0 & 0 & 0 & 0\\\\0 & 0 & 0 & 0\\\\0 & 0 & 0 & 0\\\\0 & 0 & 0 & 0\\\\0 & 0 & 0 & 0\\\\0 & 0 & 0 & 0\\end{matrix}\\right]$"
      ],
      "text/plain": [
       "Matrix([\n",
       "[0, 0, 0, 0],\n",
       "[0, 0, 0, 0],\n",
       "[0, 0, 0, 0],\n",
       "[0, 0, 0, 0],\n",
       "[0, 0, 0, 0],\n",
       "[0, 0, 0, 0]])"
      ]
     },
     "execution_count": 71,
     "metadata": {},
     "output_type": "execute_result"
    }
   ],
   "source": [
    "B = zeros(6, 4) \n",
    "inputs_value={alpha10: 0,alpha20: 0} #f10: g*m4/2,f20: g*m4/2}\n",
    "B"
   ]
  },
  {
   "cell_type": "code",
   "execution_count": 72,
   "metadata": {
    "collapsed": true
   },
   "outputs": [],
   "source": [
    "for i in range(len(Eq)):\n",
    "    for j in range(len(states)):\n",
    "         A[i+3,j]=( diff( Eq[i], states[j] ) ).subs(trim_inputs).subs(val_inputs).subs(trim_position).subs(trim_acel).subs(trim_speed).subs(val_pos).subs(val_acel).subs(val_speed).factor().nsimplify()\n"
   ]
  },
  {
   "cell_type": "code",
   "execution_count": 73,
   "metadata": {
    "collapsed": true
   },
   "outputs": [],
   "source": [
    "for i in range(len(Eq)):\n",
    "    for j in range(len(inputs)):\n",
    "        B[i+3,j]= ( diff( Eq[i], inputs[j] ) ).subs(trim_inputs).subs(val_inputs).subs(trim_position).subs(trim_acel).subs(trim_speed).subs(val_pos).subs(val_acel).subs(val_speed).factor().nsimplify()"
   ]
  },
  {
   "cell_type": "code",
   "execution_count": 74,
   "metadata": {},
   "outputs": [
    {
     "data": {
      "text/latex": [
       "$\\displaystyle \\left[\\begin{matrix}0 & 0 & 0 & 1 & 0 & 0\\\\0 & 0 & 0 & 0 & 1 & 0\\\\0 & 0 & 0 & 0 & 0 & 1\\\\0 & 0 & - \\frac{\\left(F_{10} + F_{20}\\right) l_{1}}{Iz_{1} + Iz_{2} + Iz_{3} + Iz_{4} + l^{2}_{1} m_{2} + l^{2}_{1} m_{3} + l^{2}_{1} m_{4}} & 0 & 0 & 0\\\\0 & - \\frac{\\left(F_{10} + F_{20} - g m_{4}\\right) \\left(l_{0} m_{2} + l_{0} m_{3} - l_{2} m_{3} - l_{2} m_{4} - l_{3} m_{4}\\right) l^{2}_{1}}{2 \\left(\\frac{Iy_{2}}{2} + \\frac{Iy_{3}}{2} + \\frac{Iy_{4}}{2} + \\frac{l^{2}_{0} m_{2}}{2} + \\frac{l^{2}_{0} m_{3}}{2} - l_{0} l_{2} m_{3} + \\frac{l^{2}_{1} m_{2}}{2} + \\frac{l^{2}_{1} m_{3}}{2} + \\frac{l^{2}_{1} m_{4}}{2} + \\frac{l^{2}_{2} m_{3}}{2} + \\frac{l^{2}_{2} m_{4}}{2} + l_{2} l_{3} m_{4} + \\frac{l^{2}_{3} m_{4}}{2}\\right)^{2}} & 0 & 0 & - \\frac{fs_{2}}{2 \\left(\\frac{Iy_{2}}{2} + \\frac{Iy_{3}}{2} + \\frac{Iy_{4}}{2} + \\frac{l^{2}_{0} m_{2}}{2} + \\frac{l^{2}_{0} m_{3}}{2} - l_{0} l_{2} m_{3} + \\frac{l^{2}_{1} m_{2}}{2} + \\frac{l^{2}_{1} m_{3}}{2} + \\frac{l^{2}_{1} m_{4}}{2} + \\frac{l^{2}_{2} m_{3}}{2} + \\frac{l^{2}_{2} m_{4}}{2} + l_{2} l_{3} m_{4} + \\frac{l^{2}_{3} m_{4}}{2}\\right)} & 0\\\\0 & 0 & - \\frac{g l_{3} m_{4}}{Ix_{4} + l^{2}_{3} m_{4}} & 0 & 0 & - \\frac{fs_{4}}{Ix_{4} + l^{2}_{3} m_{4}}\\end{matrix}\\right]$"
      ],
      "text/plain": [
       "Matrix([\n",
       "[0,                                                                                                                                                                                                                                0,                                                                          0, 1,                                                                                                                                                              0,                     0],\n",
       "[0,                                                                                                                                                                                                                                0,                                                                          0, 0,                                                                                                                                                              1,                     0],\n",
       "[0,                                                                                                                                                                                                                                0,                                                                          0, 0,                                                                                                                                                              0,                     1],\n",
       "[0,                                                                                                                                                                                                                                0, -(F_10 + F_20)*l1/(Iz1 + Iz2 + Iz3 + Iz4 + l1**2*m2 + l1**2*m3 + l1**2*m4), 0,                                                                                                                                                              0,                     0],\n",
       "[0, -(F_10 + F_20 - g*m4)*(l0*m2 + l0*m3 - l2*m3 - l2*m4 - l3*m4)*l1**2/(2*(Iy2/2 + Iy3/2 + Iy4/2 + l0**2*m2/2 + l0**2*m3/2 - l0*l2*m3 + l1**2*m2/2 + l1**2*m3/2 + l1**2*m4/2 + l2**2*m3/2 + l2**2*m4/2 + l2*l3*m4 + l3**2*m4/2)**2),                                                                          0, 0, -fs2/(2*(Iy2/2 + Iy3/2 + Iy4/2 + l0**2*m2/2 + l0**2*m3/2 - l0*l2*m3 + l1**2*m2/2 + l1**2*m3/2 + l1**2*m4/2 + l2**2*m3/2 + l2**2*m4/2 + l2*l3*m4 + l3**2*m4/2)),                     0],\n",
       "[0,                                                                                                                                                                                                                                0,                                                  -g*l3*m4/(Ix4 + l3**2*m4), 0,                                                                                                                                                              0, -fs4/(Ix4 + l3**2*m4)]])"
      ]
     },
     "execution_count": 74,
     "metadata": {},
     "output_type": "execute_result"
    }
   ],
   "source": [
    "A"
   ]
  },
  {
   "cell_type": "code",
   "execution_count": 75,
   "metadata": {},
   "outputs": [
    {
     "data": {
      "text/latex": [
       "$\\displaystyle \\left[\\begin{matrix}0 & 0 & 0 & 0\\\\0 & 0 & 0 & 0\\\\0 & 0 & 0 & 0\\\\0 & 0 & \\frac{F_{10} l_{1}}{Iz_{1} + Iz_{2} + Iz_{3} + Iz_{4} + l^{2}_{1} m_{2} + l^{2}_{1} m_{3} + l^{2}_{1} m_{4}} & - \\frac{F_{20} l_{1}}{Iz_{1} + Iz_{2} + Iz_{3} + Iz_{4} + l^{2}_{1} m_{2} + l^{2}_{1} m_{3} + l^{2}_{1} m_{4}}\\\\\\frac{l_{1}}{2 \\left(\\frac{Iy_{2}}{2} + \\frac{Iy_{3}}{2} + \\frac{Iy_{4}}{2} + \\frac{l^{2}_{0} m_{2}}{2} + \\frac{l^{2}_{0} m_{3}}{2} - l_{0} l_{2} m_{3} + \\frac{l^{2}_{1} m_{2}}{2} + \\frac{l^{2}_{1} m_{3}}{2} + \\frac{l^{2}_{1} m_{4}}{2} + \\frac{l^{2}_{2} m_{3}}{2} + \\frac{l^{2}_{2} m_{4}}{2} + l_{2} l_{3} m_{4} + \\frac{l^{2}_{3} m_{4}}{2}\\right)} & \\frac{l_{1}}{2 \\left(\\frac{Iy_{2}}{2} + \\frac{Iy_{3}}{2} + \\frac{Iy_{4}}{2} + \\frac{l^{2}_{0} m_{2}}{2} + \\frac{l^{2}_{0} m_{3}}{2} - l_{0} l_{2} m_{3} + \\frac{l^{2}_{1} m_{2}}{2} + \\frac{l^{2}_{1} m_{3}}{2} + \\frac{l^{2}_{1} m_{4}}{2} + \\frac{l^{2}_{2} m_{3}}{2} + \\frac{l^{2}_{2} m_{4}}{2} + l_{2} l_{3} m_{4} + \\frac{l^{2}_{3} m_{4}}{2}\\right)} & 0 & 0\\\\\\frac{b_{1}}{Ix_{4} + l^{2}_{3} m_{4}} & - \\frac{b_{2}}{Ix_{4} + l^{2}_{3} m_{4}} & \\frac{F_{10} l_{3}}{Ix_{4} + l^{2}_{3} m_{4}} & - \\frac{F_{20} l_{3}}{Ix_{4} + l^{2}_{3} m_{4}}\\end{matrix}\\right]$"
      ],
      "text/plain": [
       "Matrix([\n",
       "[                                                                                                                                                           0,                                                                                                                                                            0,                                                                0,                                                                 0],\n",
       "[                                                                                                                                                           0,                                                                                                                                                            0,                                                                0,                                                                 0],\n",
       "[                                                                                                                                                           0,                                                                                                                                                            0,                                                                0,                                                                 0],\n",
       "[                                                                                                                                                           0,                                                                                                                                                            0, F_10*l1/(Iz1 + Iz2 + Iz3 + Iz4 + l1**2*m2 + l1**2*m3 + l1**2*m4), -F_20*l1/(Iz1 + Iz2 + Iz3 + Iz4 + l1**2*m2 + l1**2*m3 + l1**2*m4)],\n",
       "[l1/(2*(Iy2/2 + Iy3/2 + Iy4/2 + l0**2*m2/2 + l0**2*m3/2 - l0*l2*m3 + l1**2*m2/2 + l1**2*m3/2 + l1**2*m4/2 + l2**2*m3/2 + l2**2*m4/2 + l2*l3*m4 + l3**2*m4/2)), l1/(2*(Iy2/2 + Iy3/2 + Iy4/2 + l0**2*m2/2 + l0**2*m3/2 - l0*l2*m3 + l1**2*m2/2 + l1**2*m3/2 + l1**2*m4/2 + l2**2*m3/2 + l2**2*m4/2 + l2*l3*m4 + l3**2*m4/2)),                                                                0,                                                                 0],\n",
       "[                                                                                                                                        b_1/(Ix4 + l3**2*m4),                                                                                                                                        -b_2/(Ix4 + l3**2*m4),                                         F_10*l3/(Ix4 + l3**2*m4),                                         -F_20*l3/(Ix4 + l3**2*m4)]])"
      ]
     },
     "execution_count": 75,
     "metadata": {},
     "output_type": "execute_result"
    }
   ],
   "source": [
    "B"
   ]
  },
  {
   "cell_type": "code",
   "execution_count": 76,
   "metadata": {
    "collapsed": true
   },
   "outputs": [],
   "source": [
    "#delta_states=Matrix([(theta1-theta10), (theta2-theta20), (theta3-theta30), (theta4-theta40)])\n",
    "#delta_inputs=Matrix([(alpha1-alpha10), (alpha2-alpha20), (f1-f10), (f2-f20)])\n",
    "#Sol=A*delta_states+B*delta_inputs\n",
    "#Sol"
   ]
  },
  {
   "cell_type": "markdown",
   "metadata": {},
   "source": [
    "<h2>Particularizando</h2>\n",
    "<h2>Caso 1</h2>\n",
    "Seja\n",
    "\n",
    "$\\begin{align}\n",
    "F_{1_0}&=F_{2_0}=\\frac{1}{2}m_4g\n",
    "\\end{align}$\n"
   ]
  },
  {
   "cell_type": "code",
   "execution_count": 77,
   "metadata": {
    "collapsed": true
   },
   "outputs": [],
   "source": [
    "Asimp1=A\n",
    "Bsimp1=B"
   ]
  },
  {
   "cell_type": "code",
   "execution_count": 97,
   "metadata": {},
   "outputs": [
    {
     "data": {
      "text/latex": [
       "$\\displaystyle \\left[\\begin{matrix}0 & 0 & 0 & 1 & 0 & 0\\\\0 & 0 & 0 & 0 & 1 & 0\\\\0 & 0 & 0 & 0 & 0 & 1\\\\0 & 0 & - \\frac{\\left(F_{10} + F_{20}\\right) l_{1}}{den_{2}} & 0 & 0 & 0\\\\0 & \\frac{num_{1}}{den_{4}} & 0 & 0 & - \\frac{fs_{2}}{den_{3}} & 0\\\\0 & 0 & - \\frac{g l_{3} m_{4}}{den_{1}} & 0 & 0 & - \\frac{fs_{4}}{den_{1}}\\end{matrix}\\right]$"
      ],
      "text/plain": [
       "Matrix([\n",
       "[0,         0,                      0, 1,         0,         0],\n",
       "[0,         0,                      0, 0,         1,         0],\n",
       "[0,         0,                      0, 0,         0,         1],\n",
       "[0,         0, -(F_10 + F_20)*l1/den2, 0,         0,         0],\n",
       "[0, num1/den4,                      0, 0, -fs2/den3,         0],\n",
       "[0,         0,          -g*l3*m4/den1, 0,         0, -fs4/den1]])"
      ]
     },
     "execution_count": 97,
     "metadata": {},
     "output_type": "execute_result"
    }
   ],
   "source": [
    "Asimp1"
   ]
  },
  {
   "cell_type": "code",
   "execution_count": 98,
   "metadata": {},
   "outputs": [
    {
     "data": {
      "text/latex": [
       "$\\displaystyle \\left[\\begin{matrix}0 & 0 & 0 & 0\\\\0 & 0 & 0 & 0\\\\0 & 0 & 0 & 0\\\\0 & 0 & \\frac{F_{10} l_{1}}{den_{2}} & - \\frac{F_{20} l_{1}}{den_{2}}\\\\\\frac{l_{1}}{den_{3}} & \\frac{l_{1}}{den_{3}} & 0 & 0\\\\\\frac{b_{1}}{den_{1}} & - \\frac{b_{2}}{den_{1}} & \\frac{F_{10} l_{3}}{den_{1}} & - \\frac{F_{20} l_{3}}{den_{1}}\\end{matrix}\\right]$"
      ],
      "text/plain": [
       "Matrix([\n",
       "[       0,         0,            0,             0],\n",
       "[       0,         0,            0,             0],\n",
       "[       0,         0,            0,             0],\n",
       "[       0,         0, F_10*l1/den2, -F_20*l1/den2],\n",
       "[ l1/den3,   l1/den3,            0,             0],\n",
       "[b_1/den1, -b_2/den1, F_10*l3/den1, -F_20*l3/den1]])"
      ]
     },
     "execution_count": 98,
     "metadata": {},
     "output_type": "execute_result"
    }
   ],
   "source": [
    "Bsimp1"
   ]
  },
  {
   "cell_type": "code",
   "execution_count": 99,
   "metadata": {},
   "outputs": [
    {
     "data": {
      "text/latex": [
       "$\\displaystyle \\left[\\begin{matrix}num_{1}\\\\den_{1}\\\\den_{2}\\\\den_{3}\\\\den_{4}\\end{matrix}\\right]$"
      ],
      "text/plain": [
       "Matrix([\n",
       "[num1],\n",
       "[den1],\n",
       "[den2],\n",
       "[den3],\n",
       "[den4]])"
      ]
     },
     "execution_count": 99,
     "metadata": {},
     "output_type": "execute_result"
    }
   ],
   "source": [
    "n,denominator1 = fraction(Asimp1[5,5])\n",
    "n,denominator2 = fraction(Asimp1[3,2])\n",
    "n,denominator3 = fraction(Bsimp1[4,1])\n",
    "numerator1,denominator4 = fraction(Asimp1[4,1])\n",
    "termos=Matrix([[numerator1],[denominator1], [denominator2], [denominator3],[denominator4]]);\n",
    "#(2*pow(((0.5*denominator3).nsimplify()),2))=den4\n",
    "termos"
   ]
  },
  {
   "cell_type": "markdown",
   "metadata": {},
   "source": [
    "Simplificando alguns denominadores"
   ]
  },
  {
   "cell_type": "code",
   "execution_count": 100,
   "metadata": {},
   "outputs": [],
   "source": [
    "n,den = fraction(Asimp1[4,4])\n",
    "Asimp1[4,4]=n/den"
   ]
  },
  {
   "cell_type": "code",
   "execution_count": 101,
   "metadata": {},
   "outputs": [],
   "source": [
    "n,den = fraction(Bsimp1[4,0])\n",
    "Bsimp1[4,0]=n/den\n",
    "n,den = fraction(Bsimp1[4,1])\n",
    "Bsimp1[4,1]=n/den"
   ]
  },
  {
   "cell_type": "markdown",
   "metadata": {},
   "source": [
    "E simplificando a notação\n",
    "\n",
    "$\\begin{align}\n",
    "    num_1&= - \\left(F_{10} + F_{20} - g m_{4}\\right) \\left(l_{0} (m_{2} +  m_{3}) - l_{2} ( m_{3} + m_{4} ) - l_{3} m_{4}\\right) l^{2}_{1} \\\\\n",
    "    den_1 & = Ix_{4} + l^{2}_{3} m_{4} \\\\\n",
    "    den_2 & = Iz_{1} + Iz_{2} + Iz_{3} + Iz_{4} + l^{2}_{1} (m_{2} + m_{3} + m_{4}) \\\\\n",
    "    den_3 & = Iy_{2} + Iy_{3} + Iy_{4} + l^{2}_{0} (m_{2} + m_{3}) - 2 l_{0} l_{2} m_{3} + l^{2}_{1} (m_{2} + m_{3} + m_{4}) + l^{2}_{2} (m_{3} + m_{4}) + 2 l_{2} l_{3} m_{4} + l^{2}_{3} m_{4} \\\\\n",
    "    den_4 & = 2 \\left( \\frac{1}{2} (Iy_{2}+ Iy_{3} + Iy_{4}) + \\frac{l^{2}_{0}}{2} (m_{2} + m_{3})  - l_{0} l_{2} m_{3} + \\frac{l^{2}_{1}}{2} ( m_{2} +  m_{3} + m_{4} ) + \\frac{l^{2}_{2}}{2} (m_{3} + m_{4}) + l_{2} l_{3} m_{4} + \\frac{l^{2}_{3} m_{4}}{2}\\right)^{2} \\\\& = 2(\\frac{1}{2}den_3)^2\n",
    "\\end{align}$"
   ]
  },
  {
   "cell_type": "code",
   "execution_count": 102,
   "metadata": {},
   "outputs": [],
   "source": [
    "simpl2=({numerator1:num1,denominator1:den1,denominator2:den2,denominator3:den3,denominator4:den4})\n",
    "Asimp1=Asimp1.subs(simpl2)\n",
    "Bsimp1=Bsimp1.subs(simpl2)"
   ]
  },
  {
   "cell_type": "code",
   "execution_count": 103,
   "metadata": {},
   "outputs": [
    {
     "data": {
      "text/latex": [
       "$\\displaystyle \\left[\\begin{matrix}0 & 0 & 0 & 1 & 0 & 0\\\\0 & 0 & 0 & 0 & 1 & 0\\\\0 & 0 & 0 & 0 & 0 & 1\\\\0 & 0 & - \\frac{\\left(F_{10} + F_{20}\\right) l_{1}}{den_{2}} & 0 & 0 & 0\\\\0 & \\frac{num_{1}}{den_{4}} & 0 & 0 & - \\frac{fs_{2}}{den_{3}} & 0\\\\0 & 0 & - \\frac{g l_{3} m_{4}}{den_{1}} & 0 & 0 & - \\frac{fs_{4}}{den_{1}}\\end{matrix}\\right]$"
      ],
      "text/plain": [
       "Matrix([\n",
       "[0,         0,                      0, 1,         0,         0],\n",
       "[0,         0,                      0, 0,         1,         0],\n",
       "[0,         0,                      0, 0,         0,         1],\n",
       "[0,         0, -(F_10 + F_20)*l1/den2, 0,         0,         0],\n",
       "[0, num1/den4,                      0, 0, -fs2/den3,         0],\n",
       "[0,         0,          -g*l3*m4/den1, 0,         0, -fs4/den1]])"
      ]
     },
     "execution_count": 103,
     "metadata": {},
     "output_type": "execute_result"
    }
   ],
   "source": [
    "Asimp1"
   ]
  },
  {
   "cell_type": "code",
   "execution_count": 104,
   "metadata": {},
   "outputs": [
    {
     "data": {
      "text/latex": [
       "$\\displaystyle \\left[\\begin{matrix}0 & 0 & 0 & 0\\\\0 & 0 & 0 & 0\\\\0 & 0 & 0 & 0\\\\0 & 0 & \\frac{F_{10} l_{1}}{den_{2}} & - \\frac{F_{20} l_{1}}{den_{2}}\\\\\\frac{l_{1}}{den_{3}} & \\frac{l_{1}}{den_{3}} & 0 & 0\\\\\\frac{b_{1}}{den_{1}} & - \\frac{b_{2}}{den_{1}} & \\frac{F_{10} l_{3}}{den_{1}} & - \\frac{F_{20} l_{3}}{den_{1}}\\end{matrix}\\right]$"
      ],
      "text/plain": [
       "Matrix([\n",
       "[       0,         0,            0,             0],\n",
       "[       0,         0,            0,             0],\n",
       "[       0,         0,            0,             0],\n",
       "[       0,         0, F_10*l1/den2, -F_20*l1/den2],\n",
       "[ l1/den3,   l1/den3,            0,             0],\n",
       "[b_1/den1, -b_2/den1, F_10*l3/den1, -F_20*l3/den1]])"
      ]
     },
     "execution_count": 104,
     "metadata": {},
     "output_type": "execute_result"
    }
   ],
   "source": [
    "Bsimp1"
   ]
  },
  {
   "cell_type": "code",
   "execution_count": 132,
   "metadata": {},
   "outputs": [
    {
     "data": {
      "text/latex": [
       "$\\displaystyle \\left[\\begin{matrix}\\dot{\\theta}_{1}\\\\\\dot{\\theta}_{2}\\\\\\dot{\\theta}_{4}\\\\- \\frac{\\left(F_{10} + F_{20}\\right) \\left(\\theta_{4} - \\theta_{40}\\right) l_{1}}{den_{2}} + \\frac{F_{1} F_{10} l_{1}}{den_{2}} - \\frac{F_{2} F_{20} l_{1}}{den_{2}}\\\\\\frac{\\left(\\theta_{2} - \\theta_{20}\\right) num_{1}}{den_{4}} + \\frac{\\alpha_{1} l_{1}}{den_{3}} + \\frac{\\alpha_{2} l_{1}}{den_{3}} - \\frac{fs_{2} \\dot{\\theta}_{2}}{den_{3}}\\\\- \\frac{\\left(\\theta_{4} - \\theta_{40}\\right) g l_{3} m_{4}}{den_{1}} + \\frac{F_{1} F_{10} l_{3}}{den_{1}} - \\frac{F_{2} F_{20} l_{3}}{den_{1}} + \\frac{\\alpha_{1} b_{1}}{den_{1}} - \\frac{\\alpha_{2} b_{2}}{den_{1}} - \\frac{fs_{4} \\dot{\\theta}_{4}}{den_{1}}\\end{matrix}\\right]$"
      ],
      "text/plain": [
       "Matrix([\n",
       "[                                                                                                                       theta1'],\n",
       "[                                                                                                                       theta2'],\n",
       "[                                                                                                                       theta4'],\n",
       "[                                              -(F_10 + F_20)*(theta4 - theta4_0)*l1/den2 + F_1*F_10*l1/den2 - F_2*F_20*l1/den2],\n",
       "[                                            (theta2 - theta2_0)*num1/den4 + alpha1*l1/den3 + alpha2*l1/den3 - fs2*theta2'/den3],\n",
       "[-(theta4 - theta4_0)*g*l3*m4/den1 + F_1*F_10*l3/den1 - F_2*F_20*l3/den1 + alpha1*b_1/den1 - alpha2*b_2/den1 - fs4*theta4'/den1]])"
      ]
     },
     "execution_count": 132,
     "metadata": {},
     "output_type": "execute_result"
    }
   ],
   "source": [
    "delta_states=Matrix([(theta1-theta10), (theta2-theta20), (theta4-theta40), diff(theta1), diff(theta2),diff(theta4)])\n",
    "delta_inputs=Matrix([(alpha1), (alpha2), (f1), (f2)])\n",
    "Sol=Asimp1*delta_states+Bsimp1*delta_inputs\n",
    "Sol"
   ]
  },
  {
   "cell_type": "code",
   "execution_count": 133,
   "metadata": {},
   "outputs": [
    {
     "data": {
      "text/latex": [
       "$\\displaystyle - \\frac{\\left(F_{10} + F_{20}\\right) \\left(\\theta_{4} - \\theta_{40}\\right) l_{1}}{den_{2}} + \\frac{F_{1} F_{10} l_{1}}{den_{2}} - \\frac{F_{2} F_{20} l_{1}}{den_{2}}$"
      ],
      "text/plain": [
       "-(F_10 + F_20)*(theta4 - theta4_0)*l1/den2 + F_1*F_10*l1/den2 - F_2*F_20*l1/den2"
      ]
     },
     "execution_count": 133,
     "metadata": {},
     "output_type": "execute_result"
    }
   ],
   "source": [
    "Sol[3]"
   ]
  },
  {
   "cell_type": "markdown",
   "metadata": {},
   "source": [
    "<h2>Salvando variáveis</h2>"
   ]
  },
  {
   "cell_type": "code",
   "execution_count": 131,
   "metadata": {},
   "outputs": [
    {
     "ename": "PicklingError",
     "evalue": "Can't pickle theta1: it's not the same object as __main__.theta1",
     "output_type": "error",
     "traceback": [
      "\u001b[1;31m---------------------------------------------------------------------------\u001b[0m",
      "\u001b[1;31mPicklingError\u001b[0m                             Traceback (most recent call last)",
      "\u001b[1;32m<ipython-input-131-08f986954938>\u001b[0m in \u001b[0;36m<module>\u001b[1;34m\u001b[0m\n\u001b[1;32m----> 1\u001b[1;33m \u001b[0mget_ipython\u001b[0m\u001b[1;33m(\u001b[0m\u001b[1;33m)\u001b[0m\u001b[1;33m.\u001b[0m\u001b[0mrun_line_magic\u001b[0m\u001b[1;33m(\u001b[0m\u001b[1;34m'store'\u001b[0m\u001b[1;33m,\u001b[0m \u001b[1;34m'Sol'\u001b[0m\u001b[1;33m)\u001b[0m\u001b[1;33m\u001b[0m\u001b[1;33m\u001b[0m\u001b[0m\n\u001b[0m",
      "\u001b[1;32mD:\\Users\\Gabriel\\Anaconda3\\lib\\site-packages\\IPython\\core\\interactiveshell.py\u001b[0m in \u001b[0;36mrun_line_magic\u001b[1;34m(self, magic_name, line, _stack_depth)\u001b[0m\n\u001b[0;32m   2312\u001b[0m                 \u001b[0mkwargs\u001b[0m\u001b[1;33m[\u001b[0m\u001b[1;34m'local_ns'\u001b[0m\u001b[1;33m]\u001b[0m \u001b[1;33m=\u001b[0m \u001b[0msys\u001b[0m\u001b[1;33m.\u001b[0m\u001b[0m_getframe\u001b[0m\u001b[1;33m(\u001b[0m\u001b[0mstack_depth\u001b[0m\u001b[1;33m)\u001b[0m\u001b[1;33m.\u001b[0m\u001b[0mf_locals\u001b[0m\u001b[1;33m\u001b[0m\u001b[1;33m\u001b[0m\u001b[0m\n\u001b[0;32m   2313\u001b[0m             \u001b[1;32mwith\u001b[0m \u001b[0mself\u001b[0m\u001b[1;33m.\u001b[0m\u001b[0mbuiltin_trap\u001b[0m\u001b[1;33m:\u001b[0m\u001b[1;33m\u001b[0m\u001b[1;33m\u001b[0m\u001b[0m\n\u001b[1;32m-> 2314\u001b[1;33m                 \u001b[0mresult\u001b[0m \u001b[1;33m=\u001b[0m \u001b[0mfn\u001b[0m\u001b[1;33m(\u001b[0m\u001b[1;33m*\u001b[0m\u001b[0margs\u001b[0m\u001b[1;33m,\u001b[0m \u001b[1;33m**\u001b[0m\u001b[0mkwargs\u001b[0m\u001b[1;33m)\u001b[0m\u001b[1;33m\u001b[0m\u001b[1;33m\u001b[0m\u001b[0m\n\u001b[0m\u001b[0;32m   2315\u001b[0m             \u001b[1;32mreturn\u001b[0m \u001b[0mresult\u001b[0m\u001b[1;33m\u001b[0m\u001b[1;33m\u001b[0m\u001b[0m\n\u001b[0;32m   2316\u001b[0m \u001b[1;33m\u001b[0m\u001b[0m\n",
      "\u001b[1;32m<D:\\Users\\Gabriel\\Anaconda3\\lib\\site-packages\\decorator.py:decorator-gen-126>\u001b[0m in \u001b[0;36mstore\u001b[1;34m(self, parameter_s)\u001b[0m\n",
      "\u001b[1;32mD:\\Users\\Gabriel\\Anaconda3\\lib\\site-packages\\IPython\\core\\magic.py\u001b[0m in \u001b[0;36m<lambda>\u001b[1;34m(f, *a, **k)\u001b[0m\n\u001b[0;32m    185\u001b[0m     \u001b[1;31m# but it's overkill for just that one bit of state.\u001b[0m\u001b[1;33m\u001b[0m\u001b[1;33m\u001b[0m\u001b[1;33m\u001b[0m\u001b[0m\n\u001b[0;32m    186\u001b[0m     \u001b[1;32mdef\u001b[0m \u001b[0mmagic_deco\u001b[0m\u001b[1;33m(\u001b[0m\u001b[0marg\u001b[0m\u001b[1;33m)\u001b[0m\u001b[1;33m:\u001b[0m\u001b[1;33m\u001b[0m\u001b[1;33m\u001b[0m\u001b[0m\n\u001b[1;32m--> 187\u001b[1;33m         \u001b[0mcall\u001b[0m \u001b[1;33m=\u001b[0m \u001b[1;32mlambda\u001b[0m \u001b[0mf\u001b[0m\u001b[1;33m,\u001b[0m \u001b[1;33m*\u001b[0m\u001b[0ma\u001b[0m\u001b[1;33m,\u001b[0m \u001b[1;33m**\u001b[0m\u001b[0mk\u001b[0m\u001b[1;33m:\u001b[0m \u001b[0mf\u001b[0m\u001b[1;33m(\u001b[0m\u001b[1;33m*\u001b[0m\u001b[0ma\u001b[0m\u001b[1;33m,\u001b[0m \u001b[1;33m**\u001b[0m\u001b[0mk\u001b[0m\u001b[1;33m)\u001b[0m\u001b[1;33m\u001b[0m\u001b[1;33m\u001b[0m\u001b[0m\n\u001b[0m\u001b[0;32m    188\u001b[0m \u001b[1;33m\u001b[0m\u001b[0m\n\u001b[0;32m    189\u001b[0m         \u001b[1;32mif\u001b[0m \u001b[0mcallable\u001b[0m\u001b[1;33m(\u001b[0m\u001b[0marg\u001b[0m\u001b[1;33m)\u001b[0m\u001b[1;33m:\u001b[0m\u001b[1;33m\u001b[0m\u001b[1;33m\u001b[0m\u001b[0m\n",
      "\u001b[1;32mD:\\Users\\Gabriel\\Anaconda3\\lib\\site-packages\\IPython\\extensions\\storemagic.py\u001b[0m in \u001b[0;36mstore\u001b[1;34m(self, parameter_s)\u001b[0m\n\u001b[0;32m    217\u001b[0m                     \u001b[1;32mreturn\u001b[0m\u001b[1;33m\u001b[0m\u001b[1;33m\u001b[0m\u001b[0m\n\u001b[0;32m    218\u001b[0m                 \u001b[1;31m#pickled = pickle.dumps(obj)\u001b[0m\u001b[1;33m\u001b[0m\u001b[1;33m\u001b[0m\u001b[1;33m\u001b[0m\u001b[0m\n\u001b[1;32m--> 219\u001b[1;33m                 \u001b[0mdb\u001b[0m\u001b[1;33m[\u001b[0m \u001b[1;34m'autorestore/'\u001b[0m \u001b[1;33m+\u001b[0m \u001b[0margs\u001b[0m\u001b[1;33m[\u001b[0m\u001b[1;36m0\u001b[0m\u001b[1;33m]\u001b[0m \u001b[1;33m]\u001b[0m \u001b[1;33m=\u001b[0m \u001b[0mobj\u001b[0m\u001b[1;33m\u001b[0m\u001b[1;33m\u001b[0m\u001b[0m\n\u001b[0m\u001b[0;32m    220\u001b[0m                 \u001b[0mprint\u001b[0m\u001b[1;33m(\u001b[0m\u001b[1;34m\"Stored '%s' (%s)\"\u001b[0m \u001b[1;33m%\u001b[0m \u001b[1;33m(\u001b[0m\u001b[0margs\u001b[0m\u001b[1;33m[\u001b[0m\u001b[1;36m0\u001b[0m\u001b[1;33m]\u001b[0m\u001b[1;33m,\u001b[0m \u001b[0mobj\u001b[0m\u001b[1;33m.\u001b[0m\u001b[0m__class__\u001b[0m\u001b[1;33m.\u001b[0m\u001b[0m__name__\u001b[0m\u001b[1;33m)\u001b[0m\u001b[1;33m)\u001b[0m\u001b[1;33m\u001b[0m\u001b[1;33m\u001b[0m\u001b[0m\n\u001b[0;32m    221\u001b[0m \u001b[1;33m\u001b[0m\u001b[0m\n",
      "\u001b[1;32mD:\\Users\\Gabriel\\Anaconda3\\lib\\site-packages\\pickleshare.py\u001b[0m in \u001b[0;36m__setitem__\u001b[1;34m(self, key, value)\u001b[0m\n\u001b[0;32m    116\u001b[0m         \u001b[1;31m# and Python 3. We can upgrade to protocol 3 when Python 2 is obsolete.\u001b[0m\u001b[1;33m\u001b[0m\u001b[1;33m\u001b[0m\u001b[1;33m\u001b[0m\u001b[0m\n\u001b[0;32m    117\u001b[0m         \u001b[1;32mwith\u001b[0m \u001b[0mfil\u001b[0m\u001b[1;33m.\u001b[0m\u001b[0mopen\u001b[0m\u001b[1;33m(\u001b[0m\u001b[1;34m'wb'\u001b[0m\u001b[1;33m)\u001b[0m \u001b[1;32mas\u001b[0m \u001b[0mf\u001b[0m\u001b[1;33m:\u001b[0m\u001b[1;33m\u001b[0m\u001b[1;33m\u001b[0m\u001b[0m\n\u001b[1;32m--> 118\u001b[1;33m             \u001b[0mpickle\u001b[0m\u001b[1;33m.\u001b[0m\u001b[0mdump\u001b[0m\u001b[1;33m(\u001b[0m\u001b[0mvalue\u001b[0m\u001b[1;33m,\u001b[0m \u001b[0mf\u001b[0m\u001b[1;33m,\u001b[0m \u001b[0mprotocol\u001b[0m\u001b[1;33m=\u001b[0m\u001b[1;36m2\u001b[0m\u001b[1;33m)\u001b[0m\u001b[1;33m\u001b[0m\u001b[1;33m\u001b[0m\u001b[0m\n\u001b[0m\u001b[0;32m    119\u001b[0m         \u001b[1;32mtry\u001b[0m\u001b[1;33m:\u001b[0m\u001b[1;33m\u001b[0m\u001b[1;33m\u001b[0m\u001b[0m\n\u001b[0;32m    120\u001b[0m             \u001b[0mself\u001b[0m\u001b[1;33m.\u001b[0m\u001b[0mcache\u001b[0m\u001b[1;33m[\u001b[0m\u001b[0mfil\u001b[0m\u001b[1;33m]\u001b[0m \u001b[1;33m=\u001b[0m \u001b[1;33m(\u001b[0m\u001b[0mvalue\u001b[0m\u001b[1;33m,\u001b[0m \u001b[0mfil\u001b[0m\u001b[1;33m.\u001b[0m\u001b[0mstat\u001b[0m\u001b[1;33m(\u001b[0m\u001b[1;33m)\u001b[0m\u001b[1;33m.\u001b[0m\u001b[0mst_mtime\u001b[0m\u001b[1;33m)\u001b[0m\u001b[1;33m\u001b[0m\u001b[1;33m\u001b[0m\u001b[0m\n",
      "\u001b[1;31mPicklingError\u001b[0m: Can't pickle theta1: it's not the same object as __main__.theta1"
     ]
    }
   ],
   "source": [
    "%store Sol"
   ]
  },
  {
   "cell_type": "markdown",
   "metadata": {},
   "source": [
    "<h2>Caso 2</h2>\n",
    "\n",
    "Seja a simplificação dada por\n",
    "\n",
    "$\\begin{align}\n",
    "l_3&=0\\\\\n",
    "F_{1_0}&=F_{2_0}=\\frac{1}{2}m_4g\n",
    "\\end{align}$\n"
   ]
  },
  {
   "cell_type": "code",
   "execution_count": 109,
   "metadata": {},
   "outputs": [],
   "source": [
    "simpl2=({l3:0})   # f10: g*m4/2,f20: g*m4/2}) # forcas de trimagem\n",
    "Asimp2=A.subs(simpl2)\n",
    "Bsimp2=B.subs(simpl2)"
   ]
  },
  {
   "cell_type": "code",
   "execution_count": 110,
   "metadata": {},
   "outputs": [
    {
     "data": {
      "text/latex": [
       "$\\displaystyle \\left[\\begin{matrix}0 & 0 & 0 & 1 & 0 & 0\\\\0 & 0 & 0 & 0 & 1 & 0\\\\0 & 0 & 0 & 0 & 0 & 1\\\\0 & 0 & - \\frac{\\left(F_{10} + F_{20}\\right) l_{1}}{Iz_{1} + Iz_{2} + Iz_{3} + Iz_{4} + l^{2}_{1} m_{2} + l^{2}_{1} m_{3} + l^{2}_{1} m_{4}} & 0 & 0 & 0\\\\0 & - \\frac{\\left(F_{10} + F_{20} - g m_{4}\\right) \\left(l_{0} m_{2} + l_{0} m_{3} - l_{2} m_{3} - l_{2} m_{4}\\right) l^{2}_{1}}{2 \\left(\\frac{Iy_{2}}{2} + \\frac{Iy_{3}}{2} + \\frac{Iy_{4}}{2} + \\frac{l^{2}_{0} m_{2}}{2} + \\frac{l^{2}_{0} m_{3}}{2} - l_{0} l_{2} m_{3} + \\frac{l^{2}_{1} m_{2}}{2} + \\frac{l^{2}_{1} m_{3}}{2} + \\frac{l^{2}_{1} m_{4}}{2} + \\frac{l^{2}_{2} m_{3}}{2} + \\frac{l^{2}_{2} m_{4}}{2}\\right)^{2}} & 0 & 0 & - \\frac{fs_{2}}{Iy_{2} + Iy_{3} + Iy_{4} + l^{2}_{0} m_{2} + l^{2}_{0} m_{3} - 2 l_{0} l_{2} m_{3} + l^{2}_{1} m_{2} + l^{2}_{1} m_{3} + l^{2}_{1} m_{4} + l^{2}_{2} m_{3} + l^{2}_{2} m_{4}} & 0\\\\0 & 0 & 0 & 0 & 0 & - \\frac{fs_{4}}{Ix_{4}}\\end{matrix}\\right]$"
      ],
      "text/plain": [
       "Matrix([\n",
       "[0,                                                                                                                                                                                                0,                                                                          0, 1,                                                                                                                0,        0],\n",
       "[0,                                                                                                                                                                                                0,                                                                          0, 0,                                                                                                                1,        0],\n",
       "[0,                                                                                                                                                                                                0,                                                                          0, 0,                                                                                                                0,        1],\n",
       "[0,                                                                                                                                                                                                0, -(F_10 + F_20)*l1/(Iz1 + Iz2 + Iz3 + Iz4 + l1**2*m2 + l1**2*m3 + l1**2*m4), 0,                                                                                                                0,        0],\n",
       "[0, -(F_10 + F_20 - g*m4)*(l0*m2 + l0*m3 - l2*m3 - l2*m4)*l1**2/(2*(Iy2/2 + Iy3/2 + Iy4/2 + l0**2*m2/2 + l0**2*m3/2 - l0*l2*m3 + l1**2*m2/2 + l1**2*m3/2 + l1**2*m4/2 + l2**2*m3/2 + l2**2*m4/2)**2),                                                                          0, 0, -fs2/(Iy2 + Iy3 + Iy4 + l0**2*m2 + l0**2*m3 - 2*l0*l2*m3 + l1**2*m2 + l1**2*m3 + l1**2*m4 + l2**2*m3 + l2**2*m4),        0],\n",
       "[0,                                                                                                                                                                                                0,                                                                          0, 0,                                                                                                                0, -fs4/Ix4]])"
      ]
     },
     "execution_count": 110,
     "metadata": {},
     "output_type": "execute_result"
    }
   ],
   "source": [
    "Asimp2"
   ]
  },
  {
   "cell_type": "code",
   "execution_count": 111,
   "metadata": {},
   "outputs": [
    {
     "data": {
      "text/latex": [
       "$\\displaystyle \\left[\\begin{matrix}0 & 0 & 0 & 0\\\\0 & 0 & 0 & 0\\\\0 & 0 & 0 & 0\\\\0 & 0 & \\frac{F_{10} l_{1}}{Iz_{1} + Iz_{2} + Iz_{3} + Iz_{4} + l^{2}_{1} m_{2} + l^{2}_{1} m_{3} + l^{2}_{1} m_{4}} & - \\frac{F_{20} l_{1}}{Iz_{1} + Iz_{2} + Iz_{3} + Iz_{4} + l^{2}_{1} m_{2} + l^{2}_{1} m_{3} + l^{2}_{1} m_{4}}\\\\\\frac{l_{1}}{Iy_{2} + Iy_{3} + Iy_{4} + l^{2}_{0} m_{2} + l^{2}_{0} m_{3} - 2 l_{0} l_{2} m_{3} + l^{2}_{1} m_{2} + l^{2}_{1} m_{3} + l^{2}_{1} m_{4} + l^{2}_{2} m_{3} + l^{2}_{2} m_{4}} & \\frac{l_{1}}{Iy_{2} + Iy_{3} + Iy_{4} + l^{2}_{0} m_{2} + l^{2}_{0} m_{3} - 2 l_{0} l_{2} m_{3} + l^{2}_{1} m_{2} + l^{2}_{1} m_{3} + l^{2}_{1} m_{4} + l^{2}_{2} m_{3} + l^{2}_{2} m_{4}} & 0 & 0\\\\\\frac{b_{1}}{Ix_{4}} & - \\frac{b_{2}}{Ix_{4}} & 0 & 0\\end{matrix}\\right]$"
      ],
      "text/plain": [
       "Matrix([\n",
       "[                                                                                                             0,                                                                                                              0,                                                                0,                                                                 0],\n",
       "[                                                                                                             0,                                                                                                              0,                                                                0,                                                                 0],\n",
       "[                                                                                                             0,                                                                                                              0,                                                                0,                                                                 0],\n",
       "[                                                                                                             0,                                                                                                              0, F_10*l1/(Iz1 + Iz2 + Iz3 + Iz4 + l1**2*m2 + l1**2*m3 + l1**2*m4), -F_20*l1/(Iz1 + Iz2 + Iz3 + Iz4 + l1**2*m2 + l1**2*m3 + l1**2*m4)],\n",
       "[l1/(Iy2 + Iy3 + Iy4 + l0**2*m2 + l0**2*m3 - 2*l0*l2*m3 + l1**2*m2 + l1**2*m3 + l1**2*m4 + l2**2*m3 + l2**2*m4), l1/(Iy2 + Iy3 + Iy4 + l0**2*m2 + l0**2*m3 - 2*l0*l2*m3 + l1**2*m2 + l1**2*m3 + l1**2*m4 + l2**2*m3 + l2**2*m4),                                                                0,                                                                 0],\n",
       "[                                                                                                       b_1/Ix4,                                                                                                       -b_2/Ix4,                                                                0,                                                                 0]])"
      ]
     },
     "execution_count": 111,
     "metadata": {},
     "output_type": "execute_result"
    }
   ],
   "source": [
    "Bsimp2"
   ]
  },
  {
   "cell_type": "code",
   "execution_count": 112,
   "metadata": {},
   "outputs": [
    {
     "data": {
      "text/latex": [
       "$\\displaystyle \\left[\\begin{matrix}- \\left(F_{10} + F_{20} - g m_{4}\\right) \\left(l_{0} m_{2} + l_{0} m_{3} - l_{2} m_{3} - l_{2} m_{4}\\right) l^{2}_{1}\\\\Ix_{4}\\\\Iz_{1} + Iz_{2} + Iz_{3} + Iz_{4} + l^{2}_{1} m_{2} + l^{2}_{1} m_{3} + l^{2}_{1} m_{4}\\\\Iy_{2} + Iy_{3} + Iy_{4} + l^{2}_{0} m_{2} + l^{2}_{0} m_{3} - 2 l_{0} l_{2} m_{3} + l^{2}_{1} m_{2} + l^{2}_{1} m_{3} + l^{2}_{1} m_{4} + l^{2}_{2} m_{3} + l^{2}_{2} m_{4}\\\\2 \\left(\\frac{Iy_{2}}{2} + \\frac{Iy_{3}}{2} + \\frac{Iy_{4}}{2} + \\frac{l^{2}_{0} m_{2}}{2} + \\frac{l^{2}_{0} m_{3}}{2} - l_{0} l_{2} m_{3} + \\frac{l^{2}_{1} m_{2}}{2} + \\frac{l^{2}_{1} m_{3}}{2} + \\frac{l^{2}_{1} m_{4}}{2} + \\frac{l^{2}_{2} m_{3}}{2} + \\frac{l^{2}_{2} m_{4}}{2}\\right)^{2}\\end{matrix}\\right]$"
      ],
      "text/plain": [
       "Matrix([\n",
       "[                                                                       -(F_10 + F_20 - g*m4)*(l0*m2 + l0*m3 - l2*m3 - l2*m4)*l1**2],\n",
       "[                                                                                                                               Ix4],\n",
       "[                                                                            Iz1 + Iz2 + Iz3 + Iz4 + l1**2*m2 + l1**2*m3 + l1**2*m4],\n",
       "[                         Iy2 + Iy3 + Iy4 + l0**2*m2 + l0**2*m3 - 2*l0*l2*m3 + l1**2*m2 + l1**2*m3 + l1**2*m4 + l2**2*m3 + l2**2*m4],\n",
       "[2*(Iy2/2 + Iy3/2 + Iy4/2 + l0**2*m2/2 + l0**2*m3/2 - l0*l2*m3 + l1**2*m2/2 + l1**2*m3/2 + l1**2*m4/2 + l2**2*m3/2 + l2**2*m4/2)**2]])"
      ]
     },
     "execution_count": 112,
     "metadata": {},
     "output_type": "execute_result"
    }
   ],
   "source": [
    "n,denominator1 = fraction(Asimp2[5,5])\n",
    "n,denominator2 = fraction(Asimp2[3,2])\n",
    "n,denominator3 = fraction(Bsimp2[4,1])\n",
    "numerator1,denominator4 = fraction(Asimp2[4,1])\n",
    "termos=Matrix([[numerator1],[denominator1], [denominator2], [denominator3],[denominator4]]);\n",
    "#(2*pow(((0.5*denominator3).nsimplify()),2))=den4\n",
    "termos"
   ]
  },
  {
   "cell_type": "markdown",
   "metadata": {},
   "source": [
    "Simplificando alguns denominadores"
   ]
  },
  {
   "cell_type": "code",
   "execution_count": 113,
   "metadata": {},
   "outputs": [],
   "source": [
    "n,den = fraction(Asimp2[4,4])\n",
    "Asimp2[4,4]=n/den"
   ]
  },
  {
   "cell_type": "code",
   "execution_count": 114,
   "metadata": {},
   "outputs": [],
   "source": [
    "n,den = fraction(Bsimp2[4,0])\n",
    "Bsimp2[4,0]=n/den\n",
    "n,den = fraction(Bsimp2[4,1])\n",
    "Bsimp2[4,1]=n/den"
   ]
  },
  {
   "cell_type": "markdown",
   "metadata": {},
   "source": [
    "E simplificando a notação\n",
    "\n",
    "$\\begin{align}\n",
    "    num_1&= - \\left(F_{10} + F_{20} - g m_{4}\\right) \\left(l_{0} (m_{2} + m_{3}) - l_{2} (m_{3} + m_{4})\\right) l^{2}_{1} \\\\\n",
    "    den_1&= Ix_{4}\\\\\n",
    "    den_2 & = Iz_{1} + Iz_{2} + Iz_{3} + Iz_{4} + l^{2}_{1} (m_{2} + m_{3} + m_{4}) \\\\\n",
    "    den_3 & = Iy_{2} + Iy_{3} + Iy_{4} + l^{2}_{0} ( m_{2} +  m_{3}) - 2 l_{0} l_{2} m_{3} + l^{2}_{1}( m_{2} + m_{3} + m_{4}) + l^{2}_{2} ( m_{3} + m_{4}) \\\\\n",
    "    den_4 & = 2 \\left( \\frac{1}{2} (Iy_{2} + Iy_{3} + Iy_{4} ) + \\frac{l^{2}_{0}}{2} (m_{2} + m_{3}) - l_{0} l_{2} m_{3} + \\frac{l^{2}_{1}}{2} (m_{2}+ m_{3}+ m_{4}) + \\frac{l^{2}_{2}}{2}(m_{3}+m_{4})\\right)^{2} \\\\& = 2(\\frac{1}{2}den_3)^2\n",
    "\\end{align}$"
   ]
  },
  {
   "cell_type": "code",
   "execution_count": 115,
   "metadata": {},
   "outputs": [],
   "source": [
    "simpl2=({numerator1:num1,denominator1:den1,denominator2:den2,denominator3:den3,denominator4:den4})\n",
    "Asimp2=Asimp2.subs(simpl2)\n",
    "Bsimp2=Bsimp2.subs(simpl2)"
   ]
  },
  {
   "cell_type": "code",
   "execution_count": 116,
   "metadata": {},
   "outputs": [
    {
     "data": {
      "text/latex": [
       "$\\displaystyle \\left[\\begin{matrix}0 & 0 & 0 & 1 & 0 & 0\\\\0 & 0 & 0 & 0 & 1 & 0\\\\0 & 0 & 0 & 0 & 0 & 1\\\\0 & 0 & - \\frac{\\left(F_{10} + F_{20}\\right) l_{1}}{den_{2}} & 0 & 0 & 0\\\\0 & \\frac{num_{1}}{den_{4}} & 0 & 0 & - \\frac{fs_{2}}{den_{3}} & 0\\\\0 & 0 & 0 & 0 & 0 & - \\frac{fs_{4}}{den_{1}}\\end{matrix}\\right]$"
      ],
      "text/plain": [
       "Matrix([\n",
       "[0,         0,                      0, 1,         0,         0],\n",
       "[0,         0,                      0, 0,         1,         0],\n",
       "[0,         0,                      0, 0,         0,         1],\n",
       "[0,         0, -(F_10 + F_20)*l1/den2, 0,         0,         0],\n",
       "[0, num1/den4,                      0, 0, -fs2/den3,         0],\n",
       "[0,         0,                      0, 0,         0, -fs4/den1]])"
      ]
     },
     "execution_count": 116,
     "metadata": {},
     "output_type": "execute_result"
    }
   ],
   "source": [
    "Asimp2"
   ]
  },
  {
   "cell_type": "code",
   "execution_count": 117,
   "metadata": {},
   "outputs": [
    {
     "data": {
      "text/latex": [
       "$\\displaystyle \\left[\\begin{matrix}0 & 0 & 0 & 0\\\\0 & 0 & 0 & 0\\\\0 & 0 & 0 & 0\\\\0 & 0 & \\frac{F_{10} l_{1}}{den_{2}} & - \\frac{F_{20} l_{1}}{den_{2}}\\\\\\frac{l_{1}}{den_{3}} & \\frac{l_{1}}{den_{3}} & 0 & 0\\\\\\frac{b_{1}}{den_{1}} & - \\frac{b_{2}}{den_{1}} & 0 & 0\\end{matrix}\\right]$"
      ],
      "text/plain": [
       "Matrix([\n",
       "[       0,         0,            0,             0],\n",
       "[       0,         0,            0,             0],\n",
       "[       0,         0,            0,             0],\n",
       "[       0,         0, F_10*l1/den2, -F_20*l1/den2],\n",
       "[ l1/den3,   l1/den3,            0,             0],\n",
       "[b_1/den1, -b_2/den1,            0,             0]])"
      ]
     },
     "execution_count": 117,
     "metadata": {},
     "output_type": "execute_result"
    }
   ],
   "source": [
    "Bsimp2"
   ]
  },
  {
   "cell_type": "code",
   "execution_count": null,
   "metadata": {
    "collapsed": true
   },
   "outputs": [],
   "source": []
  }
 ],
 "metadata": {
  "kernelspec": {
   "display_name": "Python 3",
   "language": "python",
   "name": "python3"
  },
  "language_info": {
   "codemirror_mode": {
    "name": "ipython",
    "version": 3
   },
   "file_extension": ".py",
   "mimetype": "text/x-python",
   "name": "python",
   "nbconvert_exporter": "python",
   "pygments_lexer": "ipython3",
   "version": "3.7.4"
  },
  "widgets": {
   "application/vnd.jupyter.widget-state+json": {
    "state": {},
    "version_major": 2,
    "version_minor": 0
   }
  }
 },
 "nbformat": 4,
 "nbformat_minor": 4
}
