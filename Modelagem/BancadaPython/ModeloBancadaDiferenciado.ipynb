{
 "cells": [
  {
   "cell_type": "markdown",
   "metadata": {},
   "source": [
    "<div style=\"background-color:black;color:white;padding:20px\">\n",
    "\n",
    "<center><h3> LAA </h3></center>\n",
    "<center><h1> Projeto Bicóptero </h1></center>\n",
    "\n",
    "<center> <h1> Modelo dinâmico da bancada usando a formulação de Lagrange</h1></center>\n",
    "\n",
    "<h3> Por Gabriel Henrique Costa e Silva </h3> \n",
    "</div>"
   ]
  },
  {
   "cell_type": "markdown",
   "metadata": {},
   "source": [
    "<h2> Inicializando as bibliotecas </h2>"
   ]
  },
  {
   "cell_type": "code",
   "execution_count": 1,
   "metadata": {},
   "outputs": [],
   "source": [
    "import numpy as np\n",
    "import matplotlib.pyplot as plt\n",
    "from sympy import * \n",
    "from sympy import trigsimp, pi, cos, sin\n",
    "from sympy.physics.mechanics import *"
   ]
  },
  {
   "cell_type": "markdown",
   "metadata": {},
   "source": [
    "# Setup"
   ]
  },
  {
   "cell_type": "markdown",
   "metadata": {},
   "source": [
    "First, import the necessary functions from SymPy that will allow us to construct time varying vectors in the four reference frames."
   ]
  },
  {
   "cell_type": "code",
   "execution_count": 2,
   "metadata": {
    "collapsed": false,
    "jupyter": {
     "outputs_hidden": false
    }
   },
   "outputs": [],
   "source": [
    "from __future__ import print_function, division\n",
    "from sympy import symbols, simplify\n",
    "from sympy.physics.mechanics import dynamicsymbols, ReferenceFrame, Point"
   ]
  },
  {
   "cell_type": "markdown",
   "metadata": {},
   "source": [
    "SymPy has a rich printing system. Here we initialize printing so that all of the mathematical equations are rendered in standard mathematical notation."
   ]
  },
  {
   "cell_type": "code",
   "execution_count": 3,
   "metadata": {
    "collapsed": false,
    "jupyter": {
     "outputs_hidden": false
    }
   },
   "outputs": [],
   "source": [
    "from sympy.physics.vector import init_vprinting\n",
    "init_vprinting(use_latex='mathjax', pretty_print=False)"
   ]
  },
  {
   "cell_type": "markdown",
   "metadata": {},
   "source": [
    "The IPython notebook can display rich content. We will use the Image function to import some images for reference."
   ]
  },
  {
   "cell_type": "code",
   "execution_count": 4,
   "metadata": {
    "collapsed": false,
    "jupyter": {
     "outputs_hidden": false
    }
   },
   "outputs": [],
   "source": [
    "from IPython.display import Image"
   ]
  },
  {
   "cell_type": "code",
   "execution_count": 5,
   "metadata": {
    "collapsed": false,
    "jupyter": {
     "outputs_hidden": false
    }
   },
   "outputs": [],
   "source": [
    "t = Symbol(\"t\")\n",
    "\n",
    "# Angulos Theta\n",
    "theta1 = Function(\"theta1\")(t)\n",
    "theta2 = Function(\"theta2\")(t)\n",
    "theta3 = Function(\"theta3\")(t)\n",
    "theta4 = Function(\"theta4\")(t)\n",
    "\n",
    "# Constante da gravidade\n",
    "g = dynamicsymbols('g')\n",
    "\n",
    "# Forcas e Momentos\n",
    "fx, fy, fz = dynamicsymbols('f_x, f_y, f_z')\n",
    "taux, tauy, tauz = dynamicsymbols('tau_x, tau_y, tau_z')\n",
    "\n",
    "# Forcas dos motores\n",
    "f1,f2= dynamicsymbols('F_1, F_2')\n",
    "\n",
    "# Angulos Alfa (Angulos do mecanismo tilt)\n",
    "alpha1 = Function(\"alpha1\")(t)\n",
    "alpha2 = Function(\"alpha2\")(t)\n",
    "\n",
    "# Extensão dos bracos do bicopter\n",
    "b1,b2 = dynamicsymbols('b_1, b_2')"
   ]
  },
  {
   "cell_type": "code",
   "execution_count": 6,
   "metadata": {
    "collapsed": false,
    "jupyter": {
     "outputs_hidden": false
    }
   },
   "outputs": [],
   "source": [
    "l0, l1, l2, l3, l4 = dynamicsymbols('l0, l1, l2, l3, l4')"
   ]
  },
  {
   "cell_type": "code",
   "execution_count": 7,
   "metadata": {
    "collapsed": false,
    "jupyter": {
     "outputs_hidden": false
    }
   },
   "outputs": [],
   "source": [
    "m1, m2, m3, m4, m5 = dynamicsymbols('m1, m2, m3, m4, m5')"
   ]
  },
  {
   "cell_type": "code",
   "execution_count": 8,
   "metadata": {
    "collapsed": false,
    "jupyter": {
     "outputs_hidden": false
    }
   },
   "outputs": [],
   "source": [
    "Ix1, Ix2, Ix3, Ix4, Ix5 = dynamicsymbols('Ix1, Ix2, Ix3, Ix4, Ix5')\n",
    "Iy1, Iy2, Iy3, Iy4, Iy5 = dynamicsymbols('Iy1, Iy2, Iy3, Iy4, Iy5')\n",
    "Iz1, Iz2, Iz3, Iz4, Iz5 = dynamicsymbols('Iz1, Iz2, Iz3, Iz4, Iz5')"
   ]
  },
  {
   "cell_type": "code",
   "execution_count": 9,
   "metadata": {
    "collapsed": false,
    "jupyter": {
     "outputs_hidden": false
    }
   },
   "outputs": [],
   "source": [
    "d_theta1, d_theta2, d_theta3, d_theta4 = dynamicsymbols('delta_theta_1, delta_theta_2, delta_theta_3, delta_theta_4')\n"
   ]
  },
  {
   "cell_type": "code",
   "execution_count": 10,
   "metadata": {},
   "outputs": [],
   "source": [
    "d_omega1 = Function(\"delta_omega_1\")(t)\n",
    "d_omega2 = Function(\"delta_omega_2\")(t)\n",
    "d_omega3 = Function(\"delta_omega_3\")(t)\n",
    "d_omega4 = Function(\"delta_omega_4\")(t)\n",
    "omega10, omega20, omega30, omega40 = dynamicsymbols('omega1_0, omega2_0, omega3_0, omega4_0')"
   ]
  },
  {
   "cell_type": "code",
   "execution_count": 11,
   "metadata": {},
   "outputs": [],
   "source": [
    "d_psi1 = Function(\"delta_psi_1\")(t)\n",
    "d_psi3 = Function(\"delta_psi_2\")(t)\n",
    "d_psi2 = Function(\"delta_psi_3\")(t)\n",
    "d_psi4 = Function(\"delta_psi_4\")(t)\n",
    "psi1, psi2, psi3, psi4 = dynamicsymbols('psi_1, psi_2, psi_3, psi_4')\n",
    "sigma = dynamicsymbols('sigma')\n",
    "psi10, psi20, psi30, psi40 = dynamicsymbols('psi1_0, psi2_0, psi3_0, psi4_0')"
   ]
  },
  {
   "cell_type": "code",
   "execution_count": 12,
   "metadata": {
    "collapsed": false,
    "jupyter": {
     "outputs_hidden": false
    }
   },
   "outputs": [],
   "source": [
    "theta10, theta20, theta30, theta40 = dynamicsymbols('theta_1_0, theta2_0, theta3_0, theta4_0')\n",
    "alpha10, alpha20= dynamicsymbols('alpha_1_0, alpha2_0')\n",
    "fx0, fy0, fz0 = dynamicsymbols('f_x0, f_y0, f_z0')\n",
    "f10, f20= dynamicsymbols('F_10, F_20')\n",
    "taux0, tauy0, tauz0 = dynamicsymbols('tau_x0, tau_y0, tau_z0')\n",
    "d_fx, d_fy, d_fz, d_tauz = dynamicsymbols('delta_fx, delta_fy, delta_fz, delta_tau_z')"
   ]
  },
  {
   "cell_type": "code",
   "execution_count": 13,
   "metadata": {},
   "outputs": [],
   "source": [
    "# Criando a função de criação da matriz de transformação homogênea\n",
    "\n",
    "# Matriz Rotação da Transformação\n",
    "def rt_M(T):\n",
    "    M = T[0:3,0:3]\n",
    "    return M"
   ]
  },
  {
   "cell_type": "code",
   "execution_count": 14,
   "metadata": {},
   "outputs": [],
   "source": [
    "# Matriz Rotação da Transformação\n",
    "def ch_M(T):\n",
    "    M=zeros(6)\n",
    "    M[0:3,0:3] = T[0:3,0:3]\n",
    "    M[3:6,3:6] = T[0:3,0:3]\n",
    "    return M"
   ]
  },
  {
   "cell_type": "code",
   "execution_count": 15,
   "metadata": {},
   "outputs": [],
   "source": [
    "# Matriz da massa e inércia\n",
    "def mI_M(m,Ix,Iy,Iz):\n",
    "    M = diag(m, m, m, Ix, Iy, Iz)\n",
    "    return M"
   ]
  },
  {
   "cell_type": "code",
   "execution_count": 16,
   "metadata": {},
   "outputs": [],
   "source": [
    "# Ponto de representação homogenea para dimensão 3\n",
    "def ph_2N(ph):\n",
    "    p = Matrix(ph[0:3])\n",
    "    return (p)"
   ]
  },
  {
   "cell_type": "code",
   "execution_count": 17,
   "metadata": {},
   "outputs": [],
   "source": [
    "# Definindo a matriz jacobiana\n",
    "def Jc(j1,j2,j3,j4):\n",
    "    J = zeros(6,1)\n",
    "    J = J.col_insert(0,j1)\n",
    "    J = J.col_insert(1,j2)\n",
    "    J = J.col_insert(2,j3)\n",
    "    J = J.col_insert(3,j4)\n",
    "    J.col_del(4)\n",
    "    return J"
   ]
  },
  {
   "cell_type": "code",
   "execution_count": 18,
   "metadata": {},
   "outputs": [],
   "source": [
    "# Definindo a nesima coluna da matriz jacobiana\n",
    "def Ji(m0,op,oi):\n",
    "    aux1 = m0*Matrix([0,0,1])\n",
    "    aux2 = aux1.cross(op-oi)\n",
    "    J = Matrix([aux2, aux1])\n",
    "    return J"
   ]
  },
  {
   "cell_type": "code",
   "execution_count": 19,
   "metadata": {},
   "outputs": [],
   "source": [
    "# Definindo a nesima coluna da matriz jacobiana\n",
    "def JpTi(m0,op,Ti):\n",
    "    # Calculate the zi= i-1Mi.k\n",
    "    aux1 = m0*Matrix([0,0,1])\n",
    "    oi = Matrix([Ti[0:3,3]])\n",
    "    # Calculate the zi= i-1Mi.k\n",
    "    aux2 = aux1.cross(op-oi)\n",
    "    \n",
    "    J = Matrix([aux2, aux1])\n",
    "    return J"
   ]
  },
  {
   "cell_type": "code",
   "execution_count": 20,
   "metadata": {},
   "outputs": [],
   "source": [
    "# Criando a função de criação da matriz de transformação homogênea\n",
    "# a partir dos parâmetros de Denavit-Hatemberg\n",
    "\n",
    "#cos = cos\n",
    "#sin = sin\n",
    "\n",
    "# Matriz Transformação Homogênea (Homogeous Transformation Matrix)\n",
    "# Using the Standard Denavit-Hatemberg Convention (not Modified)\n",
    "def ht_M(theta, d, alpha, a):\n",
    "    # theta e alpha em radianos\n",
    "    # d e a em metros\n",
    "    Rz = Matrix([[cos(theta), -sin(theta), 0, 0],\n",
    "                   [sin(theta), cos(theta), 0, 0],\n",
    "                   [0, 0, 1, 0],\n",
    "                   [0, 0, 0, 1]])\n",
    "    tz = Matrix([[1, 0, 0, 0],\n",
    "                   [0, 1, 0, 0],\n",
    "                   [0, 0, 1, a],\n",
    "                   [0, 0, 0, 1]])\n",
    "    ta = Matrix([[1, 0, 0, d],\n",
    "                   [0, 1, 0, 0],\n",
    "                   [0, 0, 1, 0],\n",
    "                   [0, 0, 0, 1]])\n",
    "    Rx = Matrix([[1, 0, 0, 0],\n",
    "                   [0, cos(alpha), -sin(alpha), 0],\n",
    "                   [0, sin(alpha), cos(alpha), 0],\n",
    "                   [0, 0, 0, 1]])\n",
    "    T = Rz*tz*ta*Rx\n",
    "    return T"
   ]
  },
  {
   "cell_type": "markdown",
   "metadata": {},
   "source": [
    "<h2> Declaração dos parâmetros de Denavit-Hatenberg </h2>\n",
    "<h2> Instanciação das matrizes de transformação homogêneas </h2>"
   ]
  },
  {
   "cell_type": "markdown",
   "metadata": {},
   "source": [
    "![title](img/ModeloModificado.png)"
   ]
  },
  {
   "cell_type": "code",
   "execution_count": 21,
   "metadata": {},
   "outputs": [],
   "source": [
    "T1 = ht_M(theta1, 0, (pi)/2, l1)\n",
    "T2 = ht_M(theta2, l2, 0, 0)\n",
    "T3 = ht_M(theta3, l3, (-pi)/2, 0)\n",
    "T4 = ht_M(theta4, l4, 0, 0)"
   ]
  },
  {
   "cell_type": "code",
   "execution_count": 22,
   "metadata": {},
   "outputs": [
    {
     "data": {
      "text/latex": [
       "$\\displaystyle \\left[\\begin{matrix}\\cos{\\left(\\theta_{1} \\right)} & 0 & \\sin{\\left(\\theta_{1} \\right)} & 0\\\\\\sin{\\left(\\theta_{1} \\right)} & 0 & - \\cos{\\left(\\theta_{1} \\right)} & 0\\\\0 & 1 & 0 & l_{1}\\\\0 & 0 & 0 & 1\\end{matrix}\\right]$"
      ],
      "text/plain": [
       "Matrix([\n",
       "[cos(theta1), 0,  sin(theta1),  0],\n",
       "[sin(theta1), 0, -cos(theta1),  0],\n",
       "[          0, 1,            0, l1],\n",
       "[          0, 0,            0,  1]])"
      ]
     },
     "execution_count": 22,
     "metadata": {},
     "output_type": "execute_result"
    }
   ],
   "source": [
    "T1"
   ]
  },
  {
   "cell_type": "code",
   "execution_count": 23,
   "metadata": {},
   "outputs": [
    {
     "data": {
      "text/latex": [
       "$\\displaystyle \\left[\\begin{matrix}\\cos{\\left(\\theta_{2} \\right)} & - \\sin{\\left(\\theta_{2} \\right)} & 0 & l_{2} \\cos{\\left(\\theta_{2} \\right)}\\\\\\sin{\\left(\\theta_{2} \\right)} & \\cos{\\left(\\theta_{2} \\right)} & 0 & l_{2} \\sin{\\left(\\theta_{2} \\right)}\\\\0 & 0 & 1 & 0\\\\0 & 0 & 0 & 1\\end{matrix}\\right]$"
      ],
      "text/plain": [
       "Matrix([\n",
       "[cos(theta2), -sin(theta2), 0, l2*cos(theta2)],\n",
       "[sin(theta2),  cos(theta2), 0, l2*sin(theta2)],\n",
       "[          0,            0, 1,              0],\n",
       "[          0,            0, 0,              1]])"
      ]
     },
     "execution_count": 23,
     "metadata": {},
     "output_type": "execute_result"
    }
   ],
   "source": [
    "T2"
   ]
  },
  {
   "cell_type": "code",
   "execution_count": 24,
   "metadata": {},
   "outputs": [
    {
     "data": {
      "text/latex": [
       "$\\displaystyle \\left[\\begin{matrix}\\cos{\\left(\\theta_{3} \\right)} & 0 & - \\sin{\\left(\\theta_{3} \\right)} & l_{3} \\cos{\\left(\\theta_{3} \\right)}\\\\\\sin{\\left(\\theta_{3} \\right)} & 0 & \\cos{\\left(\\theta_{3} \\right)} & l_{3} \\sin{\\left(\\theta_{3} \\right)}\\\\0 & -1 & 0 & 0\\\\0 & 0 & 0 & 1\\end{matrix}\\right]$"
      ],
      "text/plain": [
       "Matrix([\n",
       "[cos(theta3),  0, -sin(theta3), l3*cos(theta3)],\n",
       "[sin(theta3),  0,  cos(theta3), l3*sin(theta3)],\n",
       "[          0, -1,            0,              0],\n",
       "[          0,  0,            0,              1]])"
      ]
     },
     "execution_count": 24,
     "metadata": {},
     "output_type": "execute_result"
    }
   ],
   "source": [
    "T3"
   ]
  },
  {
   "cell_type": "code",
   "execution_count": 25,
   "metadata": {},
   "outputs": [
    {
     "data": {
      "text/latex": [
       "$\\displaystyle \\left[\\begin{matrix}\\cos{\\left(\\theta_{4} \\right)} & - \\sin{\\left(\\theta_{4} \\right)} & 0 & l_{4} \\cos{\\left(\\theta_{4} \\right)}\\\\\\sin{\\left(\\theta_{4} \\right)} & \\cos{\\left(\\theta_{4} \\right)} & 0 & l_{4} \\sin{\\left(\\theta_{4} \\right)}\\\\0 & 0 & 1 & 0\\\\0 & 0 & 0 & 1\\end{matrix}\\right]$"
      ],
      "text/plain": [
       "Matrix([\n",
       "[cos(theta4), -sin(theta4), 0, l4*cos(theta4)],\n",
       "[sin(theta4),  cos(theta4), 0, l4*sin(theta4)],\n",
       "[          0,            0, 1,              0],\n",
       "[          0,            0, 0,              1]])"
      ]
     },
     "execution_count": 25,
     "metadata": {},
     "output_type": "execute_result"
    }
   ],
   "source": [
    "T4"
   ]
  },
  {
   "cell_type": "markdown",
   "metadata": {},
   "source": [
    "<h3> Simplificação da matriz T3 a partir da relação entre $\\theta_3$ e $\\theta_2$</h3>"
   ]
  },
  {
   "cell_type": "code",
   "execution_count": 26,
   "metadata": {},
   "outputs": [
    {
     "data": {
      "text/latex": [
       "$\\displaystyle \\left[\\begin{matrix}\\cos{\\left(\\theta_{3} \\right)} & 0 & - \\sin{\\left(\\theta_{3} \\right)} & l_{3} \\cos{\\left(\\theta_{3} \\right)}\\\\\\sin{\\left(\\theta_{3} \\right)} & 0 & \\cos{\\left(\\theta_{3} \\right)} & l_{3} \\sin{\\left(\\theta_{3} \\right)}\\\\0 & -1 & 0 & 0\\\\0 & 0 & 0 & 1\\end{matrix}\\right]$"
      ],
      "text/plain": [
       "Matrix([\n",
       "[cos(theta3),  0, -sin(theta3), l3*cos(theta3)],\n",
       "[sin(theta3),  0,  cos(theta3), l3*sin(theta3)],\n",
       "[          0, -1,            0,              0],\n",
       "[          0,  0,            0,              1]])"
      ]
     },
     "execution_count": 26,
     "metadata": {},
     "output_type": "execute_result"
    }
   ],
   "source": [
    "T3"
   ]
  },
  {
   "cell_type": "code",
   "execution_count": 27,
   "metadata": {},
   "outputs": [],
   "source": [
    "T3=T3.subs(theta3,(-pi/2-theta2))"
   ]
  },
  {
   "cell_type": "code",
   "execution_count": 28,
   "metadata": {},
   "outputs": [
    {
     "data": {
      "text/latex": [
       "$\\displaystyle \\left[\\begin{matrix}- \\sin{\\left(\\theta_{2} \\right)} & 0 & \\cos{\\left(\\theta_{2} \\right)} & - l_{3} \\sin{\\left(\\theta_{2} \\right)}\\\\- \\cos{\\left(\\theta_{2} \\right)} & 0 & - \\sin{\\left(\\theta_{2} \\right)} & - l_{3} \\cos{\\left(\\theta_{2} \\right)}\\\\0 & -1 & 0 & 0\\\\0 & 0 & 0 & 1\\end{matrix}\\right]$"
      ],
      "text/plain": [
       "Matrix([\n",
       "[-sin(theta2),  0,  cos(theta2), -l3*sin(theta2)],\n",
       "[-cos(theta2),  0, -sin(theta2), -l3*cos(theta2)],\n",
       "[           0, -1,            0,               0],\n",
       "[           0,  0,            0,               1]])"
      ]
     },
     "execution_count": 28,
     "metadata": {},
     "output_type": "execute_result"
    }
   ],
   "source": [
    "T3"
   ]
  },
  {
   "cell_type": "markdown",
   "metadata": {},
   "source": [
    "<h2> Instanciação das matrizes de transformação homogêneas em realação ao referencial 0 </h2>"
   ]
  },
  {
   "cell_type": "code",
   "execution_count": 29,
   "metadata": {},
   "outputs": [],
   "source": [
    "T01=T1\n",
    "T02=T01*T2\n",
    "T02=trigsimp(T02)\n",
    "T03=T02*T3\n",
    "T03=trigsimp(T03)\n",
    "T04=T03*T4"
   ]
  },
  {
   "cell_type": "code",
   "execution_count": 30,
   "metadata": {},
   "outputs": [],
   "source": [
    "#(T02)\n",
    "#(T03)\n",
    "#(T04)"
   ]
  },
  {
   "cell_type": "markdown",
   "metadata": {},
   "source": [
    "<h2> Criação das matrizes Jacobianas</h2>"
   ]
  },
  {
   "cell_type": "code",
   "execution_count": 31,
   "metadata": {},
   "outputs": [],
   "source": [
    "# Criação dos pontos origens\n",
    "og1=ph_2N(T01*Matrix([0,0,0,1]))\n",
    "og2=ph_2N(T03*Matrix([-l3/2,0,0,1]))\n",
    "og3=ph_2N(T03*Matrix([0,0,0,1]))\n",
    "og4=ph_2N(T04*Matrix([0,0,0,1]))"
   ]
  },
  {
   "cell_type": "code",
   "execution_count": 32,
   "metadata": {},
   "outputs": [],
   "source": [
    "# Calculo do Jc[1] que é o jacobiano referente ponto centro de gravidade g1\n",
    "null=Matrix([0,0,0,0,0,0])\n",
    "J1 = Ji(eye(3),og1, Matrix([0,0,0])) \n",
    "Jc1 = Jc(J1,null,null,null)\n",
    "# Calculo do Jc[2] que é o jacobiano referente ponto centro de gravidade g2\n",
    "J1 = Ji(eye(3),og2, Matrix([0,0,0])) \n",
    "J2 = Ji(rt_M(T01),og2, Matrix([0,0,0])) \n",
    "Jc2 = trigsimp(Jc(J1,J2,null,null))\n",
    "# Calculo do Jc[3] que é o jacobiano referente ponto centro de gravidade g3\n",
    "J1 = Ji(eye(3),og3, Matrix([0,0,0])) \n",
    "J2 = Ji(rt_M(T01),og3, Matrix([0,0,0]))\n",
    "J3 = JpTi(rt_M(T02),og3,T02) \n",
    "Jc3 = trigsimp(Jc(J1,J2,J3,null))\n",
    "# Calculo do Jc[4] que é o jacobiano referente ponto centro de gravidade g4\n",
    "J1 = Ji(eye(3),og4, Matrix([0,0,0])) \n",
    "J2 = Ji(rt_M(T01),og4, Matrix([0,0,0]))\n",
    "J3 = JpTi(rt_M(T02),og4,T02) \n",
    "J4 = JpTi(rt_M(T03),og4,T03)\n",
    "Jc4 = trigsimp(Jc(J1,J2,J3,J4))"
   ]
  },
  {
   "cell_type": "code",
   "execution_count": 33,
   "metadata": {},
   "outputs": [
    {
     "data": {
      "text/latex": [
       "$\\displaystyle \\left[\\begin{matrix}0 & 0 & 0 & 0\\\\0 & 0 & 0 & 0\\\\0 & 0 & 0 & 0\\\\0 & 0 & 0 & 0\\\\0 & 0 & 0 & 0\\\\1 & 0 & 0 & 0\\end{matrix}\\right]$"
      ],
      "text/plain": [
       "Matrix([\n",
       "[0, 0, 0, 0],\n",
       "[0, 0, 0, 0],\n",
       "[0, 0, 0, 0],\n",
       "[0, 0, 0, 0],\n",
       "[0, 0, 0, 0],\n",
       "[1, 0, 0, 0]])"
      ]
     },
     "execution_count": 33,
     "metadata": {},
     "output_type": "execute_result"
    }
   ],
   "source": [
    "Jc1"
   ]
  },
  {
   "cell_type": "code",
   "execution_count": 34,
   "metadata": {},
   "outputs": [
    {
     "data": {
      "text/latex": [
       "$\\displaystyle \\left[\\begin{matrix}- l_{2} \\sin{\\left(\\theta_{1} \\right)} \\cos{\\left(\\theta_{2} \\right)} & - \\left(l_{1} + l_{2} \\sin{\\left(\\theta_{2} \\right)} - \\frac{l_{3}}{2}\\right) \\cos{\\left(\\theta_{1} \\right)} & 0 & 0\\\\l_{2} \\cos{\\left(\\theta_{1} \\right)} \\cos{\\left(\\theta_{2} \\right)} & - \\left(l_{1} + l_{2} \\sin{\\left(\\theta_{2} \\right)} - \\frac{l_{3}}{2}\\right) \\sin{\\left(\\theta_{1} \\right)} & 0 & 0\\\\0 & l_{2} \\cos{\\left(\\theta_{2} \\right)} & 0 & 0\\\\0 & \\sin{\\left(\\theta_{1} \\right)} & 0 & 0\\\\0 & - \\cos{\\left(\\theta_{1} \\right)} & 0 & 0\\\\1 & 0 & 0 & 0\\end{matrix}\\right]$"
      ],
      "text/plain": [
       "Matrix([\n",
       "[-l2*sin(theta1)*cos(theta2), -(l1 + l2*sin(theta2) - l3/2)*cos(theta1), 0, 0],\n",
       "[ l2*cos(theta1)*cos(theta2), -(l1 + l2*sin(theta2) - l3/2)*sin(theta1), 0, 0],\n",
       "[                          0,                            l2*cos(theta2), 0, 0],\n",
       "[                          0,                               sin(theta1), 0, 0],\n",
       "[                          0,                              -cos(theta1), 0, 0],\n",
       "[                          1,                                         0, 0, 0]])"
      ]
     },
     "execution_count": 34,
     "metadata": {},
     "output_type": "execute_result"
    }
   ],
   "source": [
    "Jc2"
   ]
  },
  {
   "cell_type": "code",
   "execution_count": 35,
   "metadata": {},
   "outputs": [
    {
     "data": {
      "text/latex": [
       "$\\displaystyle \\left[\\begin{matrix}- l_{2} \\sin{\\left(\\theta_{1} \\right)} \\cos{\\left(\\theta_{2} \\right)} & - \\left(l_{1} + l_{2} \\sin{\\left(\\theta_{2} \\right)} - l_{3}\\right) \\cos{\\left(\\theta_{1} \\right)} & l_{3} \\cos{\\left(\\theta_{1} \\right)} & 0\\\\l_{2} \\cos{\\left(\\theta_{1} \\right)} \\cos{\\left(\\theta_{2} \\right)} & - \\left(l_{1} + l_{2} \\sin{\\left(\\theta_{2} \\right)} - l_{3}\\right) \\sin{\\left(\\theta_{1} \\right)} & l_{3} \\sin{\\left(\\theta_{1} \\right)} & 0\\\\0 & l_{2} \\cos{\\left(\\theta_{2} \\right)} & 0 & 0\\\\0 & \\sin{\\left(\\theta_{1} \\right)} & \\sin{\\left(\\theta_{1} \\right)} & 0\\\\0 & - \\cos{\\left(\\theta_{1} \\right)} & - \\cos{\\left(\\theta_{1} \\right)} & 0\\\\1 & 0 & 0 & 0\\end{matrix}\\right]$"
      ],
      "text/plain": [
       "Matrix([\n",
       "[-l2*sin(theta1)*cos(theta2), -(l1 + l2*sin(theta2) - l3)*cos(theta1), l3*cos(theta1), 0],\n",
       "[ l2*cos(theta1)*cos(theta2), -(l1 + l2*sin(theta2) - l3)*sin(theta1), l3*sin(theta1), 0],\n",
       "[                          0,                          l2*cos(theta2),              0, 0],\n",
       "[                          0,                             sin(theta1),    sin(theta1), 0],\n",
       "[                          0,                            -cos(theta1),   -cos(theta1), 0],\n",
       "[                          1,                                       0,              0, 0]])"
      ]
     },
     "execution_count": 35,
     "metadata": {},
     "output_type": "execute_result"
    }
   ],
   "source": [
    "Jc3"
   ]
  },
  {
   "cell_type": "code",
   "execution_count": 36,
   "metadata": {},
   "outputs": [
    {
     "data": {
      "text/latex": [
       "$\\displaystyle \\left[\\begin{matrix}- l_{2} \\sin{\\left(\\theta_{1} \\right)} \\cos{\\left(\\theta_{2} \\right)} - l_{4} \\sin{\\left(\\theta_{4} \\right)} \\cos{\\left(\\theta_{1} \\right)} & - \\left(l_{1} + l_{2} \\sin{\\left(\\theta_{2} \\right)} - l_{3} - l_{4} \\cos{\\left(\\theta_{4} \\right)}\\right) \\cos{\\left(\\theta_{1} \\right)} & \\left(l_{3} + l_{4} \\cos{\\left(\\theta_{4} \\right)}\\right) \\cos{\\left(\\theta_{1} \\right)} & - l_{4} \\sin{\\left(\\theta_{1} \\right)} \\cos{\\left(\\theta_{4} \\right)}\\\\l_{2} \\cos{\\left(\\theta_{1} \\right)} \\cos{\\left(\\theta_{2} \\right)} - l_{4} \\sin{\\left(\\theta_{1} \\right)} \\sin{\\left(\\theta_{4} \\right)} & - \\left(l_{1} + l_{2} \\sin{\\left(\\theta_{2} \\right)} - l_{3} - l_{4} \\cos{\\left(\\theta_{4} \\right)}\\right) \\sin{\\left(\\theta_{1} \\right)} & \\left(l_{3} + l_{4} \\cos{\\left(\\theta_{4} \\right)}\\right) \\sin{\\left(\\theta_{1} \\right)} & l_{4} \\cos{\\left(\\theta_{1} \\right)} \\cos{\\left(\\theta_{4} \\right)}\\\\0 & l_{2} \\cos{\\left(\\theta_{2} \\right)} & 0 & l_{4} \\sin{\\left(\\theta_{4} \\right)}\\\\0 & \\sin{\\left(\\theta_{1} \\right)} & \\sin{\\left(\\theta_{1} \\right)} & \\cos{\\left(\\theta_{1} \\right)}\\\\0 & - \\cos{\\left(\\theta_{1} \\right)} & - \\cos{\\left(\\theta_{1} \\right)} & \\sin{\\left(\\theta_{1} \\right)}\\\\1 & 0 & 0 & 0\\end{matrix}\\right]$"
      ],
      "text/plain": [
       "Matrix([\n",
       "[-l2*sin(theta1)*cos(theta2) - l4*sin(theta4)*cos(theta1), -(l1 + l2*sin(theta2) - l3 - l4*cos(theta4))*cos(theta1), (l3 + l4*cos(theta4))*cos(theta1), -l4*sin(theta1)*cos(theta4)],\n",
       "[ l2*cos(theta1)*cos(theta2) - l4*sin(theta1)*sin(theta4), -(l1 + l2*sin(theta2) - l3 - l4*cos(theta4))*sin(theta1), (l3 + l4*cos(theta4))*sin(theta1),  l4*cos(theta1)*cos(theta4)],\n",
       "[                                                       0,                                           l2*cos(theta2),                                 0,              l4*sin(theta4)],\n",
       "[                                                       0,                                              sin(theta1),                       sin(theta1),                 cos(theta1)],\n",
       "[                                                       0,                                             -cos(theta1),                      -cos(theta1),                 sin(theta1)],\n",
       "[                                                       1,                                                        0,                                 0,                           0]])"
      ]
     },
     "execution_count": 36,
     "metadata": {},
     "output_type": "execute_result"
    }
   ],
   "source": [
    "Jc4"
   ]
  },
  {
   "cell_type": "code",
   "execution_count": 37,
   "metadata": {},
   "outputs": [],
   "source": [
    "# Calculo do J\n",
    "J = Jc(J1,J2,J3,J4)"
   ]
  },
  {
   "cell_type": "code",
   "execution_count": 38,
   "metadata": {},
   "outputs": [],
   "source": [
    "# Definindo a matriz jacobiana\n",
    "def Jc(j1,j2,j3,j4):\n",
    "    J = zeros(6,1)\n",
    "    J = J.col_insert(0,j1)\n",
    "    J = J.col_insert(1,j2)\n",
    "    J = J.col_insert(2,j3)\n",
    "    J = J.col_insert(3,j4)\n",
    "    J.col_del(4)\n",
    "    return J"
   ]
  },
  {
   "cell_type": "code",
   "execution_count": 39,
   "metadata": {},
   "outputs": [
    {
     "data": {
      "text/latex": [
       "$\\displaystyle \\left[\\begin{matrix}- l_{2} \\sin{\\left(\\theta_{1} \\right)} \\cos{\\left(\\theta_{2} \\right)} - l_{4} \\sin{\\left(\\theta_{4} \\right)} \\cos{\\left(\\theta_{1} \\right)} & - \\left(l_{1} + l_{2} \\sin{\\left(\\theta_{2} \\right)} - l_{3} - l_{4} \\cos{\\left(\\theta_{4} \\right)}\\right) \\cos{\\left(\\theta_{1} \\right)} & - \\left(- l_{3} - l_{4} \\cos{\\left(\\theta_{4} \\right)}\\right) \\cos{\\left(\\theta_{1} \\right)} & - l_{4} \\sin{\\left(\\theta_{1} \\right)} \\cos{\\left(\\theta_{4} \\right)}\\\\l_{2} \\cos{\\left(\\theta_{1} \\right)} \\cos{\\left(\\theta_{2} \\right)} - l_{4} \\sin{\\left(\\theta_{1} \\right)} \\sin{\\left(\\theta_{4} \\right)} & - \\left(l_{1} + l_{2} \\sin{\\left(\\theta_{2} \\right)} - l_{3} - l_{4} \\cos{\\left(\\theta_{4} \\right)}\\right) \\sin{\\left(\\theta_{1} \\right)} & - \\left(- l_{3} - l_{4} \\cos{\\left(\\theta_{4} \\right)}\\right) \\sin{\\left(\\theta_{1} \\right)} & l_{4} \\cos{\\left(\\theta_{1} \\right)} \\cos{\\left(\\theta_{4} \\right)}\\\\0 & \\left(l_{2} \\sin{\\left(\\theta_{1} \\right)} \\cos{\\left(\\theta_{2} \\right)} + l_{4} \\sin{\\left(\\theta_{4} \\right)} \\cos{\\left(\\theta_{1} \\right)}\\right) \\sin{\\left(\\theta_{1} \\right)} + \\left(l_{2} \\cos{\\left(\\theta_{1} \\right)} \\cos{\\left(\\theta_{2} \\right)} - l_{4} \\sin{\\left(\\theta_{1} \\right)} \\sin{\\left(\\theta_{4} \\right)}\\right) \\cos{\\left(\\theta_{1} \\right)} & 0 & l_{4} \\sin^{2}{\\left(\\theta_{1} \\right)} \\sin{\\left(\\theta_{4} \\right)} + l_{4} \\sin{\\left(\\theta_{4} \\right)} \\cos^{2}{\\left(\\theta_{1} \\right)}\\\\0 & \\sin{\\left(\\theta_{1} \\right)} & \\sin{\\left(\\theta_{1} \\right)} & \\cos{\\left(\\theta_{1} \\right)}\\\\0 & - \\cos{\\left(\\theta_{1} \\right)} & - \\cos{\\left(\\theta_{1} \\right)} & \\sin{\\left(\\theta_{1} \\right)}\\\\1 & 0 & 0 & 0\\end{matrix}\\right]$"
      ],
      "text/plain": [
       "Matrix([\n",
       "[-l2*sin(theta1)*cos(theta2) - l4*sin(theta4)*cos(theta1),                                                                                      -(l1 + l2*sin(theta2) - l3 - l4*cos(theta4))*cos(theta1), -(-l3 - l4*cos(theta4))*cos(theta1),                                   -l4*sin(theta1)*cos(theta4)],\n",
       "[ l2*cos(theta1)*cos(theta2) - l4*sin(theta1)*sin(theta4),                                                                                      -(l1 + l2*sin(theta2) - l3 - l4*cos(theta4))*sin(theta1), -(-l3 - l4*cos(theta4))*sin(theta1),                                    l4*cos(theta1)*cos(theta4)],\n",
       "[                                                       0, (l2*sin(theta1)*cos(theta2) + l4*sin(theta4)*cos(theta1))*sin(theta1) + (l2*cos(theta1)*cos(theta2) - l4*sin(theta1)*sin(theta4))*cos(theta1),                                   0, l4*sin(theta1)**2*sin(theta4) + l4*sin(theta4)*cos(theta1)**2],\n",
       "[                                                       0,                                                                                                                                   sin(theta1),                         sin(theta1),                                                   cos(theta1)],\n",
       "[                                                       0,                                                                                                                                  -cos(theta1),                        -cos(theta1),                                                   sin(theta1)],\n",
       "[                                                       1,                                                                                                                                             0,                                   0,                                                             0]])"
      ]
     },
     "execution_count": 39,
     "metadata": {},
     "output_type": "execute_result"
    }
   ],
   "source": [
    "J"
   ]
  },
  {
   "cell_type": "markdown",
   "metadata": {},
   "source": [
    "<h2> Criação das matrizes de Inércia</h2>"
   ]
  },
  {
   "cell_type": "code",
   "execution_count": 40,
   "metadata": {},
   "outputs": [
    {
     "data": {
      "text/latex": [
       "$\\displaystyle \\left[\\begin{matrix}m_{4} & 0 & 0 & 0 & 0 & 0\\\\0 & m_{4} & 0 & 0 & 0 & 0\\\\0 & 0 & m_{4} & 0 & 0 & 0\\\\0 & 0 & 0 & Ix_{4} & 0 & 0\\\\0 & 0 & 0 & 0 & Iy_{4} & 0\\\\0 & 0 & 0 & 0 & 0 & Iz_{4}\\end{matrix}\\right]$"
      ],
      "text/plain": [
       "Matrix([\n",
       "[m4,  0,  0,   0,   0,   0],\n",
       "[ 0, m4,  0,   0,   0,   0],\n",
       "[ 0,  0, m4,   0,   0,   0],\n",
       "[ 0,  0,  0, Ix4,   0,   0],\n",
       "[ 0,  0,  0,   0, Iy4,   0],\n",
       "[ 0,  0,  0,   0,   0, Iz4]])"
      ]
     },
     "execution_count": 40,
     "metadata": {},
     "output_type": "execute_result"
    }
   ],
   "source": [
    "mI_1 = mI_M(m1,Ix1,Iy1,Iz1)\n",
    "mI_2 = mI_M(m2,Ix2,Iy2,Iz2)\n",
    "mI_3 = mI_M(m3,Ix3,Iy3,Iz3)\n",
    "mI_4 = mI_M(m4,Ix4,Iy4,Iz4)\n",
    "mI_4"
   ]
  },
  {
   "cell_type": "code",
   "execution_count": 41,
   "metadata": {},
   "outputs": [],
   "source": [
    "# Build the Di matriz\n",
    "def Di_M(Jc_gi,mI):\n",
    "    M = (Jc_gi.T)*mI*Jc_gi;\n",
    "    return M"
   ]
  },
  {
   "cell_type": "code",
   "execution_count": 42,
   "metadata": {},
   "outputs": [],
   "source": [
    "\n",
    "D1 = Di_M(Jc1,mI_1)\n",
    "D2 = trigsimp(Di_M(Jc2,mI_2))\n",
    "D3 = trigsimp(Di_M(Jc3,mI_3))\n",
    "D4 = trigsimp(Di_M(Jc4,mI_4))\n",
    "Dtotal = D1+D2+D3+D4"
   ]
  },
  {
   "cell_type": "code",
   "execution_count": 43,
   "metadata": {},
   "outputs": [
    {
     "data": {
      "text/latex": [
       "$\\displaystyle \\left[\\begin{matrix}Iz_{1} + Iz_{2} + Iz_{3} + Iz_{4} + l_{2}^{2} m_{2} \\cos^{2}{\\left(\\theta_{2} \\right)} + l_{2}^{2} m_{3} \\cos^{2}{\\left(\\theta_{2} \\right)} - l_{2}^{2} m_{4} \\sin^{2}{\\left(\\theta_{2} \\right)} + l_{2}^{2} m_{4} + l_{4}^{2} m_{4} \\sin^{2}{\\left(\\theta_{4} \\right)} & \\left(l_{1} + l_{2} \\sin{\\left(\\theta_{2} \\right)} - l_{3} - l_{4} \\cos{\\left(\\theta_{4} \\right)}\\right) l_{4} m_{4} \\sin{\\left(\\theta_{4} \\right)} & - \\left(l_{3} + l_{4} \\cos{\\left(\\theta_{4} \\right)}\\right) l_{4} m_{4} \\sin{\\left(\\theta_{4} \\right)} & l_{2} l_{4} m_{4} \\cos{\\left(\\theta_{2} \\right)} \\cos{\\left(\\theta_{4} \\right)}\\\\\\left(l_{1} + l_{2} \\sin{\\left(\\theta_{2} \\right)} - l_{3} - l_{4} \\cos{\\left(\\theta_{4} \\right)}\\right) l_{4} m_{4} \\sin{\\left(\\theta_{4} \\right)} & \\left(l_{1} + l_{2} \\sin{\\left(\\theta_{2} \\right)} - l_{3} - l_{4} \\cos{\\left(\\theta_{4} \\right)}\\right)^{2} m_{4} \\sin^{2}{\\left(\\theta_{1} \\right)} + \\left(l_{1} + l_{2} \\sin{\\left(\\theta_{2} \\right)} - l_{3} - l_{4} \\cos{\\left(\\theta_{4} \\right)}\\right)^{2} m_{4} \\cos^{2}{\\left(\\theta_{1} \\right)} + Ix_{2} \\sin^{2}{\\left(\\theta_{1} \\right)} + Ix_{3} \\sin^{2}{\\left(\\theta_{1} \\right)} + Ix_{4} \\sin^{2}{\\left(\\theta_{1} \\right)} - Iy_{2} \\sin^{2}{\\left(\\theta_{1} \\right)} + Iy_{2} - Iy_{3} \\sin^{2}{\\left(\\theta_{1} \\right)} + Iy_{3} + Iy_{4} \\cos^{2}{\\left(\\theta_{1} \\right)} + l_{1}^{2} m_{2} + l_{1}^{2} m_{3} + 2 l_{1} l_{2} m_{2} \\sin{\\left(\\theta_{2} \\right)} + 2 l_{1} l_{2} m_{3} \\sin{\\left(\\theta_{2} \\right)} - l_{1} l_{3} m_{2} - 2 l_{1} l_{3} m_{3} + l_{2}^{2} m_{2} + l_{2}^{2} m_{3} + l_{2}^{2} m_{4} \\cos^{2}{\\left(\\theta_{2} \\right)} - l_{2} l_{3} m_{2} \\sin{\\left(\\theta_{2} \\right)} - 2 l_{2} l_{3} m_{3} \\sin{\\left(\\theta_{2} \\right)} + \\frac{l_{3}^{2} m_{2}}{4} + l_{3}^{2} m_{3} & Ix_{3} \\sin^{2}{\\left(\\theta_{1} \\right)} - Ix_{4} \\cos^{2}{\\left(\\theta_{1} \\right)} + Ix_{4} - Iy_{3} \\sin^{2}{\\left(\\theta_{1} \\right)} + Iy_{3} + Iy_{4} \\cos^{2}{\\left(\\theta_{1} \\right)} - l_{1} l_{3} m_{3} - l_{1} l_{3} m_{4} - l_{1} l_{4} m_{4} \\cos{\\left(\\theta_{4} \\right)} - l_{2} l_{3} m_{3} \\sin{\\left(\\theta_{2} \\right)} - l_{2} l_{3} m_{4} \\sin{\\left(\\theta_{2} \\right)} - l_{2} l_{4} m_{4} \\sin{\\left(\\theta_{2} \\right)} \\cos{\\left(\\theta_{4} \\right)} + l_{3}^{2} m_{3} + l_{3}^{2} m_{4} + 2 l_{3} l_{4} m_{4} \\cos{\\left(\\theta_{4} \\right)} + l_{4}^{2} m_{4} \\cos^{2}{\\left(\\theta_{4} \\right)} & \\frac{Ix_{4} \\sin{\\left(2 \\theta_{1} \\right)}}{2} - \\frac{Iy_{4} \\sin{\\left(2 \\theta_{1} \\right)}}{2} + l_{2} l_{4} m_{4} \\sin{\\left(\\theta_{4} \\right)} \\cos{\\left(\\theta_{2} \\right)}\\\\- \\left(l_{3} + l_{4} \\cos{\\left(\\theta_{4} \\right)}\\right) l_{4} m_{4} \\sin{\\left(\\theta_{4} \\right)} & Ix_{3} \\sin^{2}{\\left(\\theta_{1} \\right)} - Ix_{4} \\cos^{2}{\\left(\\theta_{1} \\right)} + Ix_{4} - Iy_{3} \\sin^{2}{\\left(\\theta_{1} \\right)} + Iy_{3} + Iy_{4} \\cos^{2}{\\left(\\theta_{1} \\right)} - l_{1} l_{3} m_{3} - l_{1} l_{3} m_{4} - l_{1} l_{4} m_{4} \\cos{\\left(\\theta_{4} \\right)} - l_{2} l_{3} m_{3} \\sin{\\left(\\theta_{2} \\right)} - l_{2} l_{3} m_{4} \\sin{\\left(\\theta_{2} \\right)} - l_{2} l_{4} m_{4} \\sin{\\left(\\theta_{2} \\right)} \\cos{\\left(\\theta_{4} \\right)} + l_{3}^{2} m_{3} + l_{3}^{2} m_{4} + 2 l_{3} l_{4} m_{4} \\cos{\\left(\\theta_{4} \\right)} + l_{4}^{2} m_{4} \\cos^{2}{\\left(\\theta_{4} \\right)} & Ix_{3} \\sin^{2}{\\left(\\theta_{1} \\right)} - Ix_{4} \\cos^{2}{\\left(\\theta_{1} \\right)} + Ix_{4} - Iy_{3} \\sin^{2}{\\left(\\theta_{1} \\right)} + Iy_{3} + Iy_{4} \\cos^{2}{\\left(\\theta_{1} \\right)} + l_{3}^{2} m_{3} + l_{3}^{2} m_{4} + 2 l_{3} l_{4} m_{4} \\cos{\\left(\\theta_{4} \\right)} + l_{4}^{2} m_{4} \\cos^{2}{\\left(\\theta_{4} \\right)} & \\frac{\\left(Ix_{4} - Iy_{4}\\right) \\sin{\\left(2 \\theta_{1} \\right)}}{2}\\\\l_{2} l_{4} m_{4} \\cos{\\left(\\theta_{2} \\right)} \\cos{\\left(\\theta_{4} \\right)} & \\frac{Ix_{4} \\sin{\\left(2 \\theta_{1} \\right)}}{2} - \\frac{Iy_{4} \\sin{\\left(2 \\theta_{1} \\right)}}{2} + l_{2} l_{4} m_{4} \\sin{\\left(\\theta_{4} \\right)} \\cos{\\left(\\theta_{2} \\right)} & \\frac{\\left(Ix_{4} - Iy_{4}\\right) \\sin{\\left(2 \\theta_{1} \\right)}}{2} & - Ix_{4} \\sin^{2}{\\left(\\theta_{1} \\right)} + Ix_{4} + Iy_{4} \\sin^{2}{\\left(\\theta_{1} \\right)} + l_{4}^{2} m_{4}\\end{matrix}\\right]$"
      ],
      "text/plain": [
       "Matrix([\n",
       "[Iz1 + Iz2 + Iz3 + Iz4 + l2**2*m2*cos(theta2)**2 + l2**2*m3*cos(theta2)**2 - l2**2*m4*sin(theta2)**2 + l2**2*m4 + l4**2*m4*sin(theta4)**2,                                                                                                                                                                                                                                                                                                                                                                                                                                         (l1 + l2*sin(theta2) - l3 - l4*cos(theta4))*l4*m4*sin(theta4),                                                                                                                                                                                                                                                             -(l3 + l4*cos(theta4))*l4*m4*sin(theta4),                                             l2*l4*m4*cos(theta2)*cos(theta4)],\n",
       "[                                                                           (l1 + l2*sin(theta2) - l3 - l4*cos(theta4))*l4*m4*sin(theta4), (l1 + l2*sin(theta2) - l3 - l4*cos(theta4))**2*m4*sin(theta1)**2 + (l1 + l2*sin(theta2) - l3 - l4*cos(theta4))**2*m4*cos(theta1)**2 + Ix2*sin(theta1)**2 + Ix3*sin(theta1)**2 + Ix4*sin(theta1)**2 - Iy2*sin(theta1)**2 + Iy2 - Iy3*sin(theta1)**2 + Iy3 + Iy4*cos(theta1)**2 + l1**2*m2 + l1**2*m3 + 2*l1*l2*m2*sin(theta2) + 2*l1*l2*m3*sin(theta2) - l1*l3*m2 - 2*l1*l3*m3 + l2**2*m2 + l2**2*m3 + l2**2*m4*cos(theta2)**2 - l2*l3*m2*sin(theta2) - 2*l2*l3*m3*sin(theta2) + l3**2*m2/4 + l3**2*m3, Ix3*sin(theta1)**2 - Ix4*cos(theta1)**2 + Ix4 - Iy3*sin(theta1)**2 + Iy3 + Iy4*cos(theta1)**2 - l1*l3*m3 - l1*l3*m4 - l1*l4*m4*cos(theta4) - l2*l3*m3*sin(theta2) - l2*l3*m4*sin(theta2) - l2*l4*m4*sin(theta2)*cos(theta4) + l3**2*m3 + l3**2*m4 + 2*l3*l4*m4*cos(theta4) + l4**2*m4*cos(theta4)**2, Ix4*sin(2*theta1)/2 - Iy4*sin(2*theta1)/2 + l2*l4*m4*sin(theta4)*cos(theta2)],\n",
       "[                                                                                                -(l3 + l4*cos(theta4))*l4*m4*sin(theta4),                                                                                                                                                                                                  Ix3*sin(theta1)**2 - Ix4*cos(theta1)**2 + Ix4 - Iy3*sin(theta1)**2 + Iy3 + Iy4*cos(theta1)**2 - l1*l3*m3 - l1*l3*m4 - l1*l4*m4*cos(theta4) - l2*l3*m3*sin(theta2) - l2*l3*m4*sin(theta2) - l2*l4*m4*sin(theta2)*cos(theta4) + l3**2*m3 + l3**2*m4 + 2*l3*l4*m4*cos(theta4) + l4**2*m4*cos(theta4)**2,                                                                                                                               Ix3*sin(theta1)**2 - Ix4*cos(theta1)**2 + Ix4 - Iy3*sin(theta1)**2 + Iy3 + Iy4*cos(theta1)**2 + l3**2*m3 + l3**2*m4 + 2*l3*l4*m4*cos(theta4) + l4**2*m4*cos(theta4)**2,                                                  (Ix4 - Iy4)*sin(2*theta1)/2],\n",
       "[                                                                                                        l2*l4*m4*cos(theta2)*cos(theta4),                                                                                                                                                                                                                                                                                                                                                                                                                          Ix4*sin(2*theta1)/2 - Iy4*sin(2*theta1)/2 + l2*l4*m4*sin(theta4)*cos(theta2),                                                                                                                                                                                                                                                                          (Ix4 - Iy4)*sin(2*theta1)/2,                    -Ix4*sin(theta1)**2 + Ix4 + Iy4*sin(theta1)**2 + l4**2*m4]])"
      ]
     },
     "execution_count": 43,
     "metadata": {},
     "output_type": "execute_result"
    }
   ],
   "source": [
    "Dtotal"
   ]
  },
  {
   "cell_type": "markdown",
   "metadata": {},
   "source": [
    "<h2> Calculo da Energia Cinética </h2>"
   ]
  },
  {
   "cell_type": "code",
   "execution_count": 44,
   "metadata": {},
   "outputs": [],
   "source": [
    "q=Matrix([theta1,theta2,theta3,theta4])\n",
    "q_dot= diff(q,t)"
   ]
  },
  {
   "cell_type": "code",
   "execution_count": 45,
   "metadata": {},
   "outputs": [
    {
     "data": {
      "text/latex": [
       "$\\displaystyle \\left[\\begin{matrix}\\left(0.5 \\left(\\frac{Ix_{4} \\sin{\\left(2 \\theta_{1} \\right)}}{2} - \\frac{Iy_{4} \\sin{\\left(2 \\theta_{1} \\right)}}{2} + l_{2} l_{4} m_{4} \\sin{\\left(\\theta_{4} \\right)} \\cos{\\left(\\theta_{2} \\right)}\\right) \\dot{\\theta}_{4} + 0.5 \\left(l_{1} + l_{2} \\sin{\\left(\\theta_{2} \\right)} - l_{3} - l_{4} \\cos{\\left(\\theta_{4} \\right)}\\right) l_{4} m_{4} \\sin{\\left(\\theta_{4} \\right)} \\dot{\\theta}_{1} + 0.5 \\left(Ix_{3} \\sin^{2}{\\left(\\theta_{1} \\right)} - Ix_{4} \\cos^{2}{\\left(\\theta_{1} \\right)} + Ix_{4} - Iy_{3} \\sin^{2}{\\left(\\theta_{1} \\right)} + Iy_{3} + Iy_{4} \\cos^{2}{\\left(\\theta_{1} \\right)} - l_{1} l_{3} m_{3} - l_{1} l_{3} m_{4} - l_{1} l_{4} m_{4} \\cos{\\left(\\theta_{4} \\right)} - l_{2} l_{3} m_{3} \\sin{\\left(\\theta_{2} \\right)} - l_{2} l_{3} m_{4} \\sin{\\left(\\theta_{2} \\right)} - l_{2} l_{4} m_{4} \\sin{\\left(\\theta_{2} \\right)} \\cos{\\left(\\theta_{4} \\right)} + l_{3}^{2} m_{3} + l_{3}^{2} m_{4} + 2 l_{3} l_{4} m_{4} \\cos{\\left(\\theta_{4} \\right)} + l_{4}^{2} m_{4} \\cos^{2}{\\left(\\theta_{4} \\right)}\\right) \\dot{\\theta}_{3} + 0.5 \\left(\\left(l_{1} + l_{2} \\sin{\\left(\\theta_{2} \\right)} - l_{3} - l_{4} \\cos{\\left(\\theta_{4} \\right)}\\right)^{2} m_{4} \\sin^{2}{\\left(\\theta_{1} \\right)} + \\left(l_{1} + l_{2} \\sin{\\left(\\theta_{2} \\right)} - l_{3} - l_{4} \\cos{\\left(\\theta_{4} \\right)}\\right)^{2} m_{4} \\cos^{2}{\\left(\\theta_{1} \\right)} + Ix_{2} \\sin^{2}{\\left(\\theta_{1} \\right)} + Ix_{3} \\sin^{2}{\\left(\\theta_{1} \\right)} + Ix_{4} \\sin^{2}{\\left(\\theta_{1} \\right)} - Iy_{2} \\sin^{2}{\\left(\\theta_{1} \\right)} + Iy_{2} - Iy_{3} \\sin^{2}{\\left(\\theta_{1} \\right)} + Iy_{3} + Iy_{4} \\cos^{2}{\\left(\\theta_{1} \\right)} + l_{1}^{2} m_{2} + l_{1}^{2} m_{3} + 2 l_{1} l_{2} m_{2} \\sin{\\left(\\theta_{2} \\right)} + 2 l_{1} l_{2} m_{3} \\sin{\\left(\\theta_{2} \\right)} - l_{1} l_{3} m_{2} - 2 l_{1} l_{3} m_{3} + l_{2}^{2} m_{2} + l_{2}^{2} m_{3} + l_{2}^{2} m_{4} \\cos^{2}{\\left(\\theta_{2} \\right)} - l_{2} l_{3} m_{2} \\sin{\\left(\\theta_{2} \\right)} - 2 l_{2} l_{3} m_{3} \\sin{\\left(\\theta_{2} \\right)} + \\frac{l_{3}^{2} m_{2}}{4} + l_{3}^{2} m_{3}\\right) \\dot{\\theta}_{2}\\right) \\dot{\\theta}_{2} + \\left(0.25 \\left(Ix_{4} - Iy_{4}\\right) \\sin{\\left(2 \\theta_{1} \\right)} \\dot{\\theta}_{3} + 0.5 \\left(\\frac{Ix_{4} \\sin{\\left(2 \\theta_{1} \\right)}}{2} - \\frac{Iy_{4} \\sin{\\left(2 \\theta_{1} \\right)}}{2} + l_{2} l_{4} m_{4} \\sin{\\left(\\theta_{4} \\right)} \\cos{\\left(\\theta_{2} \\right)}\\right) \\dot{\\theta}_{2} + 0.5 \\left(- Ix_{4} \\sin^{2}{\\left(\\theta_{1} \\right)} + Ix_{4} + Iy_{4} \\sin^{2}{\\left(\\theta_{1} \\right)} + l_{4}^{2} m_{4}\\right) \\dot{\\theta}_{4} + 0.5 l_{2} l_{4} m_{4} \\cos{\\left(\\theta_{2} \\right)} \\cos{\\left(\\theta_{4} \\right)} \\dot{\\theta}_{1}\\right) \\dot{\\theta}_{4} + \\left(0.25 \\left(Ix_{4} - Iy_{4}\\right) \\sin{\\left(2 \\theta_{1} \\right)} \\dot{\\theta}_{4} - 0.5 \\left(l_{3} + l_{4} \\cos{\\left(\\theta_{4} \\right)}\\right) l_{4} m_{4} \\sin{\\left(\\theta_{4} \\right)} \\dot{\\theta}_{1} + 0.5 \\left(Ix_{3} \\sin^{2}{\\left(\\theta_{1} \\right)} - Ix_{4} \\cos^{2}{\\left(\\theta_{1} \\right)} + Ix_{4} - Iy_{3} \\sin^{2}{\\left(\\theta_{1} \\right)} + Iy_{3} + Iy_{4} \\cos^{2}{\\left(\\theta_{1} \\right)} + l_{3}^{2} m_{3} + l_{3}^{2} m_{4} + 2 l_{3} l_{4} m_{4} \\cos{\\left(\\theta_{4} \\right)} + l_{4}^{2} m_{4} \\cos^{2}{\\left(\\theta_{4} \\right)}\\right) \\dot{\\theta}_{3} + 0.5 \\left(Ix_{3} \\sin^{2}{\\left(\\theta_{1} \\right)} - Ix_{4} \\cos^{2}{\\left(\\theta_{1} \\right)} + Ix_{4} - Iy_{3} \\sin^{2}{\\left(\\theta_{1} \\right)} + Iy_{3} + Iy_{4} \\cos^{2}{\\left(\\theta_{1} \\right)} - l_{1} l_{3} m_{3} - l_{1} l_{3} m_{4} - l_{1} l_{4} m_{4} \\cos{\\left(\\theta_{4} \\right)} - l_{2} l_{3} m_{3} \\sin{\\left(\\theta_{2} \\right)} - l_{2} l_{3} m_{4} \\sin{\\left(\\theta_{2} \\right)} - l_{2} l_{4} m_{4} \\sin{\\left(\\theta_{2} \\right)} \\cos{\\left(\\theta_{4} \\right)} + l_{3}^{2} m_{3} + l_{3}^{2} m_{4} + 2 l_{3} l_{4} m_{4} \\cos{\\left(\\theta_{4} \\right)} + l_{4}^{2} m_{4} \\cos^{2}{\\left(\\theta_{4} \\right)}\\right) \\dot{\\theta}_{2}\\right) \\dot{\\theta}_{3} + \\left(- 0.5 \\left(l_{3} + l_{4} \\cos{\\left(\\theta_{4} \\right)}\\right) l_{4} m_{4} \\sin{\\left(\\theta_{4} \\right)} \\dot{\\theta}_{3} + 0.5 \\left(l_{1} + l_{2} \\sin{\\left(\\theta_{2} \\right)} - l_{3} - l_{4} \\cos{\\left(\\theta_{4} \\right)}\\right) l_{4} m_{4} \\sin{\\left(\\theta_{4} \\right)} \\dot{\\theta}_{2} + 0.5 \\left(Iz_{1} + Iz_{2} + Iz_{3} + Iz_{4} + l_{2}^{2} m_{2} \\cos^{2}{\\left(\\theta_{2} \\right)} + l_{2}^{2} m_{3} \\cos^{2}{\\left(\\theta_{2} \\right)} - l_{2}^{2} m_{4} \\sin^{2}{\\left(\\theta_{2} \\right)} + l_{2}^{2} m_{4} + l_{4}^{2} m_{4} \\sin^{2}{\\left(\\theta_{4} \\right)}\\right) \\dot{\\theta}_{1} + 0.5 l_{2} l_{4} m_{4} \\cos{\\left(\\theta_{2} \\right)} \\cos{\\left(\\theta_{4} \\right)} \\dot{\\theta}_{4}\\right) \\dot{\\theta}_{1}\\end{matrix}\\right]$"
      ],
      "text/plain": [
       "Matrix([[(0.5*(Ix4*sin(2*theta1)/2 - Iy4*sin(2*theta1)/2 + l2*l4*m4*sin(theta4)*cos(theta2))*theta4' + 0.5*(l1 + l2*sin(theta2) - l3 - l4*cos(theta4))*l4*m4*sin(theta4)*theta1' + 0.5*(Ix3*sin(theta1)**2 - Ix4*cos(theta1)**2 + Ix4 - Iy3*sin(theta1)**2 + Iy3 + Iy4*cos(theta1)**2 - l1*l3*m3 - l1*l3*m4 - l1*l4*m4*cos(theta4) - l2*l3*m3*sin(theta2) - l2*l3*m4*sin(theta2) - l2*l4*m4*sin(theta2)*cos(theta4) + l3**2*m3 + l3**2*m4 + 2*l3*l4*m4*cos(theta4) + l4**2*m4*cos(theta4)**2)*theta3' + 0.5*((l1 + l2*sin(theta2) - l3 - l4*cos(theta4))**2*m4*sin(theta1)**2 + (l1 + l2*sin(theta2) - l3 - l4*cos(theta4))**2*m4*cos(theta1)**2 + Ix2*sin(theta1)**2 + Ix3*sin(theta1)**2 + Ix4*sin(theta1)**2 - Iy2*sin(theta1)**2 + Iy2 - Iy3*sin(theta1)**2 + Iy3 + Iy4*cos(theta1)**2 + l1**2*m2 + l1**2*m3 + 2*l1*l2*m2*sin(theta2) + 2*l1*l2*m3*sin(theta2) - l1*l3*m2 - 2*l1*l3*m3 + l2**2*m2 + l2**2*m3 + l2**2*m4*cos(theta2)**2 - l2*l3*m2*sin(theta2) - 2*l2*l3*m3*sin(theta2) + l3**2*m2/4 + l3**2*m3)*theta2')*theta2' + (0.25*(Ix4 - Iy4)*sin(2*theta1)*theta3' + 0.5*(Ix4*sin(2*theta1)/2 - Iy4*sin(2*theta1)/2 + l2*l4*m4*sin(theta4)*cos(theta2))*theta2' + 0.5*(-Ix4*sin(theta1)**2 + Ix4 + Iy4*sin(theta1)**2 + l4**2*m4)*theta4' + 0.5*l2*l4*m4*cos(theta2)*cos(theta4)*theta1')*theta4' + (0.25*(Ix4 - Iy4)*sin(2*theta1)*theta4' - 0.5*(l3 + l4*cos(theta4))*l4*m4*sin(theta4)*theta1' + 0.5*(Ix3*sin(theta1)**2 - Ix4*cos(theta1)**2 + Ix4 - Iy3*sin(theta1)**2 + Iy3 + Iy4*cos(theta1)**2 + l3**2*m3 + l3**2*m4 + 2*l3*l4*m4*cos(theta4) + l4**2*m4*cos(theta4)**2)*theta3' + 0.5*(Ix3*sin(theta1)**2 - Ix4*cos(theta1)**2 + Ix4 - Iy3*sin(theta1)**2 + Iy3 + Iy4*cos(theta1)**2 - l1*l3*m3 - l1*l3*m4 - l1*l4*m4*cos(theta4) - l2*l3*m3*sin(theta2) - l2*l3*m4*sin(theta2) - l2*l4*m4*sin(theta2)*cos(theta4) + l3**2*m3 + l3**2*m4 + 2*l3*l4*m4*cos(theta4) + l4**2*m4*cos(theta4)**2)*theta2')*theta3' + (-0.5*(l3 + l4*cos(theta4))*l4*m4*sin(theta4)*theta3' + 0.5*(l1 + l2*sin(theta2) - l3 - l4*cos(theta4))*l4*m4*sin(theta4)*theta2' + 0.5*(Iz1 + Iz2 + Iz3 + Iz4 + l2**2*m2*cos(theta2)**2 + l2**2*m3*cos(theta2)**2 - l2**2*m4*sin(theta2)**2 + l2**2*m4 + l4**2*m4*sin(theta4)**2)*theta1' + 0.5*l2*l4*m4*cos(theta2)*cos(theta4)*theta4')*theta1']])"
      ]
     },
     "execution_count": 45,
     "metadata": {},
     "output_type": "execute_result"
    }
   ],
   "source": [
    "K = 1/2* q_dot.T * Dtotal * q_dot\n",
    "K"
   ]
  },
  {
   "cell_type": "markdown",
   "metadata": {},
   "source": [
    "<h2> Calculo da Energia Potencial</h2>"
   ]
  },
  {
   "cell_type": "code",
   "execution_count": 46,
   "metadata": {},
   "outputs": [],
   "source": [
    "og1=T01*Matrix([0,0,0,1])\n",
    "og2=T03*Matrix([-l3/2,0,0,1])\n",
    "og3=T03*Matrix([0,0,0,1])\n",
    "og4=T04*Matrix([0,0,0,1])"
   ]
  },
  {
   "cell_type": "code",
   "execution_count": 47,
   "metadata": {},
   "outputs": [],
   "source": [
    "P1 = m1* g * Matrix([0,0,1,0]).T * og1\n",
    "P2 = m2* g * Matrix([0,0,1,0]).T * og2\n",
    "P3 = m3* g * Matrix([0,0,1,0]).T * og3\n",
    "P4 = m4* g * Matrix([0,0,1,0]).T * og4"
   ]
  },
  {
   "cell_type": "code",
   "execution_count": 48,
   "metadata": {},
   "outputs": [
    {
     "data": {
      "text/latex": [
       "$\\displaystyle \\left[\\begin{matrix}\\left(l_{1} + l_{2} \\sin{\\left(\\theta_{2} \\right)} - l_{3}\\right) g m_{3} + \\left(l_{1} + l_{2} \\sin{\\left(\\theta_{2} \\right)} - \\frac{l_{3}}{2}\\right) g m_{2} + \\left(l_{1} + l_{2} \\sin{\\left(\\theta_{2} \\right)} - l_{3} - l_{4} \\cos{\\left(\\theta_{4} \\right)}\\right) g m_{4} + g l_{1} m_{1}\\end{matrix}\\right]$"
      ],
      "text/plain": [
       "Matrix([[(l1 + l2*sin(theta2) - l3)*g*m3 + (l1 + l2*sin(theta2) - l3/2)*g*m2 + (l1 + l2*sin(theta2) - l3 - l4*cos(theta4))*g*m4 + g*l1*m1]])"
      ]
     },
     "execution_count": 48,
     "metadata": {},
     "output_type": "execute_result"
    }
   ],
   "source": [
    "Ptotal = P1+ P2 + P3 + P4\n",
    "Ptotal"
   ]
  },
  {
   "cell_type": "markdown",
   "metadata": {},
   "source": [
    "<h2> Calculo do Lagrangiano </h2>"
   ]
  },
  {
   "cell_type": "code",
   "execution_count": 49,
   "metadata": {},
   "outputs": [],
   "source": [
    "L= K-Ptotal"
   ]
  },
  {
   "cell_type": "markdown",
   "metadata": {},
   "source": [
    "<h2> Calculo dos termos da equaçoes de Euler Lagrange </h2>"
   ]
  },
  {
   "cell_type": "code",
   "execution_count": 50,
   "metadata": {},
   "outputs": [
    {
     "data": {
      "text/latex": [
       "$\\displaystyle \\left[\\begin{matrix}Iz_{1} + Iz_{2} + Iz_{3} + Iz_{4} + l_{2}^{2} m_{2} \\cos^{2}{\\left(\\theta_{2} \\right)} + l_{2}^{2} m_{3} \\cos^{2}{\\left(\\theta_{2} \\right)} - l_{2}^{2} m_{4} \\sin^{2}{\\left(\\theta_{2} \\right)} + l_{2}^{2} m_{4} + l_{4}^{2} m_{4} \\sin^{2}{\\left(\\theta_{4} \\right)} & \\left(l_{1} + l_{2} \\sin{\\left(\\theta_{2} \\right)} - l_{3} - l_{4} \\cos{\\left(\\theta_{4} \\right)}\\right) l_{4} m_{4} \\sin{\\left(\\theta_{4} \\right)} & - \\left(l_{3} + l_{4} \\cos{\\left(\\theta_{4} \\right)}\\right) l_{4} m_{4} \\sin{\\left(\\theta_{4} \\right)} & l_{2} l_{4} m_{4} \\cos{\\left(\\theta_{2} \\right)} \\cos{\\left(\\theta_{4} \\right)}\\\\\\left(l_{1} + l_{2} \\sin{\\left(\\theta_{2} \\right)} - l_{3} - l_{4} \\cos{\\left(\\theta_{4} \\right)}\\right) l_{4} m_{4} \\sin{\\left(\\theta_{4} \\right)} & \\left(l_{1} + l_{2} \\sin{\\left(\\theta_{2} \\right)} - l_{3} - l_{4} \\cos{\\left(\\theta_{4} \\right)}\\right)^{2} m_{4} \\sin^{2}{\\left(\\theta_{1} \\right)} + \\left(l_{1} + l_{2} \\sin{\\left(\\theta_{2} \\right)} - l_{3} - l_{4} \\cos{\\left(\\theta_{4} \\right)}\\right)^{2} m_{4} \\cos^{2}{\\left(\\theta_{1} \\right)} + Ix_{2} \\sin^{2}{\\left(\\theta_{1} \\right)} + Ix_{3} \\sin^{2}{\\left(\\theta_{1} \\right)} + Ix_{4} \\sin^{2}{\\left(\\theta_{1} \\right)} - Iy_{2} \\sin^{2}{\\left(\\theta_{1} \\right)} + Iy_{2} - Iy_{3} \\sin^{2}{\\left(\\theta_{1} \\right)} + Iy_{3} + Iy_{4} \\cos^{2}{\\left(\\theta_{1} \\right)} + l_{1}^{2} m_{2} + l_{1}^{2} m_{3} + 2 l_{1} l_{2} m_{2} \\sin{\\left(\\theta_{2} \\right)} + 2 l_{1} l_{2} m_{3} \\sin{\\left(\\theta_{2} \\right)} - l_{1} l_{3} m_{2} - 2 l_{1} l_{3} m_{3} + l_{2}^{2} m_{2} + l_{2}^{2} m_{3} + l_{2}^{2} m_{4} \\cos^{2}{\\left(\\theta_{2} \\right)} - l_{2} l_{3} m_{2} \\sin{\\left(\\theta_{2} \\right)} - 2 l_{2} l_{3} m_{3} \\sin{\\left(\\theta_{2} \\right)} + \\frac{l_{3}^{2} m_{2}}{4} + l_{3}^{2} m_{3} & Ix_{3} \\sin^{2}{\\left(\\theta_{1} \\right)} - Ix_{4} \\cos^{2}{\\left(\\theta_{1} \\right)} + Ix_{4} - Iy_{3} \\sin^{2}{\\left(\\theta_{1} \\right)} + Iy_{3} + Iy_{4} \\cos^{2}{\\left(\\theta_{1} \\right)} - l_{1} l_{3} m_{3} - l_{1} l_{3} m_{4} - l_{1} l_{4} m_{4} \\cos{\\left(\\theta_{4} \\right)} - l_{2} l_{3} m_{3} \\sin{\\left(\\theta_{2} \\right)} - l_{2} l_{3} m_{4} \\sin{\\left(\\theta_{2} \\right)} - l_{2} l_{4} m_{4} \\sin{\\left(\\theta_{2} \\right)} \\cos{\\left(\\theta_{4} \\right)} + l_{3}^{2} m_{3} + l_{3}^{2} m_{4} + 2 l_{3} l_{4} m_{4} \\cos{\\left(\\theta_{4} \\right)} + l_{4}^{2} m_{4} \\cos^{2}{\\left(\\theta_{4} \\right)} & \\frac{Ix_{4} \\sin{\\left(2 \\theta_{1} \\right)}}{2} - \\frac{Iy_{4} \\sin{\\left(2 \\theta_{1} \\right)}}{2} + l_{2} l_{4} m_{4} \\sin{\\left(\\theta_{4} \\right)} \\cos{\\left(\\theta_{2} \\right)}\\\\- \\left(l_{3} + l_{4} \\cos{\\left(\\theta_{4} \\right)}\\right) l_{4} m_{4} \\sin{\\left(\\theta_{4} \\right)} & Ix_{3} \\sin^{2}{\\left(\\theta_{1} \\right)} - Ix_{4} \\cos^{2}{\\left(\\theta_{1} \\right)} + Ix_{4} - Iy_{3} \\sin^{2}{\\left(\\theta_{1} \\right)} + Iy_{3} + Iy_{4} \\cos^{2}{\\left(\\theta_{1} \\right)} - l_{1} l_{3} m_{3} - l_{1} l_{3} m_{4} - l_{1} l_{4} m_{4} \\cos{\\left(\\theta_{4} \\right)} - l_{2} l_{3} m_{3} \\sin{\\left(\\theta_{2} \\right)} - l_{2} l_{3} m_{4} \\sin{\\left(\\theta_{2} \\right)} - l_{2} l_{4} m_{4} \\sin{\\left(\\theta_{2} \\right)} \\cos{\\left(\\theta_{4} \\right)} + l_{3}^{2} m_{3} + l_{3}^{2} m_{4} + 2 l_{3} l_{4} m_{4} \\cos{\\left(\\theta_{4} \\right)} + l_{4}^{2} m_{4} \\cos^{2}{\\left(\\theta_{4} \\right)} & Ix_{3} \\sin^{2}{\\left(\\theta_{1} \\right)} - Ix_{4} \\cos^{2}{\\left(\\theta_{1} \\right)} + Ix_{4} - Iy_{3} \\sin^{2}{\\left(\\theta_{1} \\right)} + Iy_{3} + Iy_{4} \\cos^{2}{\\left(\\theta_{1} \\right)} + l_{3}^{2} m_{3} + l_{3}^{2} m_{4} + 2 l_{3} l_{4} m_{4} \\cos{\\left(\\theta_{4} \\right)} + l_{4}^{2} m_{4} \\cos^{2}{\\left(\\theta_{4} \\right)} & \\frac{\\left(Ix_{4} - Iy_{4}\\right) \\sin{\\left(2 \\theta_{1} \\right)}}{2}\\\\l_{2} l_{4} m_{4} \\cos{\\left(\\theta_{2} \\right)} \\cos{\\left(\\theta_{4} \\right)} & \\frac{Ix_{4} \\sin{\\left(2 \\theta_{1} \\right)}}{2} - \\frac{Iy_{4} \\sin{\\left(2 \\theta_{1} \\right)}}{2} + l_{2} l_{4} m_{4} \\sin{\\left(\\theta_{4} \\right)} \\cos{\\left(\\theta_{2} \\right)} & \\frac{\\left(Ix_{4} - Iy_{4}\\right) \\sin{\\left(2 \\theta_{1} \\right)}}{2} & - Ix_{4} \\sin^{2}{\\left(\\theta_{1} \\right)} + Ix_{4} + Iy_{4} \\sin^{2}{\\left(\\theta_{1} \\right)} + l_{4}^{2} m_{4}\\end{matrix}\\right]$"
      ],
      "text/plain": [
       "Matrix([\n",
       "[Iz1 + Iz2 + Iz3 + Iz4 + l2**2*m2*cos(theta2)**2 + l2**2*m3*cos(theta2)**2 - l2**2*m4*sin(theta2)**2 + l2**2*m4 + l4**2*m4*sin(theta4)**2,                                                                                                                                                                                                                                                                                                                                                                                                                                         (l1 + l2*sin(theta2) - l3 - l4*cos(theta4))*l4*m4*sin(theta4),                                                                                                                                                                                                                                                             -(l3 + l4*cos(theta4))*l4*m4*sin(theta4),                                             l2*l4*m4*cos(theta2)*cos(theta4)],\n",
       "[                                                                           (l1 + l2*sin(theta2) - l3 - l4*cos(theta4))*l4*m4*sin(theta4), (l1 + l2*sin(theta2) - l3 - l4*cos(theta4))**2*m4*sin(theta1)**2 + (l1 + l2*sin(theta2) - l3 - l4*cos(theta4))**2*m4*cos(theta1)**2 + Ix2*sin(theta1)**2 + Ix3*sin(theta1)**2 + Ix4*sin(theta1)**2 - Iy2*sin(theta1)**2 + Iy2 - Iy3*sin(theta1)**2 + Iy3 + Iy4*cos(theta1)**2 + l1**2*m2 + l1**2*m3 + 2*l1*l2*m2*sin(theta2) + 2*l1*l2*m3*sin(theta2) - l1*l3*m2 - 2*l1*l3*m3 + l2**2*m2 + l2**2*m3 + l2**2*m4*cos(theta2)**2 - l2*l3*m2*sin(theta2) - 2*l2*l3*m3*sin(theta2) + l3**2*m2/4 + l3**2*m3, Ix3*sin(theta1)**2 - Ix4*cos(theta1)**2 + Ix4 - Iy3*sin(theta1)**2 + Iy3 + Iy4*cos(theta1)**2 - l1*l3*m3 - l1*l3*m4 - l1*l4*m4*cos(theta4) - l2*l3*m3*sin(theta2) - l2*l3*m4*sin(theta2) - l2*l4*m4*sin(theta2)*cos(theta4) + l3**2*m3 + l3**2*m4 + 2*l3*l4*m4*cos(theta4) + l4**2*m4*cos(theta4)**2, Ix4*sin(2*theta1)/2 - Iy4*sin(2*theta1)/2 + l2*l4*m4*sin(theta4)*cos(theta2)],\n",
       "[                                                                                                -(l3 + l4*cos(theta4))*l4*m4*sin(theta4),                                                                                                                                                                                                  Ix3*sin(theta1)**2 - Ix4*cos(theta1)**2 + Ix4 - Iy3*sin(theta1)**2 + Iy3 + Iy4*cos(theta1)**2 - l1*l3*m3 - l1*l3*m4 - l1*l4*m4*cos(theta4) - l2*l3*m3*sin(theta2) - l2*l3*m4*sin(theta2) - l2*l4*m4*sin(theta2)*cos(theta4) + l3**2*m3 + l3**2*m4 + 2*l3*l4*m4*cos(theta4) + l4**2*m4*cos(theta4)**2,                                                                                                                               Ix3*sin(theta1)**2 - Ix4*cos(theta1)**2 + Ix4 - Iy3*sin(theta1)**2 + Iy3 + Iy4*cos(theta1)**2 + l3**2*m3 + l3**2*m4 + 2*l3*l4*m4*cos(theta4) + l4**2*m4*cos(theta4)**2,                                                  (Ix4 - Iy4)*sin(2*theta1)/2],\n",
       "[                                                                                                        l2*l4*m4*cos(theta2)*cos(theta4),                                                                                                                                                                                                                                                                                                                                                                                                                          Ix4*sin(2*theta1)/2 - Iy4*sin(2*theta1)/2 + l2*l4*m4*sin(theta4)*cos(theta2),                                                                                                                                                                                                                                                                          (Ix4 - Iy4)*sin(2*theta1)/2,                    -Ix4*sin(theta1)**2 + Ix4 + Iy4*sin(theta1)**2 + l4**2*m4]])"
      ]
     },
     "execution_count": 50,
     "metadata": {},
     "output_type": "execute_result"
    }
   ],
   "source": [
    "# Termo D(q) contribuicao inercial vale D_total ja calculado precedemente\n",
    "Dtotal"
   ]
  },
  {
   "cell_type": "code",
   "execution_count": 51,
   "metadata": {},
   "outputs": [
    {
     "data": {
      "text/latex": [
       "$\\displaystyle \\left[\\begin{matrix}\\left(- 2 l_{2}^{2} m_{2} \\sin{\\left(\\theta_{2} \\right)} \\cos{\\left(\\theta_{2} \\right)} - 2 l_{2}^{2} m_{3} \\sin{\\left(\\theta_{2} \\right)} \\cos{\\left(\\theta_{2} \\right)} - 2 l_{2}^{2} m_{4} \\sin{\\left(\\theta_{2} \\right)} \\cos{\\left(\\theta_{2} \\right)}\\right) \\dot{\\theta}_{2} & l_{2} l_{4} m_{4} \\sin{\\left(\\theta_{4} \\right)} \\cos{\\left(\\theta_{2} \\right)} \\dot{\\theta}_{2} & 0 & - l_{2} l_{4} m_{4} \\sin{\\left(\\theta_{2} \\right)} \\cos{\\left(\\theta_{4} \\right)} \\dot{\\theta}_{2}\\\\l_{2} l_{4} m_{4} \\sin{\\left(\\theta_{4} \\right)} \\cos{\\left(\\theta_{2} \\right)} \\dot{\\theta}_{2} & \\left(2 \\left(l_{1} + l_{2} \\sin{\\left(\\theta_{2} \\right)} - l_{3} - l_{4} \\cos{\\left(\\theta_{4} \\right)}\\right) l_{2} m_{4} \\sin^{2}{\\left(\\theta_{1} \\right)} \\cos{\\left(\\theta_{2} \\right)} + 2 \\left(l_{1} + l_{2} \\sin{\\left(\\theta_{2} \\right)} - l_{3} - l_{4} \\cos{\\left(\\theta_{4} \\right)}\\right) l_{2} m_{4} \\cos^{2}{\\left(\\theta_{1} \\right)} \\cos{\\left(\\theta_{2} \\right)} + 2 l_{1} l_{2} m_{2} \\cos{\\left(\\theta_{2} \\right)} + 2 l_{1} l_{2} m_{3} \\cos{\\left(\\theta_{2} \\right)} - 2 l_{2}^{2} m_{4} \\sin{\\left(\\theta_{2} \\right)} \\cos{\\left(\\theta_{2} \\right)} - l_{2} l_{3} m_{2} \\cos{\\left(\\theta_{2} \\right)} - 2 l_{2} l_{3} m_{3} \\cos{\\left(\\theta_{2} \\right)}\\right) \\dot{\\theta}_{2} & \\left(- l_{2} l_{3} m_{3} \\cos{\\left(\\theta_{2} \\right)} - l_{2} l_{3} m_{4} \\cos{\\left(\\theta_{2} \\right)} - l_{2} l_{4} m_{4} \\cos{\\left(\\theta_{2} \\right)} \\cos{\\left(\\theta_{4} \\right)}\\right) \\dot{\\theta}_{2} & - l_{2} l_{4} m_{4} \\sin{\\left(\\theta_{2} \\right)} \\sin{\\left(\\theta_{4} \\right)} \\dot{\\theta}_{2}\\\\0 & \\left(- l_{2} l_{3} m_{3} \\cos{\\left(\\theta_{2} \\right)} - l_{2} l_{3} m_{4} \\cos{\\left(\\theta_{2} \\right)} - l_{2} l_{4} m_{4} \\cos{\\left(\\theta_{2} \\right)} \\cos{\\left(\\theta_{4} \\right)}\\right) \\dot{\\theta}_{2} & 0 & 0\\\\- l_{2} l_{4} m_{4} \\sin{\\left(\\theta_{2} \\right)} \\cos{\\left(\\theta_{4} \\right)} \\dot{\\theta}_{2} & - l_{2} l_{4} m_{4} \\sin{\\left(\\theta_{2} \\right)} \\sin{\\left(\\theta_{4} \\right)} \\dot{\\theta}_{2} & 0 & 0\\end{matrix}\\right]$"
      ],
      "text/plain": [
       "Matrix([\n",
       "[(-2*l2**2*m2*sin(theta2)*cos(theta2) - 2*l2**2*m3*sin(theta2)*cos(theta2) - 2*l2**2*m4*sin(theta2)*cos(theta2))*theta2',                                                                                                                                                                                                                                                                         l2*l4*m4*sin(theta4)*cos(theta2)*theta2',                                                                                         0, -l2*l4*m4*sin(theta2)*cos(theta4)*theta2'],\n",
       "[                                                                               l2*l4*m4*sin(theta4)*cos(theta2)*theta2', (2*(l1 + l2*sin(theta2) - l3 - l4*cos(theta4))*l2*m4*sin(theta1)**2*cos(theta2) + 2*(l1 + l2*sin(theta2) - l3 - l4*cos(theta4))*l2*m4*cos(theta1)**2*cos(theta2) + 2*l1*l2*m2*cos(theta2) + 2*l1*l2*m3*cos(theta2) - 2*l2**2*m4*sin(theta2)*cos(theta2) - l2*l3*m2*cos(theta2) - 2*l2*l3*m3*cos(theta2))*theta2', (-l2*l3*m3*cos(theta2) - l2*l3*m4*cos(theta2) - l2*l4*m4*cos(theta2)*cos(theta4))*theta2', -l2*l4*m4*sin(theta2)*sin(theta4)*theta2'],\n",
       "[                                                                                                                      0,                                                                                                                                                                                                                        (-l2*l3*m3*cos(theta2) - l2*l3*m4*cos(theta2) - l2*l4*m4*cos(theta2)*cos(theta4))*theta2',                                                                                         0,                                         0],\n",
       "[                                                                              -l2*l4*m4*sin(theta2)*cos(theta4)*theta2',                                                                                                                                                                                                                                                                        -l2*l4*m4*sin(theta2)*sin(theta4)*theta2',                                                                                         0,                                         0]])"
      ]
     },
     "execution_count": 51,
     "metadata": {},
     "output_type": "execute_result"
    }
   ],
   "source": [
    "q[1]\n",
    "diff(Dtotal,q[1])*q_dot[1]"
   ]
  },
  {
   "cell_type": "code",
   "execution_count": 52,
   "metadata": {},
   "outputs": [],
   "source": [
    "def C_t(q,q_dot,D_total):\n",
    "    C_1 = zeros(4,4)\n",
    "    C_2 = zeros(4,1)\n",
    "\n",
    "    for n in range(4):\n",
    "        # Part 1 = dD(q)/dt = sum (partial D(q)/partial qi)q_dot\n",
    "        C_1= C_1 + (diff(D_total,q[n])*q_dot[n])\n",
    "\n",
    "    C_1 = C_1*q_dot\n",
    "\n",
    "    for n in range(4):\n",
    "        # Part 2 = column matrix (1/2)*(q_dot)^T.(partial D(q)/partial qi).q_do\n",
    "        C_2[n] = (1/2)*((q_dot.T)*diff(D_total,q[n])*q_dot)\n",
    "\n",
    "    C = C_1 - C_2;\n",
    "    return C"
   ]
  },
  {
   "cell_type": "code",
   "execution_count": 53,
   "metadata": {},
   "outputs": [],
   "source": [
    "# Termo C(q,qdot) contribuicao inercial\n",
    "\n",
    "Ctotal = C_t(q, q_dot, Dtotal)\n",
    "#Ctotal"
   ]
  },
  {
   "cell_type": "code",
   "execution_count": 54,
   "metadata": {},
   "outputs": [],
   "source": [
    "def G_t(q,P_total):\n",
    "    G = zeros(4,1)\n",
    "    for n in range(4):\n",
    "        G[n] = diff(P_total,q[n])\n",
    "    return G"
   ]
  },
  {
   "cell_type": "code",
   "execution_count": 55,
   "metadata": {},
   "outputs": [
    {
     "data": {
      "text/latex": [
       "$\\displaystyle \\left[\\begin{matrix}0\\\\g l_{2} m_{2} \\cos{\\left(\\theta_{2} \\right)} + g l_{2} m_{3} \\cos{\\left(\\theta_{2} \\right)} + g l_{2} m_{4} \\cos{\\left(\\theta_{2} \\right)}\\\\0\\\\g l_{4} m_{4} \\sin{\\left(\\theta_{4} \\right)}\\end{matrix}\\right]$"
      ],
      "text/plain": [
       "Matrix([\n",
       "[                                                              0],\n",
       "[g*l2*m2*cos(theta2) + g*l2*m3*cos(theta2) + g*l2*m4*cos(theta2)],\n",
       "[                                                              0],\n",
       "[                                            g*l4*m4*sin(theta4)]])"
      ]
     },
     "execution_count": 55,
     "metadata": {},
     "output_type": "execute_result"
    }
   ],
   "source": [
    "# Termo G(q)  vale as contribuicoes da gravidade \n",
    "Gtotal = G_t(q,Ptotal)\n",
    "Gtotal"
   ]
  },
  {
   "cell_type": "markdown",
   "metadata": {},
   "source": [
    "Calculo do esforcos de interaçao Gamma_e  \n",
    "\n",
    "\n",
    "\n",
    "Representar os tensores cinematicos em relacao a P\n",
    "1-Identificar o vetores OiP sendo P o ponto do referencial bicoptero\n",
    "2-Multiplicar por i-1Mi (matriz de rotacao) \n",
    "3-fazer o produto vetorial entre Zi x (i-1Mi * OiP)\n",
    "4-Montar o tensor\n"
   ]
  },
  {
   "cell_type": "code",
   "execution_count": 56,
   "metadata": {},
   "outputs": [],
   "source": [
    "def v_i(M0,Tp,Ti):\n",
    "    # Calculate the zi= i-1Mi.k\n",
    "    aux1 = M0*Matrix([0,0,1])\n",
    "\n",
    "    Op = Tp[0:3,3]\n",
    "    Oi = Ti[0:3,3]\n",
    "\n",
    "    # Cross Product  zi x (Op-Oi)\n",
    "    aux2 = (aux1.cross(Op-Oi))\n",
    "    \n",
    "    # Building cinematic tensor for pivot joints\n",
    "    \n",
    "    v = Matrix([aux2, aux1])\n",
    "    return v "
   ]
  },
  {
   "cell_type": "code",
   "execution_count": 57,
   "metadata": {},
   "outputs": [],
   "source": [
    "#Matriz rotacional 0^M_0\n",
    "# Calculate the zi= i-1Mi.k \n",
    "J1 = v_i(eye(3), T04, zeros(4,4))\n",
    "\n",
    "J2 = trigsimp(v_i(rt_M(T01), T04, T01))\n",
    "\n",
    "J3 = v_i(rt_M(T02),T04,T02)\n",
    "\n",
    "J4 = v_i(rt_M(T03),T04,T03)\n",
    "\n",
    "JcP4 = Jc(J1,J2,J3,J4)\n",
    "\n",
    "v = (JcP4*Matrix([0,1,-1,0])).subs({theta1: 0, theta2:0,theta4: 0})\n",
    "#(JcP4.T)\n",
    "#v\n",
    "#(JcP4.T)*Matrix([-fx,0,0,0,0,0])\n"
   ]
  },
  {
   "cell_type": "code",
   "execution_count": 58,
   "metadata": {},
   "outputs": [
    {
     "data": {
      "text/latex": [
       "$\\displaystyle \\left[\\begin{matrix}- l_{2} \\sin{\\left(\\theta_{1} \\right)} \\cos{\\left(\\theta_{2} \\right)} - l_{4} \\sin{\\left(\\theta_{4} \\right)} \\cos{\\left(\\theta_{1} \\right)} & - \\left(l_{2} \\sin{\\left(\\theta_{2} \\right)} - l_{3} - l_{4} \\cos{\\left(\\theta_{4} \\right)}\\right) \\cos{\\left(\\theta_{1} \\right)} & - \\left(- l_{3} - l_{4} \\cos{\\left(\\theta_{4} \\right)}\\right) \\cos{\\left(\\theta_{1} \\right)} & - l_{4} \\sin{\\left(\\theta_{1} \\right)} \\cos{\\left(\\theta_{4} \\right)}\\\\l_{2} \\cos{\\left(\\theta_{1} \\right)} \\cos{\\left(\\theta_{2} \\right)} - l_{4} \\sin{\\left(\\theta_{1} \\right)} \\sin{\\left(\\theta_{4} \\right)} & - \\left(l_{2} \\sin{\\left(\\theta_{2} \\right)} - l_{3} - l_{4} \\cos{\\left(\\theta_{4} \\right)}\\right) \\sin{\\left(\\theta_{1} \\right)} & - \\left(- l_{3} - l_{4} \\cos{\\left(\\theta_{4} \\right)}\\right) \\sin{\\left(\\theta_{1} \\right)} & l_{4} \\cos{\\left(\\theta_{1} \\right)} \\cos{\\left(\\theta_{4} \\right)}\\\\0 & l_{2} \\cos{\\left(\\theta_{2} \\right)} & 0 & l_{4} \\sin^{2}{\\left(\\theta_{1} \\right)} \\sin{\\left(\\theta_{4} \\right)} + l_{4} \\sin{\\left(\\theta_{4} \\right)} \\cos^{2}{\\left(\\theta_{1} \\right)}\\\\0 & \\sin{\\left(\\theta_{1} \\right)} & \\sin{\\left(\\theta_{1} \\right)} & \\cos{\\left(\\theta_{1} \\right)}\\\\0 & - \\cos{\\left(\\theta_{1} \\right)} & - \\cos{\\left(\\theta_{1} \\right)} & \\sin{\\left(\\theta_{1} \\right)}\\\\1 & 0 & 0 & 0\\end{matrix}\\right]$"
      ],
      "text/plain": [
       "Matrix([\n",
       "[-l2*sin(theta1)*cos(theta2) - l4*sin(theta4)*cos(theta1), -(l2*sin(theta2) - l3 - l4*cos(theta4))*cos(theta1), -(-l3 - l4*cos(theta4))*cos(theta1),                                   -l4*sin(theta1)*cos(theta4)],\n",
       "[ l2*cos(theta1)*cos(theta2) - l4*sin(theta1)*sin(theta4), -(l2*sin(theta2) - l3 - l4*cos(theta4))*sin(theta1), -(-l3 - l4*cos(theta4))*sin(theta1),                                    l4*cos(theta1)*cos(theta4)],\n",
       "[                                                       0,                                      l2*cos(theta2),                                   0, l4*sin(theta1)**2*sin(theta4) + l4*sin(theta4)*cos(theta1)**2],\n",
       "[                                                       0,                                         sin(theta1),                         sin(theta1),                                                   cos(theta1)],\n",
       "[                                                       0,                                        -cos(theta1),                        -cos(theta1),                                                   sin(theta1)],\n",
       "[                                                       1,                                                   0,                                   0,                                                             0]])"
      ]
     },
     "execution_count": 58,
     "metadata": {},
     "output_type": "execute_result"
    }
   ],
   "source": [
    "JcP4"
   ]
  },
  {
   "cell_type": "markdown",
   "metadata": {},
   "source": [
    "Calcular o Gamma_e a partir da matriz Jacobiana cinematica em relacao a P"
   ]
  },
  {
   "cell_type": "code",
   "execution_count": 59,
   "metadata": {},
   "outputs": [
    {
     "data": {
      "text/latex": [
       "$\\displaystyle \\left[\\begin{matrix}f_{y} l_{2} + \\tau_{z}\\\\- \\left(- l_{3} - l_{4}\\right) f_{x}\\\\- \\left(- l_{3} - l_{4}\\right) f_{x}\\\\f_{y} l_{4}\\end{matrix}\\right]$"
      ],
      "text/plain": [
       "Matrix([\n",
       "[ f_y*l2 + tau_z],\n",
       "[-(-l3 - l4)*f_x],\n",
       "[-(-l3 - l4)*f_x],\n",
       "[         f_y*l4]])"
      ]
     },
     "execution_count": 59,
     "metadata": {},
     "output_type": "execute_result"
    }
   ],
   "source": [
    "#Forca expressa no referencial 0 (Não é o que queremos)\n",
    "\n",
    "#tau_e:=<<f[x],f[y],f[z],tau[x],tau[y],tau[z]>>:\n",
    "tau_e = Matrix([fx,fy,0,0,0,tauz])\n",
    "Gamma_e = JcP4.T*(tau_e)\n",
    "Gamma_e.subs({theta2:0,theta1:0,theta4:0})\n"
   ]
  },
  {
   "cell_type": "code",
   "execution_count": 60,
   "metadata": {},
   "outputs": [],
   "source": [
    "# Para entao representar o vetor esforco em outro referencial é necessario as seguintes formulacoes\n",
    "\n",
    "# Para entender indica-se o exemplo da maçã do link https://modernrobotics.northwestern.edu/nu-gm-book-resource/3-4-wrenches/#department\n",
    "#Ttest:=eval(ht_M(0,-(ele),0,0));\n",
    "#tau_e:=<<0,0,0,0,-mg,0>>;\n",
    "#p:=v_2so3(<<Ttest(1,4),Ttest(2,4),Ttest(3,4)>>);\n",
    "#T_adj(Ttest,rt_M(Ttest));\n",
    "#tau_f:=LinearAlgebra[Transpose](T_adj(Ttest)).(tau_e);\n",
    "\n",
    "\n",
    "#representacao de um vetor em so3\n",
    "def v_2so3(v):\n",
    "    p = zeros(3)\n",
    "    p[0,1] = -v[2,0]\n",
    "    p[0,2] = v[1,0]\n",
    "    p[1,2] = -v[0,0]\n",
    "    p[1,0] = v[2,0]\n",
    "    p[2,0] = -v[1,0]\n",
    "    p[2,1] = v[0,0]\n",
    "    return p\n",
    "\n",
    "#representacao adjunta da matriz Transformacao homogenea\n",
    "def T_adj(Thom):\n",
    "    p = v_2so3(Thom[0:3,3])\n",
    "\n",
    "    K = p*rt_M(Thom)\n",
    "    M = zeros(6)\n",
    "\n",
    "    M[0:3,0:3] = Thom[0:3,0:3]\n",
    "    M[3:6,0:6] = Matrix([K[0:3,0:3]]).col_insert(3,Thom[0:3,0:3]) \n",
    "\n",
    "    return M\n",
    "\n",
    "#Inversa da matriz homogênea\n",
    "def inv_Thom(Thom):\n",
    "    Ka = (rt_M(Thom)).T\n",
    "    Ke = -Ka*Thom[0:3,3] \n",
    "\n",
    "    M = Ka[0:3,0:3]\n",
    "    M = M.col_insert(3,Ke[0:3,0])\n",
    "\n",
    "    M = M.row_insert(4, Matrix([0,0,0,1]).T)\n",
    "    return M"
   ]
  },
  {
   "cell_type": "code",
   "execution_count": 61,
   "metadata": {},
   "outputs": [],
   "source": [
    "#Calcula-se a matrix inversa (T_0_4) da matriz transformacao homogenea T_04 \n",
    "T40 =inv_Thom(T04)\n",
    "\n",
    "#eval(T_4_[0],{theta[2](t)=0,theta[1](t)=0,theta[4](t)=0});\n",
    "\n",
    "#Passa-se o vetor 3x1 p da entao matriz inversa para s03\n",
    "p=v_2so3(T40[0:3,3])\n",
    "\n",
    "#Finalmente calcula-se a matrix adjunta de T_4_0\n",
    "MAdjT40 = T_adj(T40)\n",
    "#T40\n",
    "#p\n",
    "#MAdjT40\n",
    "#eval(AdjT_4_0,{theta[2](t)=0,theta[1](t)=0,theta[4](t)=0});\n",
    "\n",
    "#LinearAlgebra[Transpose](eval(AdjT_4_0,{theta[2](t)=0,theta[1](t)=0,theta[4](t)=0})).<<0,0,tau[z],f[x],f[y],0>> := LinearAlgebra[Transpose](eval(AdjT_4_0,{theta[2](t)=0,theta[1](t)=0,theta[4](t)=0})).<<0,0,tau[z],f[x],f[y],0>> ;\n",
    "\n",
    "#Constroi-se uma matrix capaz de colocar os elementos momentos nas ultimas 3 posicoes do vetor 6x1 e colocar as forcas nas 3 primeiras posicoes do vetor\n",
    "MF_M = zeros(6)\n",
    "MF_M[0,3] =1\n",
    "MF_M[1,4] =1\n",
    "MF_M[2,5] =1\n",
    "MF_M[3,0] =1\n",
    "MF_M[4,1] =1\n",
    "MF_M[5,2] =1\n"
   ]
  },
  {
   "cell_type": "markdown",
   "metadata": {},
   "source": [
    "<h1> Mudando para o referencial do membro final <\\h1>"
   ]
  },
  {
   "cell_type": "code",
   "execution_count": 62,
   "metadata": {},
   "outputs": [
    {
     "data": {
      "text/latex": [
       "$\\displaystyle \\left[\\begin{matrix}l_{2} \\sin{\\left(\\theta_{4} \\right)} \\cos{\\left(\\theta_{2} \\right)} & l_{2} \\cos{\\left(\\theta_{2} \\right)} \\cos{\\left(\\theta_{4} \\right)} & - l_{4} \\sin{\\left(\\theta_{4} \\right)} & - \\cos{\\left(\\theta_{4} \\right)} & \\sin{\\left(\\theta_{4} \\right)} & 0\\\\- l_{2} \\cos{\\left(\\theta_{2} \\right)} \\cos{\\left(\\theta_{4} \\right)} & l_{2} \\sin{\\left(\\theta_{4} \\right)} \\cos{\\left(\\theta_{2} \\right)} & - l_{2} \\sin{\\left(\\theta_{2} \\right)} + l_{3} + l_{4} \\cos{\\left(\\theta_{4} \\right)} & - \\sin{\\left(\\theta_{4} \\right)} & - \\cos{\\left(\\theta_{4} \\right)} & 0\\\\0 & 0 & l_{3} + l_{4} \\cos{\\left(\\theta_{4} \\right)} & - \\sin{\\left(\\theta_{4} \\right)} & - \\cos{\\left(\\theta_{4} \\right)} & 0\\\\0 & l_{4} & 0 & 0 & 0 & 1\\end{matrix}\\right]$"
      ],
      "text/plain": [
       "Matrix([\n",
       "[ l2*sin(theta4)*cos(theta2), l2*cos(theta2)*cos(theta4),                       -l4*sin(theta4), -cos(theta4),  sin(theta4), 0],\n",
       "[-l2*cos(theta2)*cos(theta4), l2*sin(theta4)*cos(theta2), -l2*sin(theta2) + l3 + l4*cos(theta4), -sin(theta4), -cos(theta4), 0],\n",
       "[                          0,                          0,                   l3 + l4*cos(theta4), -sin(theta4), -cos(theta4), 0],\n",
       "[                          0,                         l4,                                     0,            0,            0, 1]])"
      ]
     },
     "execution_count": 62,
     "metadata": {},
     "output_type": "execute_result"
    }
   ],
   "source": [
    "#Perceba que inicialmente o vetor tau_e é da maneira <<momentos, forcas>>\n",
    "# Alem disso para o nosso aplicacao taux=tauy=fz=0\n",
    "tau_e = Matrix([0,0,tauz,fx,fy,0])\n",
    "\n",
    "#Aqui mostra-se como os esforcos em P sao traduzidos no referencial 0\n",
    "#eval(MF_M.simplify(LinearAlgebra[Transpose](AdjT_4_0).(tau_e),eqtrig6),{theta[2](t)=0,theta[1](t)=0,theta[4](t)=0}):\n",
    "PJ4 = trigsimp(ch_M(rt_M(T40))*JcP4);\n",
    "\n",
    "#aux:=MF_M.simplify(LinearAlgebra[Transpose](AdjT_4_0).(tau_e),eqtrig6):\n",
    "\n",
    "#LinearAlgebra[Transpose](J_cP[4]);\n",
    "\n",
    "#Calcula-se Gamma_e\n",
    "#Gamma_e:=LinearAlgebra[Transpose](J_cP[4]).MF_M.simplify(LinearAlgebra[Transpose](AdjT_4_0).(tau_e),eqtrig6):\n",
    "\n",
    "Gamma_e = PJ4.T*MF_M*(tau_e)\n",
    "\n",
    "#Nosso caso queremos Gamma_b\n",
    "Gamma_b = Gamma_e\n",
    "\n",
    "Gamma_b = trigsimp(Gamma_b)\n",
    "Gamma_b\n",
    "#Visualização dos esforços em cada junta na posicao neutra \n",
    "#MF_M.<<0,0,tau[z],f[x],f[y],0>>;\n",
    "#eval(MF_M.simplify(LinearAlgebra[Transpose](AdjT_4_0).(tau_e),eqtrig6),{theta[2](t)=0,theta[1](t)=0,theta[4](t)=0});\n",
    "#eval(Gamma_b,{theta[2](t)=0,theta[1](t)=0,theta[4](t)=0});\n",
    "PJ4.T"
   ]
  },
  {
   "cell_type": "markdown",
   "metadata": {},
   "source": [
    "<h1> Traduzindo as variaveis de entrada com o mecanismo de vetorização<\\h1>"
   ]
  },
  {
   "cell_type": "markdown",
   "metadata": {},
   "source": [
    "![title](img/tiltmatrix.png)\n",
    "![title](img/gammatilt.png)"
   ]
  },
  {
   "cell_type": "code",
   "execution_count": 63,
   "metadata": {},
   "outputs": [],
   "source": [
    "tilt = Matrix([[-cos(alpha1), -cos(alpha2)],[sin(alpha1), -sin(alpha2)], zeros(3,2), [b1*cos(alpha1), -b2*cos(alpha2)]])\n",
    "forces= Matrix([f1,f2])"
   ]
  },
  {
   "cell_type": "code",
   "execution_count": 64,
   "metadata": {},
   "outputs": [
    {
     "data": {
      "text/latex": [
       "$\\displaystyle \\left[\\begin{matrix}0\\\\\\left(F_{1} + F_{2}\\right) l_{2}\\\\0\\\\F_{1} b_{1} - F_{2} b_{2}\\end{matrix}\\right]$"
      ],
      "text/plain": [
       "Matrix([\n",
       "[                0],\n",
       "[   (F_1 + F_2)*l2],\n",
       "[                0],\n",
       "[F_1*b_1 - F_2*b_2]])"
      ]
     },
     "execution_count": 64,
     "metadata": {},
     "output_type": "execute_result"
    }
   ],
   "source": [
    "#Calcula-se Gamma_e\n",
    "Gamma_e = PJ4.T*tilt*forces\n",
    "\n",
    "#Nosso caso queremos Gamma_b\n",
    "Gamma_b = Gamma_e\n",
    "\n",
    "Gamma_b = trigsimp(Gamma_b)\n",
    "Gamma_b\n",
    "Gamma_b.subs({theta1:0,theta2:0,theta4:0,alpha1:0,alpha2:0})"
   ]
  },
  {
   "cell_type": "markdown",
   "metadata": {},
   "source": [
    "<h1> Contra Peso no Robô <\\h1>"
   ]
  },
  {
   "cell_type": "code",
   "execution_count": 65,
   "metadata": {},
   "outputs": [
    {
     "data": {
      "text/latex": [
       "$\\displaystyle \\left[\\begin{matrix}0\\\\g l_{2} m_{2} \\cos{\\left(\\theta_{2} \\right)} + g l_{2} m_{3} \\cos{\\left(\\theta_{2} \\right)}\\\\0\\\\0\\end{matrix}\\right]$"
      ],
      "text/plain": [
       "Matrix([\n",
       "[                                        0],\n",
       "[g*l2*m2*cos(theta2) + g*l2*m3*cos(theta2)],\n",
       "[                                        0],\n",
       "[                                        0]])"
      ]
     },
     "execution_count": 65,
     "metadata": {},
     "output_type": "execute_result"
    }
   ],
   "source": [
    "Gamma_contra=zeros(4,1)\n",
    "# Nao realizamos para o peso do elemento final que é o drone (por isso o range de 3)\n",
    "Gamma_contra[0] = diff(P1,q[0])+diff(P2,q[0])+diff(P3,q[0])#+diff(P4,q[0])\n",
    "Gamma_contra[1] = diff(P2,q[1])+diff(P3,q[1])#+diff(P4,q[1])\n",
    "Gamma_contra[2] = diff(P3,q[2])#+diff(P4,q[2])\n",
    "    \n",
    "Gamma_contra"
   ]
  },
  {
   "cell_type": "code",
   "execution_count": 66,
   "metadata": {},
   "outputs": [],
   "source": [
    "q=Matrix([theta1,theta2,theta3,theta4])\n",
    "q_dot= diff(q,t)\n",
    "q_ddot= diff(q_dot,t)"
   ]
  },
  {
   "cell_type": "markdown",
   "metadata": {},
   "source": [
    "<h2> Equação Total do Movimento </h2>"
   ]
  },
  {
   "cell_type": "code",
   "execution_count": 67,
   "metadata": {},
   "outputs": [],
   "source": [
    "Mdf=Dtotal*q_ddot+Ctotal+Gtotal-Gamma_b-Gamma_contra"
   ]
  },
  {
   "cell_type": "markdown",
   "metadata": {},
   "source": [
    "<h2>Iniciando Equacao Solução</h2>"
   ]
  },
  {
   "cell_type": "code",
   "execution_count": 68,
   "metadata": {},
   "outputs": [],
   "source": [
    "Eq=zeros(4,1)"
   ]
  },
  {
   "cell_type": "code",
   "execution_count": 69,
   "metadata": {},
   "outputs": [],
   "source": [
    "#Isolando as variaveis q_ddot\n",
    "Eq[0]=solve(Mdf[0], q_ddot[0])  #Relativo a Theta dois pontos 1\n",
    "Eq[1]=solve(Mdf[1], q_ddot[1])  #Relativo a Theta dois pontos 2\n",
    "Eq[2]=solve(Mdf[2], q_ddot[2])  #Relativo a Theta dois pontos 3\n",
    "Eq[3]=solve(Mdf[3], q_ddot[3])  #Relativo a Theta dois pontos 4"
   ]
  },
  {
   "cell_type": "markdown",
   "metadata": {},
   "source": [
    "<h2>Realizando a Linearização</h2>"
   ]
  },
  {
   "cell_type": "markdown",
   "metadata": {},
   "source": [
    "<h2> Linearização (Método de Newton) </h2>"
   ]
  },
  {
   "cell_type": "markdown",
   "metadata": {},
   "source": [
    "![title](img/linearizacao.png)\n",
    "\n",
    "<a href=\"http://sites.poli.usp.br/d/PMR2400/3-%20Lineariza%C3%A7%C3%A3o%20de%20sistemas.pdf\"> Material Referência </a>\n"
   ]
  },
  {
   "cell_type": "markdown",
   "metadata": {},
   "source": [
    "<h2>Iniciando o vetor Estado e Comando<\\h2>"
   ]
  },
  {
   "cell_type": "code",
   "execution_count": 70,
   "metadata": {},
   "outputs": [],
   "source": [
    "states=Matrix([theta1, theta2, theta3, theta4])\n",
    "inputs=Matrix([alpha1,alpha2,f1,f2])"
   ]
  },
  {
   "cell_type": "code",
   "execution_count": 71,
   "metadata": {},
   "outputs": [
    {
     "data": {
      "text/latex": [
       "$\\displaystyle 4$"
      ],
      "text/plain": [
       "4"
      ]
     },
     "execution_count": 71,
     "metadata": {},
     "output_type": "execute_result"
    }
   ],
   "source": [
    "len(inputs)"
   ]
  },
  {
   "cell_type": "markdown",
   "metadata": {},
   "source": [
    "<h2>Iniciando o vetor estado inicial<\\h2>"
   ]
  },
  {
   "cell_type": "code",
   "execution_count": 72,
   "metadata": {},
   "outputs": [],
   "source": [
    "#Trim={fx:fx0,fy:fy0,fz:fz0,tauz:tauz0,theta1:theta1_0,theta2:theta2_0,theta3:-theta2_0,theta4:theta4_0,diff(theta1,t):omega10,diff(theta2,t):omega20,diff(theta3,t):omega30,diff(theta4,t):omega40,diff(diff(theta1,t),t):psi10,diff(diff(theta2,t),t):psi20,diff(diff(theta3,t),t):psi30,diff(diff(theta4,t),t):psi40}\n",
    "#Trim_value={theta1_0: 0.00,theta2_0: 0.00,theta3_0: -(pi/2),theta4_0: 0.00,omega10: 0.00,omega20: 0.00,omega30: 0.00,omega40: 0.00,psi10: 0.00,psi20: 0.00,psi30: 0.00,psi40: 0.00}\n",
    "Trim={f1:f10,f2:f20,alpha1:alpha10,alpha2:alpha20,theta1:theta10,theta2:theta20,theta3:-theta20,theta4:theta40,diff(theta1,t):omega10,diff(theta2,t):omega20,diff(theta3,t):omega30,diff(theta4,t):omega40,diff(diff(theta1,t),t):psi10,diff(diff(theta2,t),t):psi20,diff(diff(theta3,t),t):psi30,diff(diff(theta4,t),t):psi40}\n",
    "states_value={theta10: 0.00,theta20: 0.00,theta30: -(pi/2),theta40: 0.00,omega10: 0.00,omega20: 0.00,omega30: 0.00,omega40: 0.00,psi10: 0.00,psi20: 0.00,psi30: 0.00,psi40: 0.00}\n",
    "# inputs_value={alpha10: 0.00,alpha20: 0.00} #f10: g*m4/2,f20: g*m4/2}\n",
    "inputs_value={alpha10: 0.00,alpha20: 0.00, f10: g*m4/2,f20: g*m4/2}"
   ]
  },
  {
   "cell_type": "code",
   "execution_count": 73,
   "metadata": {},
   "outputs": [],
   "source": [
    "Eq_trim=zeros(4,1)"
   ]
  },
  {
   "cell_type": "code",
   "execution_count": 74,
   "metadata": {},
   "outputs": [],
   "source": [
    "for i in range (len(inputs)):\n",
    "#    Eq_trim[i]=Eq[i].subs(Trim).subs(states_value).subs(inputs_value)\n",
    "    Eq_trim[i]=Eq[i].subs(Trim).subs(states_value).subs(inputs_value)"
   ]
  },
  {
   "cell_type": "code",
   "execution_count": 75,
   "metadata": {},
   "outputs": [
    {
     "data": {
      "text/latex": [
       "$\\displaystyle \\left[\\begin{matrix}0\\\\0\\\\0\\\\\\frac{\\frac{b_{1} g m_{4}}{2} - \\frac{b_{2} g m_{4}}{2}}{Ix_{4} + l_{4}^{2} m_{4}}\\end{matrix}\\right]$"
      ],
      "text/plain": [
       "Matrix([\n",
       "[                                         0],\n",
       "[                                         0],\n",
       "[                                         0],\n",
       "[(b_1*g*m4/2 - b_2*g*m4/2)/(Ix4 + l4**2*m4)]])"
      ]
     },
     "execution_count": 75,
     "metadata": {},
     "output_type": "execute_result"
    }
   ],
   "source": [
    "Eq_trim"
   ]
  },
  {
   "cell_type": "code",
   "execution_count": 80,
   "metadata": {},
   "outputs": [
    {
     "data": {
      "text/latex": [
       "$\\displaystyle \\left[\\begin{matrix}\\frac{1.0 F_{10} l_{2} \\sin{\\left(\\alpha_{1 0} \\right)} - 1.0 F_{20} l_{2} \\sin{\\left(\\alpha_{2 0} \\right)}}{Iz_{1} + Iz_{2} + Iz_{3} + Iz_{4} + l_{2}^{2} m_{2} + l_{2}^{2} m_{3} + l_{2}^{2} m_{4}}\\\\\\frac{2.0 \\left(2 F_{10} l_{2} \\cos{\\left(\\alpha_{1 0} \\right)} + 2 F_{20} l_{2} \\cos{\\left(\\alpha_{2 0} \\right)} - 2.0 g l_{2} m_{4}\\right)}{4.0 \\left(l_{1} - l_{3} - l_{4}\\right)^{2} m_{4} + 4.0 Iy_{2} + 4.0 Iy_{3} + 4.0 Iy_{4} + 4.0 l_{1}^{2} m_{2} + 4.0 l_{1}^{2} m_{3} - 4.0 l_{1} l_{3} m_{2} - 8.0 l_{1} l_{3} m_{3} + 4.0 l_{2}^{2} m_{2} + 4.0 l_{2}^{2} m_{3} + 4.0 l_{2}^{2} m_{4} + l_{3}^{2} m_{2} + 4.0 l_{3}^{2} m_{3}}\\\\0\\\\- \\frac{\\frac{b_{1} g m_{4}}{2} - \\frac{b_{2} g m_{4}}{2}}{Ix_{4} + l_{4}^{2} m_{4}} + \\frac{F_{10} b_{1} \\cos{\\left(\\alpha_{1 0} \\right)} + F_{10} l_{4} \\sin{\\left(\\alpha_{1 0} \\right)} - F_{20} b_{2} \\cos{\\left(\\alpha_{2 0} \\right)} - F_{20} l_{4} \\sin{\\left(\\alpha_{2 0} \\right)}}{Ix_{4} + l_{4}^{2} m_{4}}\\end{matrix}\\right]$"
      ],
      "text/plain": [
       "Matrix([\n",
       "[                                                                                                                                                 (1.0*F_10*l2*sin(alpha_1_0) - 1.0*F_20*l2*sin(alpha2_0))/(Iz1 + Iz2 + Iz3 + Iz4 + l2**2*m2 + l2**2*m3 + l2**2*m4)],\n",
       "[2.0*(2*F_10*l2*cos(alpha_1_0) + 2*F_20*l2*cos(alpha2_0) - 2.0*g*l2*m4)/(4.0*(l1 - l3 - l4)**2*m4 + 4.0*Iy2 + 4.0*Iy3 + 4.0*Iy4 + 4.0*l1**2*m2 + 4.0*l1**2*m3 - 4.0*l1*l3*m2 - 8.0*l1*l3*m3 + 4.0*l2**2*m2 + 4.0*l2**2*m3 + 4.0*l2**2*m4 + l3**2*m2 + 4.0*l3**2*m3)],\n",
       "[                                                                                                                                                                                                                                                                 0],\n",
       "[                                                                                                -(b_1*g*m4/2 - b_2*g*m4/2)/(Ix4 + l4**2*m4) + (F_10*b_1*cos(alpha_1_0) + F_10*l4*sin(alpha_1_0) - F_20*b_2*cos(alpha2_0) - F_20*l4*sin(alpha2_0))/(Ix4 + l4**2*m4)]])"
      ]
     },
     "execution_count": 80,
     "metadata": {},
     "output_type": "execute_result"
    }
   ],
   "source": [
    "Eq_linha=Eq-Eq_trim\n",
    "Eq_linha=Eq_linha.subs(Trim).subs(states_value)\n",
    "Eq_linha"
   ]
  },
  {
   "cell_type": "markdown",
   "metadata": {},
   "source": [
    "<h2>Iniciando Matrizes A e B<\\h2>"
   ]
  },
  {
   "cell_type": "code",
   "execution_count": 98,
   "metadata": {},
   "outputs": [],
   "source": [
    "A = zeros(4, 4) \n",
    "B = zeros(4, 4) \n",
    "inputs_value={alpha10: 0.00,alpha20: 0.00} #f10: g*m4/2,f20: g*m4/2}"
   ]
  },
  {
   "cell_type": "code",
   "execution_count": 104,
   "metadata": {},
   "outputs": [],
   "source": [
    "for i in range(len(states)):\n",
    "    for j in range(len(states)):\n",
    "#        A[i,j]= simplify( ( diff( Eq_linha[i], states[j] ) ).subs(Trim).subs(states_value).subs(inputs_value))\n",
    "        A[i,j]= simplify( ( diff( Eq[i], states[j] ) ).subs(Trim).subs(states_value).subs(inputs_value))\n",
    "#        A[i,j]= simplify( ( diff( Eq[i], states[j] ) ).subs(Trim).subs(states_value) )"
   ]
  },
  {
   "cell_type": "code",
   "execution_count": 106,
   "metadata": {},
   "outputs": [],
   "source": [
    "for i in range(len(states)):\n",
    "    for j in range(len(inputs)):\n",
    "#        B[i,j]= simplify( ( diff( Eq_linha[i], inputs[j] ) ).subs(Trim).subs(states_value).subs(inputs_value))\n",
    "        B[i,j]= simplify( ( diff( Eq[i], inputs[j] ) ).subs(Trim).subs(states_value).subs(inputs_value) ) \n",
    "#        B[i,j]= simplify( ( diff( Eq[i], inputs[j] ) ).subs(Trim).subs(states_value) ) "
   ]
  },
  {
   "cell_type": "code",
   "execution_count": 107,
   "metadata": {},
   "outputs": [
    {
     "data": {
      "text/latex": [
       "$\\displaystyle \\left[\\begin{matrix}0 & 0 & 0 & - \\frac{1.0 \\left(F_{10} + F_{20}\\right) l_{2}}{Iz_{1} + Iz_{2} + Iz_{3} + Iz_{4} + l_{2}^{2} m_{2} + l_{2}^{2} m_{3} + l_{2}^{2} m_{4}}\\\\0 & \\frac{0.03125 \\left(2 F_{10} + 2 F_{20} - 2.0 g m_{4}\\right) \\left(8.0 \\left(- l_{1} + l_{3} + l_{4}\\right) m_{4} - 8.0 l_{1} m_{2} - 8.0 l_{1} m_{3} + 4.0 l_{3} m_{2} + 8.0 l_{3} m_{3}\\right) l_{2}^{2}}{\\left(0.5 \\left(- l_{1} + l_{3} + l_{4}\\right)^{2} m_{4} + 0.5 Iy_{2} + 0.5 Iy_{3} + 0.5 Iy_{4} + 0.5 l_{1}^{2} m_{2} + 0.5 l_{1}^{2} m_{3} - 0.5 l_{1} l_{3} m_{2} - l_{1} l_{3} m_{3} + 0.5 l_{2}^{2} m_{2} + 0.5 l_{2}^{2} m_{3} + 0.5 l_{2}^{2} m_{4} + 0.125 l_{3}^{2} m_{2} + 0.5 l_{3}^{2} m_{3}\\right)^{2}} & 0 & 0\\\\0 & 0 & 0 & 0\\\\0 & 0 & 0 & - \\frac{g l_{4} m_{4}}{Ix_{4} + l_{4}^{2} m_{4}}\\end{matrix}\\right]$"
      ],
      "text/plain": [
       "Matrix([\n",
       "[0,                                                                                                                                                                                                                                                                                                                     0, 0, -1.0*(F_10 + F_20)*l2/(Iz1 + Iz2 + Iz3 + Iz4 + l2**2*m2 + l2**2*m3 + l2**2*m4)],\n",
       "[0, 0.03125*(2*F_10 + 2*F_20 - 2.0*g*m4)*(8.0*(-l1 + l3 + l4)*m4 - 8.0*l1*m2 - 8.0*l1*m3 + 4.0*l3*m2 + 8.0*l3*m3)*l2**2/(0.5*(-l1 + l3 + l4)**2*m4 + 0.5*Iy2 + 0.5*Iy3 + 0.5*Iy4 + 0.5*l1**2*m2 + 0.5*l1**2*m3 - 0.5*l1*l3*m2 - l1*l3*m3 + 0.5*l2**2*m2 + 0.5*l2**2*m3 + 0.5*l2**2*m4 + 0.125*l3**2*m2 + 0.5*l3**2*m3)**2, 0,                                                                              0],\n",
       "[0,                                                                                                                                                                                                                                                                                                                     0, 0,                                                                              0],\n",
       "[0,                                                                                                                                                                                                                                                                                                                     0, 0,                                                      -g*l4*m4/(Ix4 + l4**2*m4)]])"
      ]
     },
     "execution_count": 107,
     "metadata": {},
     "output_type": "execute_result"
    }
   ],
   "source": [
    "A"
   ]
  },
  {
   "cell_type": "code",
   "execution_count": 108,
   "metadata": {},
   "outputs": [
    {
     "data": {
      "text/latex": [
       "$\\displaystyle \\left[\\begin{matrix}\\frac{1.0 F_{10} l_{2}}{Iz_{1} + Iz_{2} + Iz_{3} + Iz_{4} + l_{2}^{2} m_{2} + l_{2}^{2} m_{3} + l_{2}^{2} m_{4}} & - \\frac{1.0 F_{20} l_{2}}{Iz_{1} + Iz_{2} + Iz_{3} + Iz_{4} + l_{2}^{2} m_{2} + l_{2}^{2} m_{3} + l_{2}^{2} m_{4}} & 0 & 0\\\\0 & 0 & \\frac{4.0 l_{2}}{4.0 \\left(- l_{1} + l_{3} + l_{4}\\right)^{2} m_{4} + 4.0 Iy_{2} + 4.0 Iy_{3} + 4.0 Iy_{4} + 4.0 l_{1}^{2} m_{2} + 4.0 l_{1}^{2} m_{3} - 4.0 l_{1} l_{3} m_{2} - 8.0 l_{1} l_{3} m_{3} + 4.0 l_{2}^{2} m_{2} + 4.0 l_{2}^{2} m_{3} + 4.0 l_{2}^{2} m_{4} + l_{3}^{2} m_{2} + 4.0 l_{3}^{2} m_{3}} & \\frac{4.0 l_{2}}{4.0 \\left(- l_{1} + l_{3} + l_{4}\\right)^{2} m_{4} + 4.0 Iy_{2} + 4.0 Iy_{3} + 4.0 Iy_{4} + 4.0 l_{1}^{2} m_{2} + 4.0 l_{1}^{2} m_{3} - 4.0 l_{1} l_{3} m_{2} - 8.0 l_{1} l_{3} m_{3} + 4.0 l_{2}^{2} m_{2} + 4.0 l_{2}^{2} m_{3} + 4.0 l_{2}^{2} m_{4} + l_{3}^{2} m_{2} + 4.0 l_{3}^{2} m_{3}}\\\\0 & 0 & 0 & 0\\\\\\frac{F_{10} l_{4}}{Ix_{4} + l_{4}^{2} m_{4}} & - \\frac{F_{20} l_{4}}{Ix_{4} + l_{4}^{2} m_{4}} & \\frac{b_{1}}{Ix_{4} + l_{4}^{2} m_{4}} & - \\frac{b_{2}}{Ix_{4} + l_{4}^{2} m_{4}}\\end{matrix}\\right]$"
      ],
      "text/plain": [
       "Matrix([\n",
       "[1.0*F_10*l2/(Iz1 + Iz2 + Iz3 + Iz4 + l2**2*m2 + l2**2*m3 + l2**2*m4), -1.0*F_20*l2/(Iz1 + Iz2 + Iz3 + Iz4 + l2**2*m2 + l2**2*m3 + l2**2*m4),                                                                                                                                                                                                   0,                                                                                                                                                                                                   0],\n",
       "[                                                                   0,                                                                     0, 4.0*l2/(4.0*(-l1 + l3 + l4)**2*m4 + 4.0*Iy2 + 4.0*Iy3 + 4.0*Iy4 + 4.0*l1**2*m2 + 4.0*l1**2*m3 - 4.0*l1*l3*m2 - 8.0*l1*l3*m3 + 4.0*l2**2*m2 + 4.0*l2**2*m3 + 4.0*l2**2*m4 + l3**2*m2 + 4.0*l3**2*m3), 4.0*l2/(4.0*(-l1 + l3 + l4)**2*m4 + 4.0*Iy2 + 4.0*Iy3 + 4.0*Iy4 + 4.0*l1**2*m2 + 4.0*l1**2*m3 - 4.0*l1*l3*m2 - 8.0*l1*l3*m3 + 4.0*l2**2*m2 + 4.0*l2**2*m3 + 4.0*l2**2*m4 + l3**2*m2 + 4.0*l3**2*m3)],\n",
       "[                                                                   0,                                                                     0,                                                                                                                                                                                                   0,                                                                                                                                                                                                   0],\n",
       "[                                            F_10*l4/(Ix4 + l4**2*m4),                                             -F_20*l4/(Ix4 + l4**2*m4),                                                                                                                                                                                b_1/(Ix4 + l4**2*m4),                                                                                                                                                                               -b_2/(Ix4 + l4**2*m4)]])"
      ]
     },
     "execution_count": 108,
     "metadata": {},
     "output_type": "execute_result"
    }
   ],
   "source": [
    "B"
   ]
  },
  {
   "cell_type": "code",
   "execution_count": 109,
   "metadata": {},
   "outputs": [
    {
     "data": {
      "text/latex": [
       "$\\displaystyle \\left[\\begin{matrix}- \\frac{1.0 \\left(F_{10} + F_{20}\\right) \\left(\\theta_{4} - \\theta_{4 0}\\right) l_{2}}{Iz_{1} + Iz_{2} + Iz_{3} + Iz_{4} + l_{2}^{2} m_{2} + l_{2}^{2} m_{3} + l_{2}^{2} m_{4}} + \\frac{1.0 \\left(\\alpha_{1} - \\alpha_{1 0}\\right) F_{10} l_{2}}{Iz_{1} + Iz_{2} + Iz_{3} + Iz_{4} + l_{2}^{2} m_{2} + l_{2}^{2} m_{3} + l_{2}^{2} m_{4}} - \\frac{1.0 \\left(\\alpha_{2} - \\alpha_{2 0}\\right) F_{20} l_{2}}{Iz_{1} + Iz_{2} + Iz_{3} + Iz_{4} + l_{2}^{2} m_{2} + l_{2}^{2} m_{3} + l_{2}^{2} m_{4}}\\\\\\frac{4.0 \\left(F_{1} - F_{10}\\right) l_{2}}{4.0 \\left(- l_{1} + l_{3} + l_{4}\\right)^{2} m_{4} + 4.0 Iy_{2} + 4.0 Iy_{3} + 4.0 Iy_{4} + 4.0 l_{1}^{2} m_{2} + 4.0 l_{1}^{2} m_{3} - 4.0 l_{1} l_{3} m_{2} - 8.0 l_{1} l_{3} m_{3} + 4.0 l_{2}^{2} m_{2} + 4.0 l_{2}^{2} m_{3} + 4.0 l_{2}^{2} m_{4} + l_{3}^{2} m_{2} + 4.0 l_{3}^{2} m_{3}} + \\frac{4.0 \\left(F_{2} - F_{20}\\right) l_{2}}{4.0 \\left(- l_{1} + l_{3} + l_{4}\\right)^{2} m_{4} + 4.0 Iy_{2} + 4.0 Iy_{3} + 4.0 Iy_{4} + 4.0 l_{1}^{2} m_{2} + 4.0 l_{1}^{2} m_{3} - 4.0 l_{1} l_{3} m_{2} - 8.0 l_{1} l_{3} m_{3} + 4.0 l_{2}^{2} m_{2} + 4.0 l_{2}^{2} m_{3} + 4.0 l_{2}^{2} m_{4} + l_{3}^{2} m_{2} + 4.0 l_{3}^{2} m_{3}} + \\frac{0.03125 \\left(\\theta_{2} - \\theta_{2 0}\\right) \\left(2 F_{10} + 2 F_{20} - 2.0 g m_{4}\\right) \\left(8.0 \\left(- l_{1} + l_{3} + l_{4}\\right) m_{4} - 8.0 l_{1} m_{2} - 8.0 l_{1} m_{3} + 4.0 l_{3} m_{2} + 8.0 l_{3} m_{3}\\right) l_{2}^{2}}{\\left(0.5 \\left(- l_{1} + l_{3} + l_{4}\\right)^{2} m_{4} + 0.5 Iy_{2} + 0.5 Iy_{3} + 0.5 Iy_{4} + 0.5 l_{1}^{2} m_{2} + 0.5 l_{1}^{2} m_{3} - 0.5 l_{1} l_{3} m_{2} - l_{1} l_{3} m_{3} + 0.5 l_{2}^{2} m_{2} + 0.5 l_{2}^{2} m_{3} + 0.5 l_{2}^{2} m_{4} + 0.125 l_{3}^{2} m_{2} + 0.5 l_{3}^{2} m_{3}\\right)^{2}}\\\\0\\\\\\frac{\\left(F_{1} - F_{10}\\right) b_{1}}{Ix_{4} + l_{4}^{2} m_{4}} - \\frac{\\left(F_{2} - F_{20}\\right) b_{2}}{Ix_{4} + l_{4}^{2} m_{4}} + \\frac{\\left(\\alpha_{1} - \\alpha_{1 0}\\right) F_{10} l_{4}}{Ix_{4} + l_{4}^{2} m_{4}} - \\frac{\\left(\\alpha_{2} - \\alpha_{2 0}\\right) F_{20} l_{4}}{Ix_{4} + l_{4}^{2} m_{4}} - \\frac{\\left(\\theta_{4} - \\theta_{4 0}\\right) g l_{4} m_{4}}{Ix_{4} + l_{4}^{2} m_{4}}\\end{matrix}\\right]$"
      ],
      "text/plain": [
       "Matrix([\n",
       "[                                                                                                                                                                                                                                                                                                                                                                                                                                                                                      -1.0*(F_10 + F_20)*(theta4 - theta4_0)*l2/(Iz1 + Iz2 + Iz3 + Iz4 + l2**2*m2 + l2**2*m3 + l2**2*m4) + 1.0*(alpha1 - alpha_1_0)*F_10*l2/(Iz1 + Iz2 + Iz3 + Iz4 + l2**2*m2 + l2**2*m3 + l2**2*m4) - 1.0*(alpha2 - alpha2_0)*F_20*l2/(Iz1 + Iz2 + Iz3 + Iz4 + l2**2*m2 + l2**2*m3 + l2**2*m4)],\n",
       "[4.0*(F_1 - F_10)*l2/(4.0*(-l1 + l3 + l4)**2*m4 + 4.0*Iy2 + 4.0*Iy3 + 4.0*Iy4 + 4.0*l1**2*m2 + 4.0*l1**2*m3 - 4.0*l1*l3*m2 - 8.0*l1*l3*m3 + 4.0*l2**2*m2 + 4.0*l2**2*m3 + 4.0*l2**2*m4 + l3**2*m2 + 4.0*l3**2*m3) + 4.0*(F_2 - F_20)*l2/(4.0*(-l1 + l3 + l4)**2*m4 + 4.0*Iy2 + 4.0*Iy3 + 4.0*Iy4 + 4.0*l1**2*m2 + 4.0*l1**2*m3 - 4.0*l1*l3*m2 - 8.0*l1*l3*m3 + 4.0*l2**2*m2 + 4.0*l2**2*m3 + 4.0*l2**2*m4 + l3**2*m2 + 4.0*l3**2*m3) + 0.03125*(theta2 - theta2_0)*(2*F_10 + 2*F_20 - 2.0*g*m4)*(8.0*(-l1 + l3 + l4)*m4 - 8.0*l1*m2 - 8.0*l1*m3 + 4.0*l3*m2 + 8.0*l3*m3)*l2**2/(0.5*(-l1 + l3 + l4)**2*m4 + 0.5*Iy2 + 0.5*Iy3 + 0.5*Iy4 + 0.5*l1**2*m2 + 0.5*l1**2*m3 - 0.5*l1*l3*m2 - l1*l3*m3 + 0.5*l2**2*m2 + 0.5*l2**2*m3 + 0.5*l2**2*m4 + 0.125*l3**2*m2 + 0.5*l3**2*m3)**2],\n",
       "[                                                                                                                                                                                                                                                                                                                                                                                                                                                                                                                                                                                                                                                                                                                                                                              0],\n",
       "[                                                                                                                                                                                                                                                                                                                                                                                                                                                                                                                                                            (F_1 - F_10)*b_1/(Ix4 + l4**2*m4) - (F_2 - F_20)*b_2/(Ix4 + l4**2*m4) + (alpha1 - alpha_1_0)*F_10*l4/(Ix4 + l4**2*m4) - (alpha2 - alpha2_0)*F_20*l4/(Ix4 + l4**2*m4) - (theta4 - theta4_0)*g*l4*m4/(Ix4 + l4**2*m4)]])"
      ]
     },
     "execution_count": 109,
     "metadata": {},
     "output_type": "execute_result"
    }
   ],
   "source": [
    "delta_states=Matrix([(theta1-theta10), (theta2-theta20), (theta3-theta30), (theta4-theta40)])\n",
    "delta_inputs=Matrix([(alpha1-alpha10), (alpha2-alpha20), (f1-f10), (f2-f20)])\n",
    "Sol=A*delta_states+B*delta_inputs\n",
    "Sol"
   ]
  },
  {
   "cell_type": "markdown",
   "metadata": {},
   "source": [
    "<h2> Linearização (Método da pequena pertubação) </h2>"
   ]
  },
  {
   "cell_type": "code",
   "execution_count": 112,
   "metadata": {},
   "outputs": [
    {
     "data": {
      "text/plain": [
       "'\\nd_psi1 = Function(\"delta_psi_1\")(t)\\nd_psi3 = Function(\"delta_psi_2\")(t)\\nd_psi2 = Function(\"delta_psi_3\")(t)\\nd_psi4 = Function(\"delta_psi_4\")(t)\\npsi1, psi2, psi3, psi4 = dynamicsymbols(\\'psi_1, psi_2, psi_3, psi_4\\')\\nsigma = dynamicsymbols(\\'sigma\\')\\n'"
      ]
     },
     "execution_count": 112,
     "metadata": {},
     "output_type": "execute_result"
    }
   ],
   "source": [
    "\"\"\"\n",
    "d_psi1 = Function(\"delta_psi_1\")(t)\n",
    "d_psi3 = Function(\"delta_psi_2\")(t)\n",
    "d_psi2 = Function(\"delta_psi_3\")(t)\n",
    "d_psi4 = Function(\"delta_psi_4\")(t)\n",
    "psi1, psi2, psi3, psi4 = dynamicsymbols('psi_1, psi_2, psi_3, psi_4')\n",
    "sigma = dynamicsymbols('sigma')\n",
    "\"\"\""
   ]
  },
  {
   "cell_type": "code",
   "execution_count": 113,
   "metadata": {},
   "outputs": [
    {
     "data": {
      "text/plain": [
       "'\\nstates={theta1: theta1_0 + d_theta1, theta2: theta2_0 + d_theta2, theta3: theta3_0 + d_theta3, theta4: theta4_0 + d_theta4, diff(theta1): omega10+ d_omega1, diff(theta2): omega20+ d_omega2, diff(theta3): -omega20 - d_omega2, diff(theta4): omega40+ d_omega4} \\nstates\\n#States = [ seq( (theta[i](t) = theta[i[0]] + delta[theta[i]](t) ),i=1..4),seq( ( diff(theta[i](t),t) = omega[i[0]] + delta[omega[i]](t) ),i=1..2 ), diff(theta[3](t),t) = -omega_20 - deltaomega2,diff(theta[4](t),t) = omega[4[0]] + delta[omega[4]](t)  ];\\ninputs={fx:fx0+d_fx,fy:fy0+d_fy,fz:fz0+d_fz,tauz:tauz0+d_tauz}\\n\\nsimptrig={sin(d_theta1):1,sin(d_theta2):1,sin(d_theta3):1,sin(d_theta4):1,sin(d_omega1):1,sin(d_omega2):1,sin(d_omega3):1,sin(d_omega4):1,sin(d_psi1):1,sin(d_psi2):1,sin(d_psi3):1,sin(d_psi4):1,cos(d_theta1):1,cos(d_theta2):1,cos(d_theta3):1,cos(d_theta4):1,cos(d_omega1):1,cos(d_omega2):1,cos(d_omega3):1,cos(d_omega4):1,cos(d_psi1):1,cos(d_psi2):1,cos(d_psi3):1,cos(d_psi4):1}\\nsimpdelta={d_theta1:d_theta1*sigma,d_theta2:d_theta2*sigma,d_theta3:d_theta3*sigma,d_theta4:d_theta4*sigma,d_omega1:d_omega1*sigma,d_omega2:d_omega2*sigma,d_omega3:d_omega3*sigma,d_omega4:d_omega4*sigma,d_psi1:d_psi1*sigma,d_psi2:d_psi2*sigma,d_psi3:d_psi3*sigma,d_psi4:d_psi4*sigma}\\n'"
      ]
     },
     "execution_count": 113,
     "metadata": {},
     "output_type": "execute_result"
    }
   ],
   "source": [
    "#States:=[ seq( (theta[i](t) = theta[i[0]] + delta[theta[i]](t) ),i=1..4), seq( ( diff(theta[i](t),t) = omega[i[0]] + delta[omega[i]](t) ),i=1..4 ) ];\n",
    "\"\"\"\n",
    "states={theta1: theta1_0 + d_theta1, theta2: theta2_0 + d_theta2, theta3: theta3_0 + d_theta3, theta4: theta4_0 + d_theta4, diff(theta1): omega10+ d_omega1, diff(theta2): omega20+ d_omega2, diff(theta3): -omega20 - d_omega2, diff(theta4): omega40+ d_omega4} \n",
    "states\n",
    "#States = [ seq( (theta[i](t) = theta[i[0]] + delta[theta[i]](t) ),i=1..4),seq( ( diff(theta[i](t),t) = omega[i[0]] + delta[omega[i]](t) ),i=1..2 ), diff(theta[3](t),t) = -omega_20 - deltaomega2,diff(theta[4](t),t) = omega[4[0]] + delta[omega[4]](t)  ];\n",
    "inputs={fx:fx0+d_fx,fy:fy0+d_fy,fz:fz0+d_fz,tauz:tauz0+d_tauz}\n",
    "\n",
    "simptrig={sin(d_theta1):1,sin(d_theta2):1,sin(d_theta3):1,sin(d_theta4):1,sin(d_omega1):1,sin(d_omega2):1,sin(d_omega3):1,sin(d_omega4):1,sin(d_psi1):1,sin(d_psi2):1,sin(d_psi3):1,sin(d_psi4):1,cos(d_theta1):1,cos(d_theta2):1,cos(d_theta3):1,cos(d_theta4):1,cos(d_omega1):1,cos(d_omega2):1,cos(d_omega3):1,cos(d_omega4):1,cos(d_psi1):1,cos(d_psi2):1,cos(d_psi3):1,cos(d_psi4):1}\n",
    "simpdelta={d_theta1:d_theta1*sigma,d_theta2:d_theta2*sigma,d_theta3:d_theta3*sigma,d_theta4:d_theta4*sigma,d_omega1:d_omega1*sigma,d_omega2:d_omega2*sigma,d_omega3:d_omega3*sigma,d_omega4:d_omega4*sigma,d_psi1:d_psi1*sigma,d_psi2:d_psi2*sigma,d_psi3:d_psi3*sigma,d_psi4:d_psi4*sigma}\n",
    "\"\"\""
   ]
  },
  {
   "cell_type": "code",
   "execution_count": 114,
   "metadata": {},
   "outputs": [],
   "source": [
    "#E1= Mdf[1].subs({q[0]:0,q_dot[0]:0,q_ddot[0]:0,q_ddot[2]:-q_ddot[1]})\n",
    "#simplify(E1)\n",
    "#sols = solve(E1,q_ddot[1])\n",
    "#sols[0].factor().evalf()"
   ]
  },
  {
   "cell_type": "code",
   "execution_count": 115,
   "metadata": {},
   "outputs": [],
   "source": [
    "#E1= Mdf[3].subs({q[0]:0,q_dot[0]:0,q_ddot[0]:0,q_ddot[2]:-q_ddot[1]})\n",
    "#simplify(E1)\n",
    "#sols = solve(E1,q_ddot[3])\n",
    "#sols[0].factor().evalf()"
   ]
  },
  {
   "cell_type": "code",
   "execution_count": 116,
   "metadata": {},
   "outputs": [
    {
     "data": {
      "text/plain": [
       "'\\nTrim={fx:fx0,fy:fy0,fz:fz0,tauz:tauz0,theta1:theta1_0,theta2:theta2_0,theta3:-theta2_0,theta4:theta4_0,diff(theta1,t):omega10,diff(theta2,t):omega20,diff(theta3,t):omega30,diff(theta4,t):omega40,diff(diff(theta1,t),t):psi10,diff(diff(theta2,t),t):psi20,diff(diff(theta3,t),t):psi30,diff(diff(theta4,t),t):psi40}\\n\\nTrim_value={theta1_0: 0.00,theta2_0: 0.00,theta3_0: -(pi/2),theta4_0: 0.00,omega10: 0.00,omega20: 0.00,omega30: 0.00,omega40: 0.00,psi10: 0.00,psi20: 0.00,psi30: 0.00,psi40: 0.00}\\nEqui_eq=Mdf.subs(Trim)\\nE=Equi_eq.subs(Trim_value)\\n'"
      ]
     },
     "execution_count": 116,
     "metadata": {},
     "output_type": "execute_result"
    }
   ],
   "source": [
    "#Trim_value={fx:fx0,fy:fy0,fz:fz0,tauz:tauz0,theta1_0:0,theta2_0:0,theta3_0:-(pi/2),theta4_0:0,omega10:0,omega20:0,omega30:0,omega40:0,psi10:0,psi20:0,psi30:0,psi40:0}\n",
    "\"\"\"\n",
    "Trim={fx:fx0,fy:fy0,fz:fz0,tauz:tauz0,theta1:theta1_0,theta2:theta2_0,theta3:-theta2_0,theta4:theta4_0,diff(theta1,t):omega10,diff(theta2,t):omega20,diff(theta3,t):omega30,diff(theta4,t):omega40,diff(diff(theta1,t),t):psi10,diff(diff(theta2,t),t):psi20,diff(diff(theta3,t),t):psi30,diff(diff(theta4,t),t):psi40}\n",
    "\n",
    "Trim_value={theta1_0: 0.00,theta2_0: 0.00,theta3_0: -(pi/2),theta4_0: 0.00,omega10: 0.00,omega20: 0.00,omega30: 0.00,omega40: 0.00,psi10: 0.00,psi20: 0.00,psi30: 0.00,psi40: 0.00}\n",
    "Equi_eq=Mdf.subs(Trim)\n",
    "E=Equi_eq.subs(Trim_value)\n",
    "\"\"\"\n",
    "#sols = solve(E)\n",
    "#sols[0].factor().evalf()\n",
    "#sols"
   ]
  },
  {
   "cell_type": "code",
   "execution_count": 117,
   "metadata": {},
   "outputs": [
    {
     "data": {
      "text/plain": [
       "'\\nEq=[[0],[0],[0],[0]]\\nfor i in range(4):\\n    TE0=Mdf[i].subs(states)\\n    TE0=TE0.subs(inputs)\\n    TE1=trigsimp(TE0) \\n    TE2=TE1.subs(simptrig)\\n    TE3=TE2.subs(simpdelta)\\n    TE4= TE3.subs({sigma**9:0})\\n    TE4= TE4.subs({sigma**8:0})\\n    TE4= TE4.subs({sigma**7:0})\\n    TE4= TE4.subs({sigma**6:0})\\n    TE4= TE4.subs({sigma**5:0})\\n    TE4= TE4.subs({sigma**4:0})\\n    TE4= TE4.subs({sigma**3:0})\\n    TE4= TE4.subs({sigma**2:0})\\n    TE4= TE4.expand()\\n    TE5= TE4.subs({sigma:1})\\n    # Eliminação dos termos que advem do equilibrio\\n\\n    TE6= expand(TE5-Equi_eq[i])\\n    Eq[i]=TE6\\n'"
      ]
     },
     "execution_count": 117,
     "metadata": {},
     "output_type": "execute_result"
    }
   ],
   "source": [
    "\"\"\"\n",
    "Eq=[[0],[0],[0],[0]]\n",
    "for i in range(4):\n",
    "    TE0=Mdf[i].subs(states)\n",
    "    TE0=TE0.subs(inputs)\n",
    "    TE1=trigsimp(TE0) \n",
    "    TE2=TE1.subs(simptrig)\n",
    "    TE3=TE2.subs(simpdelta)\n",
    "    TE4= TE3.subs({sigma**9:0})\n",
    "    TE4= TE4.subs({sigma**8:0})\n",
    "    TE4= TE4.subs({sigma**7:0})\n",
    "    TE4= TE4.subs({sigma**6:0})\n",
    "    TE4= TE4.subs({sigma**5:0})\n",
    "    TE4= TE4.subs({sigma**4:0})\n",
    "    TE4= TE4.subs({sigma**3:0})\n",
    "    TE4= TE4.subs({sigma**2:0})\n",
    "    TE4= TE4.expand()\n",
    "    TE5= TE4.subs({sigma:1})\n",
    "    # Eliminação dos termos que advem do equilibrio\n",
    "\n",
    "    TE6= expand(TE5-Equi_eq[i])\n",
    "    Eq[i]=TE6\n",
    "\"\"\""
   ]
  },
  {
   "cell_type": "code",
   "execution_count": 118,
   "metadata": {},
   "outputs": [],
   "source": [
    "#Trim_value={fx:fx0,fy:fy0,fz:fz0,tauz:tauz0,theta1_0:0,theta2_0:0,theta3_0:-(pi/2),theta4_0:0,omega10:0,omega20:0,omega30:0,omega40:0,psi10:0,psi20:0,psi30:0,psi40:0}\n",
    "#Eq[1].subs(Trim_value).evalf()"
   ]
  },
  {
   "cell_type": "code",
   "execution_count": null,
   "metadata": {},
   "outputs": [],
   "source": []
  }
 ],
 "metadata": {
  "kernelspec": {
   "display_name": "Python 3",
   "language": "python",
   "name": "python3"
  },
  "language_info": {
   "codemirror_mode": {
    "name": "ipython",
    "version": 3
   },
   "file_extension": ".py",
   "mimetype": "text/x-python",
   "name": "python",
   "nbconvert_exporter": "python",
   "pygments_lexer": "ipython3",
   "version": "3.8.5"
  }
 },
 "nbformat": 4,
 "nbformat_minor": 4
}
