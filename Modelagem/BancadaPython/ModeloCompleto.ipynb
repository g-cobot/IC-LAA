{
 "cells": [
  {
   "cell_type": "markdown",
   "metadata": {},
   "source": [
    "<div style=\"background-color:black;color:white;padding:20px\">\n",
    "\n",
    "<center><h3> LAA </h3></center>\n",
    "<center><h1> Projeto Bicóptero </h1></center>\n",
    "\n",
    "<center> <h1> Modelo dinâmico do conjunto braço robótico-bicóptero usando a formulação de Lagrange</h1></center>\n",
    "\n",
    "<h3> Por Gabriel Henrique Costa e Silva </h3> \n",
    "</div>"
   ]
  },
  {
   "cell_type": "markdown",
   "metadata": {},
   "source": [
    "<h2> Inicializando as bibliotecas </h2>"
   ]
  },
  {
   "cell_type": "code",
   "execution_count": 1,
   "metadata": {},
   "outputs": [],
   "source": [
    "import numpy as np\n",
    "import matplotlib.pyplot as plt\n",
    "from sympy import * \n",
    "from sympy import trigsimp, pi, cos, sin\n",
    "from sympy.physics.mechanics import *"
   ]
  },
  {
   "cell_type": "code",
   "execution_count": 2,
   "metadata": {
    "jupyter": {
     "outputs_hidden": false
    }
   },
   "outputs": [],
   "source": [
    "from __future__ import print_function, division\n",
    "from sympy import symbols, simplify\n",
    "from sympy.physics.mechanics import dynamicsymbols, ReferenceFrame, Point"
   ]
  },
  {
   "cell_type": "code",
   "execution_count": 3,
   "metadata": {
    "jupyter": {
     "outputs_hidden": false
    }
   },
   "outputs": [],
   "source": [
    "from sympy.physics.vector import init_vprinting\n",
    "init_vprinting(use_latex='mathjax', pretty_print=False)"
   ]
  },
  {
   "cell_type": "code",
   "execution_count": 4,
   "metadata": {
    "jupyter": {
     "outputs_hidden": false
    }
   },
   "outputs": [],
   "source": [
    "from IPython.display import Image"
   ]
  },
  {
   "cell_type": "code",
   "execution_count": 111,
   "metadata": {
    "jupyter": {
     "outputs_hidden": false
    }
   },
   "outputs": [],
   "source": [
    "t = Symbol(\"t\")\n",
    "\n",
    "# Angulos Theta\n",
    "theta1 = Function(\"theta1\")(t)\n",
    "theta2 = Function(\"theta2\")(t)\n",
    "theta3 = Function(\"theta3\")(t)\n",
    "theta4 = Function(\"theta4\")(t)\n",
    "\n",
    "# Constante da gravidade\n",
    "g = dynamicsymbols('g')\n",
    "\n",
    "# Forcas e Momentos\n",
    "fx, fy, fz = dynamicsymbols('f_x, f_y, f_z')\n",
    "taux, tauy, tauz = dynamicsymbols('tau_x, tau_y, tau_z')\n",
    "\n",
    "# Forcas dos motores\n",
    "f1,f2= dynamicsymbols('F_1, F_2')\n",
    "\n",
    "# Angulos Alfa (Angulos do mecanismo tilt)\n",
    "alpha1 = Function(\"alpha1\")(t)\n",
    "alpha2 = Function(\"alpha2\")(t)\n",
    "\n",
    "# Extensão dos bracos do bicopter\n",
    "b1,b2 = dynamicsymbols('b_1, b_2')\n",
    "\n",
    "# Extensão dos segmentos do braço robótico\n",
    "l1, l2, l3, l4 = dynamicsymbols('l1, l2, l3, l4')\n",
    "\n",
    "#Características inerciais\n",
    "\n",
    "m1, m2, m3, m4, m5 = dynamicsymbols('m1, m2, m3, m4, m5')\n",
    "Ix1, Ix2, Ix3, Ix4, Ix5 = dynamicsymbols('Ix1, Ix2, Ix3, Ix4, Ix5')\n",
    "Iy1, Iy2, Iy3, Iy4, Iy5 = dynamicsymbols('Iy1, Iy2, Iy3, Iy4, Iy5')\n",
    "Iz1, Iz2, Iz3, Iz4, Iz5 = dynamicsymbols('Iz1, Iz2, Iz3, Iz4, Iz5')\n",
    "\n",
    "# Ganho de atrito ?\n",
    "fs1, fs2, fs3, fs4, fs5 = dynamicsymbols('fs1, fs2, fs3, fs4, fs5')\n",
    "\n",
    "\n",
    "# Variaveis no estado de equilibrio\n",
    "\n",
    "#estados\n",
    "theta10, theta20, theta30, theta40 = dynamicsymbols('theta_1_0, theta2_0, theta3_0, theta4_0')\n",
    "omega10, omega20, omega30, omega40 = dynamicsymbols('omega1_0, omega2_0, omega3_0, omega4_0')\n",
    "psi10, psi20, psi30, psi40 = dynamicsymbols('psi1_0, psi2_0, psi3_0, psi4_0')\n",
    "\n",
    "# comandos\n",
    "alpha10, alpha20= dynamicsymbols('alpha_1_0, alpha2_0')\n",
    "f10, f20= dynamicsymbols('F_10, F_20')\n",
    "\n",
    "# simplificacoes\n",
    "\n",
    "den1, den2, den3, den4 = dynamicsymbols('den1, den2, den3, den4')"
   ]
  },
  {
   "cell_type": "code",
   "execution_count": 6,
   "metadata": {},
   "outputs": [],
   "source": [
    "# Criando a função de criação da matriz de transformação homogênea\n",
    "\n",
    "# Matriz Rotação da Transformação\n",
    "def rt_M(T):\n",
    "    M = T[0:3,0:3]\n",
    "    return M"
   ]
  },
  {
   "cell_type": "code",
   "execution_count": 7,
   "metadata": {},
   "outputs": [],
   "source": [
    "# Matriz Rotação da Transformação\n",
    "def ch_M(T):\n",
    "    M=zeros(6)\n",
    "    M[0:3,0:3] = T[0:3,0:3]\n",
    "    M[3:6,3:6] = T[0:3,0:3]\n",
    "    return M"
   ]
  },
  {
   "cell_type": "code",
   "execution_count": 8,
   "metadata": {},
   "outputs": [],
   "source": [
    "# Matriz da massa e inércia\n",
    "def mI_M(m,Ix,Iy,Iz):\n",
    "    M = diag(m, m, m, Ix, Iy, Iz)\n",
    "    return M"
   ]
  },
  {
   "cell_type": "code",
   "execution_count": 9,
   "metadata": {},
   "outputs": [],
   "source": [
    "# Ponto de representação homogenea para dimensão 3\n",
    "def ph_2N(ph):\n",
    "    p = Matrix(ph[0:3])\n",
    "    return (p)"
   ]
  },
  {
   "cell_type": "code",
   "execution_count": 10,
   "metadata": {},
   "outputs": [],
   "source": [
    "# Definindo a matriz jacobiana\n",
    "def Jc(j1,j2,j3,j4):\n",
    "    J = zeros(6,1)\n",
    "    J = J.col_insert(0,j1)\n",
    "    J = J.col_insert(1,j2)\n",
    "    J = J.col_insert(2,j3)\n",
    "    J = J.col_insert(3,j4)\n",
    "    J.col_del(4)\n",
    "    return J"
   ]
  },
  {
   "cell_type": "code",
   "execution_count": 11,
   "metadata": {},
   "outputs": [],
   "source": [
    "# Definindo a nesima coluna da matriz jacobiana\n",
    "def Ji(m0,op,oi):\n",
    "    aux1 = m0*Matrix([0,0,1])\n",
    "    aux2 = aux1.cross(op-oi)\n",
    "    J = Matrix([aux2, aux1])\n",
    "    return J"
   ]
  },
  {
   "cell_type": "code",
   "execution_count": 12,
   "metadata": {},
   "outputs": [],
   "source": [
    "# Definindo a nesima coluna da matriz jacobiana\n",
    "def JpTi(m0,op,Ti):\n",
    "    # Calculate the zi= i-1Mi.k\n",
    "    aux1 = m0*Matrix([0,0,1])\n",
    "    oi = Matrix([Ti[0:3,3]])\n",
    "    # Calculate the zi= i-1Mi.k\n",
    "    aux2 = aux1.cross(op-oi)\n",
    "    \n",
    "    J = Matrix([aux2, aux1])\n",
    "    return J"
   ]
  },
  {
   "cell_type": "code",
   "execution_count": 13,
   "metadata": {},
   "outputs": [],
   "source": [
    "# Criando a função de criação da matriz de transformação homogênea\n",
    "# a partir dos parâmetros de Denavit-Hatemberg\n",
    "\n",
    "#cos = cos\n",
    "#sin = sin\n",
    "\n",
    "# Matriz Transformação Homogênea (Homogeous Transformation Matrix)\n",
    "# Using the Standard Denavit-Hatemberg Convention (not Modified)\n",
    "def ht_M(theta, d, alpha, a):\n",
    "    # theta e alpha em radianos\n",
    "    # d e a em metros\n",
    "    Rz = Matrix([[cos(theta), -sin(theta), 0, 0],\n",
    "                   [sin(theta), cos(theta), 0, 0],\n",
    "                   [0, 0, 1, 0],\n",
    "                   [0, 0, 0, 1]])\n",
    "    tz = Matrix([[1, 0, 0, 0],\n",
    "                   [0, 1, 0, 0],\n",
    "                   [0, 0, 1, a],\n",
    "                   [0, 0, 0, 1]])\n",
    "    ta = Matrix([[1, 0, 0, d],\n",
    "                   [0, 1, 0, 0],\n",
    "                   [0, 0, 1, 0],\n",
    "                   [0, 0, 0, 1]])\n",
    "    Rx = Matrix([[1, 0, 0, 0],\n",
    "                   [0, cos(alpha), -sin(alpha), 0],\n",
    "                   [0, sin(alpha), cos(alpha), 0],\n",
    "                   [0, 0, 0, 1]])\n",
    "    T = Rz*tz*ta*Rx\n",
    "    return T"
   ]
  },
  {
   "cell_type": "markdown",
   "metadata": {},
   "source": [
    "<h2> Declaração dos parâmetros de Denavit-Hatenberg </h2>\n",
    "<h2> Instanciação das matrizes de transformação homogêneas </h2>"
   ]
  },
  {
   "cell_type": "markdown",
   "metadata": {},
   "source": [
    "<div>\n",
    "<img src=\"img/ModeloModificado.png\" width=\"900\">\n",
    "</div>\n"
   ]
  },
  {
   "cell_type": "markdown",
   "metadata": {},
   "source": [
    "\n",
    "|  Elemento | $\\alpha_i$ |  $d_i$   | $\\theta_i$ |  $r_i$ |\n",
    "| -------- | -------- | --------| -------- | -------- | \n",
    "| $1$ | $\\frac{\\pi}{2}$   | 0     | $\\theta_1$ | $l_1$ |\n",
    "| $2$ | 0                 | $l_2$ | $\\theta_2$ | 0     |\n",
    "| $3$ | $- \\frac{\\pi}{2}$ | $l_3$ | $\\theta_3$ | 0     |\n",
    "| $4$ | 0                 |   0   | $\\theta_4$ | 0     |"
   ]
  },
  {
   "cell_type": "code",
   "execution_count": 14,
   "metadata": {},
   "outputs": [],
   "source": [
    "T1 = ht_M(theta1, 0, (pi)/2, l1)\n",
    "T2 = ht_M(theta2, l2, 0, 0)\n",
    "T3 = ht_M(theta3, l3, (-pi)/2, 0)\n",
    "T4 = ht_M(theta4, l4, 0, 0)"
   ]
  },
  {
   "cell_type": "code",
   "execution_count": 15,
   "metadata": {},
   "outputs": [],
   "source": [
    "#T1 \n",
    "#T2\n",
    "#T3\n",
    "#T4"
   ]
  },
  {
   "cell_type": "markdown",
   "metadata": {},
   "source": [
    "<h3> Simplificação da matriz T3 a partir da relação entre $\\theta_3$ e $\\theta_2$</h3>"
   ]
  },
  {
   "cell_type": "code",
   "execution_count": 16,
   "metadata": {},
   "outputs": [
    {
     "data": {
      "text/latex": [
       "$\\displaystyle \\left[\\begin{matrix}\\operatorname{cos}\\left(\\theta_{3}\\right) & 0 & - \\operatorname{sin}\\left(\\theta_{3}\\right) & l_{3} \\operatorname{cos}\\left(\\theta_{3}\\right)\\\\\\operatorname{sin}\\left(\\theta_{3}\\right) & 0 & \\operatorname{cos}\\left(\\theta_{3}\\right) & l_{3} \\operatorname{sin}\\left(\\theta_{3}\\right)\\\\0 & -1 & 0 & 0\\\\0 & 0 & 0 & 1\\end{matrix}\\right]$"
      ],
      "text/plain": [
       "Matrix([\n",
       "[cos(theta3),  0, -sin(theta3), l3*cos(theta3)],\n",
       "[sin(theta3),  0,  cos(theta3), l3*sin(theta3)],\n",
       "[          0, -1,            0,              0],\n",
       "[          0,  0,            0,              1]])"
      ]
     },
     "execution_count": 16,
     "metadata": {},
     "output_type": "execute_result"
    }
   ],
   "source": [
    "T3"
   ]
  },
  {
   "cell_type": "code",
   "execution_count": 17,
   "metadata": {},
   "outputs": [],
   "source": [
    "T3=T3.subs(theta3,(-pi/2-theta2))"
   ]
  },
  {
   "cell_type": "code",
   "execution_count": 18,
   "metadata": {},
   "outputs": [
    {
     "data": {
      "text/latex": [
       "$\\displaystyle \\left[\\begin{matrix}- \\operatorname{sin}\\left(\\theta_{2}\\right) & 0 & \\operatorname{cos}\\left(\\theta_{2}\\right) & - l_{3} \\operatorname{sin}\\left(\\theta_{2}\\right)\\\\- \\operatorname{cos}\\left(\\theta_{2}\\right) & 0 & - \\operatorname{sin}\\left(\\theta_{2}\\right) & - l_{3} \\operatorname{cos}\\left(\\theta_{2}\\right)\\\\0 & -1 & 0 & 0\\\\0 & 0 & 0 & 1\\end{matrix}\\right]$"
      ],
      "text/plain": [
       "Matrix([\n",
       "[-sin(theta2),  0,  cos(theta2), -l3*sin(theta2)],\n",
       "[-cos(theta2),  0, -sin(theta2), -l3*cos(theta2)],\n",
       "[           0, -1,            0,               0],\n",
       "[           0,  0,            0,               1]])"
      ]
     },
     "execution_count": 18,
     "metadata": {},
     "output_type": "execute_result"
    }
   ],
   "source": [
    "T3"
   ]
  },
  {
   "cell_type": "markdown",
   "metadata": {},
   "source": [
    "<h2> Instanciação das matrizes de transformação homogêneas em realação ao referencial 0 </h2>"
   ]
  },
  {
   "cell_type": "code",
   "execution_count": 19,
   "metadata": {},
   "outputs": [],
   "source": [
    "T01=T1\n",
    "T02=T01*T2\n",
    "T02=trigsimp(T02)\n",
    "T03=T02*T3\n",
    "T03=trigsimp(T03)\n",
    "T04=T03*T4"
   ]
  },
  {
   "cell_type": "code",
   "execution_count": 20,
   "metadata": {},
   "outputs": [],
   "source": [
    "#(T02)\n",
    "#(T03)\n",
    "#(T04)"
   ]
  },
  {
   "cell_type": "markdown",
   "metadata": {},
   "source": [
    "<h2> Criação das matrizes Jacobianas</h2>"
   ]
  },
  {
   "cell_type": "code",
   "execution_count": 21,
   "metadata": {},
   "outputs": [],
   "source": [
    "# Definindo a matriz jacobiana\n",
    "def Jc(j1,j2,j3,j4):\n",
    "    J = zeros(6,1)\n",
    "    J = J.col_insert(0,j1)\n",
    "    J = J.col_insert(1,j2)\n",
    "    J = J.col_insert(2,j3)\n",
    "    J = J.col_insert(3,j4)\n",
    "    J.col_del(4)\n",
    "    return J"
   ]
  },
  {
   "cell_type": "code",
   "execution_count": 22,
   "metadata": {},
   "outputs": [],
   "source": [
    "# Criação dos pontos origens\n",
    "og1=ph_2N(T01*Matrix([0,0,0,1]))\n",
    "og2=ph_2N(T03*Matrix([-l3/2,0,0,1]))\n",
    "og3=ph_2N(T03*Matrix([0,0,0,1]))\n",
    "og4=ph_2N(T04*Matrix([0,0,0,1]))"
   ]
  },
  {
   "cell_type": "code",
   "execution_count": 23,
   "metadata": {},
   "outputs": [],
   "source": [
    "# Calculo do Jc[1] que é o jacobiano referente ponto centro de gravidade g1\n",
    "null=Matrix([0,0,0,0,0,0])\n",
    "J1 = Ji(eye(3),og1, Matrix([0,0,0])) \n",
    "Jc1 = Jc(J1,null,null,null)\n",
    "# Calculo do Jc[2] que é o jacobiano referente ponto centro de gravidade g2\n",
    "J1 = Ji(eye(3),og2, Matrix([0,0,0])) \n",
    "J2 = Ji(rt_M(T01),og2, Matrix([0,0,0])) \n",
    "Jc2 = trigsimp(Jc(J1,J2,null,null))\n",
    "# Calculo do Jc[3] que é o jacobiano referente ponto centro de gravidade g3\n",
    "J1 = Ji(eye(3),og3, Matrix([0,0,0])) \n",
    "J2 = Ji(rt_M(T01),og3, Matrix([0,0,0]))\n",
    "J3 = JpTi(rt_M(T02),og3,T02) \n",
    "Jc3 = trigsimp(Jc(J1,J2,J3,null))\n",
    "# Calculo do Jc[4] que é o jacobiano referente ponto centro de gravidade g4\n",
    "J1 = Ji(eye(3),og4, Matrix([0,0,0])) \n",
    "J2 = Ji(rt_M(T01),og4, Matrix([0,0,0]))\n",
    "J3 = JpTi(rt_M(T02),og4,T02) \n",
    "J4 = JpTi(rt_M(T03),og4,T03)\n",
    "Jc4 = trigsimp(Jc(J1,J2,J3,J4))"
   ]
  },
  {
   "cell_type": "code",
   "execution_count": 24,
   "metadata": {},
   "outputs": [],
   "source": [
    "#Jc1\n",
    "#Jc2\n",
    "#Jc3\n",
    "#Jc4"
   ]
  },
  {
   "cell_type": "code",
   "execution_count": 25,
   "metadata": {},
   "outputs": [
    {
     "data": {
      "text/latex": [
       "$\\displaystyle \\left[\\begin{matrix}- l_{2} \\operatorname{sin}\\left(\\theta_{1}\\right) \\operatorname{cos}\\left(\\theta_{2}\\right) - l_{4} \\operatorname{sin}\\left(\\theta_{4}\\right) \\operatorname{cos}\\left(\\theta_{1}\\right) & - \\left(l_{1} + l_{2} \\operatorname{sin}\\left(\\theta_{2}\\right) - l_{3} - l_{4} \\operatorname{cos}\\left(\\theta_{4}\\right)\\right) \\operatorname{cos}\\left(\\theta_{1}\\right) & - \\left(- l_{3} - l_{4} \\operatorname{cos}\\left(\\theta_{4}\\right)\\right) \\operatorname{cos}\\left(\\theta_{1}\\right) & - l_{4} \\operatorname{sin}\\left(\\theta_{1}\\right) \\operatorname{cos}\\left(\\theta_{4}\\right)\\\\l_{2} \\operatorname{cos}\\left(\\theta_{1}\\right) \\operatorname{cos}\\left(\\theta_{2}\\right) - l_{4} \\operatorname{sin}\\left(\\theta_{1}\\right) \\operatorname{sin}\\left(\\theta_{4}\\right) & - \\left(l_{1} + l_{2} \\operatorname{sin}\\left(\\theta_{2}\\right) - l_{3} - l_{4} \\operatorname{cos}\\left(\\theta_{4}\\right)\\right) \\operatorname{sin}\\left(\\theta_{1}\\right) & - \\left(- l_{3} - l_{4} \\operatorname{cos}\\left(\\theta_{4}\\right)\\right) \\operatorname{sin}\\left(\\theta_{1}\\right) & l_{4} \\operatorname{cos}\\left(\\theta_{1}\\right) \\operatorname{cos}\\left(\\theta_{4}\\right)\\\\0 & \\left(l_{2} \\operatorname{sin}\\left(\\theta_{1}\\right) \\operatorname{cos}\\left(\\theta_{2}\\right) + l_{4} \\operatorname{sin}\\left(\\theta_{4}\\right) \\operatorname{cos}\\left(\\theta_{1}\\right)\\right) \\operatorname{sin}\\left(\\theta_{1}\\right) + \\left(l_{2} \\operatorname{cos}\\left(\\theta_{1}\\right) \\operatorname{cos}\\left(\\theta_{2}\\right) - l_{4} \\operatorname{sin}\\left(\\theta_{1}\\right) \\operatorname{sin}\\left(\\theta_{4}\\right)\\right) \\operatorname{cos}\\left(\\theta_{1}\\right) & 0 & l_{4} \\operatorname{sin}^{2}\\left(\\theta_{1}\\right) \\operatorname{sin}\\left(\\theta_{4}\\right) + l_{4} \\operatorname{sin}\\left(\\theta_{4}\\right) \\operatorname{cos}^{2}\\left(\\theta_{1}\\right)\\\\0 & \\operatorname{sin}\\left(\\theta_{1}\\right) & \\operatorname{sin}\\left(\\theta_{1}\\right) & \\operatorname{cos}\\left(\\theta_{1}\\right)\\\\0 & - \\operatorname{cos}\\left(\\theta_{1}\\right) & - \\operatorname{cos}\\left(\\theta_{1}\\right) & \\operatorname{sin}\\left(\\theta_{1}\\right)\\\\1 & 0 & 0 & 0\\end{matrix}\\right]$"
      ],
      "text/plain": [
       "Matrix([\n",
       "[-l2*sin(theta1)*cos(theta2) - l4*sin(theta4)*cos(theta1),                                                                                      -(l1 + l2*sin(theta2) - l3 - l4*cos(theta4))*cos(theta1), -(-l3 - l4*cos(theta4))*cos(theta1),                                   -l4*sin(theta1)*cos(theta4)],\n",
       "[ l2*cos(theta1)*cos(theta2) - l4*sin(theta1)*sin(theta4),                                                                                      -(l1 + l2*sin(theta2) - l3 - l4*cos(theta4))*sin(theta1), -(-l3 - l4*cos(theta4))*sin(theta1),                                    l4*cos(theta1)*cos(theta4)],\n",
       "[                                                       0, (l2*sin(theta1)*cos(theta2) + l4*sin(theta4)*cos(theta1))*sin(theta1) + (l2*cos(theta1)*cos(theta2) - l4*sin(theta1)*sin(theta4))*cos(theta1),                                   0, l4*sin(theta1)**2*sin(theta4) + l4*sin(theta4)*cos(theta1)**2],\n",
       "[                                                       0,                                                                                                                                   sin(theta1),                         sin(theta1),                                                   cos(theta1)],\n",
       "[                                                       0,                                                                                                                                  -cos(theta1),                        -cos(theta1),                                                   sin(theta1)],\n",
       "[                                                       1,                                                                                                                                             0,                                   0,                                                             0]])"
      ]
     },
     "execution_count": 25,
     "metadata": {},
     "output_type": "execute_result"
    }
   ],
   "source": [
    "# Calculo do J\n",
    "J = Jc(J1,J2,J3,J4)\n",
    "J"
   ]
  },
  {
   "cell_type": "markdown",
   "metadata": {},
   "source": [
    "<h2> Criação das matrizes de Inércia</h2>"
   ]
  },
  {
   "cell_type": "code",
   "execution_count": 26,
   "metadata": {},
   "outputs": [
    {
     "data": {
      "text/latex": [
       "$\\displaystyle \\left[\\begin{matrix}m_{4} & 0 & 0 & 0 & 0 & 0\\\\0 & m_{4} & 0 & 0 & 0 & 0\\\\0 & 0 & m_{4} & 0 & 0 & 0\\\\0 & 0 & 0 & Ix_{4} & 0 & 0\\\\0 & 0 & 0 & 0 & Iy_{4} & 0\\\\0 & 0 & 0 & 0 & 0 & Iz_{4}\\end{matrix}\\right]$"
      ],
      "text/plain": [
       "Matrix([\n",
       "[m4,  0,  0,   0,   0,   0],\n",
       "[ 0, m4,  0,   0,   0,   0],\n",
       "[ 0,  0, m4,   0,   0,   0],\n",
       "[ 0,  0,  0, Ix4,   0,   0],\n",
       "[ 0,  0,  0,   0, Iy4,   0],\n",
       "[ 0,  0,  0,   0,   0, Iz4]])"
      ]
     },
     "execution_count": 26,
     "metadata": {},
     "output_type": "execute_result"
    }
   ],
   "source": [
    "mI_1 = mI_M(m1,Ix1,Iy1,Iz1)\n",
    "mI_2 = mI_M(m2,Ix2,Iy2,Iz2)\n",
    "mI_3 = mI_M(m3,Ix3,Iy3,Iz3)\n",
    "mI_4 = mI_M(m4,Ix4,Iy4,Iz4)\n",
    "mI_4"
   ]
  },
  {
   "cell_type": "code",
   "execution_count": 27,
   "metadata": {},
   "outputs": [],
   "source": [
    "# Build the Di matriz\n",
    "def Di_M(Jc_gi,mI):\n",
    "    M = (Jc_gi.T)*mI*Jc_gi;\n",
    "    return M"
   ]
  },
  {
   "cell_type": "code",
   "execution_count": 28,
   "metadata": {},
   "outputs": [],
   "source": [
    "\n",
    "D1 = Di_M(Jc1,mI_1)\n",
    "D2 = trigsimp(Di_M(Jc2,mI_2))\n",
    "D3 = trigsimp(Di_M(Jc3,mI_3))\n",
    "D4 = trigsimp(Di_M(Jc4,mI_4))\n",
    "Dtotal = D1+D2+D3+D4"
   ]
  },
  {
   "cell_type": "code",
   "execution_count": 29,
   "metadata": {},
   "outputs": [],
   "source": [
    "#Dtotal"
   ]
  },
  {
   "cell_type": "markdown",
   "metadata": {},
   "source": [
    "<h2> Calculo da Energia Cinética </h2>"
   ]
  },
  {
   "cell_type": "code",
   "execution_count": 30,
   "metadata": {},
   "outputs": [],
   "source": [
    "q=Matrix([theta1,theta2,theta3,theta4])\n",
    "q_dot= diff(q,t)"
   ]
  },
  {
   "cell_type": "code",
   "execution_count": 31,
   "metadata": {},
   "outputs": [],
   "source": [
    "K = 1/2* q_dot.T * Dtotal * q_dot"
   ]
  },
  {
   "cell_type": "markdown",
   "metadata": {},
   "source": [
    "<h2> Calculo da Energia Potencial</h2>"
   ]
  },
  {
   "cell_type": "code",
   "execution_count": 32,
   "metadata": {},
   "outputs": [],
   "source": [
    "og1=T01*Matrix([0,0,0,1])\n",
    "og2=T03*Matrix([-l3/2,0,0,1])\n",
    "og3=T03*Matrix([0,0,0,1])\n",
    "og4=T04*Matrix([0,0,0,1])"
   ]
  },
  {
   "cell_type": "code",
   "execution_count": 33,
   "metadata": {},
   "outputs": [],
   "source": [
    "P1 = m1* g * Matrix([0,0,1,0]).T * og1\n",
    "P2 = m2* g * Matrix([0,0,1,0]).T * og2\n",
    "P3 = m3* g * Matrix([0,0,1,0]).T * og3\n",
    "P4 = m4* g * Matrix([0,0,1,0]).T * og4"
   ]
  },
  {
   "cell_type": "code",
   "execution_count": 34,
   "metadata": {},
   "outputs": [],
   "source": [
    "Ptotal = P1+ P2 + P3 + P4\n",
    "#Ptotal"
   ]
  },
  {
   "cell_type": "markdown",
   "metadata": {},
   "source": [
    "<h2> Calculo do Lagrangiano </h2>"
   ]
  },
  {
   "cell_type": "code",
   "execution_count": 35,
   "metadata": {},
   "outputs": [],
   "source": [
    "L= K-Ptotal"
   ]
  },
  {
   "cell_type": "markdown",
   "metadata": {},
   "source": [
    "<h1> Definição das variáveis articulares </h1>\n",
    "\\begin{align}\n",
    "    q &= \\begin{bmatrix}\n",
    "    \\theta_1 \\\\\n",
    "    \\theta_2 \\\\\n",
    "    \\theta_3 \\\\\n",
    "    \\theta_4\n",
    "    \\end{bmatrix}\\label{eq:q}\\\\ \n",
    "    \\dot{q} &= \\begin{bmatrix}\n",
    "    \\dot{\\theta_1} \\\\\n",
    "    \\dot{\\theta_2} \\\\\n",
    "    \\dot{\\theta_3} \\\\\n",
    "    \\dot{\\theta_4}\\end{bmatrix}\\label{eq:qdot}\\\\\n",
    "    \\ddot{q} &= \\begin{bmatrix}\n",
    "    \\ddot{\\theta_1} \\\\\n",
    "    \\ddot{\\theta_2} \\\\\n",
    "    \\ddot{\\theta_3} \\\\\n",
    "    \\ddot{\\theta_4}\\end{bmatrix}\\label{eq:qddot}\n",
    "\\end{align}"
   ]
  },
  {
   "cell_type": "code",
   "execution_count": 36,
   "metadata": {},
   "outputs": [],
   "source": [
    "q=Matrix([theta1,theta2,theta3,theta4])\n",
    "q_dot= diff(q,t)\n",
    "q_ddot= diff(q_dot,t)"
   ]
  },
  {
   "cell_type": "markdown",
   "metadata": {},
   "source": [
    "<h2> Calculo dos termos da equaçoes de Euler Lagrange </h2>\n",
    "\n",
    "A partir da formulação das equações de Euler-Lagrange o modelo dinâmico de braço robóticos é definido por \n",
    "\n",
    "\\begin{equation}\n",
    "     D(q)\\ddot{q}+C(q,\\ddot{q})+G(q)=\\Gamma\n",
    "     \\label{eq:EulerLagrange}\n",
    "\\end{equation} \n",
    "\n",
    "em que o termo $D(q)\\ddot{q}$ designa as contribuições inerciais, $C(q,\\dot{q})$ corresponde as contribuições centrífugas e de Coriolis, $G(q)$ representa as contribuições da gravidade, $\\Gamma$ diz respeito aos esforços articulares e $q$, $\\dot{q}$ e $\\ddot{q}$ são as posições, velocidades  e as acelerações das juntas que compõem o conjunto, respectivamente.\n",
    "\n",
    "Matematicamente o termo $D(q)$ é definido por\n",
    "\n",
    "\\begin{equation}\n",
    "    D(q)= \\sum_{i=1}^4[J_i(G_i,q)]^T\\cdot\\begin{bmatrix}\n",
    "    m_i & 0 & 0 & \\emptyset_{1x3}\\\\\n",
    "    0 & m_i & 0 & \\emptyset_{1x3}\\\\\n",
    "    0 & 0 & m_i & \\emptyset_{1x3}\\\\\n",
    "    \\emptyset_{3x3} & \\emptyset_{3x3} & \\emptyset_{3x3} & \\bar{I}_i\n",
    "    \\end{bmatrix}\\cdot J_i(G_i,q)\n",
    "     \\label{eq:D_euler_lagrange}\n",
    "\\end{equation}\n",
    "\n",
    "sendo que $G_i$ o centro de gravidade do elemento $i$, $\\emptyset_{3x3}$ uma matriz de zeros, $\\emptyset_{1x3}$ um vetor linha de zeros, $\\bar{I}_i$ a matriz de inércia em $G_i$ e $J_i(G_i,q)$ a i-ésima coluna da matriz jacobiana cinemática do centro de gravidade do i-ésimo elemento. \n",
    "\n",
    "Como todas as juntas que compõem o conjunto braço robótico-bicóptero são de revolução, então $J_i(G_i,q)$ \\cite{Park2017} vale \n",
    "\n",
    "\\begin{equation}\n",
    "    J_i(G_i)=\n",
    "    \\begin{bmatrix}\n",
    "    z_{i-1}\\times \\overrightarrow{O_{i-1} O_{G_i}}\\\\\n",
    "    z_{i-1}\n",
    "    \\end{bmatrix}\n",
    "    \\label{eq:jicgi}\n",
    "\\end{equation}\n",
    "\n",
    "O termo $C(q,\\dot{q})$ é definido por\n",
    "\n",
    "\\begin{equation}\n",
    "     C(q, \\dot{q})=\\left( \\sum_{k=1}^4 \\frac{\\partial D(q) }{\\partial q_k}\\dot{q}_k \\right) \\dot{q} - \\begin{bmatrix}\n",
    "    \\frac{1}{2}\\dot{q}^T\\frac{\\partial D(q)}{\\partial q_1\\dot{q}}\\\\\n",
    "    \\vdots\\\\\n",
    "    \\frac{1}{2}\\dot{q}^T\\frac{\\partial D(q)}{\\partial q_4\\dot{q}}\n",
    "    \\end{bmatrix}\n",
    "    \\label{eq:C_euler_lagrange}\n",
    "\\end{equation}\n",
    "\n",
    "E o termo $G(q)$ vale\n",
    "\n",
    "\\begin{equation}\n",
    "    G(q)= \\sum_{i=1}^4 m_i g  \\begin{bmatrix}\n",
    "    \\frac{\\partial zG_{i/R0}}{\\partial q_1}\\\\\n",
    "    \\vdots\\\\\n",
    "     \\frac{\\partial zG_{i/R0}}{\\partial q_4}\n",
    "    \\end{bmatrix}\n",
    "    \\label{eq:Q_euler_lagrange}\n",
    "\\end{equation}\n"
   ]
  },
  {
   "cell_type": "code",
   "execution_count": 37,
   "metadata": {},
   "outputs": [],
   "source": [
    "# Termo D(q) contribuicao inercial vale D_total ja calculado precedemente\n",
    "#Dtotal\n",
    "#q[1]\n",
    "#diff(Dtotal,q[1])*q_dot[1]"
   ]
  },
  {
   "cell_type": "code",
   "execution_count": 38,
   "metadata": {},
   "outputs": [],
   "source": [
    "def C_t(q,q_dot,D_total):\n",
    "    C_1 = zeros(4,4)\n",
    "    C_2 = zeros(4,1)\n",
    "\n",
    "    for n in range(4):\n",
    "        # Part 1 = dD(q)/dt = sum (partial D(q)/partial qi)q_dot\n",
    "        C_1= C_1 + (diff(D_total,q[n])*q_dot[n])\n",
    "\n",
    "    C_1 = C_1*q_dot\n",
    "\n",
    "    for n in range(4):\n",
    "        # Part 2 = column matrix (1/2)*(q_dot)^T.(partial D(q)/partial qi).q_do\n",
    "        C_2[n] = (1/2)*((q_dot.T)*diff(D_total,q[n])*q_dot)\n",
    "\n",
    "    C = C_1 - C_2;\n",
    "    return C"
   ]
  },
  {
   "cell_type": "code",
   "execution_count": 39,
   "metadata": {},
   "outputs": [],
   "source": [
    "# Termo C(q,qdot) contribuicao inercial\n",
    "Ctotal = C_t(q, q_dot, Dtotal)\n",
    "#Ctotal"
   ]
  },
  {
   "cell_type": "code",
   "execution_count": 40,
   "metadata": {},
   "outputs": [],
   "source": [
    "def G_t(q,P_total):\n",
    "    G = zeros(4,1)\n",
    "    for n in range(4):\n",
    "        G[n] = diff(P_total,q[n])\n",
    "    return G"
   ]
  },
  {
   "cell_type": "code",
   "execution_count": 41,
   "metadata": {},
   "outputs": [
    {
     "data": {
      "text/latex": [
       "$\\displaystyle \\left[\\begin{matrix}0\\\\g l_{2} m_{2} \\operatorname{cos}\\left(\\theta_{2}\\right) + g l_{2} m_{3} \\operatorname{cos}\\left(\\theta_{2}\\right) + g l_{2} m_{4} \\operatorname{cos}\\left(\\theta_{2}\\right)\\\\0\\\\g l_{4} m_{4} \\operatorname{sin}\\left(\\theta_{4}\\right)\\end{matrix}\\right]$"
      ],
      "text/plain": [
       "Matrix([\n",
       "[                                                              0],\n",
       "[g*l2*m2*cos(theta2) + g*l2*m3*cos(theta2) + g*l2*m4*cos(theta2)],\n",
       "[                                                              0],\n",
       "[                                            g*l4*m4*sin(theta4)]])"
      ]
     },
     "execution_count": 41,
     "metadata": {},
     "output_type": "execute_result"
    }
   ],
   "source": [
    "# Termo G(q)  vale as contribuicoes da gravidade \n",
    "Gtotal = G_t(q,Ptotal)\n",
    "Gtotal"
   ]
  },
  {
   "cell_type": "code",
   "execution_count": 42,
   "metadata": {},
   "outputs": [],
   "source": [
    "def v_i(M0,Tp,Ti):\n",
    "    # Calculate the zi= i-1Mi.k\n",
    "    aux1 = M0*Matrix([0,0,1])\n",
    "\n",
    "    Op = Tp[0:3,3]\n",
    "    Oi = Ti[0:3,3]\n",
    "\n",
    "    # Cross Product  zi x (Op-Oi)\n",
    "    aux2 = (aux1.cross(Op-Oi))\n",
    "    \n",
    "    # Building cinematic tensor for pivot joints\n",
    "    \n",
    "    v = Matrix([aux2, aux1])\n",
    "    return v "
   ]
  },
  {
   "cell_type": "code",
   "execution_count": 43,
   "metadata": {},
   "outputs": [],
   "source": [
    "#Matriz rotacional 0^M_0\n",
    "# Calculate the zi= i-1Mi.k \n",
    "J1 = v_i(eye(3), T04, zeros(4,4))\n",
    "\n",
    "J2 = trigsimp(v_i(rt_M(T01), T04, T01))\n",
    "\n",
    "J3 = v_i(rt_M(T02),T04,T02)\n",
    "\n",
    "J4 = v_i(rt_M(T03),T04,T03)\n",
    "\n",
    "JcP4 = Jc(J1,J2,J3,J4)\n",
    "\n",
    "v = (JcP4*Matrix([0,1,-1,0])).subs({theta1: 0, theta2:0,theta4: 0})\n",
    "#(JcP4.T)\n",
    "#v\n",
    "#(JcP4.T)*Matrix([-fx,0,0,0,0,0])\n",
    "#Matriz jacobiano cinemática completa\n",
    "#JcP4"
   ]
  },
  {
   "cell_type": "markdown",
   "metadata": {},
   "source": [
    "<h1> Calculo de $\\Gamma_e$ </h1>\n",
    "\n",
    "\\begin{equation}\n",
    "    \\Gamma_e= \\begin{bmatrix}{}^{4}J_n(P,\\textbf{q}) \\end{bmatrix}^T \\cdot {}^4\\mathcal{T}_e(P)\n",
    "    \\label{eq:Gamma_eP}\n",
    "\\end{equation}\n",
    "\n",
    "sendo ${}^{4}J_n(P,q)$ a n-ésima coluna da matriz jacobiana cinemática definida no referencial $R_4$ do elemento $S_n$ ao ponto de aplicação $P$ da força exterior, que no nosso caso corresponde ao ponto origem do referencial do bicóptero, e ${}^4\\mathcal{T}_e(P)$ o vetor dos esforços aplicadas pelo órgão terminal do robô sobre o ambiente expresso no referencial $R_4$.\n",
    "\n",
    "\\begin{equation}\n",
    "    {}^4\\mathcal{T}_e(P) =\\begin{bmatrix}\n",
    "    f_x & f_y & f_z & \\tau_x & \\tau_y &\\tau_z\n",
    "    \\end{bmatrix}^T\n",
    "    \\label{eq:t_e}\n",
    "\\end{equation}\n",
    "\n",
    "em que $f_x,\\ f_y,\\ f_z$ correspondem as componentes da força total e $\\tau_x,\\ \\tau_y,\\ \\tau_z$ as componentes do momento total nos eixos $X_{j_4},\\ Y_{j_4}$ e $Z_{j_4}$ respectivamente.\n",
    "\n",
    "\n",
    "<h2> Calculo do esforcos de interaçao $\\Gamma_e$ </h2>\n",
    "<ol>\n",
    "  <li>Representar os tensores cinematicos em relacao a P</li>\n",
    "  <li>Identificar o vetores OiP sendo P o ponto do referencial bicoptero</li>\n",
    "  <li>Multiplicar por i-1Mi (matriz de rotacao) </li>\n",
    "  <li>fazer o produto vetorial entre Zi x (i-1Mi * OiP)</li>\n",
    "  <li>Montar o tensor</li>\n",
    "</ol>"
   ]
  },
  {
   "cell_type": "code",
   "execution_count": 44,
   "metadata": {},
   "outputs": [
    {
     "data": {
      "text/latex": [
       "$\\displaystyle \\left[\\begin{matrix}f_{y} l_{2} + \\tau_{z}\\\\- \\left(- l_{3} - l_{4}\\right) f_{x}\\\\- \\left(- l_{3} - l_{4}\\right) f_{x}\\\\f_{y} l_{4}\\end{matrix}\\right]$"
      ],
      "text/plain": [
       "Matrix([\n",
       "[ f_y*l2 + tau_z],\n",
       "[-(-l3 - l4)*f_x],\n",
       "[-(-l3 - l4)*f_x],\n",
       "[         f_y*l4]])"
      ]
     },
     "execution_count": 44,
     "metadata": {},
     "output_type": "execute_result"
    }
   ],
   "source": [
    "#Forca expressa no referencial 4\n",
    "#tau_e:=<<f[x],f[y],f[z],tau[x],tau[y],tau[z]>>:\n",
    "tau_e = Matrix([fx,fy,0,0,0,tauz])\n",
    "Gamma_e = JcP4.T*(tau_e)\n",
    "Gamma_e.subs({theta2:0,theta1:0,theta4:0})\n"
   ]
  },
  {
   "cell_type": "code",
   "execution_count": 45,
   "metadata": {},
   "outputs": [],
   "source": [
    "# Para entao representar o vetor esforco em outro referencial é necessario as seguintes formulacoes\n",
    "\n",
    "# Para entender indica-se o exemplo da maçã do link https://modernrobotics.northwestern.edu/nu-gm-book-resource/3-4-wrenches/#department\n",
    "#Ttest:=eval(ht_M(0,-(ele),0,0));\n",
    "#tau_e:=<<0,0,0,0,-mg,0>>;\n",
    "#p:=v_2so3(<<Ttest(1,4),Ttest(2,4),Ttest(3,4)>>);\n",
    "#T_adj(Ttest,rt_M(Ttest));\n",
    "#tau_f:=LinearAlgebra[Transpose](T_adj(Ttest)).(tau_e);\n",
    "\n",
    "\n",
    "#representacao de um vetor em so3\n",
    "def v_2so3(v):\n",
    "    p = zeros(3)\n",
    "    p[0,1] = -v[2,0]\n",
    "    p[0,2] = v[1,0]\n",
    "    p[1,2] = -v[0,0]\n",
    "    p[1,0] = v[2,0]\n",
    "    p[2,0] = -v[1,0]\n",
    "    p[2,1] = v[0,0]\n",
    "    return p\n",
    "\n",
    "#representacao adjunta da matriz Transformacao homogenea\n",
    "def T_adj(Thom):\n",
    "    p = v_2so3(Thom[0:3,3])\n",
    "\n",
    "    K = p*rt_M(Thom)\n",
    "    M = zeros(6)\n",
    "\n",
    "    M[0:3,0:3] = Thom[0:3,0:3]\n",
    "    M[3:6,0:6] = Matrix([K[0:3,0:3]]).col_insert(3,Thom[0:3,0:3]) \n",
    "\n",
    "    return M\n",
    "\n",
    "#Inversa da matriz homogênea\n",
    "def inv_Thom(Thom):\n",
    "    Ka = (rt_M(Thom)).T\n",
    "    Ke = -Ka*Thom[0:3,3] \n",
    "\n",
    "    M = Ka[0:3,0:3]\n",
    "    M = M.col_insert(3,Ke[0:3,0])\n",
    "\n",
    "    M = M.row_insert(4, Matrix([0,0,0,1]).T)\n",
    "    return M"
   ]
  },
  {
   "cell_type": "code",
   "execution_count": 46,
   "metadata": {},
   "outputs": [],
   "source": [
    "#Calcula-se a matrix inversa (T_0_4) da matriz transformacao homogenea T_04 \n",
    "T40 =inv_Thom(T04)\n",
    "\n",
    "#eval(T_4_[0],{theta[2](t)=0,theta[1](t)=0,theta[4](t)=0});\n",
    "\n",
    "#Passa-se o vetor 3x1 p da entao matriz inversa para s03\n",
    "p=v_2so3(T40[0:3,3])\n",
    "\n",
    "#Finalmente calcula-se a matrix adjunta de T_4_0\n",
    "MAdjT40 = T_adj(T40)\n",
    "#T40\n",
    "#p\n",
    "#MAdjT40\n",
    "#eval(AdjT_4_0,{theta[2](t)=0,theta[1](t)=0,theta[4](t)=0});\n",
    "\n",
    "#LinearAlgebra[Transpose](eval(AdjT_4_0,{theta[2](t)=0,theta[1](t)=0,theta[4](t)=0})).<<0,0,tau[z],f[x],f[y],0>> := LinearAlgebra[Transpose](eval(AdjT_4_0,{theta[2](t)=0,theta[1](t)=0,theta[4](t)=0})).<<0,0,tau[z],f[x],f[y],0>> ;\n",
    "\n",
    "#Constroi-se uma matrix capaz de colocar os elementos momentos nas ultimas 3 posicoes do vetor 6x1 e colocar as forcas nas 3 primeiras posicoes do vetor\n",
    "MF_M = zeros(6)\n",
    "MF_M[0,3] =1\n",
    "MF_M[1,4] =1\n",
    "MF_M[2,5] =1\n",
    "MF_M[3,0] =1\n",
    "MF_M[4,1] =1\n",
    "MF_M[5,2] =1\n"
   ]
  },
  {
   "cell_type": "markdown",
   "metadata": {},
   "source": [
    "<h2>Mudança de base da matriz jacobiana para o referencial R4<\\h2>\n",
    "    \n",
    "\\begin{equation}\n",
    "     {}^{4}J_n(P,q)= \\begin{bmatrix}\n",
    "     {}^{4}M_0 & \\emptyset_{3x3}  \\\\\n",
    "     \\emptyset_{3x3} & {}^{4}M_0\\end{bmatrix} \\cdot {}^{0}J_n(P,q)\n",
    "    \\label{eq:mudança de base_Jcp}\n",
    "\\end{equation}\n",
    "\n",
    "em que ${}^{4}M_0$ corresponde à matriz de rotação que compõe a matriz de transformação homogênea ${}^{4}T_0= ({}^{0}T_4)^{-1}$."
   ]
  },
  {
   "cell_type": "code",
   "execution_count": 47,
   "metadata": {},
   "outputs": [
    {
     "data": {
      "text/latex": [
       "$\\displaystyle \\left[\\begin{matrix}l_{2} \\operatorname{sin}\\left(\\theta_{4}\\right) \\operatorname{cos}\\left(\\theta_{2}\\right) & l_{2} \\operatorname{cos}\\left(\\theta_{2}\\right) \\operatorname{cos}\\left(\\theta_{4}\\right) & - l_{4} \\operatorname{sin}\\left(\\theta_{4}\\right) & - \\operatorname{cos}\\left(\\theta_{4}\\right) & \\operatorname{sin}\\left(\\theta_{4}\\right) & 0\\\\- l_{2} \\operatorname{cos}\\left(\\theta_{2}\\right) \\operatorname{cos}\\left(\\theta_{4}\\right) & l_{2} \\operatorname{sin}\\left(\\theta_{4}\\right) \\operatorname{cos}\\left(\\theta_{2}\\right) & - l_{2} \\operatorname{sin}\\left(\\theta_{2}\\right) + l_{3} + l_{4} \\operatorname{cos}\\left(\\theta_{4}\\right) & - \\operatorname{sin}\\left(\\theta_{4}\\right) & - \\operatorname{cos}\\left(\\theta_{4}\\right) & 0\\\\0 & 0 & l_{3} + l_{4} \\operatorname{cos}\\left(\\theta_{4}\\right) & - \\operatorname{sin}\\left(\\theta_{4}\\right) & - \\operatorname{cos}\\left(\\theta_{4}\\right) & 0\\\\0 & l_{4} & 0 & 0 & 0 & 1\\end{matrix}\\right]$"
      ],
      "text/plain": [
       "Matrix([\n",
       "[ l2*sin(theta4)*cos(theta2), l2*cos(theta2)*cos(theta4),                       -l4*sin(theta4), -cos(theta4),  sin(theta4), 0],\n",
       "[-l2*cos(theta2)*cos(theta4), l2*sin(theta4)*cos(theta2), -l2*sin(theta2) + l3 + l4*cos(theta4), -sin(theta4), -cos(theta4), 0],\n",
       "[                          0,                          0,                   l3 + l4*cos(theta4), -sin(theta4), -cos(theta4), 0],\n",
       "[                          0,                         l4,                                     0,            0,            0, 1]])"
      ]
     },
     "execution_count": 47,
     "metadata": {},
     "output_type": "execute_result"
    }
   ],
   "source": [
    "#Perceba que inicialmente o vetor tau_e é da maneira <<momentos, forcas>>\n",
    "# Alem disso para o nosso aplicacao taux=tauy=fz=0\n",
    "tau_e = Matrix([0,0,tauz,fx,fy,0])\n",
    "\n",
    "#Aqui mostra-se como os esforcos em P sao traduzidos no referencial 0\n",
    "#eval(MF_M.simplify(LinearAlgebra[Transpose](AdjT_4_0).(tau_e),eqtrig6),{theta[2](t)=0,theta[1](t)=0,theta[4](t)=0}):\n",
    "PJ4 = trigsimp(ch_M(rt_M(T40))*JcP4);\n",
    "\n",
    "#aux:=MF_M.simplify(LinearAlgebra[Transpose](AdjT_4_0).(tau_e),eqtrig6):\n",
    "\n",
    "#LinearAlgebra[Transpose](J_cP[4]);\n",
    "\n",
    "#Calcula-se Gamma_e\n",
    "#Gamma_e:=LinearAlgebra[Transpose](J_cP[4]).MF_M.simplify(LinearAlgebra[Transpose](AdjT_4_0).(tau_e),eqtrig6):\n",
    "\n",
    "Gamma_e = PJ4.T*MF_M*(tau_e)\n",
    "\n",
    "#Nosso caso queremos Gamma_b\n",
    "Gamma_b = Gamma_e\n",
    "\n",
    "Gamma_b = trigsimp(Gamma_b)\n",
    "Gamma_b\n",
    "#Visualização dos esforços em cada junta na posicao neutra \n",
    "#MF_M.<<0,0,tau[z],f[x],f[y],0>>;\n",
    "#eval(MF_M.simplify(LinearAlgebra[Transpose](AdjT_4_0).(tau_e),eqtrig6),{theta[2](t)=0,theta[1](t)=0,theta[4](t)=0});\n",
    "#eval(Gamma_b,{theta[2](t)=0,theta[1](t)=0,theta[4](t)=0});\n",
    "PJ4.T"
   ]
  },
  {
   "cell_type": "markdown",
   "metadata": {},
   "source": [
    "<h1> Traduzindo as variaveis de entrada com o mecanismo de vetorização</h1>"
   ]
  },
  {
   "cell_type": "markdown",
   "metadata": {},
   "source": [
    "<div>\n",
    "<img src=\"img/forcas_bicoptero.png\" width=\"500\">\n",
    "</div>\n",
    "\n",
    "\\begin{equation}\n",
    "   \\begin{bmatrix}\n",
    "    f_x\\\\\n",
    "    f_y\\\\\n",
    "    0  \\\\\n",
    "    0  \\\\\n",
    "    0 \\\\\n",
    "    \\tau_z \\end{bmatrix} =\n",
    "    \\begin{bmatrix}\n",
    "    -c(\\alpha_1) & -c(\\alpha_2)\\\\\n",
    "    s(\\alpha_1) &\n",
    "    -s(\\alpha_2)\\\\\n",
    "    0 & 0 \\\\\n",
    "    0 & 0 \\\\\n",
    "    0 & 0 \\\\\n",
    "    b_1c(\\alpha_1) & -b_2c(\\alpha_2) \n",
    "    \\end{bmatrix}\n",
    "    \\cdot\n",
    "    \\begin{bmatrix}\n",
    "    F_{e_1}\\\\\n",
    "    F_{e_2}\n",
    "    \\end{bmatrix}\n",
    "    \\label{eq:vetorizacao}\n",
    "\\end{equation}"
   ]
  },
  {
   "cell_type": "code",
   "execution_count": 48,
   "metadata": {},
   "outputs": [
    {
     "data": {
      "text/latex": [
       "$\\displaystyle \\left[\\begin{matrix}- \\operatorname{cos}\\left(\\alpha_{1}\\right) & - \\operatorname{cos}\\left(\\alpha_{2}\\right)\\\\\\operatorname{sin}\\left(\\alpha_{1}\\right) & - \\operatorname{sin}\\left(\\alpha_{2}\\right)\\\\0 & 0\\\\0 & 0\\\\0 & 0\\\\b_{1} \\operatorname{cos}\\left(\\alpha_{1}\\right) & - b_{2} \\operatorname{cos}\\left(\\alpha_{2}\\right)\\end{matrix}\\right]$"
      ],
      "text/plain": [
       "Matrix([\n",
       "[   -cos(alpha1),     -cos(alpha2)],\n",
       "[    sin(alpha1),     -sin(alpha2)],\n",
       "[              0,                0],\n",
       "[              0,                0],\n",
       "[              0,                0],\n",
       "[b_1*cos(alpha1), -b_2*cos(alpha2)]])"
      ]
     },
     "execution_count": 48,
     "metadata": {},
     "output_type": "execute_result"
    }
   ],
   "source": [
    "tilt = Matrix([[-cos(alpha1), -cos(alpha2)],[sin(alpha1), -sin(alpha2)], zeros(3,2), [b1*cos(alpha1), -b2*cos(alpha2)]])\n",
    "forces= Matrix([f1,f2])\n",
    "tilt"
   ]
  },
  {
   "cell_type": "code",
   "execution_count": 49,
   "metadata": {},
   "outputs": [
    {
     "data": {
      "text/latex": [
       "$\\displaystyle \\left[\\begin{matrix}0\\\\\\left(F_{1} + F_{2}\\right) l_{2}\\\\0\\\\F_{1} b_{1} - F_{2} b_{2}\\end{matrix}\\right]$"
      ],
      "text/plain": [
       "Matrix([\n",
       "[                0],\n",
       "[   (F_1 + F_2)*l2],\n",
       "[                0],\n",
       "[F_1*b_1 - F_2*b_2]])"
      ]
     },
     "execution_count": 49,
     "metadata": {},
     "output_type": "execute_result"
    }
   ],
   "source": [
    "#Calcula-se Gamma_e\n",
    "Gamma_e = PJ4.T*tilt*forces\n",
    "\n",
    "#Nosso caso queremos Gamma_b\n",
    "Gamma_b = Gamma_e\n",
    "\n",
    "Gamma_b = trigsimp(Gamma_b)\n",
    "Gamma_b\n",
    "Gamma_b.subs({theta1:0,theta2:0,theta4:0,alpha1:0,alpha2:0})"
   ]
  },
  {
   "cell_type": "markdown",
   "metadata": {},
   "source": [
    "<h1> Esforços realizados pelo contrapeso $\\Gamma_c$ </h1>\n",
    "\n",
    "\\begin{equation}\n",
    "     \\Gamma_c=\\sum^n_{i=1}\\Gamma_m,i= \\begin{bmatrix} \n",
    "     m_1g\\frac{\\partial zG_{1/R0}}{\\partial q_1} & + & m_2g\\frac{\\partial zG_{2/R0}}{\\partial q_1} & + & ... & + & m_ng\\frac{\\partial zG_{n/R0}}{\\partial q_1}\\\\\n",
    "    & & m_2g\\frac{\\partial zG_{2/R0}}{\\partial q_2} & + & ... & + & m_ng\\frac{\\partial zG_{n/R0}}{\\partial q_2}\\\\\n",
    "    & & & & & \\ddots & \\vdots\\\\\n",
    "    & & & & & & m_ng\\frac{\\partial zG_{n/R0}}{\\partial q_n}\n",
    "     \\end{bmatrix}\n",
    "    \\label{eq:tensorpesanteur_formula}\n",
    "\\end{equation}\n"
   ]
  },
  {
   "cell_type": "code",
   "execution_count": 50,
   "metadata": {},
   "outputs": [
    {
     "data": {
      "text/latex": [
       "$\\displaystyle \\left[\\begin{matrix}0\\\\g l_{2} m_{2} \\operatorname{cos}\\left(\\theta_{2}\\right) + g l_{2} m_{3} \\operatorname{cos}\\left(\\theta_{2}\\right)\\\\0\\\\0\\end{matrix}\\right]$"
      ],
      "text/plain": [
       "Matrix([\n",
       "[                                        0],\n",
       "[g*l2*m2*cos(theta2) + g*l2*m3*cos(theta2)],\n",
       "[                                        0],\n",
       "[                                        0]])"
      ]
     },
     "execution_count": 50,
     "metadata": {},
     "output_type": "execute_result"
    }
   ],
   "source": [
    "Gamma_c=zeros(4,1)\n",
    "# Nao realizamos para o peso do elemento final que é o drone \n",
    "Gamma_c[0] = diff(P1,q[0])+diff(P2,q[0])+diff(P3,q[0])#+diff(P4,q[0])\n",
    "Gamma_c[1] = diff(P2,q[1])+diff(P3,q[1])#+diff(P4,q[1])\n",
    "Gamma_c[2] = diff(P3,q[2])#+diff(P4,q[2])\n",
    "    \n",
    "Gamma_c"
   ]
  },
  {
   "cell_type": "markdown",
   "metadata": {},
   "source": [
    "<h1> Esforços devido ao atrito viscoso $\\Gamma_f$ </h1>\n",
    "\n",
    "Os coeficientes de atrito viscoso em torno dos ângulos de rotação $\\theta_2$ e $\\theta_4$ foram determinados seguindo o procedimento descrito no Apêndice.  Já o atrito em torno de $\\theta_1$ foi desconsiderado, pois não foi viável determiná-lo experimentalmente de forma segura. Logo $\\Gamma_f( \\dot{q})$ é descrito por\n",
    "\n",
    "\\begin{equation}\n",
    "    \\Gamma_f( \\dot{q})= \\begin{bmatrix}\n",
    "    0\\\\\n",
    "    f_{s_2}\\dot{\\theta}_2\\\\\n",
    "    0\\\\\n",
    "    f_{s_4}\\dot{\\theta}_4\n",
    "    \\end{bmatrix}\n",
    "    \\label{eq:gamma_f}\n",
    "\\end{equation}\n",
    "\n"
   ]
  },
  {
   "cell_type": "code",
   "execution_count": 51,
   "metadata": {},
   "outputs": [
    {
     "data": {
      "text/latex": [
       "$\\displaystyle \\left[\\begin{matrix}0\\\\fs_{2} \\dot{\\theta}_{2}\\\\0\\\\fs_{4} \\dot{\\theta}_{4}\\end{matrix}\\right]$"
      ],
      "text/plain": [
       "Matrix([\n",
       "[          0],\n",
       "[fs2*theta2'],\n",
       "[          0],\n",
       "[fs4*theta4']])"
      ]
     },
     "execution_count": 51,
     "metadata": {},
     "output_type": "execute_result"
    }
   ],
   "source": [
    "Gamma_f = diag(fs1, fs2, fs3, fs4)*q_dot\n",
    "Gamma_f = Gamma_f.subs({fs1:0,fs3:0})\n",
    "Gamma_f"
   ]
  },
  {
   "cell_type": "markdown",
   "metadata": {},
   "source": [
    "<h2> Equação Total do Movimento </h2>\n",
    "\n",
    "\\begin{equation}\n",
    "    \\emptyset_{4x6} =D(q)\\ddot{q} + C(q,\\dot{q}) + G(q) + \\Gamma_f(\\dot{q}) - \\Gamma_c - \\Gamma_b \n",
    "    \\label{eq:modele_dyn_fb}\n",
    "\\end{equation}\n"
   ]
  },
  {
   "cell_type": "code",
   "execution_count": 52,
   "metadata": {},
   "outputs": [],
   "source": [
    "Mdf=Dtotal*q_ddot+Ctotal+Gtotal+Gamma_f-Gamma_b-Gamma_c"
   ]
  },
  {
   "cell_type": "markdown",
   "metadata": {},
   "source": [
    "<h2>Iniciando Equacao Solução</h2>\n",
    "\n",
    "A equação relativa a $\\ddot{\\theta_3}$ é completamente ignorada, Eq tem dimensão igual a $3\\times1$ devido a relação entre $\\theta_3$ e $\\theta_2$"
   ]
  },
  {
   "cell_type": "code",
   "execution_count": 337,
   "metadata": {},
   "outputs": [],
   "source": [
    "Eq=zeros(3,1)"
   ]
  },
  {
   "cell_type": "code",
   "execution_count": 338,
   "metadata": {},
   "outputs": [],
   "source": [
    "#Isolando as variaveis q_ddot\n",
    "Eq[0]=solve(Mdf[0], q_ddot[0])  #Relativo a Theta dois pontos 1\n",
    "Eq[1]=solve(Mdf[1], q_ddot[1])  #Relativo a Theta dois pontos 2\n",
    "#Eq[2]=solve(Mdf[2], q_ddot[2])  #Relativo a Theta dois pontos 3\n",
    "Eq[2]=solve(Mdf[3], q_ddot[3])  #Relativo a Theta dois pontos 4"
   ]
  },
  {
   "cell_type": "markdown",
   "metadata": {},
   "source": [
    "<h2>Realizando a Linearização</h2>"
   ]
  },
  {
   "cell_type": "markdown",
   "metadata": {},
   "source": [
    "<h2> Linearização (Método de Newton) </h2>"
   ]
  },
  {
   "cell_type": "markdown",
   "metadata": {},
   "source": [
    "![title](img/linearizacao.png)\n",
    "\n",
    "<a href=\"http://sites.poli.usp.br/d/PMR2400/3-%20Lineariza%C3%A7%C3%A3o%20de%20sistemas.pdf\"> Material Referência </a>\n"
   ]
  },
  {
   "cell_type": "markdown",
   "metadata": {},
   "source": [
    "<h2>Iniciando o vetor Estado e Comando</h2>\n",
    "Como o vetor de estados vale\n",
    "\n",
    "$\\begin{equation} \\vec{x}=\\begin{bmatrix} \n",
    "\\theta_{1}\\\\\n",
    "\\theta_{2}\\\\\n",
    "\\theta_{4}\\\\\n",
    "\\dot{\\theta}_{1}\\\\\n",
    "\\dot{\\theta}_{2}\\\\\n",
    "\\dot{\\theta}_{4}\\end{bmatrix}\n",
    "\\end{equation}$\n",
    "\n",
    "O vetor dos comandos vale\n",
    "\n",
    "$\\begin{equation}\\vec{u}= \\begin{bmatrix} \n",
    "\\alpha_1\\\\\n",
    "\\alpha_2\\\\\n",
    "F_1\\\\\n",
    "F_2\\end{bmatrix}\n",
    "\\end{equation}$\n",
    "\n"
   ]
  },
  {
   "cell_type": "code",
   "execution_count": 354,
   "metadata": {},
   "outputs": [
    {
     "data": {
      "text/latex": [
       "$\\displaystyle \\left[\\begin{matrix}\\theta_{1}\\\\\\theta_{2}\\\\\\theta_{4}\\\\\\dot{\\theta}_{1}\\\\\\dot{\\theta}_{2}\\\\\\dot{\\theta}_{4}\\end{matrix}\\right]$"
      ],
      "text/plain": [
       "Matrix([\n",
       "[ theta1],\n",
       "[ theta2],\n",
       "[ theta4],\n",
       "[theta1'],\n",
       "[theta2'],\n",
       "[theta4']])"
      ]
     },
     "execution_count": 354,
     "metadata": {},
     "output_type": "execute_result"
    }
   ],
   "source": [
    "#states=Matrix([theta1, theta2, theta4, dot theta1 dottheta2 dottheta4])\n",
    "states=q.row_insert(4, q_dot)\n",
    "states.row_del(6)\n",
    "states.row_del(2)\n",
    "states"
   ]
  },
  {
   "cell_type": "code",
   "execution_count": 415,
   "metadata": {},
   "outputs": [
    {
     "data": {
      "text/latex": [
       "$\\displaystyle \\left[\\begin{matrix}F_{1}\\\\F_{2}\\\\\\alpha_{1}\\\\\\alpha_{2}\\end{matrix}\\right]$"
      ],
      "text/plain": [
       "Matrix([\n",
       "[   F_1],\n",
       "[   F_2],\n",
       "[alpha1],\n",
       "[alpha2]])"
      ]
     },
     "execution_count": 415,
     "metadata": {},
     "output_type": "execute_result"
    }
   ],
   "source": [
    "inputs=Matrix([f1,f2,alpha1,alpha2])\n",
    "inputs"
   ]
  },
  {
   "cell_type": "code",
   "execution_count": 416,
   "metadata": {},
   "outputs": [
    {
     "data": {
      "text/latex": [
       "$\\displaystyle 3$"
      ],
      "text/plain": [
       "3"
      ]
     },
     "execution_count": 416,
     "metadata": {},
     "output_type": "execute_result"
    }
   ],
   "source": [
    "len(inputs)#4\n",
    "len(states)#6\n",
    "len(Eq)#3"
   ]
  },
  {
   "cell_type": "markdown",
   "metadata": {},
   "source": [
    "<h2>Iniciando o vetor estado inicial</h2>"
   ]
  },
  {
   "cell_type": "code",
   "execution_count": 417,
   "metadata": {},
   "outputs": [],
   "source": [
    "trim_inputs={f1:f10,f2:f20,alpha1:alpha10,alpha2:alpha20}\n",
    "\n",
    "trim_position={theta1:theta10,theta2:theta20,theta3:theta30,theta4:theta40}\n",
    "trim_speed={diff(theta10,t):omega10,diff(theta20,t):omega20,diff(theta30,t):omega30,diff(theta40,t):omega40}\n",
    "trim_acel={diff(diff(theta10,t),t):psi10,diff(diff(theta20,t),t):psi20,diff(diff(theta30,t),t):psi30,diff(diff(theta40,t),t):psi40}\n",
    "\n",
    "#Estados iniciais\n",
    "val_pos={theta10: 0.00,theta20: 0.00,theta30: -(pi/2),theta40: 0.00}\n",
    "val_speed={omega10: 0.00,omega20: 0.00,omega30: 0.00,omega40: 0.00}\n",
    "val_acel={psi10: 0.00,psi20: 0.00,psi30: 0.00,psi40: 0.00}\n",
    "val_inputs={alpha10: 0.00,alpha20: 0.00} #f10: g*m4/2,f20: g*m4/2}"
   ]
  },
  {
   "cell_type": "code",
   "execution_count": 418,
   "metadata": {},
   "outputs": [],
   "source": [
    "Eq_trim=zeros(len(Eq),1)"
   ]
  },
  {
   "cell_type": "code",
   "execution_count": 419,
   "metadata": {},
   "outputs": [],
   "source": [
    "for i in range (len(Eq)):\n",
    "#    Eq_trim[i]=Eq[i].subs(Trim).subs(states_value).subs(inputs_value)\n",
    "    Eq_trim[i]=Eq[i].subs(trim_inputs).subs(val_inputs).subs(trim_position).subs(trim_acel).subs(trim_speed).subs(val_pos).subs(val_acel).subs(val_speed).factor().nsimplify()"
   ]
  },
  {
   "cell_type": "code",
   "execution_count": 420,
   "metadata": {
    "scrolled": true
   },
   "outputs": [
    {
     "data": {
      "text/latex": [
       "$\\displaystyle \\left[\\begin{matrix}0\\\\\\frac{\\left(F_{10} + F_{20} - g m_{4}\\right) l_{2}}{2 \\left(\\frac{Iy_{2}}{2} + \\frac{Iy_{3}}{2} + \\frac{Iy_{4}}{2} + \\frac{l^{2}_{1} m_{2}}{2} + \\frac{l^{2}_{1} m_{3}}{2} + \\frac{l^{2}_{1} m_{4}}{2} - \\frac{l_{1} l_{3} m_{2}}{2} - l_{1} l_{3} m_{3} - l_{1} l_{3} m_{4} - l_{1} l_{4} m_{4} + \\frac{l^{2}_{2} m_{2}}{2} + \\frac{l^{2}_{2} m_{3}}{2} + \\frac{l^{2}_{2} m_{4}}{2} + \\frac{l^{2}_{3} m_{2}}{8} + \\frac{l^{2}_{3} m_{3}}{2} + \\frac{l^{2}_{3} m_{4}}{2} + l_{3} l_{4} m_{4} + \\frac{l^{2}_{4} m_{4}}{2}\\right)}\\\\\\frac{F_{10} b_{1} - F_{20} b_{2}}{Ix_{4} + l^{2}_{4} m_{4}}\\end{matrix}\\right]$"
      ],
      "text/plain": [
       "Matrix([\n",
       "[                                                                                                                                                                                                                                             0],\n",
       "[(F_10 + F_20 - g*m4)*l2/(2*(Iy2/2 + Iy3/2 + Iy4/2 + l1**2*m2/2 + l1**2*m3/2 + l1**2*m4/2 - l1*l3*m2/2 - l1*l3*m3 - l1*l3*m4 - l1*l4*m4 + l2**2*m2/2 + l2**2*m3/2 + l2**2*m4/2 + l3**2*m2/8 + l3**2*m3/2 + l3**2*m4/2 + l3*l4*m4 + l4**2*m4/2))],\n",
       "[                                                                                                                                                                                                        (F_10*b_1 - F_20*b_2)/(Ix4 + l4**2*m4)]])"
      ]
     },
     "execution_count": 420,
     "metadata": {},
     "output_type": "execute_result"
    }
   ],
   "source": [
    "Eq_trim\n",
    "#Observe que se b1=b2 e f10=f20=(1/2)g*m4 tudo é todas as acelerações são iguais a zero o que significa que está em equilibrio"
   ]
  },
  {
   "cell_type": "code",
   "execution_count": 421,
   "metadata": {},
   "outputs": [],
   "source": [
    "#Eq"
   ]
  },
  {
   "cell_type": "markdown",
   "metadata": {},
   "source": [
    "<h1>Dimensionamento correto das matrizes A e B</h1>\n",
    "\n",
    "a matrix $A$ deve ser de dimensão $6\\times6$ e $B$ de dimensão $4\\times6$\n",
    "\n",
    "sendo que as primeiras 3 linhas da matriz A são\n",
    "\n",
    "$\\begin{equation}\n",
    "\\begin{bmatrix}\n",
    "0 & 0 & 0 & 1 & 0 & 0\\\\\n",
    "0 & 0 & 0 & 0 & 1 & 0\\\\\n",
    "0& 0 & 0 & 0 & 0 & 1\\\\\n",
    "\\end{bmatrix}\\end{equation}$\n",
    "\n",
    "e as primeiras 3 linhas da matriz B são\n",
    "\n",
    "$\\begin{equation}\n",
    "\\begin{bmatrix}\n",
    "0 & 0 & 0 & 0 \\\\\n",
    "0 & 0 & 0 & 0 \\\\\n",
    "0& 0 & 0 & 0 \\\\\n",
    "\\end{bmatrix}\\end{equation}$\n"
   ]
  },
  {
   "cell_type": "code",
   "execution_count": 422,
   "metadata": {},
   "outputs": [
    {
     "data": {
      "text/latex": [
       "$\\displaystyle \\left[\\begin{matrix}0 & 0 & 0 & 1 & 0 & 0\\\\0 & 0 & 0 & 0 & 1 & 0\\\\0 & 0 & 0 & 0 & 0 & 1\\\\0 & 0 & 0 & 0 & 0 & 0\\\\0 & 0 & 0 & 0 & 0 & 0\\\\0 & 0 & 0 & 0 & 0 & 0\\end{matrix}\\right]$"
      ],
      "text/plain": [
       "Matrix([\n",
       "[0, 0, 0, 1, 0, 0],\n",
       "[0, 0, 0, 0, 1, 0],\n",
       "[0, 0, 0, 0, 0, 1],\n",
       "[0, 0, 0, 0, 0, 0],\n",
       "[0, 0, 0, 0, 0, 0],\n",
       "[0, 0, 0, 0, 0, 0]])"
      ]
     },
     "execution_count": 422,
     "metadata": {},
     "output_type": "execute_result"
    }
   ],
   "source": [
    "A=zeros(3,3).col_insert(3, eye(3))\n",
    "A=A.row_insert(4, zeros(3,6))\n",
    "A"
   ]
  },
  {
   "cell_type": "code",
   "execution_count": 423,
   "metadata": {},
   "outputs": [
    {
     "data": {
      "text/latex": [
       "$\\displaystyle \\left[\\begin{matrix}0 & 0 & 0 & 0\\\\0 & 0 & 0 & 0\\\\0 & 0 & 0 & 0\\\\0 & 0 & 0 & 0\\\\0 & 0 & 0 & 0\\\\0 & 0 & 0 & 0\\end{matrix}\\right]$"
      ],
      "text/plain": [
       "Matrix([\n",
       "[0, 0, 0, 0],\n",
       "[0, 0, 0, 0],\n",
       "[0, 0, 0, 0],\n",
       "[0, 0, 0, 0],\n",
       "[0, 0, 0, 0],\n",
       "[0, 0, 0, 0]])"
      ]
     },
     "execution_count": 423,
     "metadata": {},
     "output_type": "execute_result"
    }
   ],
   "source": [
    "B = zeros(6, 4) \n",
    "inputs_value={alpha10: 0,alpha20: 0} #f10: g*m4/2,f20: g*m4/2}\n",
    "B"
   ]
  },
  {
   "cell_type": "code",
   "execution_count": 424,
   "metadata": {},
   "outputs": [],
   "source": [
    "for i in range(len(Eq)):\n",
    "    for j in range(len(states)):\n",
    "         A[i+3,j]=( diff( Eq[i], states[j] ) ).subs(trim_inputs).subs(val_inputs).subs(trim_position).subs(trim_acel).subs(trim_speed).subs(val_pos).subs(val_acel).subs(val_speed).factor().nsimplify()\n"
   ]
  },
  {
   "cell_type": "code",
   "execution_count": 425,
   "metadata": {},
   "outputs": [],
   "source": [
    "for i in range(len(Eq)):\n",
    "    for j in range(len(inputs)):\n",
    "        B[i+3,j]= ( diff( Eq[i], inputs[j] ) ).subs(trim_inputs).subs(val_inputs).subs(trim_position).subs(trim_acel).subs(trim_speed).subs(val_pos).subs(val_acel).subs(val_speed).factor().nsimplify()"
   ]
  },
  {
   "cell_type": "code",
   "execution_count": 426,
   "metadata": {},
   "outputs": [
    {
     "data": {
      "text/latex": [
       "$\\displaystyle \\left[\\begin{matrix}0 & 0 & 0 & 1 & 0 & 0\\\\0 & 0 & 0 & 0 & 1 & 0\\\\0 & 0 & 0 & 0 & 0 & 1\\\\0 & 0 & - \\frac{\\left(F_{10} + F_{20}\\right) l_{2}}{Iz_{1} + Iz_{2} + Iz_{3} + Iz_{4} + l^{2}_{2} m_{2} + l^{2}_{2} m_{3} + l^{2}_{2} m_{4}} & 0 & 0 & 0\\\\0 & - \\frac{\\left(F_{10} + F_{20} - g m_{4}\\right) \\left(l_{1} m_{2} + l_{1} m_{3} + l_{1} m_{4} - \\frac{l_{3} m_{2}}{2} - l_{3} m_{3} - l_{3} m_{4} - l_{4} m_{4}\\right) l^{2}_{2}}{2 \\left(\\frac{Iy_{2}}{2} + \\frac{Iy_{3}}{2} + \\frac{Iy_{4}}{2} + \\frac{l^{2}_{1} m_{2}}{2} + \\frac{l^{2}_{1} m_{3}}{2} + \\frac{l^{2}_{1} m_{4}}{2} - \\frac{l_{1} l_{3} m_{2}}{2} - l_{1} l_{3} m_{3} - l_{1} l_{3} m_{4} - l_{1} l_{4} m_{4} + \\frac{l^{2}_{2} m_{2}}{2} + \\frac{l^{2}_{2} m_{3}}{2} + \\frac{l^{2}_{2} m_{4}}{2} + \\frac{l^{2}_{3} m_{2}}{8} + \\frac{l^{2}_{3} m_{3}}{2} + \\frac{l^{2}_{3} m_{4}}{2} + l_{3} l_{4} m_{4} + \\frac{l^{2}_{4} m_{4}}{2}\\right)^{2}} & 0 & 0 & - \\frac{fs_{2}}{2 \\left(\\frac{Iy_{2}}{2} + \\frac{Iy_{3}}{2} + \\frac{Iy_{4}}{2} + \\frac{l^{2}_{1} m_{2}}{2} + \\frac{l^{2}_{1} m_{3}}{2} + \\frac{l^{2}_{1} m_{4}}{2} - \\frac{l_{1} l_{3} m_{2}}{2} - l_{1} l_{3} m_{3} - l_{1} l_{3} m_{4} - l_{1} l_{4} m_{4} + \\frac{l^{2}_{2} m_{2}}{2} + \\frac{l^{2}_{2} m_{3}}{2} + \\frac{l^{2}_{2} m_{4}}{2} + \\frac{l^{2}_{3} m_{2}}{8} + \\frac{l^{2}_{3} m_{3}}{2} + \\frac{l^{2}_{3} m_{4}}{2} + l_{3} l_{4} m_{4} + \\frac{l^{2}_{4} m_{4}}{2}\\right)} & 0\\\\0 & 0 & - \\frac{g l_{4} m_{4}}{Ix_{4} + l^{2}_{4} m_{4}} & 0 & 0 & - \\frac{fs_{4}}{Ix_{4} + l^{2}_{4} m_{4}}\\end{matrix}\\right]$"
      ],
      "text/plain": [
       "Matrix([\n",
       "[0,                                                                                                                                                                                                                                                                                                               0,                                                                          0, 1,                                                                                                                                                                                                                           0,                     0],\n",
       "[0,                                                                                                                                                                                                                                                                                                               0,                                                                          0, 0,                                                                                                                                                                                                                           1,                     0],\n",
       "[0,                                                                                                                                                                                                                                                                                                               0,                                                                          0, 0,                                                                                                                                                                                                                           0,                     1],\n",
       "[0,                                                                                                                                                                                                                                                                                                               0, -(F_10 + F_20)*l2/(Iz1 + Iz2 + Iz3 + Iz4 + l2**2*m2 + l2**2*m3 + l2**2*m4), 0,                                                                                                                                                                                                                           0,                     0],\n",
       "[0, -(F_10 + F_20 - g*m4)*(l1*m2 + l1*m3 + l1*m4 - l3*m2/2 - l3*m3 - l3*m4 - l4*m4)*l2**2/(2*(Iy2/2 + Iy3/2 + Iy4/2 + l1**2*m2/2 + l1**2*m3/2 + l1**2*m4/2 - l1*l3*m2/2 - l1*l3*m3 - l1*l3*m4 - l1*l4*m4 + l2**2*m2/2 + l2**2*m3/2 + l2**2*m4/2 + l3**2*m2/8 + l3**2*m3/2 + l3**2*m4/2 + l3*l4*m4 + l4**2*m4/2)**2),                                                                          0, 0, -fs2/(2*(Iy2/2 + Iy3/2 + Iy4/2 + l1**2*m2/2 + l1**2*m3/2 + l1**2*m4/2 - l1*l3*m2/2 - l1*l3*m3 - l1*l3*m4 - l1*l4*m4 + l2**2*m2/2 + l2**2*m3/2 + l2**2*m4/2 + l3**2*m2/8 + l3**2*m3/2 + l3**2*m4/2 + l3*l4*m4 + l4**2*m4/2)),                     0],\n",
       "[0,                                                                                                                                                                                                                                                                                                               0,                                                  -g*l4*m4/(Ix4 + l4**2*m4), 0,                                                                                                                                                                                                                           0, -fs4/(Ix4 + l4**2*m4)]])"
      ]
     },
     "execution_count": 426,
     "metadata": {},
     "output_type": "execute_result"
    }
   ],
   "source": [
    "A"
   ]
  },
  {
   "cell_type": "code",
   "execution_count": 427,
   "metadata": {},
   "outputs": [
    {
     "data": {
      "text/latex": [
       "$\\displaystyle \\left[\\begin{matrix}0 & 0 & 0 & 0\\\\0 & 0 & 0 & 0\\\\0 & 0 & 0 & 0\\\\0 & 0 & \\frac{F_{10} l_{2}}{Iz_{1} + Iz_{2} + Iz_{3} + Iz_{4} + l^{2}_{2} m_{2} + l^{2}_{2} m_{3} + l^{2}_{2} m_{4}} & - \\frac{F_{20} l_{2}}{Iz_{1} + Iz_{2} + Iz_{3} + Iz_{4} + l^{2}_{2} m_{2} + l^{2}_{2} m_{3} + l^{2}_{2} m_{4}}\\\\\\frac{l_{2}}{2 \\left(\\frac{Iy_{2}}{2} + \\frac{Iy_{3}}{2} + \\frac{Iy_{4}}{2} + \\frac{l^{2}_{1} m_{2}}{2} + \\frac{l^{2}_{1} m_{3}}{2} + \\frac{l^{2}_{1} m_{4}}{2} - \\frac{l_{1} l_{3} m_{2}}{2} - l_{1} l_{3} m_{3} - l_{1} l_{3} m_{4} - l_{1} l_{4} m_{4} + \\frac{l^{2}_{2} m_{2}}{2} + \\frac{l^{2}_{2} m_{3}}{2} + \\frac{l^{2}_{2} m_{4}}{2} + \\frac{l^{2}_{3} m_{2}}{8} + \\frac{l^{2}_{3} m_{3}}{2} + \\frac{l^{2}_{3} m_{4}}{2} + l_{3} l_{4} m_{4} + \\frac{l^{2}_{4} m_{4}}{2}\\right)} & \\frac{l_{2}}{2 \\left(\\frac{Iy_{2}}{2} + \\frac{Iy_{3}}{2} + \\frac{Iy_{4}}{2} + \\frac{l^{2}_{1} m_{2}}{2} + \\frac{l^{2}_{1} m_{3}}{2} + \\frac{l^{2}_{1} m_{4}}{2} - \\frac{l_{1} l_{3} m_{2}}{2} - l_{1} l_{3} m_{3} - l_{1} l_{3} m_{4} - l_{1} l_{4} m_{4} + \\frac{l^{2}_{2} m_{2}}{2} + \\frac{l^{2}_{2} m_{3}}{2} + \\frac{l^{2}_{2} m_{4}}{2} + \\frac{l^{2}_{3} m_{2}}{8} + \\frac{l^{2}_{3} m_{3}}{2} + \\frac{l^{2}_{3} m_{4}}{2} + l_{3} l_{4} m_{4} + \\frac{l^{2}_{4} m_{4}}{2}\\right)} & 0 & 0\\\\\\frac{b_{1}}{Ix_{4} + l^{2}_{4} m_{4}} & - \\frac{b_{2}}{Ix_{4} + l^{2}_{4} m_{4}} & \\frac{F_{10} l_{4}}{Ix_{4} + l^{2}_{4} m_{4}} & - \\frac{F_{20} l_{4}}{Ix_{4} + l^{2}_{4} m_{4}}\\end{matrix}\\right]$"
      ],
      "text/plain": [
       "Matrix([\n",
       "[                                                                                                                                                                                                                        0,                                                                                                                                                                                                                         0,                                                                0,                                                                 0],\n",
       "[                                                                                                                                                                                                                        0,                                                                                                                                                                                                                         0,                                                                0,                                                                 0],\n",
       "[                                                                                                                                                                                                                        0,                                                                                                                                                                                                                         0,                                                                0,                                                                 0],\n",
       "[                                                                                                                                                                                                                        0,                                                                                                                                                                                                                         0, F_10*l2/(Iz1 + Iz2 + Iz3 + Iz4 + l2**2*m2 + l2**2*m3 + l2**2*m4), -F_20*l2/(Iz1 + Iz2 + Iz3 + Iz4 + l2**2*m2 + l2**2*m3 + l2**2*m4)],\n",
       "[l2/(2*(Iy2/2 + Iy3/2 + Iy4/2 + l1**2*m2/2 + l1**2*m3/2 + l1**2*m4/2 - l1*l3*m2/2 - l1*l3*m3 - l1*l3*m4 - l1*l4*m4 + l2**2*m2/2 + l2**2*m3/2 + l2**2*m4/2 + l3**2*m2/8 + l3**2*m3/2 + l3**2*m4/2 + l3*l4*m4 + l4**2*m4/2)), l2/(2*(Iy2/2 + Iy3/2 + Iy4/2 + l1**2*m2/2 + l1**2*m3/2 + l1**2*m4/2 - l1*l3*m2/2 - l1*l3*m3 - l1*l3*m4 - l1*l4*m4 + l2**2*m2/2 + l2**2*m3/2 + l2**2*m4/2 + l3**2*m2/8 + l3**2*m3/2 + l3**2*m4/2 + l3*l4*m4 + l4**2*m4/2)),                                                                0,                                                                 0],\n",
       "[                                                                                                                                                                                                     b_1/(Ix4 + l4**2*m4),                                                                                                                                                                                                     -b_2/(Ix4 + l4**2*m4),                                         F_10*l4/(Ix4 + l4**2*m4),                                         -F_20*l4/(Ix4 + l4**2*m4)]])"
      ]
     },
     "execution_count": 427,
     "metadata": {},
     "output_type": "execute_result"
    }
   ],
   "source": [
    "B"
   ]
  },
  {
   "cell_type": "code",
   "execution_count": 264,
   "metadata": {},
   "outputs": [],
   "source": [
    "#delta_states=Matrix([(theta1-theta10), (theta2-theta20), (theta3-theta30), (theta4-theta40)])\n",
    "#delta_inputs=Matrix([(alpha1-alpha10), (alpha2-alpha20), (f1-f10), (f2-f20)])\n",
    "#Sol=A*delta_states+B*delta_inputs\n",
    "#Sol"
   ]
  },
  {
   "cell_type": "markdown",
   "metadata": {},
   "source": [
    "<h2>Particularizando</h2>\n",
    "\n",
    "Seja\n",
    "\n",
    "$\\begin{align}\n",
    "l4&=0\\\\\n",
    "F_{1_0}&=F_{2_0}=\\frac{1}{2}m_4g\n",
    "\\end{align}$\n"
   ]
  },
  {
   "cell_type": "code",
   "execution_count": 475,
   "metadata": {},
   "outputs": [],
   "source": [
    "simpl1=({l4:0})#,f10: g*m4/2,f20: g*m4/2}) # forcas de trimagem\n",
    "Asimp=A.subs(simpl1)\n",
    "Bsimp=B.subs(simpl1)"
   ]
  },
  {
   "cell_type": "code",
   "execution_count": 476,
   "metadata": {
    "scrolled": false
   },
   "outputs": [
    {
     "data": {
      "text/latex": [
       "$\\displaystyle \\left[\\begin{matrix}0 & 0 & 0 & 1 & 0 & 0\\\\0 & 0 & 0 & 0 & 1 & 0\\\\0 & 0 & 0 & 0 & 0 & 1\\\\0 & 0 & - \\frac{\\left(F_{10} + F_{20}\\right) l_{2}}{Iz_{1} + Iz_{2} + Iz_{3} + Iz_{4} + l^{2}_{2} m_{2} + l^{2}_{2} m_{3} + l^{2}_{2} m_{4}} & 0 & 0 & 0\\\\0 & - \\frac{\\left(F_{10} + F_{20} - g m_{4}\\right) \\left(l_{1} m_{2} + l_{1} m_{3} + l_{1} m_{4} - \\frac{l_{3} m_{2}}{2} - l_{3} m_{3} - l_{3} m_{4}\\right) l^{2}_{2}}{2 \\left(\\frac{Iy_{2}}{2} + \\frac{Iy_{3}}{2} + \\frac{Iy_{4}}{2} + \\frac{l^{2}_{1} m_{2}}{2} + \\frac{l^{2}_{1} m_{3}}{2} + \\frac{l^{2}_{1} m_{4}}{2} - \\frac{l_{1} l_{3} m_{2}}{2} - l_{1} l_{3} m_{3} - l_{1} l_{3} m_{4} + \\frac{l^{2}_{2} m_{2}}{2} + \\frac{l^{2}_{2} m_{3}}{2} + \\frac{l^{2}_{2} m_{4}}{2} + \\frac{l^{2}_{3} m_{2}}{8} + \\frac{l^{2}_{3} m_{3}}{2} + \\frac{l^{2}_{3} m_{4}}{2}\\right)^{2}} & 0 & 0 & - \\frac{fs_{2}}{2 \\left(\\frac{Iy_{2}}{2} + \\frac{Iy_{3}}{2} + \\frac{Iy_{4}}{2} + \\frac{l^{2}_{1} m_{2}}{2} + \\frac{l^{2}_{1} m_{3}}{2} + \\frac{l^{2}_{1} m_{4}}{2} - \\frac{l_{1} l_{3} m_{2}}{2} - l_{1} l_{3} m_{3} - l_{1} l_{3} m_{4} + \\frac{l^{2}_{2} m_{2}}{2} + \\frac{l^{2}_{2} m_{3}}{2} + \\frac{l^{2}_{2} m_{4}}{2} + \\frac{l^{2}_{3} m_{2}}{8} + \\frac{l^{2}_{3} m_{3}}{2} + \\frac{l^{2}_{3} m_{4}}{2}\\right)} & 0\\\\0 & 0 & 0 & 0 & 0 & - \\frac{fs_{4}}{Ix_{4}}\\end{matrix}\\right]$"
      ],
      "text/plain": [
       "Matrix([\n",
       "[0,                                                                                                                                                                                                                                                                    0,                                                                          0, 1,                                                                                                                                                                                        0,        0],\n",
       "[0,                                                                                                                                                                                                                                                                    0,                                                                          0, 0,                                                                                                                                                                                        1,        0],\n",
       "[0,                                                                                                                                                                                                                                                                    0,                                                                          0, 0,                                                                                                                                                                                        0,        1],\n",
       "[0,                                                                                                                                                                                                                                                                    0, -(F_10 + F_20)*l2/(Iz1 + Iz2 + Iz3 + Iz4 + l2**2*m2 + l2**2*m3 + l2**2*m4), 0,                                                                                                                                                                                        0,        0],\n",
       "[0, -(F_10 + F_20 - g*m4)*(l1*m2 + l1*m3 + l1*m4 - l3*m2/2 - l3*m3 - l3*m4)*l2**2/(2*(Iy2/2 + Iy3/2 + Iy4/2 + l1**2*m2/2 + l1**2*m3/2 + l1**2*m4/2 - l1*l3*m2/2 - l1*l3*m3 - l1*l3*m4 + l2**2*m2/2 + l2**2*m3/2 + l2**2*m4/2 + l3**2*m2/8 + l3**2*m3/2 + l3**2*m4/2)**2),                                                                          0, 0, -fs2/(2*(Iy2/2 + Iy3/2 + Iy4/2 + l1**2*m2/2 + l1**2*m3/2 + l1**2*m4/2 - l1*l3*m2/2 - l1*l3*m3 - l1*l3*m4 + l2**2*m2/2 + l2**2*m3/2 + l2**2*m4/2 + l3**2*m2/8 + l3**2*m3/2 + l3**2*m4/2)),        0],\n",
       "[0,                                                                                                                                                                                                                                                                    0,                                                                          0, 0,                                                                                                                                                                                        0, -fs4/Ix4]])"
      ]
     },
     "execution_count": 476,
     "metadata": {},
     "output_type": "execute_result"
    }
   ],
   "source": [
    "Asimp"
   ]
  },
  {
   "cell_type": "code",
   "execution_count": 477,
   "metadata": {
    "scrolled": false
   },
   "outputs": [
    {
     "data": {
      "text/latex": [
       "$\\displaystyle \\left[\\begin{matrix}0 & 0 & 0 & 0\\\\0 & 0 & 0 & 0\\\\0 & 0 & 0 & 0\\\\0 & 0 & \\frac{F_{10} l_{2}}{Iz_{1} + Iz_{2} + Iz_{3} + Iz_{4} + l^{2}_{2} m_{2} + l^{2}_{2} m_{3} + l^{2}_{2} m_{4}} & - \\frac{F_{20} l_{2}}{Iz_{1} + Iz_{2} + Iz_{3} + Iz_{4} + l^{2}_{2} m_{2} + l^{2}_{2} m_{3} + l^{2}_{2} m_{4}}\\\\\\frac{l_{2}}{2 \\left(\\frac{Iy_{2}}{2} + \\frac{Iy_{3}}{2} + \\frac{Iy_{4}}{2} + \\frac{l^{2}_{1} m_{2}}{2} + \\frac{l^{2}_{1} m_{3}}{2} + \\frac{l^{2}_{1} m_{4}}{2} - \\frac{l_{1} l_{3} m_{2}}{2} - l_{1} l_{3} m_{3} - l_{1} l_{3} m_{4} + \\frac{l^{2}_{2} m_{2}}{2} + \\frac{l^{2}_{2} m_{3}}{2} + \\frac{l^{2}_{2} m_{4}}{2} + \\frac{l^{2}_{3} m_{2}}{8} + \\frac{l^{2}_{3} m_{3}}{2} + \\frac{l^{2}_{3} m_{4}}{2}\\right)} & \\frac{l_{2}}{2 \\left(\\frac{Iy_{2}}{2} + \\frac{Iy_{3}}{2} + \\frac{Iy_{4}}{2} + \\frac{l^{2}_{1} m_{2}}{2} + \\frac{l^{2}_{1} m_{3}}{2} + \\frac{l^{2}_{1} m_{4}}{2} - \\frac{l_{1} l_{3} m_{2}}{2} - l_{1} l_{3} m_{3} - l_{1} l_{3} m_{4} + \\frac{l^{2}_{2} m_{2}}{2} + \\frac{l^{2}_{2} m_{3}}{2} + \\frac{l^{2}_{2} m_{4}}{2} + \\frac{l^{2}_{3} m_{2}}{8} + \\frac{l^{2}_{3} m_{3}}{2} + \\frac{l^{2}_{3} m_{4}}{2}\\right)} & 0 & 0\\\\\\frac{b_{1}}{Ix_{4}} & - \\frac{b_{2}}{Ix_{4}} & 0 & 0\\end{matrix}\\right]$"
      ],
      "text/plain": [
       "Matrix([\n",
       "[                                                                                                                                                                                     0,                                                                                                                                                                                      0,                                                                0,                                                                 0],\n",
       "[                                                                                                                                                                                     0,                                                                                                                                                                                      0,                                                                0,                                                                 0],\n",
       "[                                                                                                                                                                                     0,                                                                                                                                                                                      0,                                                                0,                                                                 0],\n",
       "[                                                                                                                                                                                     0,                                                                                                                                                                                      0, F_10*l2/(Iz1 + Iz2 + Iz3 + Iz4 + l2**2*m2 + l2**2*m3 + l2**2*m4), -F_20*l2/(Iz1 + Iz2 + Iz3 + Iz4 + l2**2*m2 + l2**2*m3 + l2**2*m4)],\n",
       "[l2/(2*(Iy2/2 + Iy3/2 + Iy4/2 + l1**2*m2/2 + l1**2*m3/2 + l1**2*m4/2 - l1*l3*m2/2 - l1*l3*m3 - l1*l3*m4 + l2**2*m2/2 + l2**2*m3/2 + l2**2*m4/2 + l3**2*m2/8 + l3**2*m3/2 + l3**2*m4/2)), l2/(2*(Iy2/2 + Iy3/2 + Iy4/2 + l1**2*m2/2 + l1**2*m3/2 + l1**2*m4/2 - l1*l3*m2/2 - l1*l3*m3 - l1*l3*m4 + l2**2*m2/2 + l2**2*m3/2 + l2**2*m4/2 + l3**2*m2/8 + l3**2*m3/2 + l3**2*m4/2)),                                                                0,                                                                 0],\n",
       "[                                                                                                                                                                               b_1/Ix4,                                                                                                                                                                               -b_2/Ix4,                                                                0,                                                                 0]])"
      ]
     },
     "execution_count": 477,
     "metadata": {},
     "output_type": "execute_result"
    }
   ],
   "source": [
    "Bsimp"
   ]
  },
  {
   "cell_type": "code",
   "execution_count": 453,
   "metadata": {
    "scrolled": true
   },
   "outputs": [
    {
     "data": {
      "text/latex": [
       "$\\displaystyle - \\frac{fs_{2}}{Iy_{2} + Iy_{3} + Iy_{4} + l^{2}_{1} m_{2} + l^{2}_{1} m_{3} + l^{2}_{1} m_{4} - l_{1} l_{3} m_{2} - 2 l_{1} l_{3} m_{3} - 2 l_{1} l_{3} m_{4} + l^{2}_{2} m_{2} + l^{2}_{2} m_{3} + l^{2}_{2} m_{4} + \\frac{l^{2}_{3} m_{2}}{4} + l^{2}_{3} m_{3} + l^{2}_{3} m_{4}}$"
      ],
      "text/plain": [
       "-fs2/(Iy2 + Iy3 + Iy4 + l1**2*m2 + l1**2*m3 + l1**2*m4 - l1*l3*m2 - 2*l1*l3*m3 - 2*l1*l3*m4 + l2**2*m2 + l2**2*m3 + l2**2*m4 + l3**2*m2/4 + l3**2*m3 + l3**2*m4)"
      ]
     },
     "execution_count": 453,
     "metadata": {},
     "output_type": "execute_result"
    }
   ],
   "source": [
    "n,denominator2 = fraction(Asimp[4,4])\n",
    "Asimp[4,4]=n/denominator2\n",
    "Asimp[4,4]"
   ]
  },
  {
   "cell_type": "code",
   "execution_count": 454,
   "metadata": {},
   "outputs": [],
   "source": [
    "n,denominator2 = fraction(Bsimp[4,0])\n",
    "Bsimp[4,0]=n/denominator2\n",
    "n,denominator2 = fraction(Bsimp[4,1])\n",
    "Bsimp[4,1]=n/denominator2"
   ]
  },
  {
   "cell_type": "markdown",
   "metadata": {},
   "source": [
    "E simplificando a notação\n",
    "\n",
    "$\\begin{align}\n",
    "    den_1 & = Iz_{1} + Iz_{2} + Iz_{3} + Iz_{4} + l^{2}_{2} m_{2} + l^{2}_{2} m_{3} + l^{2}_{2} m_{4} \\\\\n",
    "    den_2 & = Iy_{2} + Iy_{3} + Iy_{4} + l^{2}_{1} m_{2} + l^{2}_{1} m_{3} + l^{2}_{1} m_{4} - l_{1} l_{3} m_{2} - 2 l_{1} l_{3} m_{3} - 2 l_{1} l_{3} m_{4} + l^{2}_{2} m_{2} + l^{2}_{2} m_{3} + l^{2}_{2} m_{4} + \\frac{l^{2}_{3} m_{2}}{4} + l^{2}_{3} m_{3} + l^{2}_{3} m_{4} \\\\\n",
    "    den_3 & = 2 \\left(\\frac{Iy_{2}}{2} + \\frac{Iy_{3}}{2} + \\frac{Iy_{4}}{2} + \\frac{l^{2}_{1} m_{2}}{2} + \\frac{l^{2}_{1} m_{3}}{2} + \\frac{l^{2}_{1} m_{4}}{2} - \\frac{l_{1} l_{3} m_{2}}{2} - l_{1} l_{3} m_{3} - l_{1} l_{3} m_{4} + \\frac{l^{2}_{2} m_{2}}{2} + \\frac{l^{2}_{2} m_{3}}{2} + \\frac{l^{2}_{2} m_{4}}{2} + \\frac{l^{2}_{3} m_{2}}{8} + \\frac{l^{2}_{3} m_{3}}{2} + \\frac{l^{2}_{3} m_{4}}{2}\\right)^{2} \\\\& = 2(\\frac{1}{2}den_2)^2\n",
    "\\end{align}$"
   ]
  },
  {
   "cell_type": "code",
   "execution_count": 455,
   "metadata": {},
   "outputs": [],
   "source": [
    "#recuperando os denominadores\n",
    "n,denominator1 = fraction(Asimp[3,2])  \n",
    "n,denominator2 = fraction(Asimp[4,4])\n",
    "n,denominator3 = fraction(Asimp[4,1])"
   ]
  },
  {
   "cell_type": "code",
   "execution_count": 474,
   "metadata": {
    "scrolled": true
   },
   "outputs": [
    {
     "data": {
      "text/latex": [
       "$\\displaystyle Iy_{2} + Iy_{3} + Iy_{4} + l^{2}_{1} m_{2} + l^{2}_{1} m_{3} + l^{2}_{1} m_{4} - l_{1} l_{3} m_{2} - 2 l_{1} l_{3} m_{3} - 2 l_{1} l_{3} m_{4} + l^{2}_{2} m_{2} + l^{2}_{2} m_{3} + l^{2}_{2} m_{4} + \\frac{l^{2}_{3} m_{2}}{4} + l^{2}_{3} m_{3} + l^{2}_{3} m_{4}$"
      ],
      "text/plain": [
       "Iy2 + Iy3 + Iy4 + l1**2*m2 + l1**2*m3 + l1**2*m4 - l1*l3*m2 - 2*l1*l3*m3 - 2*l1*l3*m4 + l2**2*m2 + l2**2*m3 + l2**2*m4 + l3**2*m2/4 + l3**2*m3 + l3**2*m4"
      ]
     },
     "execution_count": 474,
     "metadata": {},
     "output_type": "execute_result"
    }
   ],
   "source": [
    "#denominator1\n",
    "denominator2"
   ]
  },
  {
   "cell_type": "code",
   "execution_count": 470,
   "metadata": {},
   "outputs": [
    {
     "data": {
      "text/latex": [
       "$\\displaystyle 2 \\left(\\frac{Iy_{2}}{2} + \\frac{Iy_{3}}{2} + \\frac{Iy_{4}}{2} + \\frac{l^{2}_{1} m_{2}}{2} + \\frac{l^{2}_{1} m_{3}}{2} + \\frac{l^{2}_{1} m_{4}}{2} - \\frac{l_{1} l_{3} m_{2}}{2} - l_{1} l_{3} m_{3} - l_{1} l_{3} m_{4} + \\frac{l^{2}_{2} m_{2}}{2} + \\frac{l^{2}_{2} m_{3}}{2} + \\frac{l^{2}_{2} m_{4}}{2} + \\frac{l^{2}_{3} m_{2}}{8} + \\frac{l^{2}_{3} m_{3}}{2} + \\frac{l^{2}_{3} m_{4}}{2}\\right)^{2}$"
      ],
      "text/plain": [
       "2*(Iy2/2 + Iy3/2 + Iy4/2 + l1**2*m2/2 + l1**2*m3/2 + l1**2*m4/2 - l1*l3*m2/2 - l1*l3*m3 - l1*l3*m4 + l2**2*m2/2 + l2**2*m3/2 + l2**2*m4/2 + l3**2*m2/8 + l3**2*m3/2 + l3**2*m4/2)**2"
      ]
     },
     "execution_count": 470,
     "metadata": {},
     "output_type": "execute_result"
    }
   ],
   "source": [
    "#(2*pow(((0.5*denominator2).nsimplify()),2))=den3\n",
    "denominator3"
   ]
  },
  {
   "cell_type": "code",
   "execution_count": 478,
   "metadata": {
    "scrolled": true
   },
   "outputs": [],
   "source": [
    "simpl2=({denominator1:den1,denominator2:den2,denominator3:den3})#,denominator3:den3})\n",
    "Asimp=Asimp.subs(simpl2)\n",
    "Bsimp=Bsimp.subs(simpl2)"
   ]
  },
  {
   "cell_type": "code",
   "execution_count": 479,
   "metadata": {
    "scrolled": false
   },
   "outputs": [
    {
     "data": {
      "text/latex": [
       "$\\displaystyle \\left[\\begin{matrix}0 & 0 & 0 & 1 & 0 & 0\\\\0 & 0 & 0 & 0 & 1 & 0\\\\0 & 0 & 0 & 0 & 0 & 1\\\\0 & 0 & - \\frac{\\left(F_{10} + F_{20}\\right) l_{2}}{den_{1}} & 0 & 0 & 0\\\\0 & - \\frac{\\left(F_{10} + F_{20} - g m_{4}\\right) \\left(l_{1} m_{2} + l_{1} m_{3} + l_{1} m_{4} - \\frac{l_{3} m_{2}}{2} - l_{3} m_{3} - l_{3} m_{4}\\right) l^{2}_{2}}{den_{3}} & 0 & 0 & - \\frac{fs_{2}}{den_{2}} & 0\\\\0 & 0 & 0 & 0 & 0 & - \\frac{fs_{4}}{Ix_{4}}\\end{matrix}\\right]$"
      ],
      "text/plain": [
       "Matrix([\n",
       "[0,                                                                                  0,                      0, 1,         0,        0],\n",
       "[0,                                                                                  0,                      0, 0,         1,        0],\n",
       "[0,                                                                                  0,                      0, 0,         0,        1],\n",
       "[0,                                                                                  0, -(F_10 + F_20)*l2/den1, 0,         0,        0],\n",
       "[0, -(F_10 + F_20 - g*m4)*(l1*m2 + l1*m3 + l1*m4 - l3*m2/2 - l3*m3 - l3*m4)*l2**2/den3,                      0, 0, -fs2/den2,        0],\n",
       "[0,                                                                                  0,                      0, 0,         0, -fs4/Ix4]])"
      ]
     },
     "execution_count": 479,
     "metadata": {},
     "output_type": "execute_result"
    }
   ],
   "source": [
    "Asimp"
   ]
  },
  {
   "cell_type": "code",
   "execution_count": 480,
   "metadata": {
    "scrolled": true
   },
   "outputs": [
    {
     "data": {
      "text/latex": [
       "$\\displaystyle \\left[\\begin{matrix}0 & 0 & 0 & 0\\\\0 & 0 & 0 & 0\\\\0 & 0 & 0 & 0\\\\0 & 0 & \\frac{F_{10} l_{2}}{den_{1}} & - \\frac{F_{20} l_{2}}{den_{1}}\\\\\\frac{l_{2}}{den_{2}} & \\frac{l_{2}}{den_{2}} & 0 & 0\\\\\\frac{b_{1}}{Ix_{4}} & - \\frac{b_{2}}{Ix_{4}} & 0 & 0\\end{matrix}\\right]$"
      ],
      "text/plain": [
       "Matrix([\n",
       "[      0,        0,            0,             0],\n",
       "[      0,        0,            0,             0],\n",
       "[      0,        0,            0,             0],\n",
       "[      0,        0, F_10*l2/den1, -F_20*l2/den1],\n",
       "[l2/den2,  l2/den2,            0,             0],\n",
       "[b_1/Ix4, -b_2/Ix4,            0,             0]])"
      ]
     },
     "execution_count": 480,
     "metadata": {},
     "output_type": "execute_result"
    }
   ],
   "source": [
    "Bsimp"
   ]
  },
  {
   "cell_type": "code",
   "execution_count": null,
   "metadata": {},
   "outputs": [],
   "source": []
  }
 ],
 "metadata": {
  "kernelspec": {
   "display_name": "Python 3",
   "language": "python",
   "name": "python3"
  },
  "language_info": {
   "codemirror_mode": {
    "name": "ipython",
    "version": 3
   },
   "file_extension": ".py",
   "mimetype": "text/x-python",
   "name": "python",
   "nbconvert_exporter": "python",
   "pygments_lexer": "ipython3",
   "version": "3.7.4"
  }
 },
 "nbformat": 4,
 "nbformat_minor": 4
}
